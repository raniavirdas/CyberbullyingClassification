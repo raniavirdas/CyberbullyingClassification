{
 "cells": [
  {
   "cell_type": "markdown",
   "id": "77beaeca",
   "metadata": {
    "papermill": {
     "duration": 0.06037,
     "end_time": "2022-01-27T07:16:53.325829",
     "exception": false,
     "start_time": "2022-01-27T07:16:53.265459",
     "status": "completed"
    },
    "tags": []
   },
   "source": [
    "# ****Predict Multi Cyberbullying Tweets with Multiclassifier****\n",
    "\n",
    "This project aims to predict cyberbullying tweets using the Support Vector Machine classifier, multinomial Naive Bayes classifier, and Logistic Regression classifier. There are six types of bullying used: not bullying, gender, ethnicity, age, religion, and others cyberbullying. In achieving the goal, the steps that will carry out are as follows.\n",
    "## Contents\n",
    "<a href='#1'>1. Import Library </a> <br>\n",
    "<a href='#2'>2. Dataset </a> <br>\n",
    "<a href='#3'>3. Data Preprocessing </a> <br>\n",
    "<a href='#4'>4. Data Visualization </a> <br>\n",
    "<a href='#5'>5. Spliting Data </a> <br>\n",
    "<a href='#6'>6. Features Extractions </a> <br>\n",
    "<a href='#6'>7. Classification </a> <br>\n",
    "<a href='#7'>8. Evaluation </a> <br>\n",
    "<a href='#8'>9. Conclusion </a> <br>\n"
   ]
  },
  {
   "cell_type": "markdown",
   "id": "1ef412c3",
   "metadata": {
    "_cell_guid": "b1076dfc-b9ad-4769-8c92-a6c4dae69d19",
    "_uuid": "8f2839f25d086af736a60e9eeb907d3b93b6e0e5",
    "execution": {
     "iopub.execute_input": "2022-01-27T03:53:59.974084Z",
     "iopub.status.busy": "2022-01-27T03:53:59.97331Z",
     "iopub.status.idle": "2022-01-27T03:53:59.994833Z",
     "shell.execute_reply": "2022-01-27T03:53:59.994104Z",
     "shell.execute_reply.started": "2022-01-27T03:53:59.973972Z"
    },
    "papermill": {
     "duration": 0.068187,
     "end_time": "2022-01-27T07:16:53.454012",
     "exception": false,
     "start_time": "2022-01-27T07:16:53.385825",
     "status": "completed"
    },
    "tags": []
   },
   "source": [
    "# <a id='1'> 1. Import Library</a>"
   ]
  },
  {
   "cell_type": "code",
   "execution_count": 1,
   "id": "426f4cf0",
   "metadata": {
    "execution": {
     "iopub.execute_input": "2022-01-27T07:16:53.595693Z",
     "iopub.status.busy": "2022-01-27T07:16:53.590659Z",
     "iopub.status.idle": "2022-01-27T07:16:56.640849Z",
     "shell.execute_reply": "2022-01-27T07:16:56.640149Z",
     "shell.execute_reply.started": "2022-01-27T05:17:46.944669Z"
    },
    "papermill": {
     "duration": 3.119743,
     "end_time": "2022-01-27T07:16:56.641009",
     "exception": false,
     "start_time": "2022-01-27T07:16:53.521266",
     "status": "completed"
    },
    "tags": []
   },
   "outputs": [
    {
     "name": "stdout",
     "output_type": "stream",
     "text": [
      "/kaggle/input/cyberbullying-classification/cyberbullying_tweets.csv\n"
     ]
    }
   ],
   "source": [
    "import os\n",
    "for dirname, _, filenames in os.walk('/kaggle/input'):\n",
    "    for filename in filenames:\n",
    "        print(os.path.join(dirname, filename))\n",
    "import numpy as np\n",
    "import pandas as pd\n",
    "from textblob import TextBlob\n",
    "from nltk.corpus import wordnet\n",
    "import seaborn as sns\n",
    "import re\n",
    "import nltk\n",
    "import matplotlib.pyplot as plt\n",
    "from collections import Counter\n",
    "import plotly.express as px\n",
    "from nltk.stem import WordNetLemmatizer\n",
    "from nltk.stem.snowball import SnowballStemmer\n",
    "from sklearn.model_selection import train_test_split\n",
    "from sklearn.feature_extraction.text import TfidfVectorizer\n",
    "from sklearn.pipeline import Pipeline\n",
    "from sklearn.model_selection import GridSearchCV\n",
    "from sklearn.svm import LinearSVC ,SVC\n",
    "from sklearn.naive_bayes import MultinomialNB\n",
    "from sklearn.linear_model import LogisticRegression, SGDClassifier\n",
    "from sklearn.metrics import classification_report, confusion_matrix, plot_confusion_matrix\n",
    "\n",
    "plt.style.use('fivethirtyeight')"
   ]
  },
  {
   "cell_type": "markdown",
   "id": "ad43189d",
   "metadata": {
    "papermill": {
     "duration": 0.059768,
     "end_time": "2022-01-27T07:16:56.761426",
     "exception": false,
     "start_time": "2022-01-27T07:16:56.701658",
     "status": "completed"
    },
    "tags": []
   },
   "source": [
    " # <a id='2'> 2. Dataset</a>"
   ]
  },
  {
   "cell_type": "code",
   "execution_count": 2,
   "id": "6ee95831",
   "metadata": {
    "execution": {
     "iopub.execute_input": "2022-01-27T07:16:56.888010Z",
     "iopub.status.busy": "2022-01-27T07:16:56.887197Z",
     "iopub.status.idle": "2022-01-27T07:16:57.221978Z",
     "shell.execute_reply": "2022-01-27T07:16:57.221372Z",
     "shell.execute_reply.started": "2022-01-27T04:55:59.910821Z"
    },
    "papermill": {
     "duration": 0.400619,
     "end_time": "2022-01-27T07:16:57.222108",
     "exception": false,
     "start_time": "2022-01-27T07:16:56.821489",
     "status": "completed"
    },
    "tags": []
   },
   "outputs": [
    {
     "data": {
      "text/html": [
       "<div>\n",
       "<style scoped>\n",
       "    .dataframe tbody tr th:only-of-type {\n",
       "        vertical-align: middle;\n",
       "    }\n",
       "\n",
       "    .dataframe tbody tr th {\n",
       "        vertical-align: top;\n",
       "    }\n",
       "\n",
       "    .dataframe thead th {\n",
       "        text-align: right;\n",
       "    }\n",
       "</style>\n",
       "<table border=\"1\" class=\"dataframe\">\n",
       "  <thead>\n",
       "    <tr style=\"text-align: right;\">\n",
       "      <th></th>\n",
       "      <th>tweet_text</th>\n",
       "      <th>cyberbullying_type</th>\n",
       "    </tr>\n",
       "  </thead>\n",
       "  <tbody>\n",
       "    <tr>\n",
       "      <th>0</th>\n",
       "      <td>In other words #katandandre, your food was cra...</td>\n",
       "      <td>not_cyberbullying</td>\n",
       "    </tr>\n",
       "    <tr>\n",
       "      <th>1</th>\n",
       "      <td>Why is #aussietv so white? #MKR #theblock #ImA...</td>\n",
       "      <td>not_cyberbullying</td>\n",
       "    </tr>\n",
       "    <tr>\n",
       "      <th>2</th>\n",
       "      <td>@XochitlSuckkks a classy whore? Or more red ve...</td>\n",
       "      <td>not_cyberbullying</td>\n",
       "    </tr>\n",
       "    <tr>\n",
       "      <th>3</th>\n",
       "      <td>@Jason_Gio meh. :P  thanks for the heads up, b...</td>\n",
       "      <td>not_cyberbullying</td>\n",
       "    </tr>\n",
       "    <tr>\n",
       "      <th>4</th>\n",
       "      <td>@RudhoeEnglish This is an ISIS account pretend...</td>\n",
       "      <td>not_cyberbullying</td>\n",
       "    </tr>\n",
       "  </tbody>\n",
       "</table>\n",
       "</div>"
      ],
      "text/plain": [
       "                                          tweet_text cyberbullying_type\n",
       "0  In other words #katandandre, your food was cra...  not_cyberbullying\n",
       "1  Why is #aussietv so white? #MKR #theblock #ImA...  not_cyberbullying\n",
       "2  @XochitlSuckkks a classy whore? Or more red ve...  not_cyberbullying\n",
       "3  @Jason_Gio meh. :P  thanks for the heads up, b...  not_cyberbullying\n",
       "4  @RudhoeEnglish This is an ISIS account pretend...  not_cyberbullying"
      ]
     },
     "execution_count": 2,
     "metadata": {},
     "output_type": "execute_result"
    }
   ],
   "source": [
    "#get the data\n",
    "df =  pd.read_csv('../input/cyberbullying-classification/cyberbullying_tweets.csv')\n",
    "\n",
    "#show the top 5 data\n",
    "df.head()"
   ]
  },
  {
   "cell_type": "code",
   "execution_count": 3,
   "id": "5cd0eb40",
   "metadata": {
    "execution": {
     "iopub.execute_input": "2022-01-27T07:16:57.373967Z",
     "iopub.status.busy": "2022-01-27T07:16:57.357340Z",
     "iopub.status.idle": "2022-01-27T07:16:57.376459Z",
     "shell.execute_reply": "2022-01-27T07:16:57.377043Z",
     "shell.execute_reply.started": "2022-01-27T04:56:00.056006Z"
    },
    "papermill": {
     "duration": 0.093594,
     "end_time": "2022-01-27T07:16:57.377247",
     "exception": false,
     "start_time": "2022-01-27T07:16:57.283653",
     "status": "completed"
    },
    "tags": []
   },
   "outputs": [
    {
     "name": "stdout",
     "output_type": "stream",
     "text": [
      "<class 'pandas.core.frame.DataFrame'>\n",
      "RangeIndex: 47692 entries, 0 to 47691\n",
      "Data columns (total 2 columns):\n",
      " #   Column              Non-Null Count  Dtype \n",
      "---  ------              --------------  ----- \n",
      " 0   tweet_text          47692 non-null  object\n",
      " 1   cyberbullying_type  47692 non-null  object\n",
      "dtypes: object(2)\n",
      "memory usage: 745.3+ KB\n"
     ]
    }
   ],
   "source": [
    "df.info()"
   ]
  },
  {
   "cell_type": "markdown",
   "id": "388f2f8b",
   "metadata": {
    "papermill": {
     "duration": 0.060139,
     "end_time": "2022-01-27T07:16:57.497999",
     "exception": false,
     "start_time": "2022-01-27T07:16:57.437860",
     "status": "completed"
    },
    "tags": []
   },
   "source": [
    " # <a id='3'> 3.Data Preprocessing </a>"
   ]
  },
  {
   "cell_type": "markdown",
   "id": "b5575b5d",
   "metadata": {
    "papermill": {
     "duration": 0.060314,
     "end_time": "2022-01-27T07:16:57.619239",
     "exception": false,
     "start_time": "2022-01-27T07:16:57.558925",
     "status": "completed"
    },
    "tags": []
   },
   "source": [
    "### Cleaning the data"
   ]
  },
  {
   "cell_type": "code",
   "execution_count": 4,
   "id": "52db388d",
   "metadata": {
    "execution": {
     "iopub.execute_input": "2022-01-27T07:16:57.745748Z",
     "iopub.status.busy": "2022-01-27T07:16:57.745054Z",
     "iopub.status.idle": "2022-01-27T07:17:13.968972Z",
     "shell.execute_reply": "2022-01-27T07:17:13.969423Z",
     "shell.execute_reply.started": "2022-01-27T04:56:23.360370Z"
    },
    "papermill": {
     "duration": 16.289983,
     "end_time": "2022-01-27T07:17:13.969567",
     "exception": false,
     "start_time": "2022-01-27T07:16:57.679584",
     "status": "completed"
    },
    "tags": []
   },
   "outputs": [
    {
     "data": {
      "text/html": [
       "<div>\n",
       "<style scoped>\n",
       "    .dataframe tbody tr th:only-of-type {\n",
       "        vertical-align: middle;\n",
       "    }\n",
       "\n",
       "    .dataframe tbody tr th {\n",
       "        vertical-align: top;\n",
       "    }\n",
       "\n",
       "    .dataframe thead th {\n",
       "        text-align: right;\n",
       "    }\n",
       "</style>\n",
       "<table border=\"1\" class=\"dataframe\">\n",
       "  <thead>\n",
       "    <tr style=\"text-align: right;\">\n",
       "      <th></th>\n",
       "      <th>tweet_text</th>\n",
       "      <th>cyberbullying_type</th>\n",
       "      <th>tweet_clean</th>\n",
       "    </tr>\n",
       "  </thead>\n",
       "  <tbody>\n",
       "    <tr>\n",
       "      <th>0</th>\n",
       "      <td>In other words #katandandre, your food was cra...</td>\n",
       "      <td>not_cyberbullying</td>\n",
       "      <td>word food crapilici</td>\n",
       "    </tr>\n",
       "    <tr>\n",
       "      <th>1</th>\n",
       "      <td>Why is #aussietv so white? #MKR #theblock #ImA...</td>\n",
       "      <td>not_cyberbullying</td>\n",
       "      <td>white</td>\n",
       "    </tr>\n",
       "    <tr>\n",
       "      <th>2</th>\n",
       "      <td>@XochitlSuckkks a classy whore? Or more red ve...</td>\n",
       "      <td>not_cyberbullying</td>\n",
       "      <td>classi whore red velvet cupcak</td>\n",
       "    </tr>\n",
       "    <tr>\n",
       "      <th>3</th>\n",
       "      <td>@Jason_Gio meh. :P  thanks for the heads up, b...</td>\n",
       "      <td>not_cyberbullying</td>\n",
       "      <td>meh thank head concern anoth angri dude twitter</td>\n",
       "    </tr>\n",
       "    <tr>\n",
       "      <th>4</th>\n",
       "      <td>@RudhoeEnglish This is an ISIS account pretend...</td>\n",
       "      <td>not_cyberbullying</td>\n",
       "      <td>isi account pretend kurdish account islam lie</td>\n",
       "    </tr>\n",
       "  </tbody>\n",
       "</table>\n",
       "</div>"
      ],
      "text/plain": [
       "                                          tweet_text cyberbullying_type  \\\n",
       "0  In other words #katandandre, your food was cra...  not_cyberbullying   \n",
       "1  Why is #aussietv so white? #MKR #theblock #ImA...  not_cyberbullying   \n",
       "2  @XochitlSuckkks a classy whore? Or more red ve...  not_cyberbullying   \n",
       "3  @Jason_Gio meh. :P  thanks for the heads up, b...  not_cyberbullying   \n",
       "4  @RudhoeEnglish This is an ISIS account pretend...  not_cyberbullying   \n",
       "\n",
       "                                       tweet_clean  \n",
       "0                              word food crapilici  \n",
       "1                                            white  \n",
       "2                   classi whore red velvet cupcak  \n",
       "3  meh thank head concern anoth angri dude twitter  \n",
       "4    isi account pretend kurdish account islam lie  "
      ]
     },
     "execution_count": 4,
     "metadata": {},
     "output_type": "execute_result"
    }
   ],
   "source": [
    "stemmer = SnowballStemmer(\"english\")\n",
    "lematizer=WordNetLemmatizer()\n",
    "\n",
    "from wordcloud import STOPWORDS\n",
    "STOPWORDS.update(['rt', 'mkr', 'didn', 'bc', 'n', 'm', \n",
    "                  'im', 'll', 'y', 've', 'u', 'ur', 'don', \n",
    "                  'p', 't', 's', 'aren', 'kp', 'o', 'kat', \n",
    "                  'de', 're', 'amp', 'will'])\n",
    "\n",
    "def lower(text):\n",
    "    return text.lower()\n",
    "\n",
    "def remove_hashtag(text):\n",
    "    return re.sub(\"#[A-Za-z0-9_]+\", ' ', text)\n",
    "\n",
    "def remove_twitter(text):\n",
    "    return re.sub('@\\S+|https?:\\S+|http?:\\S|[^A-Za-z0-9]+', ' ', text)\n",
    "\n",
    "def remove_stopwords(text):\n",
    "    return \" \".join([word for word in \n",
    "                     str(text).split() if word not in STOPWORDS])\n",
    "\n",
    "def stemming(text):\n",
    "    return \" \".join([stemmer.stem(word) for word in text.split()])\n",
    "\n",
    "def lemmatizer_words(text):\n",
    "    return \" \".join([lematizer.lemmatize(word) for word in text.split()])\n",
    "\n",
    "def cleanTxt(text):\n",
    "    text = lower(text)\n",
    "    text = remove_hashtag(text)\n",
    "    text = remove_twitter(text)\n",
    "    text = remove_stopwords(text)\n",
    "    text = stemming(text)\n",
    "    text = lemmatizer_words(text)\n",
    "    return text\n",
    "\n",
    "#cleaning the text\n",
    "df['tweet_clean'] = df['tweet_text'].apply(cleanTxt)\n",
    "\n",
    "#show the clean text\n",
    "df.head()"
   ]
  },
  {
   "cell_type": "code",
   "execution_count": 5,
   "id": "cb06d558",
   "metadata": {
    "execution": {
     "iopub.execute_input": "2022-01-27T07:17:14.052953Z",
     "iopub.status.busy": "2022-01-27T07:17:14.052136Z",
     "iopub.status.idle": "2022-01-27T07:17:14.063571Z",
     "shell.execute_reply": "2022-01-27T07:17:14.064026Z",
     "shell.execute_reply.started": "2022-01-27T04:56:34.636349Z"
    },
    "papermill": {
     "duration": 0.054156,
     "end_time": "2022-01-27T07:17:14.064185",
     "exception": false,
     "start_time": "2022-01-27T07:17:14.010029",
     "status": "completed"
    },
    "tags": []
   },
   "outputs": [
    {
     "data": {
      "text/plain": [
       "religion               7998\n",
       "age                    7992\n",
       "gender                 7973\n",
       "ethnicity              7961\n",
       "not_cyberbullying      7945\n",
       "other_cyberbullying    7823\n",
       "Name: cyberbullying_type, dtype: int64"
      ]
     },
     "execution_count": 5,
     "metadata": {},
     "output_type": "execute_result"
    }
   ],
   "source": [
    "df.shape\n",
    "df.cyberbullying_type.value_counts()"
   ]
  },
  {
   "cell_type": "markdown",
   "id": "d8fd1bf7",
   "metadata": {
    "papermill": {
     "duration": 0.039513,
     "end_time": "2022-01-27T07:17:14.142878",
     "exception": false,
     "start_time": "2022-01-27T07:17:14.103365",
     "status": "completed"
    },
    "tags": []
   },
   "source": [
    "The dataset used contains 47692 rows, where the distribution of data for each type of cyberbullying is balanced. However, it is necessary to check whether there are duplicated tweets."
   ]
  },
  {
   "cell_type": "code",
   "execution_count": 6,
   "id": "9a951e01",
   "metadata": {
    "execution": {
     "iopub.execute_input": "2022-01-27T07:17:14.225594Z",
     "iopub.status.busy": "2022-01-27T07:17:14.225085Z",
     "iopub.status.idle": "2022-01-27T07:17:14.242855Z",
     "shell.execute_reply": "2022-01-27T07:17:14.243264Z",
     "shell.execute_reply.started": "2022-01-27T04:56:34.648468Z"
    },
    "papermill": {
     "duration": 0.060909,
     "end_time": "2022-01-27T07:17:14.243398",
     "exception": false,
     "start_time": "2022-01-27T07:17:14.182489",
     "status": "completed"
    },
    "tags": []
   },
   "outputs": [
    {
     "data": {
      "text/plain": [
       "3018"
      ]
     },
     "execution_count": 6,
     "metadata": {},
     "output_type": "execute_result"
    }
   ],
   "source": [
    "df[\"tweet_clean\"].duplicated().sum()"
   ]
  },
  {
   "cell_type": "code",
   "execution_count": 7,
   "id": "b330f36e",
   "metadata": {
    "execution": {
     "iopub.execute_input": "2022-01-27T07:17:14.332184Z",
     "iopub.status.busy": "2022-01-27T07:17:14.328568Z",
     "iopub.status.idle": "2022-01-27T07:17:14.361778Z",
     "shell.execute_reply": "2022-01-27T07:17:14.362139Z",
     "shell.execute_reply.started": "2022-01-27T04:56:34.674532Z"
    },
    "papermill": {
     "duration": 0.079649,
     "end_time": "2022-01-27T07:17:14.362396",
     "exception": false,
     "start_time": "2022-01-27T07:17:14.282747",
     "status": "completed"
    },
    "tags": []
   },
   "outputs": [],
   "source": [
    "df.drop_duplicates(\"tweet_clean\", inplace=True)"
   ]
  },
  {
   "cell_type": "code",
   "execution_count": 8,
   "id": "0ee865ba",
   "metadata": {
    "execution": {
     "iopub.execute_input": "2022-01-27T07:17:14.458939Z",
     "iopub.status.busy": "2022-01-27T07:17:14.458449Z",
     "iopub.status.idle": "2022-01-27T07:17:14.460724Z",
     "shell.execute_reply": "2022-01-27T07:17:14.461094Z",
     "shell.execute_reply.started": "2022-01-27T04:56:34.713557Z"
    },
    "papermill": {
     "duration": 0.056871,
     "end_time": "2022-01-27T07:17:14.461246",
     "exception": false,
     "start_time": "2022-01-27T07:17:14.404375",
     "status": "completed"
    },
    "tags": []
   },
   "outputs": [
    {
     "data": {
      "text/plain": [
       "religion               7941\n",
       "age                    7865\n",
       "ethnicity              7777\n",
       "not_cyberbullying      7671\n",
       "gender                 7595\n",
       "other_cyberbullying    5825\n",
       "Name: cyberbullying_type, dtype: int64"
      ]
     },
     "execution_count": 8,
     "metadata": {},
     "output_type": "execute_result"
    }
   ],
   "source": [
    "df.cyberbullying_type.value_counts()"
   ]
  },
  {
   "cell_type": "markdown",
   "id": "77542487",
   "metadata": {
    "papermill": {
     "duration": 0.040347,
     "end_time": "2022-01-27T07:17:14.542044",
     "exception": false,
     "start_time": "2022-01-27T07:17:14.501697",
     "status": "completed"
    },
    "tags": []
   },
   "source": [
    "There are 3018 duplicated data, and after remove the duplicated data, the most duplicate data is in others cyberbullying."
   ]
  },
  {
   "cell_type": "markdown",
   "id": "dbd34695",
   "metadata": {
    "papermill": {
     "duration": 0.041053,
     "end_time": "2022-01-27T07:17:14.623313",
     "exception": false,
     "start_time": "2022-01-27T07:17:14.582260",
     "status": "completed"
    },
    "tags": []
   },
   "source": [
    "# <a id='4'> 4. Data Visualization</a>"
   ]
  },
  {
   "cell_type": "markdown",
   "id": "ef250b4c",
   "metadata": {
    "papermill": {
     "duration": 0.04023,
     "end_time": "2022-01-27T07:17:14.704627",
     "exception": false,
     "start_time": "2022-01-27T07:17:14.664397",
     "status": "completed"
    },
    "tags": []
   },
   "source": [
    "**Top 20 on Cyberbullying tweet**"
   ]
  },
  {
   "cell_type": "code",
   "execution_count": 9,
   "id": "95408d5d",
   "metadata": {
    "execution": {
     "iopub.execute_input": "2022-01-27T07:17:14.789858Z",
     "iopub.status.busy": "2022-01-27T07:17:14.789389Z",
     "iopub.status.idle": "2022-01-27T07:17:15.163109Z",
     "shell.execute_reply": "2022-01-27T07:17:15.162610Z",
     "shell.execute_reply.started": "2022-01-27T04:56:34.725035Z"
    },
    "papermill": {
     "duration": 0.417804,
     "end_time": "2022-01-27T07:17:15.163245",
     "exception": false,
     "start_time": "2022-01-27T07:17:14.745441",
     "status": "completed"
    },
    "tags": []
   },
   "outputs": [
    {
     "data": {
      "text/html": [
       "<style type=\"text/css\">\n",
       "#T_2142b_row0_col1 {\n",
       "  background-color: #00441b;\n",
       "  color: #f1f1f1;\n",
       "}\n",
       "#T_2142b_row1_col1 {\n",
       "  background-color: #1e8741;\n",
       "  color: #f1f1f1;\n",
       "}\n",
       "#T_2142b_row2_col1 {\n",
       "  background-color: #4aaf61;\n",
       "  color: #f1f1f1;\n",
       "}\n",
       "#T_2142b_row3_col1 {\n",
       "  background-color: #abdda5;\n",
       "  color: #000000;\n",
       "}\n",
       "#T_2142b_row4_col1 {\n",
       "  background-color: #afdfa8;\n",
       "  color: #000000;\n",
       "}\n",
       "#T_2142b_row5_col1 {\n",
       "  background-color: #b1e0ab;\n",
       "  color: #000000;\n",
       "}\n",
       "#T_2142b_row6_col1 {\n",
       "  background-color: #bae3b3;\n",
       "  color: #000000;\n",
       "}\n",
       "#T_2142b_row7_col1 {\n",
       "  background-color: #bce4b5;\n",
       "  color: #000000;\n",
       "}\n",
       "#T_2142b_row8_col1 {\n",
       "  background-color: #c6e8bf;\n",
       "  color: #000000;\n",
       "}\n",
       "#T_2142b_row9_col1 {\n",
       "  background-color: #c8e9c1;\n",
       "  color: #000000;\n",
       "}\n",
       "#T_2142b_row10_col1 {\n",
       "  background-color: #d2edcc;\n",
       "  color: #000000;\n",
       "}\n",
       "#T_2142b_row11_col1 {\n",
       "  background-color: #d7efd1;\n",
       "  color: #000000;\n",
       "}\n",
       "#T_2142b_row12_col1 {\n",
       "  background-color: #e1f3dc;\n",
       "  color: #000000;\n",
       "}\n",
       "#T_2142b_row13_col1 {\n",
       "  background-color: #e7f6e3;\n",
       "  color: #000000;\n",
       "}\n",
       "#T_2142b_row14_col1 {\n",
       "  background-color: #ebf7e7;\n",
       "  color: #000000;\n",
       "}\n",
       "#T_2142b_row15_col1 {\n",
       "  background-color: #f0f9ed;\n",
       "  color: #000000;\n",
       "}\n",
       "#T_2142b_row16_col1 {\n",
       "  background-color: #f3faf0;\n",
       "  color: #000000;\n",
       "}\n",
       "#T_2142b_row17_col1, #T_2142b_row18_col1 {\n",
       "  background-color: #f5fbf3;\n",
       "  color: #000000;\n",
       "}\n",
       "#T_2142b_row19_col1 {\n",
       "  background-color: #f7fcf5;\n",
       "  color: #000000;\n",
       "}\n",
       "</style>\n",
       "<table id=\"T_2142b_\">\n",
       "  <thead>\n",
       "    <tr>\n",
       "      <th class=\"blank level0\" >&nbsp;</th>\n",
       "      <th class=\"col_heading level0 col0\" >Words</th>\n",
       "      <th class=\"col_heading level0 col1\" >Count</th>\n",
       "    </tr>\n",
       "  </thead>\n",
       "  <tbody>\n",
       "    <tr>\n",
       "      <th id=\"T_2142b_level0_row0\" class=\"row_heading level0 row0\" >0</th>\n",
       "      <td id=\"T_2142b_row0_col0\" class=\"data row0 col0\" >bulli</td>\n",
       "      <td id=\"T_2142b_row0_col1\" class=\"data row0 col1\" >11063</td>\n",
       "    </tr>\n",
       "    <tr>\n",
       "      <th id=\"T_2142b_level0_row1\" class=\"row_heading level0 row1\" >1</th>\n",
       "      <td id=\"T_2142b_row1_col0\" class=\"data row1 col0\" >school</td>\n",
       "      <td id=\"T_2142b_row1_col1\" class=\"data row1 col1\" >9152</td>\n",
       "    </tr>\n",
       "    <tr>\n",
       "      <th id=\"T_2142b_level0_row2\" class=\"row_heading level0 row2\" >2</th>\n",
       "      <td id=\"T_2142b_row2_col0\" class=\"data row2 col0\" >fuck</td>\n",
       "      <td id=\"T_2142b_row2_col1\" class=\"data row2 col1\" >7806</td>\n",
       "    </tr>\n",
       "    <tr>\n",
       "      <th id=\"T_2142b_level0_row3\" class=\"row_heading level0 row3\" >3</th>\n",
       "      <td id=\"T_2142b_row3_col0\" class=\"data row3 col0\" >nigger</td>\n",
       "      <td id=\"T_2142b_row3_col1\" class=\"data row3 col1\" >5615</td>\n",
       "    </tr>\n",
       "    <tr>\n",
       "      <th id=\"T_2142b_level0_row4\" class=\"row_heading level0 row4\" >4</th>\n",
       "      <td id=\"T_2142b_row4_col0\" class=\"data row4 col0\" >girl</td>\n",
       "      <td id=\"T_2142b_row4_col1\" class=\"data row4 col1\" >5523</td>\n",
       "    </tr>\n",
       "    <tr>\n",
       "      <th id=\"T_2142b_level0_row5\" class=\"row_heading level0 row5\" >5</th>\n",
       "      <td id=\"T_2142b_row5_col0\" class=\"data row5 col0\" >joke</td>\n",
       "      <td id=\"T_2142b_row5_col1\" class=\"data row5 col1\" >5456</td>\n",
       "    </tr>\n",
       "    <tr>\n",
       "      <th id=\"T_2142b_level0_row6\" class=\"row_heading level0 row6\" >6</th>\n",
       "      <td id=\"T_2142b_row6_col0\" class=\"data row6 col0\" >dumb</td>\n",
       "      <td id=\"T_2142b_row6_col1\" class=\"data row6 col1\" >5239</td>\n",
       "    </tr>\n",
       "    <tr>\n",
       "      <th id=\"T_2142b_level0_row7\" class=\"row_heading level0 row7\" >7</th>\n",
       "      <td id=\"T_2142b_row7_col0\" class=\"data row7 col0\" >high</td>\n",
       "      <td id=\"T_2142b_row7_col1\" class=\"data row7 col1\" >5178</td>\n",
       "    </tr>\n",
       "    <tr>\n",
       "      <th id=\"T_2142b_level0_row8\" class=\"row_heading level0 row8\" >8</th>\n",
       "      <td id=\"T_2142b_row8_col0\" class=\"data row8 col0\" >muslim</td>\n",
       "      <td id=\"T_2142b_row8_col1\" class=\"data row8 col1\" >4929</td>\n",
       "    </tr>\n",
       "    <tr>\n",
       "      <th id=\"T_2142b_level0_row9\" class=\"row_heading level0 row9\" >9</th>\n",
       "      <td id=\"T_2142b_row9_col0\" class=\"data row9 col0\" >peopl</td>\n",
       "      <td id=\"T_2142b_row9_col1\" class=\"data row9 col1\" >4842</td>\n",
       "    </tr>\n",
       "    <tr>\n",
       "      <th id=\"T_2142b_level0_row10\" class=\"row_heading level0 row10\" >10</th>\n",
       "      <td id=\"T_2142b_row10_col0\" class=\"data row10 col0\" >rape</td>\n",
       "      <td id=\"T_2142b_row10_col1\" class=\"data row10 col1\" >4500</td>\n",
       "    </tr>\n",
       "    <tr>\n",
       "      <th id=\"T_2142b_level0_row11\" class=\"row_heading level0 row11\" >11</th>\n",
       "      <td id=\"T_2142b_row11_col0\" class=\"data row11 col0\" >gay</td>\n",
       "      <td id=\"T_2142b_row11_col1\" class=\"data row11 col1\" >4343</td>\n",
       "    </tr>\n",
       "    <tr>\n",
       "      <th id=\"T_2142b_level0_row12\" class=\"row_heading level0 row12\" >12</th>\n",
       "      <td id=\"T_2142b_row12_col0\" class=\"data row12 col0\" >call</td>\n",
       "      <td id=\"T_2142b_row12_col1\" class=\"data row12 col1\" >3997</td>\n",
       "    </tr>\n",
       "    <tr>\n",
       "      <th id=\"T_2142b_level0_row13\" class=\"row_heading level0 row13\" >13</th>\n",
       "      <td id=\"T_2142b_row13_col0\" class=\"data row13 col0\" >one</td>\n",
       "      <td id=\"T_2142b_row13_col1\" class=\"data row13 col1\" >3717</td>\n",
       "    </tr>\n",
       "    <tr>\n",
       "      <th id=\"T_2142b_level0_row14\" class=\"row_heading level0 row14\" >14</th>\n",
       "      <td id=\"T_2142b_row14_col0\" class=\"data row14 col0\" >idiot</td>\n",
       "      <td id=\"T_2142b_row14_col1\" class=\"data row14 col1\" >3512</td>\n",
       "    </tr>\n",
       "    <tr>\n",
       "      <th id=\"T_2142b_level0_row15\" class=\"row_heading level0 row15\" >15</th>\n",
       "      <td id=\"T_2142b_row15_col0\" class=\"data row15 col0\" >woman</td>\n",
       "      <td id=\"T_2142b_row15_col1\" class=\"data row15 col1\" >3200</td>\n",
       "    </tr>\n",
       "    <tr>\n",
       "      <th id=\"T_2142b_level0_row16\" class=\"row_heading level0 row16\" >16</th>\n",
       "      <td id=\"T_2142b_row16_col0\" class=\"data row16 col0\" >say</td>\n",
       "      <td id=\"T_2142b_row16_col1\" class=\"data row16 col1\" >3057</td>\n",
       "    </tr>\n",
       "    <tr>\n",
       "      <th id=\"T_2142b_level0_row17\" class=\"row_heading level0 row17\" >17</th>\n",
       "      <td id=\"T_2142b_row17_col0\" class=\"data row17 col0\" >black</td>\n",
       "      <td id=\"T_2142b_row17_col1\" class=\"data row17 col1\" >2932</td>\n",
       "    </tr>\n",
       "    <tr>\n",
       "      <th id=\"T_2142b_level0_row18\" class=\"row_heading level0 row18\" >18</th>\n",
       "      <td id=\"T_2142b_row18_col0\" class=\"data row18 col0\" >make</td>\n",
       "      <td id=\"T_2142b_row18_col1\" class=\"data row18 col1\" >2913</td>\n",
       "    </tr>\n",
       "    <tr>\n",
       "      <th id=\"T_2142b_level0_row19\" class=\"row_heading level0 row19\" >19</th>\n",
       "      <td id=\"T_2142b_row19_col0\" class=\"data row19 col0\" >as</td>\n",
       "      <td id=\"T_2142b_row19_col1\" class=\"data row19 col1\" >2810</td>\n",
       "    </tr>\n",
       "  </tbody>\n",
       "</table>\n"
      ],
      "text/plain": [
       "<pandas.io.formats.style.Styler at 0x7f64c4b22850>"
      ]
     },
     "execution_count": 9,
     "metadata": {},
     "output_type": "execute_result"
    }
   ],
   "source": [
    "df['tweet_list'] = df['tweet_clean'].apply(lambda x:str(x).split())\n",
    "top = Counter([item for sublist in df['tweet_list'] for item in sublist])\n",
    "tweet_list1 = pd.DataFrame(top.most_common(20))\n",
    "tweet_list1.columns = ['Words','Count']\n",
    "tweet_list1.style.background_gradient(cmap='Greens')"
   ]
  },
  {
   "cell_type": "code",
   "execution_count": 10,
   "id": "03914fca",
   "metadata": {
    "execution": {
     "iopub.execute_input": "2022-01-27T07:17:15.249149Z",
     "iopub.status.busy": "2022-01-27T07:17:15.248728Z",
     "iopub.status.idle": "2022-01-27T07:17:16.479866Z",
     "shell.execute_reply": "2022-01-27T07:17:16.479400Z",
     "shell.execute_reply.started": "2022-01-27T04:56:35.007628Z"
    },
    "papermill": {
     "duration": 1.274938,
     "end_time": "2022-01-27T07:17:16.479970",
     "exception": false,
     "start_time": "2022-01-27T07:17:15.205032",
     "status": "completed"
    },
    "tags": []
   },
   "outputs": [
    {
     "data": {
      "text/html": [
       "        <script type=\"text/javascript\">\n",
       "        window.PlotlyConfig = {MathJaxConfig: 'local'};\n",
       "        if (window.MathJax) {MathJax.Hub.Config({SVG: {font: \"STIX-Web\"}});}\n",
       "        if (typeof require !== 'undefined') {\n",
       "        require.undef(\"plotly\");\n",
       "        requirejs.config({\n",
       "            paths: {\n",
       "                'plotly': ['https://cdn.plot.ly/plotly-2.8.3.min']\n",
       "            }\n",
       "        });\n",
       "        require(['plotly'], function(Plotly) {\n",
       "            window._Plotly = Plotly;\n",
       "        });\n",
       "        }\n",
       "        </script>\n",
       "        "
      ]
     },
     "metadata": {},
     "output_type": "display_data"
    },
    {
     "data": {
      "text/html": [
       "<div>                            <div id=\"cdb0472d-9cc9-42a2-8f72-90a74f28a01c\" class=\"plotly-graph-div\" style=\"height:700px; width:700px;\"></div>            <script type=\"text/javascript\">                require([\"plotly\"], function(Plotly) {                    window.PLOTLYENV=window.PLOTLYENV || {};                                    if (document.getElementById(\"cdb0472d-9cc9-42a2-8f72-90a74f28a01c\")) {                    Plotly.newPlot(                        \"cdb0472d-9cc9-42a2-8f72-90a74f28a01c\",                        [{\"alignmentgroup\":\"True\",\"hovertemplate\":\"Words=%{y}<br>Count=%{x}<extra></extra>\",\"legendgroup\":\"bulli\",\"marker\":{\"color\":\"#636efa\",\"pattern\":{\"shape\":\"\"}},\"name\":\"bulli\",\"offsetgroup\":\"bulli\",\"orientation\":\"h\",\"showlegend\":true,\"textposition\":\"auto\",\"x\":[11063],\"xaxis\":\"x\",\"y\":[\"bulli\"],\"yaxis\":\"y\",\"type\":\"bar\"},{\"alignmentgroup\":\"True\",\"hovertemplate\":\"Words=%{y}<br>Count=%{x}<extra></extra>\",\"legendgroup\":\"school\",\"marker\":{\"color\":\"#EF553B\",\"pattern\":{\"shape\":\"\"}},\"name\":\"school\",\"offsetgroup\":\"school\",\"orientation\":\"h\",\"showlegend\":true,\"textposition\":\"auto\",\"x\":[9152],\"xaxis\":\"x\",\"y\":[\"school\"],\"yaxis\":\"y\",\"type\":\"bar\"},{\"alignmentgroup\":\"True\",\"hovertemplate\":\"Words=%{y}<br>Count=%{x}<extra></extra>\",\"legendgroup\":\"fuck\",\"marker\":{\"color\":\"#00cc96\",\"pattern\":{\"shape\":\"\"}},\"name\":\"fuck\",\"offsetgroup\":\"fuck\",\"orientation\":\"h\",\"showlegend\":true,\"textposition\":\"auto\",\"x\":[7806],\"xaxis\":\"x\",\"y\":[\"fuck\"],\"yaxis\":\"y\",\"type\":\"bar\"},{\"alignmentgroup\":\"True\",\"hovertemplate\":\"Words=%{y}<br>Count=%{x}<extra></extra>\",\"legendgroup\":\"nigger\",\"marker\":{\"color\":\"#ab63fa\",\"pattern\":{\"shape\":\"\"}},\"name\":\"nigger\",\"offsetgroup\":\"nigger\",\"orientation\":\"h\",\"showlegend\":true,\"textposition\":\"auto\",\"x\":[5615],\"xaxis\":\"x\",\"y\":[\"nigger\"],\"yaxis\":\"y\",\"type\":\"bar\"},{\"alignmentgroup\":\"True\",\"hovertemplate\":\"Words=%{y}<br>Count=%{x}<extra></extra>\",\"legendgroup\":\"girl\",\"marker\":{\"color\":\"#FFA15A\",\"pattern\":{\"shape\":\"\"}},\"name\":\"girl\",\"offsetgroup\":\"girl\",\"orientation\":\"h\",\"showlegend\":true,\"textposition\":\"auto\",\"x\":[5523],\"xaxis\":\"x\",\"y\":[\"girl\"],\"yaxis\":\"y\",\"type\":\"bar\"},{\"alignmentgroup\":\"True\",\"hovertemplate\":\"Words=%{y}<br>Count=%{x}<extra></extra>\",\"legendgroup\":\"joke\",\"marker\":{\"color\":\"#19d3f3\",\"pattern\":{\"shape\":\"\"}},\"name\":\"joke\",\"offsetgroup\":\"joke\",\"orientation\":\"h\",\"showlegend\":true,\"textposition\":\"auto\",\"x\":[5456],\"xaxis\":\"x\",\"y\":[\"joke\"],\"yaxis\":\"y\",\"type\":\"bar\"},{\"alignmentgroup\":\"True\",\"hovertemplate\":\"Words=%{y}<br>Count=%{x}<extra></extra>\",\"legendgroup\":\"dumb\",\"marker\":{\"color\":\"#FF6692\",\"pattern\":{\"shape\":\"\"}},\"name\":\"dumb\",\"offsetgroup\":\"dumb\",\"orientation\":\"h\",\"showlegend\":true,\"textposition\":\"auto\",\"x\":[5239],\"xaxis\":\"x\",\"y\":[\"dumb\"],\"yaxis\":\"y\",\"type\":\"bar\"},{\"alignmentgroup\":\"True\",\"hovertemplate\":\"Words=%{y}<br>Count=%{x}<extra></extra>\",\"legendgroup\":\"high\",\"marker\":{\"color\":\"#B6E880\",\"pattern\":{\"shape\":\"\"}},\"name\":\"high\",\"offsetgroup\":\"high\",\"orientation\":\"h\",\"showlegend\":true,\"textposition\":\"auto\",\"x\":[5178],\"xaxis\":\"x\",\"y\":[\"high\"],\"yaxis\":\"y\",\"type\":\"bar\"},{\"alignmentgroup\":\"True\",\"hovertemplate\":\"Words=%{y}<br>Count=%{x}<extra></extra>\",\"legendgroup\":\"muslim\",\"marker\":{\"color\":\"#FF97FF\",\"pattern\":{\"shape\":\"\"}},\"name\":\"muslim\",\"offsetgroup\":\"muslim\",\"orientation\":\"h\",\"showlegend\":true,\"textposition\":\"auto\",\"x\":[4929],\"xaxis\":\"x\",\"y\":[\"muslim\"],\"yaxis\":\"y\",\"type\":\"bar\"},{\"alignmentgroup\":\"True\",\"hovertemplate\":\"Words=%{y}<br>Count=%{x}<extra></extra>\",\"legendgroup\":\"peopl\",\"marker\":{\"color\":\"#FECB52\",\"pattern\":{\"shape\":\"\"}},\"name\":\"peopl\",\"offsetgroup\":\"peopl\",\"orientation\":\"h\",\"showlegend\":true,\"textposition\":\"auto\",\"x\":[4842],\"xaxis\":\"x\",\"y\":[\"peopl\"],\"yaxis\":\"y\",\"type\":\"bar\"},{\"alignmentgroup\":\"True\",\"hovertemplate\":\"Words=%{y}<br>Count=%{x}<extra></extra>\",\"legendgroup\":\"rape\",\"marker\":{\"color\":\"#636efa\",\"pattern\":{\"shape\":\"\"}},\"name\":\"rape\",\"offsetgroup\":\"rape\",\"orientation\":\"h\",\"showlegend\":true,\"textposition\":\"auto\",\"x\":[4500],\"xaxis\":\"x\",\"y\":[\"rape\"],\"yaxis\":\"y\",\"type\":\"bar\"},{\"alignmentgroup\":\"True\",\"hovertemplate\":\"Words=%{y}<br>Count=%{x}<extra></extra>\",\"legendgroup\":\"gay\",\"marker\":{\"color\":\"#EF553B\",\"pattern\":{\"shape\":\"\"}},\"name\":\"gay\",\"offsetgroup\":\"gay\",\"orientation\":\"h\",\"showlegend\":true,\"textposition\":\"auto\",\"x\":[4343],\"xaxis\":\"x\",\"y\":[\"gay\"],\"yaxis\":\"y\",\"type\":\"bar\"},{\"alignmentgroup\":\"True\",\"hovertemplate\":\"Words=%{y}<br>Count=%{x}<extra></extra>\",\"legendgroup\":\"call\",\"marker\":{\"color\":\"#00cc96\",\"pattern\":{\"shape\":\"\"}},\"name\":\"call\",\"offsetgroup\":\"call\",\"orientation\":\"h\",\"showlegend\":true,\"textposition\":\"auto\",\"x\":[3997],\"xaxis\":\"x\",\"y\":[\"call\"],\"yaxis\":\"y\",\"type\":\"bar\"},{\"alignmentgroup\":\"True\",\"hovertemplate\":\"Words=%{y}<br>Count=%{x}<extra></extra>\",\"legendgroup\":\"one\",\"marker\":{\"color\":\"#ab63fa\",\"pattern\":{\"shape\":\"\"}},\"name\":\"one\",\"offsetgroup\":\"one\",\"orientation\":\"h\",\"showlegend\":true,\"textposition\":\"auto\",\"x\":[3717],\"xaxis\":\"x\",\"y\":[\"one\"],\"yaxis\":\"y\",\"type\":\"bar\"},{\"alignmentgroup\":\"True\",\"hovertemplate\":\"Words=%{y}<br>Count=%{x}<extra></extra>\",\"legendgroup\":\"idiot\",\"marker\":{\"color\":\"#FFA15A\",\"pattern\":{\"shape\":\"\"}},\"name\":\"idiot\",\"offsetgroup\":\"idiot\",\"orientation\":\"h\",\"showlegend\":true,\"textposition\":\"auto\",\"x\":[3512],\"xaxis\":\"x\",\"y\":[\"idiot\"],\"yaxis\":\"y\",\"type\":\"bar\"},{\"alignmentgroup\":\"True\",\"hovertemplate\":\"Words=%{y}<br>Count=%{x}<extra></extra>\",\"legendgroup\":\"woman\",\"marker\":{\"color\":\"#19d3f3\",\"pattern\":{\"shape\":\"\"}},\"name\":\"woman\",\"offsetgroup\":\"woman\",\"orientation\":\"h\",\"showlegend\":true,\"textposition\":\"auto\",\"x\":[3200],\"xaxis\":\"x\",\"y\":[\"woman\"],\"yaxis\":\"y\",\"type\":\"bar\"},{\"alignmentgroup\":\"True\",\"hovertemplate\":\"Words=%{y}<br>Count=%{x}<extra></extra>\",\"legendgroup\":\"say\",\"marker\":{\"color\":\"#FF6692\",\"pattern\":{\"shape\":\"\"}},\"name\":\"say\",\"offsetgroup\":\"say\",\"orientation\":\"h\",\"showlegend\":true,\"textposition\":\"auto\",\"x\":[3057],\"xaxis\":\"x\",\"y\":[\"say\"],\"yaxis\":\"y\",\"type\":\"bar\"},{\"alignmentgroup\":\"True\",\"hovertemplate\":\"Words=%{y}<br>Count=%{x}<extra></extra>\",\"legendgroup\":\"black\",\"marker\":{\"color\":\"#B6E880\",\"pattern\":{\"shape\":\"\"}},\"name\":\"black\",\"offsetgroup\":\"black\",\"orientation\":\"h\",\"showlegend\":true,\"textposition\":\"auto\",\"x\":[2932],\"xaxis\":\"x\",\"y\":[\"black\"],\"yaxis\":\"y\",\"type\":\"bar\"},{\"alignmentgroup\":\"True\",\"hovertemplate\":\"Words=%{y}<br>Count=%{x}<extra></extra>\",\"legendgroup\":\"make\",\"marker\":{\"color\":\"#FF97FF\",\"pattern\":{\"shape\":\"\"}},\"name\":\"make\",\"offsetgroup\":\"make\",\"orientation\":\"h\",\"showlegend\":true,\"textposition\":\"auto\",\"x\":[2913],\"xaxis\":\"x\",\"y\":[\"make\"],\"yaxis\":\"y\",\"type\":\"bar\"},{\"alignmentgroup\":\"True\",\"hovertemplate\":\"Words=%{y}<br>Count=%{x}<extra></extra>\",\"legendgroup\":\"as\",\"marker\":{\"color\":\"#FECB52\",\"pattern\":{\"shape\":\"\"}},\"name\":\"as\",\"offsetgroup\":\"as\",\"orientation\":\"h\",\"showlegend\":true,\"textposition\":\"auto\",\"x\":[2810],\"xaxis\":\"x\",\"y\":[\"as\"],\"yaxis\":\"y\",\"type\":\"bar\"}],                        {\"template\":{\"data\":{\"bar\":[{\"error_x\":{\"color\":\"#2a3f5f\"},\"error_y\":{\"color\":\"#2a3f5f\"},\"marker\":{\"line\":{\"color\":\"#E5ECF6\",\"width\":0.5},\"pattern\":{\"fillmode\":\"overlay\",\"size\":10,\"solidity\":0.2}},\"type\":\"bar\"}],\"barpolar\":[{\"marker\":{\"line\":{\"color\":\"#E5ECF6\",\"width\":0.5},\"pattern\":{\"fillmode\":\"overlay\",\"size\":10,\"solidity\":0.2}},\"type\":\"barpolar\"}],\"carpet\":[{\"aaxis\":{\"endlinecolor\":\"#2a3f5f\",\"gridcolor\":\"white\",\"linecolor\":\"white\",\"minorgridcolor\":\"white\",\"startlinecolor\":\"#2a3f5f\"},\"baxis\":{\"endlinecolor\":\"#2a3f5f\",\"gridcolor\":\"white\",\"linecolor\":\"white\",\"minorgridcolor\":\"white\",\"startlinecolor\":\"#2a3f5f\"},\"type\":\"carpet\"}],\"choropleth\":[{\"colorbar\":{\"outlinewidth\":0,\"ticks\":\"\"},\"type\":\"choropleth\"}],\"contour\":[{\"colorbar\":{\"outlinewidth\":0,\"ticks\":\"\"},\"colorscale\":[[0.0,\"#0d0887\"],[0.1111111111111111,\"#46039f\"],[0.2222222222222222,\"#7201a8\"],[0.3333333333333333,\"#9c179e\"],[0.4444444444444444,\"#bd3786\"],[0.5555555555555556,\"#d8576b\"],[0.6666666666666666,\"#ed7953\"],[0.7777777777777778,\"#fb9f3a\"],[0.8888888888888888,\"#fdca26\"],[1.0,\"#f0f921\"]],\"type\":\"contour\"}],\"contourcarpet\":[{\"colorbar\":{\"outlinewidth\":0,\"ticks\":\"\"},\"type\":\"contourcarpet\"}],\"heatmap\":[{\"colorbar\":{\"outlinewidth\":0,\"ticks\":\"\"},\"colorscale\":[[0.0,\"#0d0887\"],[0.1111111111111111,\"#46039f\"],[0.2222222222222222,\"#7201a8\"],[0.3333333333333333,\"#9c179e\"],[0.4444444444444444,\"#bd3786\"],[0.5555555555555556,\"#d8576b\"],[0.6666666666666666,\"#ed7953\"],[0.7777777777777778,\"#fb9f3a\"],[0.8888888888888888,\"#fdca26\"],[1.0,\"#f0f921\"]],\"type\":\"heatmap\"}],\"heatmapgl\":[{\"colorbar\":{\"outlinewidth\":0,\"ticks\":\"\"},\"colorscale\":[[0.0,\"#0d0887\"],[0.1111111111111111,\"#46039f\"],[0.2222222222222222,\"#7201a8\"],[0.3333333333333333,\"#9c179e\"],[0.4444444444444444,\"#bd3786\"],[0.5555555555555556,\"#d8576b\"],[0.6666666666666666,\"#ed7953\"],[0.7777777777777778,\"#fb9f3a\"],[0.8888888888888888,\"#fdca26\"],[1.0,\"#f0f921\"]],\"type\":\"heatmapgl\"}],\"histogram\":[{\"marker\":{\"pattern\":{\"fillmode\":\"overlay\",\"size\":10,\"solidity\":0.2}},\"type\":\"histogram\"}],\"histogram2d\":[{\"colorbar\":{\"outlinewidth\":0,\"ticks\":\"\"},\"colorscale\":[[0.0,\"#0d0887\"],[0.1111111111111111,\"#46039f\"],[0.2222222222222222,\"#7201a8\"],[0.3333333333333333,\"#9c179e\"],[0.4444444444444444,\"#bd3786\"],[0.5555555555555556,\"#d8576b\"],[0.6666666666666666,\"#ed7953\"],[0.7777777777777778,\"#fb9f3a\"],[0.8888888888888888,\"#fdca26\"],[1.0,\"#f0f921\"]],\"type\":\"histogram2d\"}],\"histogram2dcontour\":[{\"colorbar\":{\"outlinewidth\":0,\"ticks\":\"\"},\"colorscale\":[[0.0,\"#0d0887\"],[0.1111111111111111,\"#46039f\"],[0.2222222222222222,\"#7201a8\"],[0.3333333333333333,\"#9c179e\"],[0.4444444444444444,\"#bd3786\"],[0.5555555555555556,\"#d8576b\"],[0.6666666666666666,\"#ed7953\"],[0.7777777777777778,\"#fb9f3a\"],[0.8888888888888888,\"#fdca26\"],[1.0,\"#f0f921\"]],\"type\":\"histogram2dcontour\"}],\"mesh3d\":[{\"colorbar\":{\"outlinewidth\":0,\"ticks\":\"\"},\"type\":\"mesh3d\"}],\"parcoords\":[{\"line\":{\"colorbar\":{\"outlinewidth\":0,\"ticks\":\"\"}},\"type\":\"parcoords\"}],\"pie\":[{\"automargin\":true,\"type\":\"pie\"}],\"scatter\":[{\"marker\":{\"colorbar\":{\"outlinewidth\":0,\"ticks\":\"\"}},\"type\":\"scatter\"}],\"scatter3d\":[{\"line\":{\"colorbar\":{\"outlinewidth\":0,\"ticks\":\"\"}},\"marker\":{\"colorbar\":{\"outlinewidth\":0,\"ticks\":\"\"}},\"type\":\"scatter3d\"}],\"scattercarpet\":[{\"marker\":{\"colorbar\":{\"outlinewidth\":0,\"ticks\":\"\"}},\"type\":\"scattercarpet\"}],\"scattergeo\":[{\"marker\":{\"colorbar\":{\"outlinewidth\":0,\"ticks\":\"\"}},\"type\":\"scattergeo\"}],\"scattergl\":[{\"marker\":{\"colorbar\":{\"outlinewidth\":0,\"ticks\":\"\"}},\"type\":\"scattergl\"}],\"scattermapbox\":[{\"marker\":{\"colorbar\":{\"outlinewidth\":0,\"ticks\":\"\"}},\"type\":\"scattermapbox\"}],\"scatterpolar\":[{\"marker\":{\"colorbar\":{\"outlinewidth\":0,\"ticks\":\"\"}},\"type\":\"scatterpolar\"}],\"scatterpolargl\":[{\"marker\":{\"colorbar\":{\"outlinewidth\":0,\"ticks\":\"\"}},\"type\":\"scatterpolargl\"}],\"scatterternary\":[{\"marker\":{\"colorbar\":{\"outlinewidth\":0,\"ticks\":\"\"}},\"type\":\"scatterternary\"}],\"surface\":[{\"colorbar\":{\"outlinewidth\":0,\"ticks\":\"\"},\"colorscale\":[[0.0,\"#0d0887\"],[0.1111111111111111,\"#46039f\"],[0.2222222222222222,\"#7201a8\"],[0.3333333333333333,\"#9c179e\"],[0.4444444444444444,\"#bd3786\"],[0.5555555555555556,\"#d8576b\"],[0.6666666666666666,\"#ed7953\"],[0.7777777777777778,\"#fb9f3a\"],[0.8888888888888888,\"#fdca26\"],[1.0,\"#f0f921\"]],\"type\":\"surface\"}],\"table\":[{\"cells\":{\"fill\":{\"color\":\"#EBF0F8\"},\"line\":{\"color\":\"white\"}},\"header\":{\"fill\":{\"color\":\"#C8D4E3\"},\"line\":{\"color\":\"white\"}},\"type\":\"table\"}]},\"layout\":{\"annotationdefaults\":{\"arrowcolor\":\"#2a3f5f\",\"arrowhead\":0,\"arrowwidth\":1},\"autotypenumbers\":\"strict\",\"coloraxis\":{\"colorbar\":{\"outlinewidth\":0,\"ticks\":\"\"}},\"colorscale\":{\"diverging\":[[0,\"#8e0152\"],[0.1,\"#c51b7d\"],[0.2,\"#de77ae\"],[0.3,\"#f1b6da\"],[0.4,\"#fde0ef\"],[0.5,\"#f7f7f7\"],[0.6,\"#e6f5d0\"],[0.7,\"#b8e186\"],[0.8,\"#7fbc41\"],[0.9,\"#4d9221\"],[1,\"#276419\"]],\"sequential\":[[0.0,\"#0d0887\"],[0.1111111111111111,\"#46039f\"],[0.2222222222222222,\"#7201a8\"],[0.3333333333333333,\"#9c179e\"],[0.4444444444444444,\"#bd3786\"],[0.5555555555555556,\"#d8576b\"],[0.6666666666666666,\"#ed7953\"],[0.7777777777777778,\"#fb9f3a\"],[0.8888888888888888,\"#fdca26\"],[1.0,\"#f0f921\"]],\"sequentialminus\":[[0.0,\"#0d0887\"],[0.1111111111111111,\"#46039f\"],[0.2222222222222222,\"#7201a8\"],[0.3333333333333333,\"#9c179e\"],[0.4444444444444444,\"#bd3786\"],[0.5555555555555556,\"#d8576b\"],[0.6666666666666666,\"#ed7953\"],[0.7777777777777778,\"#fb9f3a\"],[0.8888888888888888,\"#fdca26\"],[1.0,\"#f0f921\"]]},\"colorway\":[\"#636efa\",\"#EF553B\",\"#00cc96\",\"#ab63fa\",\"#FFA15A\",\"#19d3f3\",\"#FF6692\",\"#B6E880\",\"#FF97FF\",\"#FECB52\"],\"font\":{\"color\":\"#2a3f5f\"},\"geo\":{\"bgcolor\":\"white\",\"lakecolor\":\"white\",\"landcolor\":\"#E5ECF6\",\"showlakes\":true,\"showland\":true,\"subunitcolor\":\"white\"},\"hoverlabel\":{\"align\":\"left\"},\"hovermode\":\"closest\",\"mapbox\":{\"style\":\"light\"},\"paper_bgcolor\":\"white\",\"plot_bgcolor\":\"#E5ECF6\",\"polar\":{\"angularaxis\":{\"gridcolor\":\"white\",\"linecolor\":\"white\",\"ticks\":\"\"},\"bgcolor\":\"#E5ECF6\",\"radialaxis\":{\"gridcolor\":\"white\",\"linecolor\":\"white\",\"ticks\":\"\"}},\"scene\":{\"xaxis\":{\"backgroundcolor\":\"#E5ECF6\",\"gridcolor\":\"white\",\"gridwidth\":2,\"linecolor\":\"white\",\"showbackground\":true,\"ticks\":\"\",\"zerolinecolor\":\"white\"},\"yaxis\":{\"backgroundcolor\":\"#E5ECF6\",\"gridcolor\":\"white\",\"gridwidth\":2,\"linecolor\":\"white\",\"showbackground\":true,\"ticks\":\"\",\"zerolinecolor\":\"white\"},\"zaxis\":{\"backgroundcolor\":\"#E5ECF6\",\"gridcolor\":\"white\",\"gridwidth\":2,\"linecolor\":\"white\",\"showbackground\":true,\"ticks\":\"\",\"zerolinecolor\":\"white\"}},\"shapedefaults\":{\"line\":{\"color\":\"#2a3f5f\"}},\"ternary\":{\"aaxis\":{\"gridcolor\":\"white\",\"linecolor\":\"white\",\"ticks\":\"\"},\"baxis\":{\"gridcolor\":\"white\",\"linecolor\":\"white\",\"ticks\":\"\"},\"bgcolor\":\"#E5ECF6\",\"caxis\":{\"gridcolor\":\"white\",\"linecolor\":\"white\",\"ticks\":\"\"}},\"title\":{\"x\":0.05},\"xaxis\":{\"automargin\":true,\"gridcolor\":\"white\",\"linecolor\":\"white\",\"ticks\":\"\",\"title\":{\"standoff\":15},\"zerolinecolor\":\"white\",\"zerolinewidth\":2},\"yaxis\":{\"automargin\":true,\"gridcolor\":\"white\",\"linecolor\":\"white\",\"ticks\":\"\",\"title\":{\"standoff\":15},\"zerolinecolor\":\"white\",\"zerolinewidth\":2}}},\"xaxis\":{\"anchor\":\"y\",\"domain\":[0.0,1.0],\"title\":{\"text\":\"Count\"}},\"yaxis\":{\"anchor\":\"x\",\"domain\":[0.0,1.0],\"title\":{\"text\":\"Words\"},\"categoryorder\":\"array\",\"categoryarray\":[\"as\",\"make\",\"black\",\"say\",\"woman\",\"idiot\",\"one\",\"call\",\"gay\",\"rape\",\"peopl\",\"muslim\",\"high\",\"dumb\",\"joke\",\"girl\",\"nigger\",\"fuck\",\"school\",\"bulli\"]},\"legend\":{\"title\":{\"text\":\"Words\"},\"tracegroupgap\":0},\"title\":{\"text\":\"Top 20 words in cyberbullying tweet\"},\"barmode\":\"relative\",\"height\":700,\"width\":700},                        {\"responsive\": true}                    ).then(function(){\n",
       "                            \n",
       "var gd = document.getElementById('cdb0472d-9cc9-42a2-8f72-90a74f28a01c');\n",
       "var x = new MutationObserver(function (mutations, observer) {{\n",
       "        var display = window.getComputedStyle(gd).display;\n",
       "        if (!display || display === 'none') {{\n",
       "            console.log([gd, 'removed!']);\n",
       "            Plotly.purge(gd);\n",
       "            observer.disconnect();\n",
       "        }}\n",
       "}});\n",
       "\n",
       "// Listen for the removal of the full notebook cells\n",
       "var notebookContainer = gd.closest('#notebook-container');\n",
       "if (notebookContainer) {{\n",
       "    x.observe(notebookContainer, {childList: true});\n",
       "}}\n",
       "\n",
       "// Listen for the clearing of the current output cell\n",
       "var outputEl = gd.closest('.output');\n",
       "if (outputEl) {{\n",
       "    x.observe(outputEl, {childList: true});\n",
       "}}\n",
       "\n",
       "                        })                };                });            </script>        </div>"
      ]
     },
     "metadata": {},
     "output_type": "display_data"
    }
   ],
   "source": [
    "figure = px.bar(tweet_list1, x=\"Count\", y=\"Words\", title='Top 20 words in cyberbullying tweet', orientation='h', \n",
    "             width=700, height=700,color='Words')\n",
    "figure.show()"
   ]
  },
  {
   "cell_type": "markdown",
   "id": "ece2e012",
   "metadata": {
    "papermill": {
     "duration": 0.042412,
     "end_time": "2022-01-27T07:17:16.564312",
     "exception": false,
     "start_time": "2022-01-27T07:17:16.521900",
     "status": "completed"
    },
    "tags": []
   },
   "source": [
    "**Top 20 in type of cyberbullying tweet**"
   ]
  },
  {
   "cell_type": "code",
   "execution_count": 11,
   "id": "1f12956b",
   "metadata": {
    "execution": {
     "iopub.execute_input": "2022-01-27T07:17:16.658279Z",
     "iopub.status.busy": "2022-01-27T07:17:16.657420Z",
     "iopub.status.idle": "2022-01-27T07:17:16.706503Z",
     "shell.execute_reply": "2022-01-27T07:17:16.706928Z",
     "shell.execute_reply.started": "2022-01-27T04:56:35.354920Z"
    },
    "papermill": {
     "duration": 0.100205,
     "end_time": "2022-01-27T07:17:16.707077",
     "exception": false,
     "start_time": "2022-01-27T07:17:16.606872",
     "status": "completed"
    },
    "tags": []
   },
   "outputs": [],
   "source": [
    "not_cyberbullying_type = df[df['cyberbullying_type']=='not_cyberbullying']\n",
    "gender_type = df[df['cyberbullying_type']=='gender']\n",
    "religion_type = df[df['cyberbullying_type']=='religion']\n",
    "other_cyberbullying_type = df[df['cyberbullying_type']=='other_cyberbullying']\n",
    "age_type = df[df['cyberbullying_type']=='age']\n",
    "ethnicity_type = df[df['cyberbullying_type']=='ethnicity']"
   ]
  },
  {
   "cell_type": "code",
   "execution_count": 12,
   "id": "dbc7fc0c",
   "metadata": {
    "execution": {
     "iopub.execute_input": "2022-01-27T07:17:16.796484Z",
     "iopub.status.busy": "2022-01-27T07:17:16.795929Z",
     "iopub.status.idle": "2022-01-27T07:17:16.819000Z",
     "shell.execute_reply": "2022-01-27T07:17:16.819411Z",
     "shell.execute_reply.started": "2022-01-27T04:56:35.398301Z"
    },
    "papermill": {
     "duration": 0.069039,
     "end_time": "2022-01-27T07:17:16.819544",
     "exception": false,
     "start_time": "2022-01-27T07:17:16.750505",
     "status": "completed"
    },
    "tags": []
   },
   "outputs": [
    {
     "data": {
      "text/html": [
       "<style type=\"text/css\">\n",
       "#T_7a29c_row0_col1 {\n",
       "  background-color: #00441b;\n",
       "  color: #f1f1f1;\n",
       "}\n",
       "#T_7a29c_row1_col1 {\n",
       "  background-color: #ccebc6;\n",
       "  color: #000000;\n",
       "}\n",
       "#T_7a29c_row2_col1 {\n",
       "  background-color: #d2edcc;\n",
       "  color: #000000;\n",
       "}\n",
       "#T_7a29c_row3_col1, #T_7a29c_row4_col1 {\n",
       "  background-color: #e9f7e5;\n",
       "  color: #000000;\n",
       "}\n",
       "#T_7a29c_row5_col1 {\n",
       "  background-color: #edf8ea;\n",
       "  color: #000000;\n",
       "}\n",
       "#T_7a29c_row6_col1 {\n",
       "  background-color: #eff9eb;\n",
       "  color: #000000;\n",
       "}\n",
       "#T_7a29c_row7_col1 {\n",
       "  background-color: #f0f9ec;\n",
       "  color: #000000;\n",
       "}\n",
       "#T_7a29c_row8_col1 {\n",
       "  background-color: #f1faee;\n",
       "  color: #000000;\n",
       "}\n",
       "#T_7a29c_row9_col1 {\n",
       "  background-color: #f2faf0;\n",
       "  color: #000000;\n",
       "}\n",
       "#T_7a29c_row10_col1 {\n",
       "  background-color: #f3faf0;\n",
       "  color: #000000;\n",
       "}\n",
       "#T_7a29c_row11_col1 {\n",
       "  background-color: #f4fbf1;\n",
       "  color: #000000;\n",
       "}\n",
       "#T_7a29c_row12_col1, #T_7a29c_row13_col1 {\n",
       "  background-color: #f5fbf3;\n",
       "  color: #000000;\n",
       "}\n",
       "#T_7a29c_row14_col1, #T_7a29c_row15_col1, #T_7a29c_row16_col1 {\n",
       "  background-color: #f6fcf4;\n",
       "  color: #000000;\n",
       "}\n",
       "#T_7a29c_row17_col1, #T_7a29c_row18_col1, #T_7a29c_row19_col1 {\n",
       "  background-color: #f7fcf5;\n",
       "  color: #000000;\n",
       "}\n",
       "</style>\n",
       "<table id=\"T_7a29c_\">\n",
       "  <thead>\n",
       "    <tr>\n",
       "      <th class=\"blank level0\" >&nbsp;</th>\n",
       "      <th class=\"col_heading level0 col0\" >Top of Words</th>\n",
       "      <th class=\"col_heading level0 col1\" >Count</th>\n",
       "    </tr>\n",
       "  </thead>\n",
       "  <tbody>\n",
       "    <tr>\n",
       "      <th id=\"T_7a29c_level0_row0\" class=\"row_heading level0 row0\" >0</th>\n",
       "      <td id=\"T_7a29c_row0_col0\" class=\"data row0 col0\" >bulli</td>\n",
       "      <td id=\"T_7a29c_row0_col1\" class=\"data row0 col1\" >1130</td>\n",
       "    </tr>\n",
       "    <tr>\n",
       "      <th id=\"T_7a29c_level0_row1\" class=\"row_heading level0 row1\" >1</th>\n",
       "      <td id=\"T_7a29c_row1_col0\" class=\"data row1 col0\" >go</td>\n",
       "      <td id=\"T_7a29c_row1_col1\" class=\"data row1 col1\" >394</td>\n",
       "    </tr>\n",
       "    <tr>\n",
       "      <th id=\"T_7a29c_level0_row2\" class=\"row_heading level0 row2\" >2</th>\n",
       "      <td id=\"T_7a29c_row2_col0\" class=\"data row2 col0\" >school</td>\n",
       "      <td id=\"T_7a29c_row2_col1\" class=\"data row2 col1\" >374</td>\n",
       "    </tr>\n",
       "    <tr>\n",
       "      <th id=\"T_7a29c_level0_row3\" class=\"row_heading level0 row3\" >3</th>\n",
       "      <td id=\"T_7a29c_row3_col0\" class=\"data row3 col0\" >peopl</td>\n",
       "      <td id=\"T_7a29c_row3_col1\" class=\"data row3 col1\" >273</td>\n",
       "    </tr>\n",
       "    <tr>\n",
       "      <th id=\"T_7a29c_level0_row4\" class=\"row_heading level0 row4\" >4</th>\n",
       "      <td id=\"T_7a29c_row4_col0\" class=\"data row4 col0\" >one</td>\n",
       "      <td id=\"T_7a29c_row4_col1\" class=\"data row4 col1\" >269</td>\n",
       "    </tr>\n",
       "    <tr>\n",
       "      <th id=\"T_7a29c_level0_row5\" class=\"row_heading level0 row5\" >5</th>\n",
       "      <td id=\"T_7a29c_row5_col0\" class=\"data row5 col0\" >think</td>\n",
       "      <td id=\"T_7a29c_row5_col1\" class=\"data row5 col1\" >242</td>\n",
       "    </tr>\n",
       "    <tr>\n",
       "      <th id=\"T_7a29c_level0_row6\" class=\"row_heading level0 row6\" >6</th>\n",
       "      <td id=\"T_7a29c_row6_col0\" class=\"data row6 col0\" >know</td>\n",
       "      <td id=\"T_7a29c_row6_col1\" class=\"data row6 col1\" >237</td>\n",
       "    </tr>\n",
       "    <tr>\n",
       "      <th id=\"T_7a29c_level0_row7\" class=\"row_heading level0 row7\" >7</th>\n",
       "      <td id=\"T_7a29c_row7_col0\" class=\"data row7 col0\" >time</td>\n",
       "      <td id=\"T_7a29c_row7_col1\" class=\"data row7 col1\" >229</td>\n",
       "    </tr>\n",
       "    <tr>\n",
       "      <th id=\"T_7a29c_level0_row8\" class=\"row_heading level0 row8\" >8</th>\n",
       "      <td id=\"T_7a29c_row8_col0\" class=\"data row8 col0\" >make</td>\n",
       "      <td id=\"T_7a29c_row8_col1\" class=\"data row8 col1\" >220</td>\n",
       "    </tr>\n",
       "    <tr>\n",
       "      <th id=\"T_7a29c_level0_row9\" class=\"row_heading level0 row9\" >9</th>\n",
       "      <td id=\"T_7a29c_row9_col0\" class=\"data row9 col0\" >now</td>\n",
       "      <td id=\"T_7a29c_row9_col1\" class=\"data row9 col1\" >211</td>\n",
       "    </tr>\n",
       "    <tr>\n",
       "      <th id=\"T_7a29c_level0_row10\" class=\"row_heading level0 row10\" >10</th>\n",
       "      <td id=\"T_7a29c_row10_col0\" class=\"data row10 col0\" >love</td>\n",
       "      <td id=\"T_7a29c_row10_col1\" class=\"data row10 col1\" >205</td>\n",
       "    </tr>\n",
       "    <tr>\n",
       "      <th id=\"T_7a29c_level0_row11\" class=\"row_heading level0 row11\" >11</th>\n",
       "      <td id=\"T_7a29c_row11_col0\" class=\"data row11 col0\" >andr</td>\n",
       "      <td id=\"T_7a29c_row11_col1\" class=\"data row11 col1\" >203</td>\n",
       "    </tr>\n",
       "    <tr>\n",
       "      <th id=\"T_7a29c_level0_row12\" class=\"row_heading level0 row12\" >12</th>\n",
       "      <td id=\"T_7a29c_row12_col0\" class=\"data row12 col0\" >need</td>\n",
       "      <td id=\"T_7a29c_row12_col1\" class=\"data row12 col1\" >192</td>\n",
       "    </tr>\n",
       "    <tr>\n",
       "      <th id=\"T_7a29c_level0_row13\" class=\"row_heading level0 row13\" >13</th>\n",
       "      <td id=\"T_7a29c_row13_col0\" class=\"data row13 col0\" >woman</td>\n",
       "      <td id=\"T_7a29c_row13_col1\" class=\"data row13 col1\" >190</td>\n",
       "    </tr>\n",
       "    <tr>\n",
       "      <th id=\"T_7a29c_level0_row14\" class=\"row_heading level0 row14\" >14</th>\n",
       "      <td id=\"T_7a29c_row14_col0\" class=\"data row14 col0\" >fuck</td>\n",
       "      <td id=\"T_7a29c_row14_col1\" class=\"data row14 col1\" >189</td>\n",
       "    </tr>\n",
       "    <tr>\n",
       "      <th id=\"T_7a29c_level0_row15\" class=\"row_heading level0 row15\" >15</th>\n",
       "      <td id=\"T_7a29c_row15_col0\" class=\"data row15 col0\" >see</td>\n",
       "      <td id=\"T_7a29c_row15_col1\" class=\"data row15 col1\" >186</td>\n",
       "    </tr>\n",
       "    <tr>\n",
       "      <th id=\"T_7a29c_level0_row16\" class=\"row_heading level0 row16\" >16</th>\n",
       "      <td id=\"T_7a29c_row16_col0\" class=\"data row16 col0\" >want</td>\n",
       "      <td id=\"T_7a29c_row16_col1\" class=\"data row16 col1\" >183</td>\n",
       "    </tr>\n",
       "    <tr>\n",
       "      <th id=\"T_7a29c_level0_row17\" class=\"row_heading level0 row17\" >17</th>\n",
       "      <td id=\"T_7a29c_row17_col0\" class=\"data row17 col0\" >good</td>\n",
       "      <td id=\"T_7a29c_row17_col1\" class=\"data row17 col1\" >179</td>\n",
       "    </tr>\n",
       "    <tr>\n",
       "      <th id=\"T_7a29c_level0_row18\" class=\"row_heading level0 row18\" >18</th>\n",
       "      <td id=\"T_7a29c_row18_col0\" class=\"data row18 col0\" >look</td>\n",
       "      <td id=\"T_7a29c_row18_col1\" class=\"data row18 col1\" >178</td>\n",
       "    </tr>\n",
       "    <tr>\n",
       "      <th id=\"T_7a29c_level0_row19\" class=\"row_heading level0 row19\" >19</th>\n",
       "      <td id=\"T_7a29c_row19_col0\" class=\"data row19 col0\" >say</td>\n",
       "      <td id=\"T_7a29c_row19_col1\" class=\"data row19 col1\" >178</td>\n",
       "    </tr>\n",
       "  </tbody>\n",
       "</table>\n"
      ],
      "text/plain": [
       "<pandas.io.formats.style.Styler at 0x7f64c4000690>"
      ]
     },
     "execution_count": 12,
     "metadata": {},
     "output_type": "execute_result"
    }
   ],
   "source": [
    "#Top 20 Words in not cyberbullying Tweet\n",
    "top20 = Counter([item for sublist in not_cyberbullying_type['tweet_list'] for item in sublist])\n",
    "type_nc = pd.DataFrame(top20.most_common(20))\n",
    "type_nc.columns = ['Top of Words','Count']\n",
    "type_nc.style.background_gradient(cmap='Greens')"
   ]
  },
  {
   "cell_type": "code",
   "execution_count": 13,
   "id": "c5f18a69",
   "metadata": {
    "execution": {
     "iopub.execute_input": "2022-01-27T07:17:16.909856Z",
     "iopub.status.busy": "2022-01-27T07:17:16.909337Z",
     "iopub.status.idle": "2022-01-27T07:17:17.077071Z",
     "shell.execute_reply": "2022-01-27T07:17:17.077515Z",
     "shell.execute_reply.started": "2022-01-27T04:56:35.431946Z"
    },
    "papermill": {
     "duration": 0.21502,
     "end_time": "2022-01-27T07:17:17.077672",
     "exception": false,
     "start_time": "2022-01-27T07:17:16.862652",
     "status": "completed"
    },
    "tags": []
   },
   "outputs": [
    {
     "data": {
      "text/html": [
       "<div>                            <div id=\"b7e9b463-3a18-4528-9b81-c5c3491e50ac\" class=\"plotly-graph-div\" style=\"height:700px; width:700px;\"></div>            <script type=\"text/javascript\">                require([\"plotly\"], function(Plotly) {                    window.PLOTLYENV=window.PLOTLYENV || {};                                    if (document.getElementById(\"b7e9b463-3a18-4528-9b81-c5c3491e50ac\")) {                    Plotly.newPlot(                        \"b7e9b463-3a18-4528-9b81-c5c3491e50ac\",                        [{\"alignmentgroup\":\"True\",\"hovertemplate\":\"Top of Words=%{y}<br>Count=%{x}<extra></extra>\",\"legendgroup\":\"bulli\",\"marker\":{\"color\":\"#636efa\",\"pattern\":{\"shape\":\"\"}},\"name\":\"bulli\",\"offsetgroup\":\"bulli\",\"orientation\":\"h\",\"showlegend\":true,\"textposition\":\"auto\",\"x\":[1130],\"xaxis\":\"x\",\"y\":[\"bulli\"],\"yaxis\":\"y\",\"type\":\"bar\"},{\"alignmentgroup\":\"True\",\"hovertemplate\":\"Top of Words=%{y}<br>Count=%{x}<extra></extra>\",\"legendgroup\":\"go\",\"marker\":{\"color\":\"#EF553B\",\"pattern\":{\"shape\":\"\"}},\"name\":\"go\",\"offsetgroup\":\"go\",\"orientation\":\"h\",\"showlegend\":true,\"textposition\":\"auto\",\"x\":[394],\"xaxis\":\"x\",\"y\":[\"go\"],\"yaxis\":\"y\",\"type\":\"bar\"},{\"alignmentgroup\":\"True\",\"hovertemplate\":\"Top of Words=%{y}<br>Count=%{x}<extra></extra>\",\"legendgroup\":\"school\",\"marker\":{\"color\":\"#00cc96\",\"pattern\":{\"shape\":\"\"}},\"name\":\"school\",\"offsetgroup\":\"school\",\"orientation\":\"h\",\"showlegend\":true,\"textposition\":\"auto\",\"x\":[374],\"xaxis\":\"x\",\"y\":[\"school\"],\"yaxis\":\"y\",\"type\":\"bar\"},{\"alignmentgroup\":\"True\",\"hovertemplate\":\"Top of Words=%{y}<br>Count=%{x}<extra></extra>\",\"legendgroup\":\"peopl\",\"marker\":{\"color\":\"#ab63fa\",\"pattern\":{\"shape\":\"\"}},\"name\":\"peopl\",\"offsetgroup\":\"peopl\",\"orientation\":\"h\",\"showlegend\":true,\"textposition\":\"auto\",\"x\":[273],\"xaxis\":\"x\",\"y\":[\"peopl\"],\"yaxis\":\"y\",\"type\":\"bar\"},{\"alignmentgroup\":\"True\",\"hovertemplate\":\"Top of Words=%{y}<br>Count=%{x}<extra></extra>\",\"legendgroup\":\"one\",\"marker\":{\"color\":\"#FFA15A\",\"pattern\":{\"shape\":\"\"}},\"name\":\"one\",\"offsetgroup\":\"one\",\"orientation\":\"h\",\"showlegend\":true,\"textposition\":\"auto\",\"x\":[269],\"xaxis\":\"x\",\"y\":[\"one\"],\"yaxis\":\"y\",\"type\":\"bar\"},{\"alignmentgroup\":\"True\",\"hovertemplate\":\"Top of Words=%{y}<br>Count=%{x}<extra></extra>\",\"legendgroup\":\"think\",\"marker\":{\"color\":\"#19d3f3\",\"pattern\":{\"shape\":\"\"}},\"name\":\"think\",\"offsetgroup\":\"think\",\"orientation\":\"h\",\"showlegend\":true,\"textposition\":\"auto\",\"x\":[242],\"xaxis\":\"x\",\"y\":[\"think\"],\"yaxis\":\"y\",\"type\":\"bar\"},{\"alignmentgroup\":\"True\",\"hovertemplate\":\"Top of Words=%{y}<br>Count=%{x}<extra></extra>\",\"legendgroup\":\"know\",\"marker\":{\"color\":\"#FF6692\",\"pattern\":{\"shape\":\"\"}},\"name\":\"know\",\"offsetgroup\":\"know\",\"orientation\":\"h\",\"showlegend\":true,\"textposition\":\"auto\",\"x\":[237],\"xaxis\":\"x\",\"y\":[\"know\"],\"yaxis\":\"y\",\"type\":\"bar\"},{\"alignmentgroup\":\"True\",\"hovertemplate\":\"Top of Words=%{y}<br>Count=%{x}<extra></extra>\",\"legendgroup\":\"time\",\"marker\":{\"color\":\"#B6E880\",\"pattern\":{\"shape\":\"\"}},\"name\":\"time\",\"offsetgroup\":\"time\",\"orientation\":\"h\",\"showlegend\":true,\"textposition\":\"auto\",\"x\":[229],\"xaxis\":\"x\",\"y\":[\"time\"],\"yaxis\":\"y\",\"type\":\"bar\"},{\"alignmentgroup\":\"True\",\"hovertemplate\":\"Top of Words=%{y}<br>Count=%{x}<extra></extra>\",\"legendgroup\":\"make\",\"marker\":{\"color\":\"#FF97FF\",\"pattern\":{\"shape\":\"\"}},\"name\":\"make\",\"offsetgroup\":\"make\",\"orientation\":\"h\",\"showlegend\":true,\"textposition\":\"auto\",\"x\":[220],\"xaxis\":\"x\",\"y\":[\"make\"],\"yaxis\":\"y\",\"type\":\"bar\"},{\"alignmentgroup\":\"True\",\"hovertemplate\":\"Top of Words=%{y}<br>Count=%{x}<extra></extra>\",\"legendgroup\":\"now\",\"marker\":{\"color\":\"#FECB52\",\"pattern\":{\"shape\":\"\"}},\"name\":\"now\",\"offsetgroup\":\"now\",\"orientation\":\"h\",\"showlegend\":true,\"textposition\":\"auto\",\"x\":[211],\"xaxis\":\"x\",\"y\":[\"now\"],\"yaxis\":\"y\",\"type\":\"bar\"},{\"alignmentgroup\":\"True\",\"hovertemplate\":\"Top of Words=%{y}<br>Count=%{x}<extra></extra>\",\"legendgroup\":\"love\",\"marker\":{\"color\":\"#636efa\",\"pattern\":{\"shape\":\"\"}},\"name\":\"love\",\"offsetgroup\":\"love\",\"orientation\":\"h\",\"showlegend\":true,\"textposition\":\"auto\",\"x\":[205],\"xaxis\":\"x\",\"y\":[\"love\"],\"yaxis\":\"y\",\"type\":\"bar\"},{\"alignmentgroup\":\"True\",\"hovertemplate\":\"Top of Words=%{y}<br>Count=%{x}<extra></extra>\",\"legendgroup\":\"andr\",\"marker\":{\"color\":\"#EF553B\",\"pattern\":{\"shape\":\"\"}},\"name\":\"andr\",\"offsetgroup\":\"andr\",\"orientation\":\"h\",\"showlegend\":true,\"textposition\":\"auto\",\"x\":[203],\"xaxis\":\"x\",\"y\":[\"andr\"],\"yaxis\":\"y\",\"type\":\"bar\"},{\"alignmentgroup\":\"True\",\"hovertemplate\":\"Top of Words=%{y}<br>Count=%{x}<extra></extra>\",\"legendgroup\":\"need\",\"marker\":{\"color\":\"#00cc96\",\"pattern\":{\"shape\":\"\"}},\"name\":\"need\",\"offsetgroup\":\"need\",\"orientation\":\"h\",\"showlegend\":true,\"textposition\":\"auto\",\"x\":[192],\"xaxis\":\"x\",\"y\":[\"need\"],\"yaxis\":\"y\",\"type\":\"bar\"},{\"alignmentgroup\":\"True\",\"hovertemplate\":\"Top of Words=%{y}<br>Count=%{x}<extra></extra>\",\"legendgroup\":\"woman\",\"marker\":{\"color\":\"#ab63fa\",\"pattern\":{\"shape\":\"\"}},\"name\":\"woman\",\"offsetgroup\":\"woman\",\"orientation\":\"h\",\"showlegend\":true,\"textposition\":\"auto\",\"x\":[190],\"xaxis\":\"x\",\"y\":[\"woman\"],\"yaxis\":\"y\",\"type\":\"bar\"},{\"alignmentgroup\":\"True\",\"hovertemplate\":\"Top of Words=%{y}<br>Count=%{x}<extra></extra>\",\"legendgroup\":\"fuck\",\"marker\":{\"color\":\"#FFA15A\",\"pattern\":{\"shape\":\"\"}},\"name\":\"fuck\",\"offsetgroup\":\"fuck\",\"orientation\":\"h\",\"showlegend\":true,\"textposition\":\"auto\",\"x\":[189],\"xaxis\":\"x\",\"y\":[\"fuck\"],\"yaxis\":\"y\",\"type\":\"bar\"},{\"alignmentgroup\":\"True\",\"hovertemplate\":\"Top of Words=%{y}<br>Count=%{x}<extra></extra>\",\"legendgroup\":\"see\",\"marker\":{\"color\":\"#19d3f3\",\"pattern\":{\"shape\":\"\"}},\"name\":\"see\",\"offsetgroup\":\"see\",\"orientation\":\"h\",\"showlegend\":true,\"textposition\":\"auto\",\"x\":[186],\"xaxis\":\"x\",\"y\":[\"see\"],\"yaxis\":\"y\",\"type\":\"bar\"},{\"alignmentgroup\":\"True\",\"hovertemplate\":\"Top of Words=%{y}<br>Count=%{x}<extra></extra>\",\"legendgroup\":\"want\",\"marker\":{\"color\":\"#FF6692\",\"pattern\":{\"shape\":\"\"}},\"name\":\"want\",\"offsetgroup\":\"want\",\"orientation\":\"h\",\"showlegend\":true,\"textposition\":\"auto\",\"x\":[183],\"xaxis\":\"x\",\"y\":[\"want\"],\"yaxis\":\"y\",\"type\":\"bar\"},{\"alignmentgroup\":\"True\",\"hovertemplate\":\"Top of Words=%{y}<br>Count=%{x}<extra></extra>\",\"legendgroup\":\"good\",\"marker\":{\"color\":\"#B6E880\",\"pattern\":{\"shape\":\"\"}},\"name\":\"good\",\"offsetgroup\":\"good\",\"orientation\":\"h\",\"showlegend\":true,\"textposition\":\"auto\",\"x\":[179],\"xaxis\":\"x\",\"y\":[\"good\"],\"yaxis\":\"y\",\"type\":\"bar\"},{\"alignmentgroup\":\"True\",\"hovertemplate\":\"Top of Words=%{y}<br>Count=%{x}<extra></extra>\",\"legendgroup\":\"look\",\"marker\":{\"color\":\"#FF97FF\",\"pattern\":{\"shape\":\"\"}},\"name\":\"look\",\"offsetgroup\":\"look\",\"orientation\":\"h\",\"showlegend\":true,\"textposition\":\"auto\",\"x\":[178],\"xaxis\":\"x\",\"y\":[\"look\"],\"yaxis\":\"y\",\"type\":\"bar\"},{\"alignmentgroup\":\"True\",\"hovertemplate\":\"Top of Words=%{y}<br>Count=%{x}<extra></extra>\",\"legendgroup\":\"say\",\"marker\":{\"color\":\"#FECB52\",\"pattern\":{\"shape\":\"\"}},\"name\":\"say\",\"offsetgroup\":\"say\",\"orientation\":\"h\",\"showlegend\":true,\"textposition\":\"auto\",\"x\":[178],\"xaxis\":\"x\",\"y\":[\"say\"],\"yaxis\":\"y\",\"type\":\"bar\"}],                        {\"template\":{\"data\":{\"bar\":[{\"error_x\":{\"color\":\"#2a3f5f\"},\"error_y\":{\"color\":\"#2a3f5f\"},\"marker\":{\"line\":{\"color\":\"#E5ECF6\",\"width\":0.5},\"pattern\":{\"fillmode\":\"overlay\",\"size\":10,\"solidity\":0.2}},\"type\":\"bar\"}],\"barpolar\":[{\"marker\":{\"line\":{\"color\":\"#E5ECF6\",\"width\":0.5},\"pattern\":{\"fillmode\":\"overlay\",\"size\":10,\"solidity\":0.2}},\"type\":\"barpolar\"}],\"carpet\":[{\"aaxis\":{\"endlinecolor\":\"#2a3f5f\",\"gridcolor\":\"white\",\"linecolor\":\"white\",\"minorgridcolor\":\"white\",\"startlinecolor\":\"#2a3f5f\"},\"baxis\":{\"endlinecolor\":\"#2a3f5f\",\"gridcolor\":\"white\",\"linecolor\":\"white\",\"minorgridcolor\":\"white\",\"startlinecolor\":\"#2a3f5f\"},\"type\":\"carpet\"}],\"choropleth\":[{\"colorbar\":{\"outlinewidth\":0,\"ticks\":\"\"},\"type\":\"choropleth\"}],\"contour\":[{\"colorbar\":{\"outlinewidth\":0,\"ticks\":\"\"},\"colorscale\":[[0.0,\"#0d0887\"],[0.1111111111111111,\"#46039f\"],[0.2222222222222222,\"#7201a8\"],[0.3333333333333333,\"#9c179e\"],[0.4444444444444444,\"#bd3786\"],[0.5555555555555556,\"#d8576b\"],[0.6666666666666666,\"#ed7953\"],[0.7777777777777778,\"#fb9f3a\"],[0.8888888888888888,\"#fdca26\"],[1.0,\"#f0f921\"]],\"type\":\"contour\"}],\"contourcarpet\":[{\"colorbar\":{\"outlinewidth\":0,\"ticks\":\"\"},\"type\":\"contourcarpet\"}],\"heatmap\":[{\"colorbar\":{\"outlinewidth\":0,\"ticks\":\"\"},\"colorscale\":[[0.0,\"#0d0887\"],[0.1111111111111111,\"#46039f\"],[0.2222222222222222,\"#7201a8\"],[0.3333333333333333,\"#9c179e\"],[0.4444444444444444,\"#bd3786\"],[0.5555555555555556,\"#d8576b\"],[0.6666666666666666,\"#ed7953\"],[0.7777777777777778,\"#fb9f3a\"],[0.8888888888888888,\"#fdca26\"],[1.0,\"#f0f921\"]],\"type\":\"heatmap\"}],\"heatmapgl\":[{\"colorbar\":{\"outlinewidth\":0,\"ticks\":\"\"},\"colorscale\":[[0.0,\"#0d0887\"],[0.1111111111111111,\"#46039f\"],[0.2222222222222222,\"#7201a8\"],[0.3333333333333333,\"#9c179e\"],[0.4444444444444444,\"#bd3786\"],[0.5555555555555556,\"#d8576b\"],[0.6666666666666666,\"#ed7953\"],[0.7777777777777778,\"#fb9f3a\"],[0.8888888888888888,\"#fdca26\"],[1.0,\"#f0f921\"]],\"type\":\"heatmapgl\"}],\"histogram\":[{\"marker\":{\"pattern\":{\"fillmode\":\"overlay\",\"size\":10,\"solidity\":0.2}},\"type\":\"histogram\"}],\"histogram2d\":[{\"colorbar\":{\"outlinewidth\":0,\"ticks\":\"\"},\"colorscale\":[[0.0,\"#0d0887\"],[0.1111111111111111,\"#46039f\"],[0.2222222222222222,\"#7201a8\"],[0.3333333333333333,\"#9c179e\"],[0.4444444444444444,\"#bd3786\"],[0.5555555555555556,\"#d8576b\"],[0.6666666666666666,\"#ed7953\"],[0.7777777777777778,\"#fb9f3a\"],[0.8888888888888888,\"#fdca26\"],[1.0,\"#f0f921\"]],\"type\":\"histogram2d\"}],\"histogram2dcontour\":[{\"colorbar\":{\"outlinewidth\":0,\"ticks\":\"\"},\"colorscale\":[[0.0,\"#0d0887\"],[0.1111111111111111,\"#46039f\"],[0.2222222222222222,\"#7201a8\"],[0.3333333333333333,\"#9c179e\"],[0.4444444444444444,\"#bd3786\"],[0.5555555555555556,\"#d8576b\"],[0.6666666666666666,\"#ed7953\"],[0.7777777777777778,\"#fb9f3a\"],[0.8888888888888888,\"#fdca26\"],[1.0,\"#f0f921\"]],\"type\":\"histogram2dcontour\"}],\"mesh3d\":[{\"colorbar\":{\"outlinewidth\":0,\"ticks\":\"\"},\"type\":\"mesh3d\"}],\"parcoords\":[{\"line\":{\"colorbar\":{\"outlinewidth\":0,\"ticks\":\"\"}},\"type\":\"parcoords\"}],\"pie\":[{\"automargin\":true,\"type\":\"pie\"}],\"scatter\":[{\"marker\":{\"colorbar\":{\"outlinewidth\":0,\"ticks\":\"\"}},\"type\":\"scatter\"}],\"scatter3d\":[{\"line\":{\"colorbar\":{\"outlinewidth\":0,\"ticks\":\"\"}},\"marker\":{\"colorbar\":{\"outlinewidth\":0,\"ticks\":\"\"}},\"type\":\"scatter3d\"}],\"scattercarpet\":[{\"marker\":{\"colorbar\":{\"outlinewidth\":0,\"ticks\":\"\"}},\"type\":\"scattercarpet\"}],\"scattergeo\":[{\"marker\":{\"colorbar\":{\"outlinewidth\":0,\"ticks\":\"\"}},\"type\":\"scattergeo\"}],\"scattergl\":[{\"marker\":{\"colorbar\":{\"outlinewidth\":0,\"ticks\":\"\"}},\"type\":\"scattergl\"}],\"scattermapbox\":[{\"marker\":{\"colorbar\":{\"outlinewidth\":0,\"ticks\":\"\"}},\"type\":\"scattermapbox\"}],\"scatterpolar\":[{\"marker\":{\"colorbar\":{\"outlinewidth\":0,\"ticks\":\"\"}},\"type\":\"scatterpolar\"}],\"scatterpolargl\":[{\"marker\":{\"colorbar\":{\"outlinewidth\":0,\"ticks\":\"\"}},\"type\":\"scatterpolargl\"}],\"scatterternary\":[{\"marker\":{\"colorbar\":{\"outlinewidth\":0,\"ticks\":\"\"}},\"type\":\"scatterternary\"}],\"surface\":[{\"colorbar\":{\"outlinewidth\":0,\"ticks\":\"\"},\"colorscale\":[[0.0,\"#0d0887\"],[0.1111111111111111,\"#46039f\"],[0.2222222222222222,\"#7201a8\"],[0.3333333333333333,\"#9c179e\"],[0.4444444444444444,\"#bd3786\"],[0.5555555555555556,\"#d8576b\"],[0.6666666666666666,\"#ed7953\"],[0.7777777777777778,\"#fb9f3a\"],[0.8888888888888888,\"#fdca26\"],[1.0,\"#f0f921\"]],\"type\":\"surface\"}],\"table\":[{\"cells\":{\"fill\":{\"color\":\"#EBF0F8\"},\"line\":{\"color\":\"white\"}},\"header\":{\"fill\":{\"color\":\"#C8D4E3\"},\"line\":{\"color\":\"white\"}},\"type\":\"table\"}]},\"layout\":{\"annotationdefaults\":{\"arrowcolor\":\"#2a3f5f\",\"arrowhead\":0,\"arrowwidth\":1},\"autotypenumbers\":\"strict\",\"coloraxis\":{\"colorbar\":{\"outlinewidth\":0,\"ticks\":\"\"}},\"colorscale\":{\"diverging\":[[0,\"#8e0152\"],[0.1,\"#c51b7d\"],[0.2,\"#de77ae\"],[0.3,\"#f1b6da\"],[0.4,\"#fde0ef\"],[0.5,\"#f7f7f7\"],[0.6,\"#e6f5d0\"],[0.7,\"#b8e186\"],[0.8,\"#7fbc41\"],[0.9,\"#4d9221\"],[1,\"#276419\"]],\"sequential\":[[0.0,\"#0d0887\"],[0.1111111111111111,\"#46039f\"],[0.2222222222222222,\"#7201a8\"],[0.3333333333333333,\"#9c179e\"],[0.4444444444444444,\"#bd3786\"],[0.5555555555555556,\"#d8576b\"],[0.6666666666666666,\"#ed7953\"],[0.7777777777777778,\"#fb9f3a\"],[0.8888888888888888,\"#fdca26\"],[1.0,\"#f0f921\"]],\"sequentialminus\":[[0.0,\"#0d0887\"],[0.1111111111111111,\"#46039f\"],[0.2222222222222222,\"#7201a8\"],[0.3333333333333333,\"#9c179e\"],[0.4444444444444444,\"#bd3786\"],[0.5555555555555556,\"#d8576b\"],[0.6666666666666666,\"#ed7953\"],[0.7777777777777778,\"#fb9f3a\"],[0.8888888888888888,\"#fdca26\"],[1.0,\"#f0f921\"]]},\"colorway\":[\"#636efa\",\"#EF553B\",\"#00cc96\",\"#ab63fa\",\"#FFA15A\",\"#19d3f3\",\"#FF6692\",\"#B6E880\",\"#FF97FF\",\"#FECB52\"],\"font\":{\"color\":\"#2a3f5f\"},\"geo\":{\"bgcolor\":\"white\",\"lakecolor\":\"white\",\"landcolor\":\"#E5ECF6\",\"showlakes\":true,\"showland\":true,\"subunitcolor\":\"white\"},\"hoverlabel\":{\"align\":\"left\"},\"hovermode\":\"closest\",\"mapbox\":{\"style\":\"light\"},\"paper_bgcolor\":\"white\",\"plot_bgcolor\":\"#E5ECF6\",\"polar\":{\"angularaxis\":{\"gridcolor\":\"white\",\"linecolor\":\"white\",\"ticks\":\"\"},\"bgcolor\":\"#E5ECF6\",\"radialaxis\":{\"gridcolor\":\"white\",\"linecolor\":\"white\",\"ticks\":\"\"}},\"scene\":{\"xaxis\":{\"backgroundcolor\":\"#E5ECF6\",\"gridcolor\":\"white\",\"gridwidth\":2,\"linecolor\":\"white\",\"showbackground\":true,\"ticks\":\"\",\"zerolinecolor\":\"white\"},\"yaxis\":{\"backgroundcolor\":\"#E5ECF6\",\"gridcolor\":\"white\",\"gridwidth\":2,\"linecolor\":\"white\",\"showbackground\":true,\"ticks\":\"\",\"zerolinecolor\":\"white\"},\"zaxis\":{\"backgroundcolor\":\"#E5ECF6\",\"gridcolor\":\"white\",\"gridwidth\":2,\"linecolor\":\"white\",\"showbackground\":true,\"ticks\":\"\",\"zerolinecolor\":\"white\"}},\"shapedefaults\":{\"line\":{\"color\":\"#2a3f5f\"}},\"ternary\":{\"aaxis\":{\"gridcolor\":\"white\",\"linecolor\":\"white\",\"ticks\":\"\"},\"baxis\":{\"gridcolor\":\"white\",\"linecolor\":\"white\",\"ticks\":\"\"},\"bgcolor\":\"#E5ECF6\",\"caxis\":{\"gridcolor\":\"white\",\"linecolor\":\"white\",\"ticks\":\"\"}},\"title\":{\"x\":0.05},\"xaxis\":{\"automargin\":true,\"gridcolor\":\"white\",\"linecolor\":\"white\",\"ticks\":\"\",\"title\":{\"standoff\":15},\"zerolinecolor\":\"white\",\"zerolinewidth\":2},\"yaxis\":{\"automargin\":true,\"gridcolor\":\"white\",\"linecolor\":\"white\",\"ticks\":\"\",\"title\":{\"standoff\":15},\"zerolinecolor\":\"white\",\"zerolinewidth\":2}}},\"xaxis\":{\"anchor\":\"y\",\"domain\":[0.0,1.0],\"title\":{\"text\":\"Count\"}},\"yaxis\":{\"anchor\":\"x\",\"domain\":[0.0,1.0],\"title\":{\"text\":\"Top of Words\"},\"categoryorder\":\"array\",\"categoryarray\":[\"say\",\"look\",\"good\",\"want\",\"see\",\"fuck\",\"woman\",\"need\",\"andr\",\"love\",\"now\",\"make\",\"time\",\"know\",\"think\",\"one\",\"peopl\",\"school\",\"go\",\"bulli\"]},\"legend\":{\"title\":{\"text\":\"Top of Words\"},\"tracegroupgap\":0},\"title\":{\"text\":\"Top 20 Words in not cyberbullying Tweet\"},\"barmode\":\"relative\",\"height\":700,\"width\":700},                        {\"responsive\": true}                    ).then(function(){\n",
       "                            \n",
       "var gd = document.getElementById('b7e9b463-3a18-4528-9b81-c5c3491e50ac');\n",
       "var x = new MutationObserver(function (mutations, observer) {{\n",
       "        var display = window.getComputedStyle(gd).display;\n",
       "        if (!display || display === 'none') {{\n",
       "            console.log([gd, 'removed!']);\n",
       "            Plotly.purge(gd);\n",
       "            observer.disconnect();\n",
       "        }}\n",
       "}});\n",
       "\n",
       "// Listen for the removal of the full notebook cells\n",
       "var notebookContainer = gd.closest('#notebook-container');\n",
       "if (notebookContainer) {{\n",
       "    x.observe(notebookContainer, {childList: true});\n",
       "}}\n",
       "\n",
       "// Listen for the clearing of the current output cell\n",
       "var outputEl = gd.closest('.output');\n",
       "if (outputEl) {{\n",
       "    x.observe(outputEl, {childList: true});\n",
       "}}\n",
       "\n",
       "                        })                };                });            </script>        </div>"
      ]
     },
     "metadata": {},
     "output_type": "display_data"
    }
   ],
   "source": [
    "nc_fig = px.bar(type_nc, x=\"Count\", y=\"Top of Words\", title='Top 20 Words in not cyberbullying Tweet', orientation='h', \n",
    "             width=700, height=700,color='Top of Words')\n",
    "nc_fig.show()"
   ]
  },
  {
   "cell_type": "code",
   "execution_count": 14,
   "id": "852b82e3",
   "metadata": {
    "execution": {
     "iopub.execute_input": "2022-01-27T07:17:17.167978Z",
     "iopub.status.busy": "2022-01-27T07:17:17.167503Z",
     "iopub.status.idle": "2022-01-27T07:17:17.212349Z",
     "shell.execute_reply": "2022-01-27T07:17:17.211883Z",
     "shell.execute_reply.started": "2022-01-27T04:56:35.562279Z"
    },
    "papermill": {
     "duration": 0.091538,
     "end_time": "2022-01-27T07:17:17.212467",
     "exception": false,
     "start_time": "2022-01-27T07:17:17.120929",
     "status": "completed"
    },
    "tags": []
   },
   "outputs": [
    {
     "data": {
      "text/html": [
       "<style type=\"text/css\">\n",
       "#T_78c98_row0_col1 {\n",
       "  background-color: #00441b;\n",
       "  color: #f1f1f1;\n",
       "}\n",
       "#T_78c98_row1_col1 {\n",
       "  background-color: #17813d;\n",
       "  color: #f1f1f1;\n",
       "}\n",
       "#T_78c98_row2_col1 {\n",
       "  background-color: #248c46;\n",
       "  color: #f1f1f1;\n",
       "}\n",
       "#T_78c98_row3_col1 {\n",
       "  background-color: #d0edca;\n",
       "  color: #000000;\n",
       "}\n",
       "#T_78c98_row4_col1 {\n",
       "  background-color: #d6efd0;\n",
       "  color: #000000;\n",
       "}\n",
       "#T_78c98_row5_col1 {\n",
       "  background-color: #dbf1d5;\n",
       "  color: #000000;\n",
       "}\n",
       "#T_78c98_row6_col1 {\n",
       "  background-color: #dcf2d7;\n",
       "  color: #000000;\n",
       "}\n",
       "#T_78c98_row7_col1 {\n",
       "  background-color: #ddf2d8;\n",
       "  color: #000000;\n",
       "}\n",
       "#T_78c98_row8_col1 {\n",
       "  background-color: #e4f5df;\n",
       "  color: #000000;\n",
       "}\n",
       "#T_78c98_row9_col1 {\n",
       "  background-color: #e5f5e1;\n",
       "  color: #000000;\n",
       "}\n",
       "#T_78c98_row10_col1 {\n",
       "  background-color: #eff9eb;\n",
       "  color: #000000;\n",
       "}\n",
       "#T_78c98_row11_col1 {\n",
       "  background-color: #f0f9ed;\n",
       "  color: #000000;\n",
       "}\n",
       "#T_78c98_row12_col1, #T_78c98_row13_col1 {\n",
       "  background-color: #f1faee;\n",
       "  color: #000000;\n",
       "}\n",
       "#T_78c98_row14_col1 {\n",
       "  background-color: #f2faef;\n",
       "  color: #000000;\n",
       "}\n",
       "#T_78c98_row15_col1, #T_78c98_row16_col1, #T_78c98_row17_col1 {\n",
       "  background-color: #f5fbf3;\n",
       "  color: #000000;\n",
       "}\n",
       "#T_78c98_row18_col1 {\n",
       "  background-color: #f6fcf4;\n",
       "  color: #000000;\n",
       "}\n",
       "#T_78c98_row19_col1 {\n",
       "  background-color: #f7fcf5;\n",
       "  color: #000000;\n",
       "}\n",
       "</style>\n",
       "<table id=\"T_78c98_\">\n",
       "  <thead>\n",
       "    <tr>\n",
       "      <th class=\"blank level0\" >&nbsp;</th>\n",
       "      <th class=\"col_heading level0 col0\" >Top of Words</th>\n",
       "      <th class=\"col_heading level0 col1\" >Count</th>\n",
       "    </tr>\n",
       "  </thead>\n",
       "  <tbody>\n",
       "    <tr>\n",
       "      <th id=\"T_78c98_level0_row0\" class=\"row_heading level0 row0\" >0</th>\n",
       "      <td id=\"T_78c98_row0_col0\" class=\"data row0 col0\" >joke</td>\n",
       "      <td id=\"T_78c98_row0_col1\" class=\"data row0 col1\" >5227</td>\n",
       "    </tr>\n",
       "    <tr>\n",
       "      <th id=\"T_78c98_level0_row1\" class=\"row_heading level0 row1\" >1</th>\n",
       "      <td id=\"T_78c98_row1_col0\" class=\"data row1 col0\" >rape</td>\n",
       "      <td id=\"T_78c98_row1_col1\" class=\"data row1 col1\" >4214</td>\n",
       "    </tr>\n",
       "    <tr>\n",
       "      <th id=\"T_78c98_level0_row2\" class=\"row_heading level0 row2\" >2</th>\n",
       "      <td id=\"T_78c98_row2_col0\" class=\"data row2 col0\" >gay</td>\n",
       "      <td id=\"T_78c98_row2_col1\" class=\"data row2 col1\" >3988</td>\n",
       "    </tr>\n",
       "    <tr>\n",
       "      <th id=\"T_78c98_level0_row3\" class=\"row_heading level0 row3\" >3</th>\n",
       "      <td id=\"T_78c98_row3_col0\" class=\"data row3 col0\" >call</td>\n",
       "      <td id=\"T_78c98_row3_col1\" class=\"data row3 col1\" >1411</td>\n",
       "    </tr>\n",
       "    <tr>\n",
       "      <th id=\"T_78c98_level0_row4\" class=\"row_heading level0 row4\" >4</th>\n",
       "      <td id=\"T_78c98_row4_col0\" class=\"data row4 col0\" >make</td>\n",
       "      <td id=\"T_78c98_row4_col1\" class=\"data row4 col1\" >1288</td>\n",
       "    </tr>\n",
       "    <tr>\n",
       "      <th id=\"T_78c98_level0_row5\" class=\"row_heading level0 row5\" >5</th>\n",
       "      <td id=\"T_78c98_row5_col0\" class=\"data row5 col0\" >woman</td>\n",
       "      <td id=\"T_78c98_row5_col1\" class=\"data row5 col1\" >1203</td>\n",
       "    </tr>\n",
       "    <tr>\n",
       "      <th id=\"T_78c98_level0_row6\" class=\"row_heading level0 row6\" >6</th>\n",
       "      <td id=\"T_78c98_row6_col0\" class=\"data row6 col0\" >bitch</td>\n",
       "      <td id=\"T_78c98_row6_col1\" class=\"data row6 col1\" >1160</td>\n",
       "    </tr>\n",
       "    <tr>\n",
       "      <th id=\"T_78c98_level0_row7\" class=\"row_heading level0 row7\" >7</th>\n",
       "      <td id=\"T_78c98_row7_col0\" class=\"data row7 col0\" >femal</td>\n",
       "      <td id=\"T_78c98_row7_col1\" class=\"data row7 col1\" >1133</td>\n",
       "    </tr>\n",
       "    <tr>\n",
       "      <th id=\"T_78c98_level0_row8\" class=\"row_heading level0 row8\" >8</th>\n",
       "      <td id=\"T_78c98_row8_col0\" class=\"data row8 col0\" >peopl</td>\n",
       "      <td id=\"T_78c98_row8_col1\" class=\"data row8 col1\" >1001</td>\n",
       "    </tr>\n",
       "    <tr>\n",
       "      <th id=\"T_78c98_level0_row9\" class=\"row_heading level0 row9\" >9</th>\n",
       "      <td id=\"T_78c98_row9_col0\" class=\"data row9 col0\" >sexist</td>\n",
       "      <td id=\"T_78c98_row9_col1\" class=\"data row9 col1\" >973</td>\n",
       "    </tr>\n",
       "    <tr>\n",
       "      <th id=\"T_78c98_level0_row10\" class=\"row_heading level0 row10\" >10</th>\n",
       "      <td id=\"T_78c98_row10_col0\" class=\"data row10 col0\" >funni</td>\n",
       "      <td id=\"T_78c98_row10_col1\" class=\"data row10 col1\" >666</td>\n",
       "    </tr>\n",
       "    <tr>\n",
       "      <th id=\"T_78c98_level0_row11\" class=\"row_heading level0 row11\" >11</th>\n",
       "      <td id=\"T_78c98_row11_col0\" class=\"data row11 col0\" >men</td>\n",
       "      <td id=\"T_78c98_row11_col1\" class=\"data row11 col1\" >617</td>\n",
       "    </tr>\n",
       "    <tr>\n",
       "      <th id=\"T_78c98_level0_row12\" class=\"row_heading level0 row12\" >12</th>\n",
       "      <td id=\"T_78c98_row12_col0\" class=\"data row12 col0\" >think</td>\n",
       "      <td id=\"T_78c98_row12_col1\" class=\"data row12 col1\" >600</td>\n",
       "    </tr>\n",
       "    <tr>\n",
       "      <th id=\"T_78c98_level0_row13\" class=\"row_heading level0 row13\" >13</th>\n",
       "      <td id=\"T_78c98_row13_col0\" class=\"data row13 col0\" >say</td>\n",
       "      <td id=\"T_78c98_row13_col1\" class=\"data row13 col1\" >598</td>\n",
       "    </tr>\n",
       "    <tr>\n",
       "      <th id=\"T_78c98_level0_row14\" class=\"row_heading level0 row14\" >14</th>\n",
       "      <td id=\"T_78c98_row14_col0\" class=\"data row14 col0\" >fuck</td>\n",
       "      <td id=\"T_78c98_row14_col1\" class=\"data row14 col1\" >552</td>\n",
       "    </tr>\n",
       "    <tr>\n",
       "      <th id=\"T_78c98_level0_row15\" class=\"row_heading level0 row15\" >15</th>\n",
       "      <td id=\"T_78c98_row15_col0\" class=\"data row15 col0\" >use</td>\n",
       "      <td id=\"T_78c98_row15_col1\" class=\"data row15 col1\" >443</td>\n",
       "    </tr>\n",
       "    <tr>\n",
       "      <th id=\"T_78c98_level0_row16\" class=\"row_heading level0 row16\" >16</th>\n",
       "      <td id=\"T_78c98_row16_col0\" class=\"data row16 col0\" >girl</td>\n",
       "      <td id=\"T_78c98_row16_col1\" class=\"data row16 col1\" >439</td>\n",
       "    </tr>\n",
       "    <tr>\n",
       "      <th id=\"T_78c98_level0_row17\" class=\"row_heading level0 row17\" >17</th>\n",
       "      <td id=\"T_78c98_row17_col0\" class=\"data row17 col0\" >one</td>\n",
       "      <td id=\"T_78c98_row17_col1\" class=\"data row17 col1\" >434</td>\n",
       "    </tr>\n",
       "    <tr>\n",
       "      <th id=\"T_78c98_level0_row18\" class=\"row_heading level0 row18\" >18</th>\n",
       "      <td id=\"T_78c98_row18_col0\" class=\"data row18 col0\" >man</td>\n",
       "      <td id=\"T_78c98_row18_col1\" class=\"data row18 col1\" >398</td>\n",
       "    </tr>\n",
       "    <tr>\n",
       "      <th id=\"T_78c98_level0_row19\" class=\"row_heading level0 row19\" >19</th>\n",
       "      <td id=\"T_78c98_row19_col0\" class=\"data row19 col0\" >made</td>\n",
       "      <td id=\"T_78c98_row19_col1\" class=\"data row19 col1\" >374</td>\n",
       "    </tr>\n",
       "  </tbody>\n",
       "</table>\n"
      ],
      "text/plain": [
       "<pandas.io.formats.style.Styler at 0x7f64c40153d0>"
      ]
     },
     "execution_count": 14,
     "metadata": {},
     "output_type": "execute_result"
    }
   ],
   "source": [
    "#Top 20 Words in Gender cyberbullying Tweet\n",
    "top20_gender = Counter([item for sublist in gender_type['tweet_list'] for item in sublist])\n",
    "type_g = pd.DataFrame(top20_gender.most_common(20))\n",
    "type_g.columns = ['Top of Words','Count']\n",
    "type_g.style.background_gradient(cmap='Greens')"
   ]
  },
  {
   "cell_type": "code",
   "execution_count": 15,
   "id": "1ab92429",
   "metadata": {
    "execution": {
     "iopub.execute_input": "2022-01-27T07:17:17.404059Z",
     "iopub.status.busy": "2022-01-27T07:17:17.309783Z",
     "iopub.status.idle": "2022-01-27T07:17:17.469875Z",
     "shell.execute_reply": "2022-01-27T07:17:17.469407Z",
     "shell.execute_reply.started": "2022-01-27T04:56:35.597396Z"
    },
    "papermill": {
     "duration": 0.214184,
     "end_time": "2022-01-27T07:17:17.469996",
     "exception": false,
     "start_time": "2022-01-27T07:17:17.255812",
     "status": "completed"
    },
    "tags": []
   },
   "outputs": [
    {
     "data": {
      "text/html": [
       "<div>                            <div id=\"970ca2af-76bc-4007-9f18-e1f3475e9022\" class=\"plotly-graph-div\" style=\"height:700px; width:700px;\"></div>            <script type=\"text/javascript\">                require([\"plotly\"], function(Plotly) {                    window.PLOTLYENV=window.PLOTLYENV || {};                                    if (document.getElementById(\"970ca2af-76bc-4007-9f18-e1f3475e9022\")) {                    Plotly.newPlot(                        \"970ca2af-76bc-4007-9f18-e1f3475e9022\",                        [{\"alignmentgroup\":\"True\",\"hovertemplate\":\"Top of Words=%{y}<br>Count=%{x}<extra></extra>\",\"legendgroup\":\"joke\",\"marker\":{\"color\":\"#636efa\",\"pattern\":{\"shape\":\"\"}},\"name\":\"joke\",\"offsetgroup\":\"joke\",\"orientation\":\"h\",\"showlegend\":true,\"textposition\":\"auto\",\"x\":[5227],\"xaxis\":\"x\",\"y\":[\"joke\"],\"yaxis\":\"y\",\"type\":\"bar\"},{\"alignmentgroup\":\"True\",\"hovertemplate\":\"Top of Words=%{y}<br>Count=%{x}<extra></extra>\",\"legendgroup\":\"rape\",\"marker\":{\"color\":\"#EF553B\",\"pattern\":{\"shape\":\"\"}},\"name\":\"rape\",\"offsetgroup\":\"rape\",\"orientation\":\"h\",\"showlegend\":true,\"textposition\":\"auto\",\"x\":[4214],\"xaxis\":\"x\",\"y\":[\"rape\"],\"yaxis\":\"y\",\"type\":\"bar\"},{\"alignmentgroup\":\"True\",\"hovertemplate\":\"Top of Words=%{y}<br>Count=%{x}<extra></extra>\",\"legendgroup\":\"gay\",\"marker\":{\"color\":\"#00cc96\",\"pattern\":{\"shape\":\"\"}},\"name\":\"gay\",\"offsetgroup\":\"gay\",\"orientation\":\"h\",\"showlegend\":true,\"textposition\":\"auto\",\"x\":[3988],\"xaxis\":\"x\",\"y\":[\"gay\"],\"yaxis\":\"y\",\"type\":\"bar\"},{\"alignmentgroup\":\"True\",\"hovertemplate\":\"Top of Words=%{y}<br>Count=%{x}<extra></extra>\",\"legendgroup\":\"call\",\"marker\":{\"color\":\"#ab63fa\",\"pattern\":{\"shape\":\"\"}},\"name\":\"call\",\"offsetgroup\":\"call\",\"orientation\":\"h\",\"showlegend\":true,\"textposition\":\"auto\",\"x\":[1411],\"xaxis\":\"x\",\"y\":[\"call\"],\"yaxis\":\"y\",\"type\":\"bar\"},{\"alignmentgroup\":\"True\",\"hovertemplate\":\"Top of Words=%{y}<br>Count=%{x}<extra></extra>\",\"legendgroup\":\"make\",\"marker\":{\"color\":\"#FFA15A\",\"pattern\":{\"shape\":\"\"}},\"name\":\"make\",\"offsetgroup\":\"make\",\"orientation\":\"h\",\"showlegend\":true,\"textposition\":\"auto\",\"x\":[1288],\"xaxis\":\"x\",\"y\":[\"make\"],\"yaxis\":\"y\",\"type\":\"bar\"},{\"alignmentgroup\":\"True\",\"hovertemplate\":\"Top of Words=%{y}<br>Count=%{x}<extra></extra>\",\"legendgroup\":\"woman\",\"marker\":{\"color\":\"#19d3f3\",\"pattern\":{\"shape\":\"\"}},\"name\":\"woman\",\"offsetgroup\":\"woman\",\"orientation\":\"h\",\"showlegend\":true,\"textposition\":\"auto\",\"x\":[1203],\"xaxis\":\"x\",\"y\":[\"woman\"],\"yaxis\":\"y\",\"type\":\"bar\"},{\"alignmentgroup\":\"True\",\"hovertemplate\":\"Top of Words=%{y}<br>Count=%{x}<extra></extra>\",\"legendgroup\":\"bitch\",\"marker\":{\"color\":\"#FF6692\",\"pattern\":{\"shape\":\"\"}},\"name\":\"bitch\",\"offsetgroup\":\"bitch\",\"orientation\":\"h\",\"showlegend\":true,\"textposition\":\"auto\",\"x\":[1160],\"xaxis\":\"x\",\"y\":[\"bitch\"],\"yaxis\":\"y\",\"type\":\"bar\"},{\"alignmentgroup\":\"True\",\"hovertemplate\":\"Top of Words=%{y}<br>Count=%{x}<extra></extra>\",\"legendgroup\":\"femal\",\"marker\":{\"color\":\"#B6E880\",\"pattern\":{\"shape\":\"\"}},\"name\":\"femal\",\"offsetgroup\":\"femal\",\"orientation\":\"h\",\"showlegend\":true,\"textposition\":\"auto\",\"x\":[1133],\"xaxis\":\"x\",\"y\":[\"femal\"],\"yaxis\":\"y\",\"type\":\"bar\"},{\"alignmentgroup\":\"True\",\"hovertemplate\":\"Top of Words=%{y}<br>Count=%{x}<extra></extra>\",\"legendgroup\":\"peopl\",\"marker\":{\"color\":\"#FF97FF\",\"pattern\":{\"shape\":\"\"}},\"name\":\"peopl\",\"offsetgroup\":\"peopl\",\"orientation\":\"h\",\"showlegend\":true,\"textposition\":\"auto\",\"x\":[1001],\"xaxis\":\"x\",\"y\":[\"peopl\"],\"yaxis\":\"y\",\"type\":\"bar\"},{\"alignmentgroup\":\"True\",\"hovertemplate\":\"Top of Words=%{y}<br>Count=%{x}<extra></extra>\",\"legendgroup\":\"sexist\",\"marker\":{\"color\":\"#FECB52\",\"pattern\":{\"shape\":\"\"}},\"name\":\"sexist\",\"offsetgroup\":\"sexist\",\"orientation\":\"h\",\"showlegend\":true,\"textposition\":\"auto\",\"x\":[973],\"xaxis\":\"x\",\"y\":[\"sexist\"],\"yaxis\":\"y\",\"type\":\"bar\"},{\"alignmentgroup\":\"True\",\"hovertemplate\":\"Top of Words=%{y}<br>Count=%{x}<extra></extra>\",\"legendgroup\":\"funni\",\"marker\":{\"color\":\"#636efa\",\"pattern\":{\"shape\":\"\"}},\"name\":\"funni\",\"offsetgroup\":\"funni\",\"orientation\":\"h\",\"showlegend\":true,\"textposition\":\"auto\",\"x\":[666],\"xaxis\":\"x\",\"y\":[\"funni\"],\"yaxis\":\"y\",\"type\":\"bar\"},{\"alignmentgroup\":\"True\",\"hovertemplate\":\"Top of Words=%{y}<br>Count=%{x}<extra></extra>\",\"legendgroup\":\"men\",\"marker\":{\"color\":\"#EF553B\",\"pattern\":{\"shape\":\"\"}},\"name\":\"men\",\"offsetgroup\":\"men\",\"orientation\":\"h\",\"showlegend\":true,\"textposition\":\"auto\",\"x\":[617],\"xaxis\":\"x\",\"y\":[\"men\"],\"yaxis\":\"y\",\"type\":\"bar\"},{\"alignmentgroup\":\"True\",\"hovertemplate\":\"Top of Words=%{y}<br>Count=%{x}<extra></extra>\",\"legendgroup\":\"think\",\"marker\":{\"color\":\"#00cc96\",\"pattern\":{\"shape\":\"\"}},\"name\":\"think\",\"offsetgroup\":\"think\",\"orientation\":\"h\",\"showlegend\":true,\"textposition\":\"auto\",\"x\":[600],\"xaxis\":\"x\",\"y\":[\"think\"],\"yaxis\":\"y\",\"type\":\"bar\"},{\"alignmentgroup\":\"True\",\"hovertemplate\":\"Top of Words=%{y}<br>Count=%{x}<extra></extra>\",\"legendgroup\":\"say\",\"marker\":{\"color\":\"#ab63fa\",\"pattern\":{\"shape\":\"\"}},\"name\":\"say\",\"offsetgroup\":\"say\",\"orientation\":\"h\",\"showlegend\":true,\"textposition\":\"auto\",\"x\":[598],\"xaxis\":\"x\",\"y\":[\"say\"],\"yaxis\":\"y\",\"type\":\"bar\"},{\"alignmentgroup\":\"True\",\"hovertemplate\":\"Top of Words=%{y}<br>Count=%{x}<extra></extra>\",\"legendgroup\":\"fuck\",\"marker\":{\"color\":\"#FFA15A\",\"pattern\":{\"shape\":\"\"}},\"name\":\"fuck\",\"offsetgroup\":\"fuck\",\"orientation\":\"h\",\"showlegend\":true,\"textposition\":\"auto\",\"x\":[552],\"xaxis\":\"x\",\"y\":[\"fuck\"],\"yaxis\":\"y\",\"type\":\"bar\"},{\"alignmentgroup\":\"True\",\"hovertemplate\":\"Top of Words=%{y}<br>Count=%{x}<extra></extra>\",\"legendgroup\":\"use\",\"marker\":{\"color\":\"#19d3f3\",\"pattern\":{\"shape\":\"\"}},\"name\":\"use\",\"offsetgroup\":\"use\",\"orientation\":\"h\",\"showlegend\":true,\"textposition\":\"auto\",\"x\":[443],\"xaxis\":\"x\",\"y\":[\"use\"],\"yaxis\":\"y\",\"type\":\"bar\"},{\"alignmentgroup\":\"True\",\"hovertemplate\":\"Top of Words=%{y}<br>Count=%{x}<extra></extra>\",\"legendgroup\":\"girl\",\"marker\":{\"color\":\"#FF6692\",\"pattern\":{\"shape\":\"\"}},\"name\":\"girl\",\"offsetgroup\":\"girl\",\"orientation\":\"h\",\"showlegend\":true,\"textposition\":\"auto\",\"x\":[439],\"xaxis\":\"x\",\"y\":[\"girl\"],\"yaxis\":\"y\",\"type\":\"bar\"},{\"alignmentgroup\":\"True\",\"hovertemplate\":\"Top of Words=%{y}<br>Count=%{x}<extra></extra>\",\"legendgroup\":\"one\",\"marker\":{\"color\":\"#B6E880\",\"pattern\":{\"shape\":\"\"}},\"name\":\"one\",\"offsetgroup\":\"one\",\"orientation\":\"h\",\"showlegend\":true,\"textposition\":\"auto\",\"x\":[434],\"xaxis\":\"x\",\"y\":[\"one\"],\"yaxis\":\"y\",\"type\":\"bar\"},{\"alignmentgroup\":\"True\",\"hovertemplate\":\"Top of Words=%{y}<br>Count=%{x}<extra></extra>\",\"legendgroup\":\"man\",\"marker\":{\"color\":\"#FF97FF\",\"pattern\":{\"shape\":\"\"}},\"name\":\"man\",\"offsetgroup\":\"man\",\"orientation\":\"h\",\"showlegend\":true,\"textposition\":\"auto\",\"x\":[398],\"xaxis\":\"x\",\"y\":[\"man\"],\"yaxis\":\"y\",\"type\":\"bar\"},{\"alignmentgroup\":\"True\",\"hovertemplate\":\"Top of Words=%{y}<br>Count=%{x}<extra></extra>\",\"legendgroup\":\"made\",\"marker\":{\"color\":\"#FECB52\",\"pattern\":{\"shape\":\"\"}},\"name\":\"made\",\"offsetgroup\":\"made\",\"orientation\":\"h\",\"showlegend\":true,\"textposition\":\"auto\",\"x\":[374],\"xaxis\":\"x\",\"y\":[\"made\"],\"yaxis\":\"y\",\"type\":\"bar\"}],                        {\"template\":{\"data\":{\"bar\":[{\"error_x\":{\"color\":\"#2a3f5f\"},\"error_y\":{\"color\":\"#2a3f5f\"},\"marker\":{\"line\":{\"color\":\"#E5ECF6\",\"width\":0.5},\"pattern\":{\"fillmode\":\"overlay\",\"size\":10,\"solidity\":0.2}},\"type\":\"bar\"}],\"barpolar\":[{\"marker\":{\"line\":{\"color\":\"#E5ECF6\",\"width\":0.5},\"pattern\":{\"fillmode\":\"overlay\",\"size\":10,\"solidity\":0.2}},\"type\":\"barpolar\"}],\"carpet\":[{\"aaxis\":{\"endlinecolor\":\"#2a3f5f\",\"gridcolor\":\"white\",\"linecolor\":\"white\",\"minorgridcolor\":\"white\",\"startlinecolor\":\"#2a3f5f\"},\"baxis\":{\"endlinecolor\":\"#2a3f5f\",\"gridcolor\":\"white\",\"linecolor\":\"white\",\"minorgridcolor\":\"white\",\"startlinecolor\":\"#2a3f5f\"},\"type\":\"carpet\"}],\"choropleth\":[{\"colorbar\":{\"outlinewidth\":0,\"ticks\":\"\"},\"type\":\"choropleth\"}],\"contour\":[{\"colorbar\":{\"outlinewidth\":0,\"ticks\":\"\"},\"colorscale\":[[0.0,\"#0d0887\"],[0.1111111111111111,\"#46039f\"],[0.2222222222222222,\"#7201a8\"],[0.3333333333333333,\"#9c179e\"],[0.4444444444444444,\"#bd3786\"],[0.5555555555555556,\"#d8576b\"],[0.6666666666666666,\"#ed7953\"],[0.7777777777777778,\"#fb9f3a\"],[0.8888888888888888,\"#fdca26\"],[1.0,\"#f0f921\"]],\"type\":\"contour\"}],\"contourcarpet\":[{\"colorbar\":{\"outlinewidth\":0,\"ticks\":\"\"},\"type\":\"contourcarpet\"}],\"heatmap\":[{\"colorbar\":{\"outlinewidth\":0,\"ticks\":\"\"},\"colorscale\":[[0.0,\"#0d0887\"],[0.1111111111111111,\"#46039f\"],[0.2222222222222222,\"#7201a8\"],[0.3333333333333333,\"#9c179e\"],[0.4444444444444444,\"#bd3786\"],[0.5555555555555556,\"#d8576b\"],[0.6666666666666666,\"#ed7953\"],[0.7777777777777778,\"#fb9f3a\"],[0.8888888888888888,\"#fdca26\"],[1.0,\"#f0f921\"]],\"type\":\"heatmap\"}],\"heatmapgl\":[{\"colorbar\":{\"outlinewidth\":0,\"ticks\":\"\"},\"colorscale\":[[0.0,\"#0d0887\"],[0.1111111111111111,\"#46039f\"],[0.2222222222222222,\"#7201a8\"],[0.3333333333333333,\"#9c179e\"],[0.4444444444444444,\"#bd3786\"],[0.5555555555555556,\"#d8576b\"],[0.6666666666666666,\"#ed7953\"],[0.7777777777777778,\"#fb9f3a\"],[0.8888888888888888,\"#fdca26\"],[1.0,\"#f0f921\"]],\"type\":\"heatmapgl\"}],\"histogram\":[{\"marker\":{\"pattern\":{\"fillmode\":\"overlay\",\"size\":10,\"solidity\":0.2}},\"type\":\"histogram\"}],\"histogram2d\":[{\"colorbar\":{\"outlinewidth\":0,\"ticks\":\"\"},\"colorscale\":[[0.0,\"#0d0887\"],[0.1111111111111111,\"#46039f\"],[0.2222222222222222,\"#7201a8\"],[0.3333333333333333,\"#9c179e\"],[0.4444444444444444,\"#bd3786\"],[0.5555555555555556,\"#d8576b\"],[0.6666666666666666,\"#ed7953\"],[0.7777777777777778,\"#fb9f3a\"],[0.8888888888888888,\"#fdca26\"],[1.0,\"#f0f921\"]],\"type\":\"histogram2d\"}],\"histogram2dcontour\":[{\"colorbar\":{\"outlinewidth\":0,\"ticks\":\"\"},\"colorscale\":[[0.0,\"#0d0887\"],[0.1111111111111111,\"#46039f\"],[0.2222222222222222,\"#7201a8\"],[0.3333333333333333,\"#9c179e\"],[0.4444444444444444,\"#bd3786\"],[0.5555555555555556,\"#d8576b\"],[0.6666666666666666,\"#ed7953\"],[0.7777777777777778,\"#fb9f3a\"],[0.8888888888888888,\"#fdca26\"],[1.0,\"#f0f921\"]],\"type\":\"histogram2dcontour\"}],\"mesh3d\":[{\"colorbar\":{\"outlinewidth\":0,\"ticks\":\"\"},\"type\":\"mesh3d\"}],\"parcoords\":[{\"line\":{\"colorbar\":{\"outlinewidth\":0,\"ticks\":\"\"}},\"type\":\"parcoords\"}],\"pie\":[{\"automargin\":true,\"type\":\"pie\"}],\"scatter\":[{\"marker\":{\"colorbar\":{\"outlinewidth\":0,\"ticks\":\"\"}},\"type\":\"scatter\"}],\"scatter3d\":[{\"line\":{\"colorbar\":{\"outlinewidth\":0,\"ticks\":\"\"}},\"marker\":{\"colorbar\":{\"outlinewidth\":0,\"ticks\":\"\"}},\"type\":\"scatter3d\"}],\"scattercarpet\":[{\"marker\":{\"colorbar\":{\"outlinewidth\":0,\"ticks\":\"\"}},\"type\":\"scattercarpet\"}],\"scattergeo\":[{\"marker\":{\"colorbar\":{\"outlinewidth\":0,\"ticks\":\"\"}},\"type\":\"scattergeo\"}],\"scattergl\":[{\"marker\":{\"colorbar\":{\"outlinewidth\":0,\"ticks\":\"\"}},\"type\":\"scattergl\"}],\"scattermapbox\":[{\"marker\":{\"colorbar\":{\"outlinewidth\":0,\"ticks\":\"\"}},\"type\":\"scattermapbox\"}],\"scatterpolar\":[{\"marker\":{\"colorbar\":{\"outlinewidth\":0,\"ticks\":\"\"}},\"type\":\"scatterpolar\"}],\"scatterpolargl\":[{\"marker\":{\"colorbar\":{\"outlinewidth\":0,\"ticks\":\"\"}},\"type\":\"scatterpolargl\"}],\"scatterternary\":[{\"marker\":{\"colorbar\":{\"outlinewidth\":0,\"ticks\":\"\"}},\"type\":\"scatterternary\"}],\"surface\":[{\"colorbar\":{\"outlinewidth\":0,\"ticks\":\"\"},\"colorscale\":[[0.0,\"#0d0887\"],[0.1111111111111111,\"#46039f\"],[0.2222222222222222,\"#7201a8\"],[0.3333333333333333,\"#9c179e\"],[0.4444444444444444,\"#bd3786\"],[0.5555555555555556,\"#d8576b\"],[0.6666666666666666,\"#ed7953\"],[0.7777777777777778,\"#fb9f3a\"],[0.8888888888888888,\"#fdca26\"],[1.0,\"#f0f921\"]],\"type\":\"surface\"}],\"table\":[{\"cells\":{\"fill\":{\"color\":\"#EBF0F8\"},\"line\":{\"color\":\"white\"}},\"header\":{\"fill\":{\"color\":\"#C8D4E3\"},\"line\":{\"color\":\"white\"}},\"type\":\"table\"}]},\"layout\":{\"annotationdefaults\":{\"arrowcolor\":\"#2a3f5f\",\"arrowhead\":0,\"arrowwidth\":1},\"autotypenumbers\":\"strict\",\"coloraxis\":{\"colorbar\":{\"outlinewidth\":0,\"ticks\":\"\"}},\"colorscale\":{\"diverging\":[[0,\"#8e0152\"],[0.1,\"#c51b7d\"],[0.2,\"#de77ae\"],[0.3,\"#f1b6da\"],[0.4,\"#fde0ef\"],[0.5,\"#f7f7f7\"],[0.6,\"#e6f5d0\"],[0.7,\"#b8e186\"],[0.8,\"#7fbc41\"],[0.9,\"#4d9221\"],[1,\"#276419\"]],\"sequential\":[[0.0,\"#0d0887\"],[0.1111111111111111,\"#46039f\"],[0.2222222222222222,\"#7201a8\"],[0.3333333333333333,\"#9c179e\"],[0.4444444444444444,\"#bd3786\"],[0.5555555555555556,\"#d8576b\"],[0.6666666666666666,\"#ed7953\"],[0.7777777777777778,\"#fb9f3a\"],[0.8888888888888888,\"#fdca26\"],[1.0,\"#f0f921\"]],\"sequentialminus\":[[0.0,\"#0d0887\"],[0.1111111111111111,\"#46039f\"],[0.2222222222222222,\"#7201a8\"],[0.3333333333333333,\"#9c179e\"],[0.4444444444444444,\"#bd3786\"],[0.5555555555555556,\"#d8576b\"],[0.6666666666666666,\"#ed7953\"],[0.7777777777777778,\"#fb9f3a\"],[0.8888888888888888,\"#fdca26\"],[1.0,\"#f0f921\"]]},\"colorway\":[\"#636efa\",\"#EF553B\",\"#00cc96\",\"#ab63fa\",\"#FFA15A\",\"#19d3f3\",\"#FF6692\",\"#B6E880\",\"#FF97FF\",\"#FECB52\"],\"font\":{\"color\":\"#2a3f5f\"},\"geo\":{\"bgcolor\":\"white\",\"lakecolor\":\"white\",\"landcolor\":\"#E5ECF6\",\"showlakes\":true,\"showland\":true,\"subunitcolor\":\"white\"},\"hoverlabel\":{\"align\":\"left\"},\"hovermode\":\"closest\",\"mapbox\":{\"style\":\"light\"},\"paper_bgcolor\":\"white\",\"plot_bgcolor\":\"#E5ECF6\",\"polar\":{\"angularaxis\":{\"gridcolor\":\"white\",\"linecolor\":\"white\",\"ticks\":\"\"},\"bgcolor\":\"#E5ECF6\",\"radialaxis\":{\"gridcolor\":\"white\",\"linecolor\":\"white\",\"ticks\":\"\"}},\"scene\":{\"xaxis\":{\"backgroundcolor\":\"#E5ECF6\",\"gridcolor\":\"white\",\"gridwidth\":2,\"linecolor\":\"white\",\"showbackground\":true,\"ticks\":\"\",\"zerolinecolor\":\"white\"},\"yaxis\":{\"backgroundcolor\":\"#E5ECF6\",\"gridcolor\":\"white\",\"gridwidth\":2,\"linecolor\":\"white\",\"showbackground\":true,\"ticks\":\"\",\"zerolinecolor\":\"white\"},\"zaxis\":{\"backgroundcolor\":\"#E5ECF6\",\"gridcolor\":\"white\",\"gridwidth\":2,\"linecolor\":\"white\",\"showbackground\":true,\"ticks\":\"\",\"zerolinecolor\":\"white\"}},\"shapedefaults\":{\"line\":{\"color\":\"#2a3f5f\"}},\"ternary\":{\"aaxis\":{\"gridcolor\":\"white\",\"linecolor\":\"white\",\"ticks\":\"\"},\"baxis\":{\"gridcolor\":\"white\",\"linecolor\":\"white\",\"ticks\":\"\"},\"bgcolor\":\"#E5ECF6\",\"caxis\":{\"gridcolor\":\"white\",\"linecolor\":\"white\",\"ticks\":\"\"}},\"title\":{\"x\":0.05},\"xaxis\":{\"automargin\":true,\"gridcolor\":\"white\",\"linecolor\":\"white\",\"ticks\":\"\",\"title\":{\"standoff\":15},\"zerolinecolor\":\"white\",\"zerolinewidth\":2},\"yaxis\":{\"automargin\":true,\"gridcolor\":\"white\",\"linecolor\":\"white\",\"ticks\":\"\",\"title\":{\"standoff\":15},\"zerolinecolor\":\"white\",\"zerolinewidth\":2}}},\"xaxis\":{\"anchor\":\"y\",\"domain\":[0.0,1.0],\"title\":{\"text\":\"Count\"}},\"yaxis\":{\"anchor\":\"x\",\"domain\":[0.0,1.0],\"title\":{\"text\":\"Top of Words\"},\"categoryorder\":\"array\",\"categoryarray\":[\"made\",\"man\",\"one\",\"girl\",\"use\",\"fuck\",\"say\",\"think\",\"men\",\"funni\",\"sexist\",\"peopl\",\"femal\",\"bitch\",\"woman\",\"make\",\"call\",\"gay\",\"rape\",\"joke\"]},\"legend\":{\"title\":{\"text\":\"Top of Words\"},\"tracegroupgap\":0},\"title\":{\"text\":\"Top 20 Words in Gender Cyberbullying Tweet\"},\"barmode\":\"relative\",\"height\":700,\"width\":700},                        {\"responsive\": true}                    ).then(function(){\n",
       "                            \n",
       "var gd = document.getElementById('970ca2af-76bc-4007-9f18-e1f3475e9022');\n",
       "var x = new MutationObserver(function (mutations, observer) {{\n",
       "        var display = window.getComputedStyle(gd).display;\n",
       "        if (!display || display === 'none') {{\n",
       "            console.log([gd, 'removed!']);\n",
       "            Plotly.purge(gd);\n",
       "            observer.disconnect();\n",
       "        }}\n",
       "}});\n",
       "\n",
       "// Listen for the removal of the full notebook cells\n",
       "var notebookContainer = gd.closest('#notebook-container');\n",
       "if (notebookContainer) {{\n",
       "    x.observe(notebookContainer, {childList: true});\n",
       "}}\n",
       "\n",
       "// Listen for the clearing of the current output cell\n",
       "var outputEl = gd.closest('.output');\n",
       "if (outputEl) {{\n",
       "    x.observe(outputEl, {childList: true});\n",
       "}}\n",
       "\n",
       "                        })                };                });            </script>        </div>"
      ]
     },
     "metadata": {},
     "output_type": "display_data"
    }
   ],
   "source": [
    "g_fig = px.bar(type_g, x=\"Count\", y=\"Top of Words\", title='Top 20 Words in Gender Cyberbullying Tweet', orientation='h', \n",
    "             width=700, height=700,color='Top of Words')\n",
    "g_fig.show()"
   ]
  },
  {
   "cell_type": "code",
   "execution_count": 16,
   "id": "88f90a76",
   "metadata": {
    "execution": {
     "iopub.execute_input": "2022-01-27T07:17:17.599376Z",
     "iopub.status.busy": "2022-01-27T07:17:17.575903Z",
     "iopub.status.idle": "2022-01-27T07:17:17.621787Z",
     "shell.execute_reply": "2022-01-27T07:17:17.621192Z",
     "shell.execute_reply.started": "2022-01-27T04:56:35.727443Z"
    },
    "papermill": {
     "duration": 0.107196,
     "end_time": "2022-01-27T07:17:17.621932",
     "exception": false,
     "start_time": "2022-01-27T07:17:17.514736",
     "status": "completed"
    },
    "tags": []
   },
   "outputs": [
    {
     "data": {
      "text/html": [
       "<style type=\"text/css\">\n",
       "#T_dfe4b_row0_col1 {\n",
       "  background-color: #00441b;\n",
       "  color: #f1f1f1;\n",
       "}\n",
       "#T_dfe4b_row1_col1 {\n",
       "  background-color: #4db163;\n",
       "  color: #f1f1f1;\n",
       "}\n",
       "#T_dfe4b_row2_col1 {\n",
       "  background-color: #92d28f;\n",
       "  color: #000000;\n",
       "}\n",
       "#T_dfe4b_row3_col1 {\n",
       "  background-color: #a3da9d;\n",
       "  color: #000000;\n",
       "}\n",
       "#T_dfe4b_row4_col1 {\n",
       "  background-color: #d7efd1;\n",
       "  color: #000000;\n",
       "}\n",
       "#T_dfe4b_row5_col1 {\n",
       "  background-color: #dbf1d5;\n",
       "  color: #000000;\n",
       "}\n",
       "#T_dfe4b_row6_col1, #T_dfe4b_row7_col1 {\n",
       "  background-color: #dff3da;\n",
       "  color: #000000;\n",
       "}\n",
       "#T_dfe4b_row8_col1 {\n",
       "  background-color: #e0f3db;\n",
       "  color: #000000;\n",
       "}\n",
       "#T_dfe4b_row9_col1 {\n",
       "  background-color: #e7f6e2;\n",
       "  color: #000000;\n",
       "}\n",
       "#T_dfe4b_row10_col1 {\n",
       "  background-color: #e7f6e3;\n",
       "  color: #000000;\n",
       "}\n",
       "#T_dfe4b_row11_col1, #T_dfe4b_row12_col1 {\n",
       "  background-color: #f1faee;\n",
       "  color: #000000;\n",
       "}\n",
       "#T_dfe4b_row13_col1 {\n",
       "  background-color: #f2faf0;\n",
       "  color: #000000;\n",
       "}\n",
       "#T_dfe4b_row14_col1 {\n",
       "  background-color: #f3faf0;\n",
       "  color: #000000;\n",
       "}\n",
       "#T_dfe4b_row15_col1 {\n",
       "  background-color: #f4fbf2;\n",
       "  color: #000000;\n",
       "}\n",
       "#T_dfe4b_row16_col1 {\n",
       "  background-color: #f6fcf4;\n",
       "  color: #000000;\n",
       "}\n",
       "#T_dfe4b_row17_col1, #T_dfe4b_row18_col1, #T_dfe4b_row19_col1 {\n",
       "  background-color: #f7fcf5;\n",
       "  color: #000000;\n",
       "}\n",
       "</style>\n",
       "<table id=\"T_dfe4b_\">\n",
       "  <thead>\n",
       "    <tr>\n",
       "      <th class=\"blank level0\" >&nbsp;</th>\n",
       "      <th class=\"col_heading level0 col0\" >Top of Words</th>\n",
       "      <th class=\"col_heading level0 col1\" >Count</th>\n",
       "    </tr>\n",
       "  </thead>\n",
       "  <tbody>\n",
       "    <tr>\n",
       "      <th id=\"T_dfe4b_level0_row0\" class=\"row_heading level0 row0\" >0</th>\n",
       "      <td id=\"T_dfe4b_row0_col0\" class=\"data row0 col0\" >muslim</td>\n",
       "      <td id=\"T_dfe4b_row0_col1\" class=\"data row0 col1\" >4802</td>\n",
       "    </tr>\n",
       "    <tr>\n",
       "      <th id=\"T_dfe4b_level0_row1\" class=\"row_heading level0 row1\" >1</th>\n",
       "      <td id=\"T_dfe4b_row1_col0\" class=\"data row1 col0\" >idiot</td>\n",
       "      <td id=\"T_dfe4b_row1_col1\" class=\"data row1 col1\" >3109</td>\n",
       "    </tr>\n",
       "    <tr>\n",
       "      <th id=\"T_dfe4b_level0_row2\" class=\"row_heading level0 row2\" >2</th>\n",
       "      <td id=\"T_dfe4b_row2_col0\" class=\"data row2 col0\" >islam</td>\n",
       "      <td id=\"T_dfe4b_row2_col1\" class=\"data row2 col1\" >2363</td>\n",
       "    </tr>\n",
       "    <tr>\n",
       "      <th id=\"T_dfe4b_level0_row3\" class=\"row_heading level0 row3\" >3</th>\n",
       "      <td id=\"T_dfe4b_row3_col0\" class=\"data row3 col0\" >christian</td>\n",
       "      <td id=\"T_dfe4b_row3_col1\" class=\"data row3 col1\" >2164</td>\n",
       "    </tr>\n",
       "    <tr>\n",
       "      <th id=\"T_dfe4b_level0_row4\" class=\"row_heading level0 row4\" >4</th>\n",
       "      <td id=\"T_dfe4b_row4_col0\" class=\"data row4 col0\" >terrorist</td>\n",
       "      <td id=\"T_dfe4b_row4_col1\" class=\"data row4 col1\" >1400</td>\n",
       "    </tr>\n",
       "    <tr>\n",
       "      <th id=\"T_dfe4b_level0_row5\" class=\"row_heading level0 row5\" >5</th>\n",
       "      <td id=\"T_dfe4b_row5_col0\" class=\"data row5 col0\" >right</td>\n",
       "      <td id=\"T_dfe4b_row5_col1\" class=\"data row5 col1\" >1332</td>\n",
       "    </tr>\n",
       "    <tr>\n",
       "      <th id=\"T_dfe4b_level0_row6\" class=\"row_heading level0 row6\" >6</th>\n",
       "      <td id=\"T_dfe4b_row6_col0\" class=\"data row6 col0\" >woman</td>\n",
       "      <td id=\"T_dfe4b_row6_col1\" class=\"data row6 col1\" >1263</td>\n",
       "    </tr>\n",
       "    <tr>\n",
       "      <th id=\"T_dfe4b_level0_row7\" class=\"row_heading level0 row7\" >7</th>\n",
       "      <td id=\"T_dfe4b_row7_col0\" class=\"data row7 col0\" >support</td>\n",
       "      <td id=\"T_dfe4b_row7_col1\" class=\"data row7 col1\" >1259</td>\n",
       "    </tr>\n",
       "    <tr>\n",
       "      <th id=\"T_dfe4b_level0_row8\" class=\"row_heading level0 row8\" >8</th>\n",
       "      <td id=\"T_dfe4b_row8_col0\" class=\"data row8 col0\" >terror</td>\n",
       "      <td id=\"T_dfe4b_row8_col1\" class=\"data row8 col1\" >1241</td>\n",
       "    </tr>\n",
       "    <tr>\n",
       "      <th id=\"T_dfe4b_level0_row9\" class=\"row_heading level0 row9\" >9</th>\n",
       "      <td id=\"T_dfe4b_row9_col0\" class=\"data row9 col0\" >radic</td>\n",
       "      <td id=\"T_dfe4b_row9_col1\" class=\"data row9 col1\" >1118</td>\n",
       "    </tr>\n",
       "    <tr>\n",
       "      <th id=\"T_dfe4b_level0_row10\" class=\"row_heading level0 row10\" >10</th>\n",
       "      <td id=\"T_dfe4b_row10_col0\" class=\"data row10 col0\" >peopl</td>\n",
       "      <td id=\"T_dfe4b_row10_col1\" class=\"data row10 col1\" >1089</td>\n",
       "    </tr>\n",
       "    <tr>\n",
       "      <th id=\"T_dfe4b_level0_row11\" class=\"row_heading level0 row11\" >11</th>\n",
       "      <td id=\"T_dfe4b_row11_col0\" class=\"data row11 col0\" >say</td>\n",
       "      <td id=\"T_dfe4b_row11_col1\" class=\"data row11 col1\" >823</td>\n",
       "    </tr>\n",
       "    <tr>\n",
       "      <th id=\"T_dfe4b_level0_row12\" class=\"row_heading level0 row12\" >12</th>\n",
       "      <td id=\"T_dfe4b_row12_col0\" class=\"data row12 col0\" >human</td>\n",
       "      <td id=\"T_dfe4b_row12_col1\" class=\"data row12 col1\" >799</td>\n",
       "    </tr>\n",
       "    <tr>\n",
       "      <th id=\"T_dfe4b_level0_row13\" class=\"row_heading level0 row13\" >13</th>\n",
       "      <td id=\"T_dfe4b_row13_col0\" class=\"data row13 col0\" >know</td>\n",
       "      <td id=\"T_dfe4b_row13_col1\" class=\"data row13 col1\" >769</td>\n",
       "    </tr>\n",
       "    <tr>\n",
       "      <th id=\"T_dfe4b_level0_row14\" class=\"row_heading level0 row14\" >14</th>\n",
       "      <td id=\"T_dfe4b_row14_col0\" class=\"data row14 col0\" >hindu</td>\n",
       "      <td id=\"T_dfe4b_row14_col1\" class=\"data row14 col1\" >755</td>\n",
       "    </tr>\n",
       "    <tr>\n",
       "      <th id=\"T_dfe4b_level0_row15\" class=\"row_heading level0 row15\" >15</th>\n",
       "      <td id=\"T_dfe4b_row15_col0\" class=\"data row15 col0\" >kill</td>\n",
       "      <td id=\"T_dfe4b_row15_col1\" class=\"data row15 col1\" >720</td>\n",
       "    </tr>\n",
       "    <tr>\n",
       "      <th id=\"T_dfe4b_level0_row16\" class=\"row_heading level0 row16\" >16</th>\n",
       "      <td id=\"T_dfe4b_row16_col0\" class=\"data row16 col0\" >one</td>\n",
       "      <td id=\"T_dfe4b_row16_col1\" class=\"data row16 col1\" >672</td>\n",
       "    </tr>\n",
       "    <tr>\n",
       "      <th id=\"T_dfe4b_level0_row17\" class=\"row_heading level0 row17\" >17</th>\n",
       "      <td id=\"T_dfe4b_row17_col0\" class=\"data row17 col0\" >isi</td>\n",
       "      <td id=\"T_dfe4b_row17_col1\" class=\"data row17 col1\" >641</td>\n",
       "    </tr>\n",
       "    <tr>\n",
       "      <th id=\"T_dfe4b_level0_row18\" class=\"row_heading level0 row18\" >18</th>\n",
       "      <td id=\"T_dfe4b_row18_col0\" class=\"data row18 col0\" >quran</td>\n",
       "      <td id=\"T_dfe4b_row18_col1\" class=\"data row18 col1\" >632</td>\n",
       "    </tr>\n",
       "    <tr>\n",
       "      <th id=\"T_dfe4b_level0_row19\" class=\"row_heading level0 row19\" >19</th>\n",
       "      <td id=\"T_dfe4b_row19_col0\" class=\"data row19 col0\" >religion</td>\n",
       "      <td id=\"T_dfe4b_row19_col1\" class=\"data row19 col1\" >629</td>\n",
       "    </tr>\n",
       "  </tbody>\n",
       "</table>\n"
      ],
      "text/plain": [
       "<pandas.io.formats.style.Styler at 0x7f64c401b290>"
      ]
     },
     "execution_count": 16,
     "metadata": {},
     "output_type": "execute_result"
    }
   ],
   "source": [
    "#Top 20 Words in religion cyberbullying Tweet\n",
    "top20_r = Counter([item for sublist in religion_type['tweet_list'] for item in sublist])\n",
    "type_r = pd.DataFrame(top20_r.most_common(20))\n",
    "type_r.columns = ['Top of Words','Count']\n",
    "type_r.style.background_gradient(cmap='Greens')"
   ]
  },
  {
   "cell_type": "code",
   "execution_count": 17,
   "id": "58bb871d",
   "metadata": {
    "execution": {
     "iopub.execute_input": "2022-01-27T07:17:17.768462Z",
     "iopub.status.busy": "2022-01-27T07:17:17.767771Z",
     "iopub.status.idle": "2022-01-27T07:17:17.879314Z",
     "shell.execute_reply": "2022-01-27T07:17:17.879815Z",
     "shell.execute_reply.started": "2022-01-27T04:56:35.770317Z"
    },
    "papermill": {
     "duration": 0.188174,
     "end_time": "2022-01-27T07:17:17.879993",
     "exception": false,
     "start_time": "2022-01-27T07:17:17.691819",
     "status": "completed"
    },
    "tags": []
   },
   "outputs": [
    {
     "data": {
      "text/html": [
       "<div>                            <div id=\"927cf567-0090-4ed5-af52-ab0d9695f942\" class=\"plotly-graph-div\" style=\"height:700px; width:700px;\"></div>            <script type=\"text/javascript\">                require([\"plotly\"], function(Plotly) {                    window.PLOTLYENV=window.PLOTLYENV || {};                                    if (document.getElementById(\"927cf567-0090-4ed5-af52-ab0d9695f942\")) {                    Plotly.newPlot(                        \"927cf567-0090-4ed5-af52-ab0d9695f942\",                        [{\"alignmentgroup\":\"True\",\"hovertemplate\":\"Top of Words=%{y}<br>Count=%{x}<extra></extra>\",\"legendgroup\":\"muslim\",\"marker\":{\"color\":\"#636efa\",\"pattern\":{\"shape\":\"\"}},\"name\":\"muslim\",\"offsetgroup\":\"muslim\",\"orientation\":\"h\",\"showlegend\":true,\"textposition\":\"auto\",\"x\":[4802],\"xaxis\":\"x\",\"y\":[\"muslim\"],\"yaxis\":\"y\",\"type\":\"bar\"},{\"alignmentgroup\":\"True\",\"hovertemplate\":\"Top of Words=%{y}<br>Count=%{x}<extra></extra>\",\"legendgroup\":\"idiot\",\"marker\":{\"color\":\"#EF553B\",\"pattern\":{\"shape\":\"\"}},\"name\":\"idiot\",\"offsetgroup\":\"idiot\",\"orientation\":\"h\",\"showlegend\":true,\"textposition\":\"auto\",\"x\":[3109],\"xaxis\":\"x\",\"y\":[\"idiot\"],\"yaxis\":\"y\",\"type\":\"bar\"},{\"alignmentgroup\":\"True\",\"hovertemplate\":\"Top of Words=%{y}<br>Count=%{x}<extra></extra>\",\"legendgroup\":\"islam\",\"marker\":{\"color\":\"#00cc96\",\"pattern\":{\"shape\":\"\"}},\"name\":\"islam\",\"offsetgroup\":\"islam\",\"orientation\":\"h\",\"showlegend\":true,\"textposition\":\"auto\",\"x\":[2363],\"xaxis\":\"x\",\"y\":[\"islam\"],\"yaxis\":\"y\",\"type\":\"bar\"},{\"alignmentgroup\":\"True\",\"hovertemplate\":\"Top of Words=%{y}<br>Count=%{x}<extra></extra>\",\"legendgroup\":\"christian\",\"marker\":{\"color\":\"#ab63fa\",\"pattern\":{\"shape\":\"\"}},\"name\":\"christian\",\"offsetgroup\":\"christian\",\"orientation\":\"h\",\"showlegend\":true,\"textposition\":\"auto\",\"x\":[2164],\"xaxis\":\"x\",\"y\":[\"christian\"],\"yaxis\":\"y\",\"type\":\"bar\"},{\"alignmentgroup\":\"True\",\"hovertemplate\":\"Top of Words=%{y}<br>Count=%{x}<extra></extra>\",\"legendgroup\":\"terrorist\",\"marker\":{\"color\":\"#FFA15A\",\"pattern\":{\"shape\":\"\"}},\"name\":\"terrorist\",\"offsetgroup\":\"terrorist\",\"orientation\":\"h\",\"showlegend\":true,\"textposition\":\"auto\",\"x\":[1400],\"xaxis\":\"x\",\"y\":[\"terrorist\"],\"yaxis\":\"y\",\"type\":\"bar\"},{\"alignmentgroup\":\"True\",\"hovertemplate\":\"Top of Words=%{y}<br>Count=%{x}<extra></extra>\",\"legendgroup\":\"right\",\"marker\":{\"color\":\"#19d3f3\",\"pattern\":{\"shape\":\"\"}},\"name\":\"right\",\"offsetgroup\":\"right\",\"orientation\":\"h\",\"showlegend\":true,\"textposition\":\"auto\",\"x\":[1332],\"xaxis\":\"x\",\"y\":[\"right\"],\"yaxis\":\"y\",\"type\":\"bar\"},{\"alignmentgroup\":\"True\",\"hovertemplate\":\"Top of Words=%{y}<br>Count=%{x}<extra></extra>\",\"legendgroup\":\"woman\",\"marker\":{\"color\":\"#FF6692\",\"pattern\":{\"shape\":\"\"}},\"name\":\"woman\",\"offsetgroup\":\"woman\",\"orientation\":\"h\",\"showlegend\":true,\"textposition\":\"auto\",\"x\":[1263],\"xaxis\":\"x\",\"y\":[\"woman\"],\"yaxis\":\"y\",\"type\":\"bar\"},{\"alignmentgroup\":\"True\",\"hovertemplate\":\"Top of Words=%{y}<br>Count=%{x}<extra></extra>\",\"legendgroup\":\"support\",\"marker\":{\"color\":\"#B6E880\",\"pattern\":{\"shape\":\"\"}},\"name\":\"support\",\"offsetgroup\":\"support\",\"orientation\":\"h\",\"showlegend\":true,\"textposition\":\"auto\",\"x\":[1259],\"xaxis\":\"x\",\"y\":[\"support\"],\"yaxis\":\"y\",\"type\":\"bar\"},{\"alignmentgroup\":\"True\",\"hovertemplate\":\"Top of Words=%{y}<br>Count=%{x}<extra></extra>\",\"legendgroup\":\"terror\",\"marker\":{\"color\":\"#FF97FF\",\"pattern\":{\"shape\":\"\"}},\"name\":\"terror\",\"offsetgroup\":\"terror\",\"orientation\":\"h\",\"showlegend\":true,\"textposition\":\"auto\",\"x\":[1241],\"xaxis\":\"x\",\"y\":[\"terror\"],\"yaxis\":\"y\",\"type\":\"bar\"},{\"alignmentgroup\":\"True\",\"hovertemplate\":\"Top of Words=%{y}<br>Count=%{x}<extra></extra>\",\"legendgroup\":\"radic\",\"marker\":{\"color\":\"#FECB52\",\"pattern\":{\"shape\":\"\"}},\"name\":\"radic\",\"offsetgroup\":\"radic\",\"orientation\":\"h\",\"showlegend\":true,\"textposition\":\"auto\",\"x\":[1118],\"xaxis\":\"x\",\"y\":[\"radic\"],\"yaxis\":\"y\",\"type\":\"bar\"},{\"alignmentgroup\":\"True\",\"hovertemplate\":\"Top of Words=%{y}<br>Count=%{x}<extra></extra>\",\"legendgroup\":\"peopl\",\"marker\":{\"color\":\"#636efa\",\"pattern\":{\"shape\":\"\"}},\"name\":\"peopl\",\"offsetgroup\":\"peopl\",\"orientation\":\"h\",\"showlegend\":true,\"textposition\":\"auto\",\"x\":[1089],\"xaxis\":\"x\",\"y\":[\"peopl\"],\"yaxis\":\"y\",\"type\":\"bar\"},{\"alignmentgroup\":\"True\",\"hovertemplate\":\"Top of Words=%{y}<br>Count=%{x}<extra></extra>\",\"legendgroup\":\"say\",\"marker\":{\"color\":\"#EF553B\",\"pattern\":{\"shape\":\"\"}},\"name\":\"say\",\"offsetgroup\":\"say\",\"orientation\":\"h\",\"showlegend\":true,\"textposition\":\"auto\",\"x\":[823],\"xaxis\":\"x\",\"y\":[\"say\"],\"yaxis\":\"y\",\"type\":\"bar\"},{\"alignmentgroup\":\"True\",\"hovertemplate\":\"Top of Words=%{y}<br>Count=%{x}<extra></extra>\",\"legendgroup\":\"human\",\"marker\":{\"color\":\"#00cc96\",\"pattern\":{\"shape\":\"\"}},\"name\":\"human\",\"offsetgroup\":\"human\",\"orientation\":\"h\",\"showlegend\":true,\"textposition\":\"auto\",\"x\":[799],\"xaxis\":\"x\",\"y\":[\"human\"],\"yaxis\":\"y\",\"type\":\"bar\"},{\"alignmentgroup\":\"True\",\"hovertemplate\":\"Top of Words=%{y}<br>Count=%{x}<extra></extra>\",\"legendgroup\":\"know\",\"marker\":{\"color\":\"#ab63fa\",\"pattern\":{\"shape\":\"\"}},\"name\":\"know\",\"offsetgroup\":\"know\",\"orientation\":\"h\",\"showlegend\":true,\"textposition\":\"auto\",\"x\":[769],\"xaxis\":\"x\",\"y\":[\"know\"],\"yaxis\":\"y\",\"type\":\"bar\"},{\"alignmentgroup\":\"True\",\"hovertemplate\":\"Top of Words=%{y}<br>Count=%{x}<extra></extra>\",\"legendgroup\":\"hindu\",\"marker\":{\"color\":\"#FFA15A\",\"pattern\":{\"shape\":\"\"}},\"name\":\"hindu\",\"offsetgroup\":\"hindu\",\"orientation\":\"h\",\"showlegend\":true,\"textposition\":\"auto\",\"x\":[755],\"xaxis\":\"x\",\"y\":[\"hindu\"],\"yaxis\":\"y\",\"type\":\"bar\"},{\"alignmentgroup\":\"True\",\"hovertemplate\":\"Top of Words=%{y}<br>Count=%{x}<extra></extra>\",\"legendgroup\":\"kill\",\"marker\":{\"color\":\"#19d3f3\",\"pattern\":{\"shape\":\"\"}},\"name\":\"kill\",\"offsetgroup\":\"kill\",\"orientation\":\"h\",\"showlegend\":true,\"textposition\":\"auto\",\"x\":[720],\"xaxis\":\"x\",\"y\":[\"kill\"],\"yaxis\":\"y\",\"type\":\"bar\"},{\"alignmentgroup\":\"True\",\"hovertemplate\":\"Top of Words=%{y}<br>Count=%{x}<extra></extra>\",\"legendgroup\":\"one\",\"marker\":{\"color\":\"#FF6692\",\"pattern\":{\"shape\":\"\"}},\"name\":\"one\",\"offsetgroup\":\"one\",\"orientation\":\"h\",\"showlegend\":true,\"textposition\":\"auto\",\"x\":[672],\"xaxis\":\"x\",\"y\":[\"one\"],\"yaxis\":\"y\",\"type\":\"bar\"},{\"alignmentgroup\":\"True\",\"hovertemplate\":\"Top of Words=%{y}<br>Count=%{x}<extra></extra>\",\"legendgroup\":\"isi\",\"marker\":{\"color\":\"#B6E880\",\"pattern\":{\"shape\":\"\"}},\"name\":\"isi\",\"offsetgroup\":\"isi\",\"orientation\":\"h\",\"showlegend\":true,\"textposition\":\"auto\",\"x\":[641],\"xaxis\":\"x\",\"y\":[\"isi\"],\"yaxis\":\"y\",\"type\":\"bar\"},{\"alignmentgroup\":\"True\",\"hovertemplate\":\"Top of Words=%{y}<br>Count=%{x}<extra></extra>\",\"legendgroup\":\"quran\",\"marker\":{\"color\":\"#FF97FF\",\"pattern\":{\"shape\":\"\"}},\"name\":\"quran\",\"offsetgroup\":\"quran\",\"orientation\":\"h\",\"showlegend\":true,\"textposition\":\"auto\",\"x\":[632],\"xaxis\":\"x\",\"y\":[\"quran\"],\"yaxis\":\"y\",\"type\":\"bar\"},{\"alignmentgroup\":\"True\",\"hovertemplate\":\"Top of Words=%{y}<br>Count=%{x}<extra></extra>\",\"legendgroup\":\"religion\",\"marker\":{\"color\":\"#FECB52\",\"pattern\":{\"shape\":\"\"}},\"name\":\"religion\",\"offsetgroup\":\"religion\",\"orientation\":\"h\",\"showlegend\":true,\"textposition\":\"auto\",\"x\":[629],\"xaxis\":\"x\",\"y\":[\"religion\"],\"yaxis\":\"y\",\"type\":\"bar\"}],                        {\"template\":{\"data\":{\"bar\":[{\"error_x\":{\"color\":\"#2a3f5f\"},\"error_y\":{\"color\":\"#2a3f5f\"},\"marker\":{\"line\":{\"color\":\"#E5ECF6\",\"width\":0.5},\"pattern\":{\"fillmode\":\"overlay\",\"size\":10,\"solidity\":0.2}},\"type\":\"bar\"}],\"barpolar\":[{\"marker\":{\"line\":{\"color\":\"#E5ECF6\",\"width\":0.5},\"pattern\":{\"fillmode\":\"overlay\",\"size\":10,\"solidity\":0.2}},\"type\":\"barpolar\"}],\"carpet\":[{\"aaxis\":{\"endlinecolor\":\"#2a3f5f\",\"gridcolor\":\"white\",\"linecolor\":\"white\",\"minorgridcolor\":\"white\",\"startlinecolor\":\"#2a3f5f\"},\"baxis\":{\"endlinecolor\":\"#2a3f5f\",\"gridcolor\":\"white\",\"linecolor\":\"white\",\"minorgridcolor\":\"white\",\"startlinecolor\":\"#2a3f5f\"},\"type\":\"carpet\"}],\"choropleth\":[{\"colorbar\":{\"outlinewidth\":0,\"ticks\":\"\"},\"type\":\"choropleth\"}],\"contour\":[{\"colorbar\":{\"outlinewidth\":0,\"ticks\":\"\"},\"colorscale\":[[0.0,\"#0d0887\"],[0.1111111111111111,\"#46039f\"],[0.2222222222222222,\"#7201a8\"],[0.3333333333333333,\"#9c179e\"],[0.4444444444444444,\"#bd3786\"],[0.5555555555555556,\"#d8576b\"],[0.6666666666666666,\"#ed7953\"],[0.7777777777777778,\"#fb9f3a\"],[0.8888888888888888,\"#fdca26\"],[1.0,\"#f0f921\"]],\"type\":\"contour\"}],\"contourcarpet\":[{\"colorbar\":{\"outlinewidth\":0,\"ticks\":\"\"},\"type\":\"contourcarpet\"}],\"heatmap\":[{\"colorbar\":{\"outlinewidth\":0,\"ticks\":\"\"},\"colorscale\":[[0.0,\"#0d0887\"],[0.1111111111111111,\"#46039f\"],[0.2222222222222222,\"#7201a8\"],[0.3333333333333333,\"#9c179e\"],[0.4444444444444444,\"#bd3786\"],[0.5555555555555556,\"#d8576b\"],[0.6666666666666666,\"#ed7953\"],[0.7777777777777778,\"#fb9f3a\"],[0.8888888888888888,\"#fdca26\"],[1.0,\"#f0f921\"]],\"type\":\"heatmap\"}],\"heatmapgl\":[{\"colorbar\":{\"outlinewidth\":0,\"ticks\":\"\"},\"colorscale\":[[0.0,\"#0d0887\"],[0.1111111111111111,\"#46039f\"],[0.2222222222222222,\"#7201a8\"],[0.3333333333333333,\"#9c179e\"],[0.4444444444444444,\"#bd3786\"],[0.5555555555555556,\"#d8576b\"],[0.6666666666666666,\"#ed7953\"],[0.7777777777777778,\"#fb9f3a\"],[0.8888888888888888,\"#fdca26\"],[1.0,\"#f0f921\"]],\"type\":\"heatmapgl\"}],\"histogram\":[{\"marker\":{\"pattern\":{\"fillmode\":\"overlay\",\"size\":10,\"solidity\":0.2}},\"type\":\"histogram\"}],\"histogram2d\":[{\"colorbar\":{\"outlinewidth\":0,\"ticks\":\"\"},\"colorscale\":[[0.0,\"#0d0887\"],[0.1111111111111111,\"#46039f\"],[0.2222222222222222,\"#7201a8\"],[0.3333333333333333,\"#9c179e\"],[0.4444444444444444,\"#bd3786\"],[0.5555555555555556,\"#d8576b\"],[0.6666666666666666,\"#ed7953\"],[0.7777777777777778,\"#fb9f3a\"],[0.8888888888888888,\"#fdca26\"],[1.0,\"#f0f921\"]],\"type\":\"histogram2d\"}],\"histogram2dcontour\":[{\"colorbar\":{\"outlinewidth\":0,\"ticks\":\"\"},\"colorscale\":[[0.0,\"#0d0887\"],[0.1111111111111111,\"#46039f\"],[0.2222222222222222,\"#7201a8\"],[0.3333333333333333,\"#9c179e\"],[0.4444444444444444,\"#bd3786\"],[0.5555555555555556,\"#d8576b\"],[0.6666666666666666,\"#ed7953\"],[0.7777777777777778,\"#fb9f3a\"],[0.8888888888888888,\"#fdca26\"],[1.0,\"#f0f921\"]],\"type\":\"histogram2dcontour\"}],\"mesh3d\":[{\"colorbar\":{\"outlinewidth\":0,\"ticks\":\"\"},\"type\":\"mesh3d\"}],\"parcoords\":[{\"line\":{\"colorbar\":{\"outlinewidth\":0,\"ticks\":\"\"}},\"type\":\"parcoords\"}],\"pie\":[{\"automargin\":true,\"type\":\"pie\"}],\"scatter\":[{\"marker\":{\"colorbar\":{\"outlinewidth\":0,\"ticks\":\"\"}},\"type\":\"scatter\"}],\"scatter3d\":[{\"line\":{\"colorbar\":{\"outlinewidth\":0,\"ticks\":\"\"}},\"marker\":{\"colorbar\":{\"outlinewidth\":0,\"ticks\":\"\"}},\"type\":\"scatter3d\"}],\"scattercarpet\":[{\"marker\":{\"colorbar\":{\"outlinewidth\":0,\"ticks\":\"\"}},\"type\":\"scattercarpet\"}],\"scattergeo\":[{\"marker\":{\"colorbar\":{\"outlinewidth\":0,\"ticks\":\"\"}},\"type\":\"scattergeo\"}],\"scattergl\":[{\"marker\":{\"colorbar\":{\"outlinewidth\":0,\"ticks\":\"\"}},\"type\":\"scattergl\"}],\"scattermapbox\":[{\"marker\":{\"colorbar\":{\"outlinewidth\":0,\"ticks\":\"\"}},\"type\":\"scattermapbox\"}],\"scatterpolar\":[{\"marker\":{\"colorbar\":{\"outlinewidth\":0,\"ticks\":\"\"}},\"type\":\"scatterpolar\"}],\"scatterpolargl\":[{\"marker\":{\"colorbar\":{\"outlinewidth\":0,\"ticks\":\"\"}},\"type\":\"scatterpolargl\"}],\"scatterternary\":[{\"marker\":{\"colorbar\":{\"outlinewidth\":0,\"ticks\":\"\"}},\"type\":\"scatterternary\"}],\"surface\":[{\"colorbar\":{\"outlinewidth\":0,\"ticks\":\"\"},\"colorscale\":[[0.0,\"#0d0887\"],[0.1111111111111111,\"#46039f\"],[0.2222222222222222,\"#7201a8\"],[0.3333333333333333,\"#9c179e\"],[0.4444444444444444,\"#bd3786\"],[0.5555555555555556,\"#d8576b\"],[0.6666666666666666,\"#ed7953\"],[0.7777777777777778,\"#fb9f3a\"],[0.8888888888888888,\"#fdca26\"],[1.0,\"#f0f921\"]],\"type\":\"surface\"}],\"table\":[{\"cells\":{\"fill\":{\"color\":\"#EBF0F8\"},\"line\":{\"color\":\"white\"}},\"header\":{\"fill\":{\"color\":\"#C8D4E3\"},\"line\":{\"color\":\"white\"}},\"type\":\"table\"}]},\"layout\":{\"annotationdefaults\":{\"arrowcolor\":\"#2a3f5f\",\"arrowhead\":0,\"arrowwidth\":1},\"autotypenumbers\":\"strict\",\"coloraxis\":{\"colorbar\":{\"outlinewidth\":0,\"ticks\":\"\"}},\"colorscale\":{\"diverging\":[[0,\"#8e0152\"],[0.1,\"#c51b7d\"],[0.2,\"#de77ae\"],[0.3,\"#f1b6da\"],[0.4,\"#fde0ef\"],[0.5,\"#f7f7f7\"],[0.6,\"#e6f5d0\"],[0.7,\"#b8e186\"],[0.8,\"#7fbc41\"],[0.9,\"#4d9221\"],[1,\"#276419\"]],\"sequential\":[[0.0,\"#0d0887\"],[0.1111111111111111,\"#46039f\"],[0.2222222222222222,\"#7201a8\"],[0.3333333333333333,\"#9c179e\"],[0.4444444444444444,\"#bd3786\"],[0.5555555555555556,\"#d8576b\"],[0.6666666666666666,\"#ed7953\"],[0.7777777777777778,\"#fb9f3a\"],[0.8888888888888888,\"#fdca26\"],[1.0,\"#f0f921\"]],\"sequentialminus\":[[0.0,\"#0d0887\"],[0.1111111111111111,\"#46039f\"],[0.2222222222222222,\"#7201a8\"],[0.3333333333333333,\"#9c179e\"],[0.4444444444444444,\"#bd3786\"],[0.5555555555555556,\"#d8576b\"],[0.6666666666666666,\"#ed7953\"],[0.7777777777777778,\"#fb9f3a\"],[0.8888888888888888,\"#fdca26\"],[1.0,\"#f0f921\"]]},\"colorway\":[\"#636efa\",\"#EF553B\",\"#00cc96\",\"#ab63fa\",\"#FFA15A\",\"#19d3f3\",\"#FF6692\",\"#B6E880\",\"#FF97FF\",\"#FECB52\"],\"font\":{\"color\":\"#2a3f5f\"},\"geo\":{\"bgcolor\":\"white\",\"lakecolor\":\"white\",\"landcolor\":\"#E5ECF6\",\"showlakes\":true,\"showland\":true,\"subunitcolor\":\"white\"},\"hoverlabel\":{\"align\":\"left\"},\"hovermode\":\"closest\",\"mapbox\":{\"style\":\"light\"},\"paper_bgcolor\":\"white\",\"plot_bgcolor\":\"#E5ECF6\",\"polar\":{\"angularaxis\":{\"gridcolor\":\"white\",\"linecolor\":\"white\",\"ticks\":\"\"},\"bgcolor\":\"#E5ECF6\",\"radialaxis\":{\"gridcolor\":\"white\",\"linecolor\":\"white\",\"ticks\":\"\"}},\"scene\":{\"xaxis\":{\"backgroundcolor\":\"#E5ECF6\",\"gridcolor\":\"white\",\"gridwidth\":2,\"linecolor\":\"white\",\"showbackground\":true,\"ticks\":\"\",\"zerolinecolor\":\"white\"},\"yaxis\":{\"backgroundcolor\":\"#E5ECF6\",\"gridcolor\":\"white\",\"gridwidth\":2,\"linecolor\":\"white\",\"showbackground\":true,\"ticks\":\"\",\"zerolinecolor\":\"white\"},\"zaxis\":{\"backgroundcolor\":\"#E5ECF6\",\"gridcolor\":\"white\",\"gridwidth\":2,\"linecolor\":\"white\",\"showbackground\":true,\"ticks\":\"\",\"zerolinecolor\":\"white\"}},\"shapedefaults\":{\"line\":{\"color\":\"#2a3f5f\"}},\"ternary\":{\"aaxis\":{\"gridcolor\":\"white\",\"linecolor\":\"white\",\"ticks\":\"\"},\"baxis\":{\"gridcolor\":\"white\",\"linecolor\":\"white\",\"ticks\":\"\"},\"bgcolor\":\"#E5ECF6\",\"caxis\":{\"gridcolor\":\"white\",\"linecolor\":\"white\",\"ticks\":\"\"}},\"title\":{\"x\":0.05},\"xaxis\":{\"automargin\":true,\"gridcolor\":\"white\",\"linecolor\":\"white\",\"ticks\":\"\",\"title\":{\"standoff\":15},\"zerolinecolor\":\"white\",\"zerolinewidth\":2},\"yaxis\":{\"automargin\":true,\"gridcolor\":\"white\",\"linecolor\":\"white\",\"ticks\":\"\",\"title\":{\"standoff\":15},\"zerolinecolor\":\"white\",\"zerolinewidth\":2}}},\"xaxis\":{\"anchor\":\"y\",\"domain\":[0.0,1.0],\"title\":{\"text\":\"Count\"}},\"yaxis\":{\"anchor\":\"x\",\"domain\":[0.0,1.0],\"title\":{\"text\":\"Top of Words\"},\"categoryorder\":\"array\",\"categoryarray\":[\"religion\",\"quran\",\"isi\",\"one\",\"kill\",\"hindu\",\"know\",\"human\",\"say\",\"peopl\",\"radic\",\"terror\",\"support\",\"woman\",\"right\",\"terrorist\",\"christian\",\"islam\",\"idiot\",\"muslim\"]},\"legend\":{\"title\":{\"text\":\"Top of Words\"},\"tracegroupgap\":0},\"title\":{\"text\":\"Top 20 Words in Religion Cyberbullying Tweet\"},\"barmode\":\"relative\",\"height\":700,\"width\":700},                        {\"responsive\": true}                    ).then(function(){\n",
       "                            \n",
       "var gd = document.getElementById('927cf567-0090-4ed5-af52-ab0d9695f942');\n",
       "var x = new MutationObserver(function (mutations, observer) {{\n",
       "        var display = window.getComputedStyle(gd).display;\n",
       "        if (!display || display === 'none') {{\n",
       "            console.log([gd, 'removed!']);\n",
       "            Plotly.purge(gd);\n",
       "            observer.disconnect();\n",
       "        }}\n",
       "}});\n",
       "\n",
       "// Listen for the removal of the full notebook cells\n",
       "var notebookContainer = gd.closest('#notebook-container');\n",
       "if (notebookContainer) {{\n",
       "    x.observe(notebookContainer, {childList: true});\n",
       "}}\n",
       "\n",
       "// Listen for the clearing of the current output cell\n",
       "var outputEl = gd.closest('.output');\n",
       "if (outputEl) {{\n",
       "    x.observe(outputEl, {childList: true});\n",
       "}}\n",
       "\n",
       "                        })                };                });            </script>        </div>"
      ]
     },
     "metadata": {},
     "output_type": "display_data"
    }
   ],
   "source": [
    "r_fig = px.bar(type_r, x=\"Count\", y=\"Top of Words\", title='Top 20 Words in Religion Cyberbullying Tweet', orientation='h', \n",
    "             width=700, height=700,color='Top of Words')\n",
    "r_fig.show()"
   ]
  },
  {
   "cell_type": "code",
   "execution_count": 18,
   "id": "6064475d",
   "metadata": {
    "execution": {
     "iopub.execute_input": "2022-01-27T07:17:18.025254Z",
     "iopub.status.busy": "2022-01-27T07:17:18.024483Z",
     "iopub.status.idle": "2022-01-27T07:17:18.044269Z",
     "shell.execute_reply": "2022-01-27T07:17:18.044818Z",
     "shell.execute_reply.started": "2022-01-27T04:56:35.904811Z"
    },
    "papermill": {
     "duration": 0.094095,
     "end_time": "2022-01-27T07:17:18.044986",
     "exception": false,
     "start_time": "2022-01-27T07:17:17.950891",
     "status": "completed"
    },
    "tags": []
   },
   "outputs": [
    {
     "data": {
      "text/html": [
       "<style type=\"text/css\">\n",
       "#T_5c583_row0_col1 {\n",
       "  background-color: #00441b;\n",
       "  color: #f1f1f1;\n",
       "}\n",
       "#T_5c583_row1_col1 {\n",
       "  background-color: #7ac77b;\n",
       "  color: #000000;\n",
       "}\n",
       "#T_5c583_row2_col1 {\n",
       "  background-color: #c3e7bc;\n",
       "  color: #000000;\n",
       "}\n",
       "#T_5c583_row3_col1 {\n",
       "  background-color: #dcf2d7;\n",
       "  color: #000000;\n",
       "}\n",
       "#T_5c583_row4_col1 {\n",
       "  background-color: #e0f3db;\n",
       "  color: #000000;\n",
       "}\n",
       "#T_5c583_row5_col1 {\n",
       "  background-color: #e6f5e1;\n",
       "  color: #000000;\n",
       "}\n",
       "#T_5c583_row6_col1 {\n",
       "  background-color: #e7f6e3;\n",
       "  color: #000000;\n",
       "}\n",
       "#T_5c583_row7_col1 {\n",
       "  background-color: #ecf8e8;\n",
       "  color: #000000;\n",
       "}\n",
       "#T_5c583_row8_col1, #T_5c583_row9_col1 {\n",
       "  background-color: #edf8ea;\n",
       "  color: #000000;\n",
       "}\n",
       "#T_5c583_row10_col1 {\n",
       "  background-color: #eff9eb;\n",
       "  color: #000000;\n",
       "}\n",
       "#T_5c583_row11_col1 {\n",
       "  background-color: #f0f9ed;\n",
       "  color: #000000;\n",
       "}\n",
       "#T_5c583_row12_col1, #T_5c583_row13_col1, #T_5c583_row14_col1, #T_5c583_row15_col1, #T_5c583_row16_col1 {\n",
       "  background-color: #f2faf0;\n",
       "  color: #000000;\n",
       "}\n",
       "#T_5c583_row17_col1 {\n",
       "  background-color: #f4fbf2;\n",
       "  color: #000000;\n",
       "}\n",
       "#T_5c583_row18_col1, #T_5c583_row19_col1 {\n",
       "  background-color: #f7fcf5;\n",
       "  color: #000000;\n",
       "}\n",
       "</style>\n",
       "<table id=\"T_5c583_\">\n",
       "  <thead>\n",
       "    <tr>\n",
       "      <th class=\"blank level0\" >&nbsp;</th>\n",
       "      <th class=\"col_heading level0 col0\" >Top of Words</th>\n",
       "      <th class=\"col_heading level0 col1\" >Count</th>\n",
       "    </tr>\n",
       "  </thead>\n",
       "  <tbody>\n",
       "    <tr>\n",
       "      <th id=\"T_5c583_level0_row0\" class=\"row_heading level0 row0\" >0</th>\n",
       "      <td id=\"T_5c583_row0_col0\" class=\"data row0 col0\" >bulli</td>\n",
       "      <td id=\"T_5c583_row0_col1\" class=\"data row0 col1\" >899</td>\n",
       "    </tr>\n",
       "    <tr>\n",
       "      <th id=\"T_5c583_level0_row1\" class=\"row_heading level0 row1\" >1</th>\n",
       "      <td id=\"T_5c583_row1_col0\" class=\"data row1 col0\" >fuck</td>\n",
       "      <td id=\"T_5c583_row1_col1\" class=\"data row1 col1\" >514</td>\n",
       "    </tr>\n",
       "    <tr>\n",
       "      <th id=\"T_5c583_level0_row2\" class=\"row_heading level0 row2\" >2</th>\n",
       "      <td id=\"T_5c583_row2_col0\" class=\"data row2 col0\" >peopl</td>\n",
       "      <td id=\"T_5c583_row2_col1\" class=\"data row2 col1\" >354</td>\n",
       "    </tr>\n",
       "    <tr>\n",
       "      <th id=\"T_5c583_level0_row3\" class=\"row_heading level0 row3\" >3</th>\n",
       "      <td id=\"T_5c583_row3_col0\" class=\"data row3 col0\" >go</td>\n",
       "      <td id=\"T_5c583_row3_col1\" class=\"data row3 col1\" >277</td>\n",
       "    </tr>\n",
       "    <tr>\n",
       "      <th id=\"T_5c583_level0_row4\" class=\"row_heading level0 row4\" >4</th>\n",
       "      <td id=\"T_5c583_row4_col0\" class=\"data row4 col0\" >idiot</td>\n",
       "      <td id=\"T_5c583_row4_col1\" class=\"data row4 col1\" >265</td>\n",
       "    </tr>\n",
       "    <tr>\n",
       "      <th id=\"T_5c583_level0_row5\" class=\"row_heading level0 row5\" >5</th>\n",
       "      <td id=\"T_5c583_row5_col0\" class=\"data row5 col0\" >know</td>\n",
       "      <td id=\"T_5c583_row5_col1\" class=\"data row5 col1\" >245</td>\n",
       "    </tr>\n",
       "    <tr>\n",
       "      <th id=\"T_5c583_level0_row6\" class=\"row_heading level0 row6\" >6</th>\n",
       "      <td id=\"T_5c583_row6_col0\" class=\"data row6 col0\" >think</td>\n",
       "      <td id=\"T_5c583_row6_col1\" class=\"data row6 col1\" >239</td>\n",
       "    </tr>\n",
       "    <tr>\n",
       "      <th id=\"T_5c583_level0_row7\" class=\"row_heading level0 row7\" >7</th>\n",
       "      <td id=\"T_5c583_row7_col0\" class=\"data row7 col0\" >make</td>\n",
       "      <td id=\"T_5c583_row7_col1\" class=\"data row7 col1\" >216</td>\n",
       "    </tr>\n",
       "    <tr>\n",
       "      <th id=\"T_5c583_level0_row8\" class=\"row_heading level0 row8\" >8</th>\n",
       "      <td id=\"T_5c583_row8_col0\" class=\"data row8 col0\" >one</td>\n",
       "      <td id=\"T_5c583_row8_col1\" class=\"data row8 col1\" >209</td>\n",
       "    </tr>\n",
       "    <tr>\n",
       "      <th id=\"T_5c583_level0_row9\" class=\"row_heading level0 row9\" >9</th>\n",
       "      <td id=\"T_5c583_row9_col0\" class=\"data row9 col0\" >time</td>\n",
       "      <td id=\"T_5c583_row9_col1\" class=\"data row9 col1\" >208</td>\n",
       "    </tr>\n",
       "    <tr>\n",
       "      <th id=\"T_5c583_level0_row10\" class=\"row_heading level0 row10\" >10</th>\n",
       "      <td id=\"T_5c583_row10_col0\" class=\"data row10 col0\" >hate</td>\n",
       "      <td id=\"T_5c583_row10_col1\" class=\"data row10 col1\" >201</td>\n",
       "    </tr>\n",
       "    <tr>\n",
       "      <th id=\"T_5c583_level0_row11\" class=\"row_heading level0 row11\" >11</th>\n",
       "      <td id=\"T_5c583_row11_col0\" class=\"data row11 col0\" >now</td>\n",
       "      <td id=\"T_5c583_row11_col1\" class=\"data row11 col1\" >193</td>\n",
       "    </tr>\n",
       "    <tr>\n",
       "      <th id=\"T_5c583_level0_row12\" class=\"row_heading level0 row12\" >12</th>\n",
       "      <td id=\"T_5c583_row12_col0\" class=\"data row12 col0\" >want</td>\n",
       "      <td id=\"T_5c583_row12_col1\" class=\"data row12 col1\" >183</td>\n",
       "    </tr>\n",
       "    <tr>\n",
       "      <th id=\"T_5c583_level0_row13\" class=\"row_heading level0 row13\" >13</th>\n",
       "      <td id=\"T_5c583_row13_col0\" class=\"data row13 col0\" >thing</td>\n",
       "      <td id=\"T_5c583_row13_col1\" class=\"data row13 col1\" >183</td>\n",
       "    </tr>\n",
       "    <tr>\n",
       "      <th id=\"T_5c583_level0_row14\" class=\"row_heading level0 row14\" >14</th>\n",
       "      <td id=\"T_5c583_row14_col0\" class=\"data row14 col0\" >need</td>\n",
       "      <td id=\"T_5c583_row14_col1\" class=\"data row14 col1\" >182</td>\n",
       "    </tr>\n",
       "    <tr>\n",
       "      <th id=\"T_5c583_level0_row15\" class=\"row_heading level0 row15\" >15</th>\n",
       "      <td id=\"T_5c583_row15_col0\" class=\"data row15 col0\" >call</td>\n",
       "      <td id=\"T_5c583_row15_col1\" class=\"data row15 col1\" >181</td>\n",
       "    </tr>\n",
       "    <tr>\n",
       "      <th id=\"T_5c583_level0_row16\" class=\"row_heading level0 row16\" >16</th>\n",
       "      <td id=\"T_5c583_row16_col0\" class=\"data row16 col0\" >see</td>\n",
       "      <td id=\"T_5c583_row16_col1\" class=\"data row16 col1\" >181</td>\n",
       "    </tr>\n",
       "    <tr>\n",
       "      <th id=\"T_5c583_level0_row17\" class=\"row_heading level0 row17\" >17</th>\n",
       "      <td id=\"T_5c583_row17_col0\" class=\"data row17 col0\" >use</td>\n",
       "      <td id=\"T_5c583_row17_col1\" class=\"data row17 col1\" >172</td>\n",
       "    </tr>\n",
       "    <tr>\n",
       "      <th id=\"T_5c583_level0_row18\" class=\"row_heading level0 row18\" >18</th>\n",
       "      <td id=\"T_5c583_row18_col0\" class=\"data row18 col0\" >say</td>\n",
       "      <td id=\"T_5c583_row18_col1\" class=\"data row18 col1\" >158</td>\n",
       "    </tr>\n",
       "    <tr>\n",
       "      <th id=\"T_5c583_level0_row19\" class=\"row_heading level0 row19\" >19</th>\n",
       "      <td id=\"T_5c583_row19_col0\" class=\"data row19 col0\" >as</td>\n",
       "      <td id=\"T_5c583_row19_col1\" class=\"data row19 col1\" >157</td>\n",
       "    </tr>\n",
       "  </tbody>\n",
       "</table>\n"
      ],
      "text/plain": [
       "<pandas.io.formats.style.Styler at 0x7f64c3d2ba50>"
      ]
     },
     "execution_count": 18,
     "metadata": {},
     "output_type": "execute_result"
    }
   ],
   "source": [
    "#Top 20 Words in others cyberbullying Tweet\n",
    "top20_o = Counter([item for sublist in other_cyberbullying_type['tweet_list'] for item in sublist])\n",
    "type_o = pd.DataFrame(top20_o.most_common(20))\n",
    "type_o.columns = ['Top of Words','Count']\n",
    "type_o.style.background_gradient(cmap='Greens')"
   ]
  },
  {
   "cell_type": "code",
   "execution_count": 19,
   "id": "86f991c6",
   "metadata": {
    "execution": {
     "iopub.execute_input": "2022-01-27T07:17:18.273377Z",
     "iopub.status.busy": "2022-01-27T07:17:18.197314Z",
     "iopub.status.idle": "2022-01-27T07:17:18.334682Z",
     "shell.execute_reply": "2022-01-27T07:17:18.334085Z",
     "shell.execute_reply.started": "2022-01-27T04:56:35.930020Z"
    },
    "papermill": {
     "duration": 0.217566,
     "end_time": "2022-01-27T07:17:18.334803",
     "exception": false,
     "start_time": "2022-01-27T07:17:18.117237",
     "status": "completed"
    },
    "tags": []
   },
   "outputs": [
    {
     "data": {
      "text/html": [
       "<div>                            <div id=\"48451c60-c24d-441f-a192-ea0d9bb97a97\" class=\"plotly-graph-div\" style=\"height:700px; width:700px;\"></div>            <script type=\"text/javascript\">                require([\"plotly\"], function(Plotly) {                    window.PLOTLYENV=window.PLOTLYENV || {};                                    if (document.getElementById(\"48451c60-c24d-441f-a192-ea0d9bb97a97\")) {                    Plotly.newPlot(                        \"48451c60-c24d-441f-a192-ea0d9bb97a97\",                        [{\"alignmentgroup\":\"True\",\"hovertemplate\":\"Top of Words=%{y}<br>Count=%{x}<extra></extra>\",\"legendgroup\":\"bulli\",\"marker\":{\"color\":\"#636efa\",\"pattern\":{\"shape\":\"\"}},\"name\":\"bulli\",\"offsetgroup\":\"bulli\",\"orientation\":\"h\",\"showlegend\":true,\"textposition\":\"auto\",\"x\":[899],\"xaxis\":\"x\",\"y\":[\"bulli\"],\"yaxis\":\"y\",\"type\":\"bar\"},{\"alignmentgroup\":\"True\",\"hovertemplate\":\"Top of Words=%{y}<br>Count=%{x}<extra></extra>\",\"legendgroup\":\"fuck\",\"marker\":{\"color\":\"#EF553B\",\"pattern\":{\"shape\":\"\"}},\"name\":\"fuck\",\"offsetgroup\":\"fuck\",\"orientation\":\"h\",\"showlegend\":true,\"textposition\":\"auto\",\"x\":[514],\"xaxis\":\"x\",\"y\":[\"fuck\"],\"yaxis\":\"y\",\"type\":\"bar\"},{\"alignmentgroup\":\"True\",\"hovertemplate\":\"Top of Words=%{y}<br>Count=%{x}<extra></extra>\",\"legendgroup\":\"peopl\",\"marker\":{\"color\":\"#00cc96\",\"pattern\":{\"shape\":\"\"}},\"name\":\"peopl\",\"offsetgroup\":\"peopl\",\"orientation\":\"h\",\"showlegend\":true,\"textposition\":\"auto\",\"x\":[354],\"xaxis\":\"x\",\"y\":[\"peopl\"],\"yaxis\":\"y\",\"type\":\"bar\"},{\"alignmentgroup\":\"True\",\"hovertemplate\":\"Top of Words=%{y}<br>Count=%{x}<extra></extra>\",\"legendgroup\":\"go\",\"marker\":{\"color\":\"#ab63fa\",\"pattern\":{\"shape\":\"\"}},\"name\":\"go\",\"offsetgroup\":\"go\",\"orientation\":\"h\",\"showlegend\":true,\"textposition\":\"auto\",\"x\":[277],\"xaxis\":\"x\",\"y\":[\"go\"],\"yaxis\":\"y\",\"type\":\"bar\"},{\"alignmentgroup\":\"True\",\"hovertemplate\":\"Top of Words=%{y}<br>Count=%{x}<extra></extra>\",\"legendgroup\":\"idiot\",\"marker\":{\"color\":\"#FFA15A\",\"pattern\":{\"shape\":\"\"}},\"name\":\"idiot\",\"offsetgroup\":\"idiot\",\"orientation\":\"h\",\"showlegend\":true,\"textposition\":\"auto\",\"x\":[265],\"xaxis\":\"x\",\"y\":[\"idiot\"],\"yaxis\":\"y\",\"type\":\"bar\"},{\"alignmentgroup\":\"True\",\"hovertemplate\":\"Top of Words=%{y}<br>Count=%{x}<extra></extra>\",\"legendgroup\":\"know\",\"marker\":{\"color\":\"#19d3f3\",\"pattern\":{\"shape\":\"\"}},\"name\":\"know\",\"offsetgroup\":\"know\",\"orientation\":\"h\",\"showlegend\":true,\"textposition\":\"auto\",\"x\":[245],\"xaxis\":\"x\",\"y\":[\"know\"],\"yaxis\":\"y\",\"type\":\"bar\"},{\"alignmentgroup\":\"True\",\"hovertemplate\":\"Top of Words=%{y}<br>Count=%{x}<extra></extra>\",\"legendgroup\":\"think\",\"marker\":{\"color\":\"#FF6692\",\"pattern\":{\"shape\":\"\"}},\"name\":\"think\",\"offsetgroup\":\"think\",\"orientation\":\"h\",\"showlegend\":true,\"textposition\":\"auto\",\"x\":[239],\"xaxis\":\"x\",\"y\":[\"think\"],\"yaxis\":\"y\",\"type\":\"bar\"},{\"alignmentgroup\":\"True\",\"hovertemplate\":\"Top of Words=%{y}<br>Count=%{x}<extra></extra>\",\"legendgroup\":\"make\",\"marker\":{\"color\":\"#B6E880\",\"pattern\":{\"shape\":\"\"}},\"name\":\"make\",\"offsetgroup\":\"make\",\"orientation\":\"h\",\"showlegend\":true,\"textposition\":\"auto\",\"x\":[216],\"xaxis\":\"x\",\"y\":[\"make\"],\"yaxis\":\"y\",\"type\":\"bar\"},{\"alignmentgroup\":\"True\",\"hovertemplate\":\"Top of Words=%{y}<br>Count=%{x}<extra></extra>\",\"legendgroup\":\"one\",\"marker\":{\"color\":\"#FF97FF\",\"pattern\":{\"shape\":\"\"}},\"name\":\"one\",\"offsetgroup\":\"one\",\"orientation\":\"h\",\"showlegend\":true,\"textposition\":\"auto\",\"x\":[209],\"xaxis\":\"x\",\"y\":[\"one\"],\"yaxis\":\"y\",\"type\":\"bar\"},{\"alignmentgroup\":\"True\",\"hovertemplate\":\"Top of Words=%{y}<br>Count=%{x}<extra></extra>\",\"legendgroup\":\"time\",\"marker\":{\"color\":\"#FECB52\",\"pattern\":{\"shape\":\"\"}},\"name\":\"time\",\"offsetgroup\":\"time\",\"orientation\":\"h\",\"showlegend\":true,\"textposition\":\"auto\",\"x\":[208],\"xaxis\":\"x\",\"y\":[\"time\"],\"yaxis\":\"y\",\"type\":\"bar\"},{\"alignmentgroup\":\"True\",\"hovertemplate\":\"Top of Words=%{y}<br>Count=%{x}<extra></extra>\",\"legendgroup\":\"hate\",\"marker\":{\"color\":\"#636efa\",\"pattern\":{\"shape\":\"\"}},\"name\":\"hate\",\"offsetgroup\":\"hate\",\"orientation\":\"h\",\"showlegend\":true,\"textposition\":\"auto\",\"x\":[201],\"xaxis\":\"x\",\"y\":[\"hate\"],\"yaxis\":\"y\",\"type\":\"bar\"},{\"alignmentgroup\":\"True\",\"hovertemplate\":\"Top of Words=%{y}<br>Count=%{x}<extra></extra>\",\"legendgroup\":\"now\",\"marker\":{\"color\":\"#EF553B\",\"pattern\":{\"shape\":\"\"}},\"name\":\"now\",\"offsetgroup\":\"now\",\"orientation\":\"h\",\"showlegend\":true,\"textposition\":\"auto\",\"x\":[193],\"xaxis\":\"x\",\"y\":[\"now\"],\"yaxis\":\"y\",\"type\":\"bar\"},{\"alignmentgroup\":\"True\",\"hovertemplate\":\"Top of Words=%{y}<br>Count=%{x}<extra></extra>\",\"legendgroup\":\"want\",\"marker\":{\"color\":\"#00cc96\",\"pattern\":{\"shape\":\"\"}},\"name\":\"want\",\"offsetgroup\":\"want\",\"orientation\":\"h\",\"showlegend\":true,\"textposition\":\"auto\",\"x\":[183],\"xaxis\":\"x\",\"y\":[\"want\"],\"yaxis\":\"y\",\"type\":\"bar\"},{\"alignmentgroup\":\"True\",\"hovertemplate\":\"Top of Words=%{y}<br>Count=%{x}<extra></extra>\",\"legendgroup\":\"thing\",\"marker\":{\"color\":\"#ab63fa\",\"pattern\":{\"shape\":\"\"}},\"name\":\"thing\",\"offsetgroup\":\"thing\",\"orientation\":\"h\",\"showlegend\":true,\"textposition\":\"auto\",\"x\":[183],\"xaxis\":\"x\",\"y\":[\"thing\"],\"yaxis\":\"y\",\"type\":\"bar\"},{\"alignmentgroup\":\"True\",\"hovertemplate\":\"Top of Words=%{y}<br>Count=%{x}<extra></extra>\",\"legendgroup\":\"need\",\"marker\":{\"color\":\"#FFA15A\",\"pattern\":{\"shape\":\"\"}},\"name\":\"need\",\"offsetgroup\":\"need\",\"orientation\":\"h\",\"showlegend\":true,\"textposition\":\"auto\",\"x\":[182],\"xaxis\":\"x\",\"y\":[\"need\"],\"yaxis\":\"y\",\"type\":\"bar\"},{\"alignmentgroup\":\"True\",\"hovertemplate\":\"Top of Words=%{y}<br>Count=%{x}<extra></extra>\",\"legendgroup\":\"call\",\"marker\":{\"color\":\"#19d3f3\",\"pattern\":{\"shape\":\"\"}},\"name\":\"call\",\"offsetgroup\":\"call\",\"orientation\":\"h\",\"showlegend\":true,\"textposition\":\"auto\",\"x\":[181],\"xaxis\":\"x\",\"y\":[\"call\"],\"yaxis\":\"y\",\"type\":\"bar\"},{\"alignmentgroup\":\"True\",\"hovertemplate\":\"Top of Words=%{y}<br>Count=%{x}<extra></extra>\",\"legendgroup\":\"see\",\"marker\":{\"color\":\"#FF6692\",\"pattern\":{\"shape\":\"\"}},\"name\":\"see\",\"offsetgroup\":\"see\",\"orientation\":\"h\",\"showlegend\":true,\"textposition\":\"auto\",\"x\":[181],\"xaxis\":\"x\",\"y\":[\"see\"],\"yaxis\":\"y\",\"type\":\"bar\"},{\"alignmentgroup\":\"True\",\"hovertemplate\":\"Top of Words=%{y}<br>Count=%{x}<extra></extra>\",\"legendgroup\":\"use\",\"marker\":{\"color\":\"#B6E880\",\"pattern\":{\"shape\":\"\"}},\"name\":\"use\",\"offsetgroup\":\"use\",\"orientation\":\"h\",\"showlegend\":true,\"textposition\":\"auto\",\"x\":[172],\"xaxis\":\"x\",\"y\":[\"use\"],\"yaxis\":\"y\",\"type\":\"bar\"},{\"alignmentgroup\":\"True\",\"hovertemplate\":\"Top of Words=%{y}<br>Count=%{x}<extra></extra>\",\"legendgroup\":\"say\",\"marker\":{\"color\":\"#FF97FF\",\"pattern\":{\"shape\":\"\"}},\"name\":\"say\",\"offsetgroup\":\"say\",\"orientation\":\"h\",\"showlegend\":true,\"textposition\":\"auto\",\"x\":[158],\"xaxis\":\"x\",\"y\":[\"say\"],\"yaxis\":\"y\",\"type\":\"bar\"},{\"alignmentgroup\":\"True\",\"hovertemplate\":\"Top of Words=%{y}<br>Count=%{x}<extra></extra>\",\"legendgroup\":\"as\",\"marker\":{\"color\":\"#FECB52\",\"pattern\":{\"shape\":\"\"}},\"name\":\"as\",\"offsetgroup\":\"as\",\"orientation\":\"h\",\"showlegend\":true,\"textposition\":\"auto\",\"x\":[157],\"xaxis\":\"x\",\"y\":[\"as\"],\"yaxis\":\"y\",\"type\":\"bar\"}],                        {\"template\":{\"data\":{\"bar\":[{\"error_x\":{\"color\":\"#2a3f5f\"},\"error_y\":{\"color\":\"#2a3f5f\"},\"marker\":{\"line\":{\"color\":\"#E5ECF6\",\"width\":0.5},\"pattern\":{\"fillmode\":\"overlay\",\"size\":10,\"solidity\":0.2}},\"type\":\"bar\"}],\"barpolar\":[{\"marker\":{\"line\":{\"color\":\"#E5ECF6\",\"width\":0.5},\"pattern\":{\"fillmode\":\"overlay\",\"size\":10,\"solidity\":0.2}},\"type\":\"barpolar\"}],\"carpet\":[{\"aaxis\":{\"endlinecolor\":\"#2a3f5f\",\"gridcolor\":\"white\",\"linecolor\":\"white\",\"minorgridcolor\":\"white\",\"startlinecolor\":\"#2a3f5f\"},\"baxis\":{\"endlinecolor\":\"#2a3f5f\",\"gridcolor\":\"white\",\"linecolor\":\"white\",\"minorgridcolor\":\"white\",\"startlinecolor\":\"#2a3f5f\"},\"type\":\"carpet\"}],\"choropleth\":[{\"colorbar\":{\"outlinewidth\":0,\"ticks\":\"\"},\"type\":\"choropleth\"}],\"contour\":[{\"colorbar\":{\"outlinewidth\":0,\"ticks\":\"\"},\"colorscale\":[[0.0,\"#0d0887\"],[0.1111111111111111,\"#46039f\"],[0.2222222222222222,\"#7201a8\"],[0.3333333333333333,\"#9c179e\"],[0.4444444444444444,\"#bd3786\"],[0.5555555555555556,\"#d8576b\"],[0.6666666666666666,\"#ed7953\"],[0.7777777777777778,\"#fb9f3a\"],[0.8888888888888888,\"#fdca26\"],[1.0,\"#f0f921\"]],\"type\":\"contour\"}],\"contourcarpet\":[{\"colorbar\":{\"outlinewidth\":0,\"ticks\":\"\"},\"type\":\"contourcarpet\"}],\"heatmap\":[{\"colorbar\":{\"outlinewidth\":0,\"ticks\":\"\"},\"colorscale\":[[0.0,\"#0d0887\"],[0.1111111111111111,\"#46039f\"],[0.2222222222222222,\"#7201a8\"],[0.3333333333333333,\"#9c179e\"],[0.4444444444444444,\"#bd3786\"],[0.5555555555555556,\"#d8576b\"],[0.6666666666666666,\"#ed7953\"],[0.7777777777777778,\"#fb9f3a\"],[0.8888888888888888,\"#fdca26\"],[1.0,\"#f0f921\"]],\"type\":\"heatmap\"}],\"heatmapgl\":[{\"colorbar\":{\"outlinewidth\":0,\"ticks\":\"\"},\"colorscale\":[[0.0,\"#0d0887\"],[0.1111111111111111,\"#46039f\"],[0.2222222222222222,\"#7201a8\"],[0.3333333333333333,\"#9c179e\"],[0.4444444444444444,\"#bd3786\"],[0.5555555555555556,\"#d8576b\"],[0.6666666666666666,\"#ed7953\"],[0.7777777777777778,\"#fb9f3a\"],[0.8888888888888888,\"#fdca26\"],[1.0,\"#f0f921\"]],\"type\":\"heatmapgl\"}],\"histogram\":[{\"marker\":{\"pattern\":{\"fillmode\":\"overlay\",\"size\":10,\"solidity\":0.2}},\"type\":\"histogram\"}],\"histogram2d\":[{\"colorbar\":{\"outlinewidth\":0,\"ticks\":\"\"},\"colorscale\":[[0.0,\"#0d0887\"],[0.1111111111111111,\"#46039f\"],[0.2222222222222222,\"#7201a8\"],[0.3333333333333333,\"#9c179e\"],[0.4444444444444444,\"#bd3786\"],[0.5555555555555556,\"#d8576b\"],[0.6666666666666666,\"#ed7953\"],[0.7777777777777778,\"#fb9f3a\"],[0.8888888888888888,\"#fdca26\"],[1.0,\"#f0f921\"]],\"type\":\"histogram2d\"}],\"histogram2dcontour\":[{\"colorbar\":{\"outlinewidth\":0,\"ticks\":\"\"},\"colorscale\":[[0.0,\"#0d0887\"],[0.1111111111111111,\"#46039f\"],[0.2222222222222222,\"#7201a8\"],[0.3333333333333333,\"#9c179e\"],[0.4444444444444444,\"#bd3786\"],[0.5555555555555556,\"#d8576b\"],[0.6666666666666666,\"#ed7953\"],[0.7777777777777778,\"#fb9f3a\"],[0.8888888888888888,\"#fdca26\"],[1.0,\"#f0f921\"]],\"type\":\"histogram2dcontour\"}],\"mesh3d\":[{\"colorbar\":{\"outlinewidth\":0,\"ticks\":\"\"},\"type\":\"mesh3d\"}],\"parcoords\":[{\"line\":{\"colorbar\":{\"outlinewidth\":0,\"ticks\":\"\"}},\"type\":\"parcoords\"}],\"pie\":[{\"automargin\":true,\"type\":\"pie\"}],\"scatter\":[{\"marker\":{\"colorbar\":{\"outlinewidth\":0,\"ticks\":\"\"}},\"type\":\"scatter\"}],\"scatter3d\":[{\"line\":{\"colorbar\":{\"outlinewidth\":0,\"ticks\":\"\"}},\"marker\":{\"colorbar\":{\"outlinewidth\":0,\"ticks\":\"\"}},\"type\":\"scatter3d\"}],\"scattercarpet\":[{\"marker\":{\"colorbar\":{\"outlinewidth\":0,\"ticks\":\"\"}},\"type\":\"scattercarpet\"}],\"scattergeo\":[{\"marker\":{\"colorbar\":{\"outlinewidth\":0,\"ticks\":\"\"}},\"type\":\"scattergeo\"}],\"scattergl\":[{\"marker\":{\"colorbar\":{\"outlinewidth\":0,\"ticks\":\"\"}},\"type\":\"scattergl\"}],\"scattermapbox\":[{\"marker\":{\"colorbar\":{\"outlinewidth\":0,\"ticks\":\"\"}},\"type\":\"scattermapbox\"}],\"scatterpolar\":[{\"marker\":{\"colorbar\":{\"outlinewidth\":0,\"ticks\":\"\"}},\"type\":\"scatterpolar\"}],\"scatterpolargl\":[{\"marker\":{\"colorbar\":{\"outlinewidth\":0,\"ticks\":\"\"}},\"type\":\"scatterpolargl\"}],\"scatterternary\":[{\"marker\":{\"colorbar\":{\"outlinewidth\":0,\"ticks\":\"\"}},\"type\":\"scatterternary\"}],\"surface\":[{\"colorbar\":{\"outlinewidth\":0,\"ticks\":\"\"},\"colorscale\":[[0.0,\"#0d0887\"],[0.1111111111111111,\"#46039f\"],[0.2222222222222222,\"#7201a8\"],[0.3333333333333333,\"#9c179e\"],[0.4444444444444444,\"#bd3786\"],[0.5555555555555556,\"#d8576b\"],[0.6666666666666666,\"#ed7953\"],[0.7777777777777778,\"#fb9f3a\"],[0.8888888888888888,\"#fdca26\"],[1.0,\"#f0f921\"]],\"type\":\"surface\"}],\"table\":[{\"cells\":{\"fill\":{\"color\":\"#EBF0F8\"},\"line\":{\"color\":\"white\"}},\"header\":{\"fill\":{\"color\":\"#C8D4E3\"},\"line\":{\"color\":\"white\"}},\"type\":\"table\"}]},\"layout\":{\"annotationdefaults\":{\"arrowcolor\":\"#2a3f5f\",\"arrowhead\":0,\"arrowwidth\":1},\"autotypenumbers\":\"strict\",\"coloraxis\":{\"colorbar\":{\"outlinewidth\":0,\"ticks\":\"\"}},\"colorscale\":{\"diverging\":[[0,\"#8e0152\"],[0.1,\"#c51b7d\"],[0.2,\"#de77ae\"],[0.3,\"#f1b6da\"],[0.4,\"#fde0ef\"],[0.5,\"#f7f7f7\"],[0.6,\"#e6f5d0\"],[0.7,\"#b8e186\"],[0.8,\"#7fbc41\"],[0.9,\"#4d9221\"],[1,\"#276419\"]],\"sequential\":[[0.0,\"#0d0887\"],[0.1111111111111111,\"#46039f\"],[0.2222222222222222,\"#7201a8\"],[0.3333333333333333,\"#9c179e\"],[0.4444444444444444,\"#bd3786\"],[0.5555555555555556,\"#d8576b\"],[0.6666666666666666,\"#ed7953\"],[0.7777777777777778,\"#fb9f3a\"],[0.8888888888888888,\"#fdca26\"],[1.0,\"#f0f921\"]],\"sequentialminus\":[[0.0,\"#0d0887\"],[0.1111111111111111,\"#46039f\"],[0.2222222222222222,\"#7201a8\"],[0.3333333333333333,\"#9c179e\"],[0.4444444444444444,\"#bd3786\"],[0.5555555555555556,\"#d8576b\"],[0.6666666666666666,\"#ed7953\"],[0.7777777777777778,\"#fb9f3a\"],[0.8888888888888888,\"#fdca26\"],[1.0,\"#f0f921\"]]},\"colorway\":[\"#636efa\",\"#EF553B\",\"#00cc96\",\"#ab63fa\",\"#FFA15A\",\"#19d3f3\",\"#FF6692\",\"#B6E880\",\"#FF97FF\",\"#FECB52\"],\"font\":{\"color\":\"#2a3f5f\"},\"geo\":{\"bgcolor\":\"white\",\"lakecolor\":\"white\",\"landcolor\":\"#E5ECF6\",\"showlakes\":true,\"showland\":true,\"subunitcolor\":\"white\"},\"hoverlabel\":{\"align\":\"left\"},\"hovermode\":\"closest\",\"mapbox\":{\"style\":\"light\"},\"paper_bgcolor\":\"white\",\"plot_bgcolor\":\"#E5ECF6\",\"polar\":{\"angularaxis\":{\"gridcolor\":\"white\",\"linecolor\":\"white\",\"ticks\":\"\"},\"bgcolor\":\"#E5ECF6\",\"radialaxis\":{\"gridcolor\":\"white\",\"linecolor\":\"white\",\"ticks\":\"\"}},\"scene\":{\"xaxis\":{\"backgroundcolor\":\"#E5ECF6\",\"gridcolor\":\"white\",\"gridwidth\":2,\"linecolor\":\"white\",\"showbackground\":true,\"ticks\":\"\",\"zerolinecolor\":\"white\"},\"yaxis\":{\"backgroundcolor\":\"#E5ECF6\",\"gridcolor\":\"white\",\"gridwidth\":2,\"linecolor\":\"white\",\"showbackground\":true,\"ticks\":\"\",\"zerolinecolor\":\"white\"},\"zaxis\":{\"backgroundcolor\":\"#E5ECF6\",\"gridcolor\":\"white\",\"gridwidth\":2,\"linecolor\":\"white\",\"showbackground\":true,\"ticks\":\"\",\"zerolinecolor\":\"white\"}},\"shapedefaults\":{\"line\":{\"color\":\"#2a3f5f\"}},\"ternary\":{\"aaxis\":{\"gridcolor\":\"white\",\"linecolor\":\"white\",\"ticks\":\"\"},\"baxis\":{\"gridcolor\":\"white\",\"linecolor\":\"white\",\"ticks\":\"\"},\"bgcolor\":\"#E5ECF6\",\"caxis\":{\"gridcolor\":\"white\",\"linecolor\":\"white\",\"ticks\":\"\"}},\"title\":{\"x\":0.05},\"xaxis\":{\"automargin\":true,\"gridcolor\":\"white\",\"linecolor\":\"white\",\"ticks\":\"\",\"title\":{\"standoff\":15},\"zerolinecolor\":\"white\",\"zerolinewidth\":2},\"yaxis\":{\"automargin\":true,\"gridcolor\":\"white\",\"linecolor\":\"white\",\"ticks\":\"\",\"title\":{\"standoff\":15},\"zerolinecolor\":\"white\",\"zerolinewidth\":2}}},\"xaxis\":{\"anchor\":\"y\",\"domain\":[0.0,1.0],\"title\":{\"text\":\"Count\"}},\"yaxis\":{\"anchor\":\"x\",\"domain\":[0.0,1.0],\"title\":{\"text\":\"Top of Words\"},\"categoryorder\":\"array\",\"categoryarray\":[\"as\",\"say\",\"use\",\"see\",\"call\",\"need\",\"thing\",\"want\",\"now\",\"hate\",\"time\",\"one\",\"make\",\"think\",\"know\",\"idiot\",\"go\",\"peopl\",\"fuck\",\"bulli\"]},\"legend\":{\"title\":{\"text\":\"Top of Words\"},\"tracegroupgap\":0},\"title\":{\"text\":\"Top 20 Words in Other Cyberbullying Tweet\"},\"barmode\":\"relative\",\"height\":700,\"width\":700},                        {\"responsive\": true}                    ).then(function(){\n",
       "                            \n",
       "var gd = document.getElementById('48451c60-c24d-441f-a192-ea0d9bb97a97');\n",
       "var x = new MutationObserver(function (mutations, observer) {{\n",
       "        var display = window.getComputedStyle(gd).display;\n",
       "        if (!display || display === 'none') {{\n",
       "            console.log([gd, 'removed!']);\n",
       "            Plotly.purge(gd);\n",
       "            observer.disconnect();\n",
       "        }}\n",
       "}});\n",
       "\n",
       "// Listen for the removal of the full notebook cells\n",
       "var notebookContainer = gd.closest('#notebook-container');\n",
       "if (notebookContainer) {{\n",
       "    x.observe(notebookContainer, {childList: true});\n",
       "}}\n",
       "\n",
       "// Listen for the clearing of the current output cell\n",
       "var outputEl = gd.closest('.output');\n",
       "if (outputEl) {{\n",
       "    x.observe(outputEl, {childList: true});\n",
       "}}\n",
       "\n",
       "                        })                };                });            </script>        </div>"
      ]
     },
     "metadata": {},
     "output_type": "display_data"
    }
   ],
   "source": [
    "o_fig = px.bar(type_o, x=\"Count\", y=\"Top of Words\", title='Top 20 Words in Other Cyberbullying Tweet', orientation='h', \n",
    "             width=700, height=700,color='Top of Words')\n",
    "o_fig.show()"
   ]
  },
  {
   "cell_type": "code",
   "execution_count": 20,
   "id": "5a7084c6",
   "metadata": {
    "execution": {
     "iopub.execute_input": "2022-01-27T07:17:18.445802Z",
     "iopub.status.busy": "2022-01-27T07:17:18.445262Z",
     "iopub.status.idle": "2022-01-27T07:17:18.487225Z",
     "shell.execute_reply": "2022-01-27T07:17:18.487862Z",
     "shell.execute_reply.started": "2022-01-27T04:56:36.064096Z"
    },
    "papermill": {
     "duration": 0.103043,
     "end_time": "2022-01-27T07:17:18.488084",
     "exception": false,
     "start_time": "2022-01-27T07:17:18.385041",
     "status": "completed"
    },
    "tags": []
   },
   "outputs": [
    {
     "data": {
      "text/html": [
       "<style type=\"text/css\">\n",
       "#T_b9622_row0_col1 {\n",
       "  background-color: #00441b;\n",
       "  color: #f1f1f1;\n",
       "}\n",
       "#T_b9622_row1_col1 {\n",
       "  background-color: #005321;\n",
       "  color: #f1f1f1;\n",
       "}\n",
       "#T_b9622_row2_col1 {\n",
       "  background-color: #65bd6f;\n",
       "  color: #f1f1f1;\n",
       "}\n",
       "#T_b9622_row3_col1 {\n",
       "  background-color: #76c578;\n",
       "  color: #000000;\n",
       "}\n",
       "#T_b9622_row4_col1 {\n",
       "  background-color: #edf8e9;\n",
       "  color: #000000;\n",
       "}\n",
       "#T_b9622_row5_col1 {\n",
       "  background-color: #eff9ec;\n",
       "  color: #000000;\n",
       "}\n",
       "#T_b9622_row6_col1 {\n",
       "  background-color: #f0f9ec;\n",
       "  color: #000000;\n",
       "}\n",
       "#T_b9622_row7_col1, #T_b9622_row8_col1 {\n",
       "  background-color: #f1faee;\n",
       "  color: #000000;\n",
       "}\n",
       "#T_b9622_row9_col1 {\n",
       "  background-color: #f2faef;\n",
       "  color: #000000;\n",
       "}\n",
       "#T_b9622_row10_col1 {\n",
       "  background-color: #f4fbf2;\n",
       "  color: #000000;\n",
       "}\n",
       "#T_b9622_row11_col1 {\n",
       "  background-color: #f5fbf2;\n",
       "  color: #000000;\n",
       "}\n",
       "#T_b9622_row12_col1 {\n",
       "  background-color: #f5fbf3;\n",
       "  color: #000000;\n",
       "}\n",
       "#T_b9622_row13_col1, #T_b9622_row14_col1 {\n",
       "  background-color: #f6fcf4;\n",
       "  color: #000000;\n",
       "}\n",
       "#T_b9622_row15_col1, #T_b9622_row16_col1, #T_b9622_row17_col1, #T_b9622_row18_col1, #T_b9622_row19_col1 {\n",
       "  background-color: #f7fcf5;\n",
       "  color: #000000;\n",
       "}\n",
       "</style>\n",
       "<table id=\"T_b9622_\">\n",
       "  <thead>\n",
       "    <tr>\n",
       "      <th class=\"blank level0\" >&nbsp;</th>\n",
       "      <th class=\"col_heading level0 col0\" >Top of Words</th>\n",
       "      <th class=\"col_heading level0 col1\" >Count</th>\n",
       "    </tr>\n",
       "  </thead>\n",
       "  <tbody>\n",
       "    <tr>\n",
       "      <th id=\"T_b9622_level0_row0\" class=\"row_heading level0 row0\" >0</th>\n",
       "      <td id=\"T_b9622_row0_col0\" class=\"data row0 col0\" >bulli</td>\n",
       "      <td id=\"T_b9622_row0_col1\" class=\"data row0 col1\" >8942</td>\n",
       "    </tr>\n",
       "    <tr>\n",
       "      <th id=\"T_b9622_level0_row1\" class=\"row_heading level0 row1\" >1</th>\n",
       "      <td id=\"T_b9622_row1_col0\" class=\"data row1 col0\" >school</td>\n",
       "      <td id=\"T_b9622_row1_col1\" class=\"data row1 col1\" >8523</td>\n",
       "    </tr>\n",
       "    <tr>\n",
       "      <th id=\"T_b9622_level0_row2\" class=\"row_heading level0 row2\" >2</th>\n",
       "      <td id=\"T_b9622_row2_col0\" class=\"data row2 col0\" >high</td>\n",
       "      <td id=\"T_b9622_row2_col1\" class=\"data row2 col1\" >4996</td>\n",
       "    </tr>\n",
       "    <tr>\n",
       "      <th id=\"T_b9622_level0_row3\" class=\"row_heading level0 row3\" >3</th>\n",
       "      <td id=\"T_b9622_row3_col0\" class=\"data row3 col0\" >girl</td>\n",
       "      <td id=\"T_b9622_row3_col1\" class=\"data row3 col1\" >4643</td>\n",
       "    </tr>\n",
       "    <tr>\n",
       "      <th id=\"T_b9622_level0_row4\" class=\"row_heading level0 row4\" >4</th>\n",
       "      <td id=\"T_b9622_row4_col0\" class=\"data row4 col0\" >one</td>\n",
       "      <td id=\"T_b9622_row4_col1\" class=\"data row4 col1\" >1051</td>\n",
       "    </tr>\n",
       "    <tr>\n",
       "      <th id=\"T_b9622_level0_row5\" class=\"row_heading level0 row5\" >5</th>\n",
       "      <td id=\"T_b9622_row5_col0\" class=\"data row5 col0\" >peopl</td>\n",
       "      <td id=\"T_b9622_row5_col1\" class=\"data row5 col1\" >935</td>\n",
       "    </tr>\n",
       "    <tr>\n",
       "      <th id=\"T_b9622_level0_row6\" class=\"row_heading level0 row6\" >6</th>\n",
       "      <td id=\"T_b9622_row6_col0\" class=\"data row6 col0\" >now</td>\n",
       "      <td id=\"T_b9622_row6_col1\" class=\"data row6 col1\" >913</td>\n",
       "    </tr>\n",
       "    <tr>\n",
       "      <th id=\"T_b9622_level0_row7\" class=\"row_heading level0 row7\" >7</th>\n",
       "      <td id=\"T_b9622_row7_col0\" class=\"data row7 col0\" >got</td>\n",
       "      <td id=\"T_b9622_row7_col1\" class=\"data row7 col1\" >818</td>\n",
       "    </tr>\n",
       "    <tr>\n",
       "      <th id=\"T_b9622_level0_row8\" class=\"row_heading level0 row8\" >8</th>\n",
       "      <td id=\"T_b9622_row8_col0\" class=\"data row8 col0\" >kid</td>\n",
       "      <td id=\"T_b9622_row8_col1\" class=\"data row8 col1\" >817</td>\n",
       "    </tr>\n",
       "    <tr>\n",
       "      <th id=\"T_b9622_level0_row9\" class=\"row_heading level0 row9\" >9</th>\n",
       "      <td id=\"T_b9622_row9_col0\" class=\"data row9 col0\" >middl</td>\n",
       "      <td id=\"T_b9622_row9_col1\" class=\"data row9 col1\" >784</td>\n",
       "    </tr>\n",
       "    <tr>\n",
       "      <th id=\"T_b9622_level0_row10\" class=\"row_heading level0 row10\" >10</th>\n",
       "      <td id=\"T_b9622_row10_col0\" class=\"data row10 col0\" >friend</td>\n",
       "      <td id=\"T_b9622_row10_col1\" class=\"data row10 col1\" >644</td>\n",
       "    </tr>\n",
       "    <tr>\n",
       "      <th id=\"T_b9622_level0_row11\" class=\"row_heading level0 row11\" >11</th>\n",
       "      <td id=\"T_b9622_row11_col0\" class=\"data row11 col0\" >year</td>\n",
       "      <td id=\"T_b9622_row11_col1\" class=\"data row11 col1\" >608</td>\n",
       "    </tr>\n",
       "    <tr>\n",
       "      <th id=\"T_b9622_level0_row12\" class=\"row_heading level0 row12\" >12</th>\n",
       "      <td id=\"T_b9622_row12_col0\" class=\"data row12 col0\" >go</td>\n",
       "      <td id=\"T_b9622_row12_col1\" class=\"data row12 col1\" >559</td>\n",
       "    </tr>\n",
       "    <tr>\n",
       "      <th id=\"T_b9622_level0_row13\" class=\"row_heading level0 row13\" >13</th>\n",
       "      <td id=\"T_b9622_row13_col0\" class=\"data row13 col0\" >look</td>\n",
       "      <td id=\"T_b9622_row13_col1\" class=\"data row13 col1\" >550</td>\n",
       "    </tr>\n",
       "    <tr>\n",
       "      <th id=\"T_b9622_level0_row14\" class=\"row_heading level0 row14\" >14</th>\n",
       "      <td id=\"T_b9622_row14_col0\" class=\"data row14 col0\" >know</td>\n",
       "      <td id=\"T_b9622_row14_col1\" class=\"data row14 col1\" >517</td>\n",
       "    </tr>\n",
       "    <tr>\n",
       "      <th id=\"T_b9622_level0_row15\" class=\"row_heading level0 row15\" >15</th>\n",
       "      <td id=\"T_b9622_row15_col0\" class=\"data row15 col0\" >time</td>\n",
       "      <td id=\"T_b9622_row15_col1\" class=\"data row15 col1\" >470</td>\n",
       "    </tr>\n",
       "    <tr>\n",
       "      <th id=\"T_b9622_level0_row16\" class=\"row_heading level0 row16\" >16</th>\n",
       "      <td id=\"T_b9622_row16_col0\" class=\"data row16 col0\" >say</td>\n",
       "      <td id=\"T_b9622_row16_col1\" class=\"data row16 col1\" >467</td>\n",
       "    </tr>\n",
       "    <tr>\n",
       "      <th id=\"T_b9622_level0_row17\" class=\"row_heading level0 row17\" >17</th>\n",
       "      <td id=\"T_b9622_row17_col0\" class=\"data row17 col0\" >think</td>\n",
       "      <td id=\"T_b9622_row17_col1\" class=\"data row17 col1\" >467</td>\n",
       "    </tr>\n",
       "    <tr>\n",
       "      <th id=\"T_b9622_level0_row18\" class=\"row_heading level0 row18\" >18</th>\n",
       "      <td id=\"T_b9622_row18_col0\" class=\"data row18 col0\" >back</td>\n",
       "      <td id=\"T_b9622_row18_col1\" class=\"data row18 col1\" >459</td>\n",
       "    </tr>\n",
       "    <tr>\n",
       "      <th id=\"T_b9622_level0_row19\" class=\"row_heading level0 row19\" >19</th>\n",
       "      <td id=\"T_b9622_row19_col0\" class=\"data row19 col0\" >make</td>\n",
       "      <td id=\"T_b9622_row19_col1\" class=\"data row19 col1\" >453</td>\n",
       "    </tr>\n",
       "  </tbody>\n",
       "</table>\n"
      ],
      "text/plain": [
       "<pandas.io.formats.style.Styler at 0x7f64c3d2bc50>"
      ]
     },
     "execution_count": 20,
     "metadata": {},
     "output_type": "execute_result"
    }
   ],
   "source": [
    "#Top 20 Words in Age Cyberbullying Tweet\n",
    "top20_a = Counter([item for sublist in age_type['tweet_list'] for item in sublist])\n",
    "type_a = pd.DataFrame(top20_a.most_common(20))\n",
    "type_a.columns = ['Top of Words','Count']\n",
    "type_a.style.background_gradient(cmap='Greens')"
   ]
  },
  {
   "cell_type": "code",
   "execution_count": 21,
   "id": "f23fe937",
   "metadata": {
    "execution": {
     "iopub.execute_input": "2022-01-27T07:17:18.639158Z",
     "iopub.status.busy": "2022-01-27T07:17:18.638114Z",
     "iopub.status.idle": "2022-01-27T07:17:18.803523Z",
     "shell.execute_reply": "2022-01-27T07:17:18.804125Z",
     "shell.execute_reply.started": "2022-01-27T04:56:36.101751Z"
    },
    "papermill": {
     "duration": 0.24195,
     "end_time": "2022-01-27T07:17:18.804331",
     "exception": false,
     "start_time": "2022-01-27T07:17:18.562381",
     "status": "completed"
    },
    "tags": []
   },
   "outputs": [
    {
     "data": {
      "text/html": [
       "<div>                            <div id=\"b6a28ee3-2882-4f1f-ac09-02c290b4bc54\" class=\"plotly-graph-div\" style=\"height:700px; width:700px;\"></div>            <script type=\"text/javascript\">                require([\"plotly\"], function(Plotly) {                    window.PLOTLYENV=window.PLOTLYENV || {};                                    if (document.getElementById(\"b6a28ee3-2882-4f1f-ac09-02c290b4bc54\")) {                    Plotly.newPlot(                        \"b6a28ee3-2882-4f1f-ac09-02c290b4bc54\",                        [{\"alignmentgroup\":\"True\",\"hovertemplate\":\"Top of Words=%{y}<br>Count=%{x}<extra></extra>\",\"legendgroup\":\"bulli\",\"marker\":{\"color\":\"#636efa\",\"pattern\":{\"shape\":\"\"}},\"name\":\"bulli\",\"offsetgroup\":\"bulli\",\"orientation\":\"h\",\"showlegend\":true,\"textposition\":\"auto\",\"x\":[8942],\"xaxis\":\"x\",\"y\":[\"bulli\"],\"yaxis\":\"y\",\"type\":\"bar\"},{\"alignmentgroup\":\"True\",\"hovertemplate\":\"Top of Words=%{y}<br>Count=%{x}<extra></extra>\",\"legendgroup\":\"school\",\"marker\":{\"color\":\"#EF553B\",\"pattern\":{\"shape\":\"\"}},\"name\":\"school\",\"offsetgroup\":\"school\",\"orientation\":\"h\",\"showlegend\":true,\"textposition\":\"auto\",\"x\":[8523],\"xaxis\":\"x\",\"y\":[\"school\"],\"yaxis\":\"y\",\"type\":\"bar\"},{\"alignmentgroup\":\"True\",\"hovertemplate\":\"Top of Words=%{y}<br>Count=%{x}<extra></extra>\",\"legendgroup\":\"high\",\"marker\":{\"color\":\"#00cc96\",\"pattern\":{\"shape\":\"\"}},\"name\":\"high\",\"offsetgroup\":\"high\",\"orientation\":\"h\",\"showlegend\":true,\"textposition\":\"auto\",\"x\":[4996],\"xaxis\":\"x\",\"y\":[\"high\"],\"yaxis\":\"y\",\"type\":\"bar\"},{\"alignmentgroup\":\"True\",\"hovertemplate\":\"Top of Words=%{y}<br>Count=%{x}<extra></extra>\",\"legendgroup\":\"girl\",\"marker\":{\"color\":\"#ab63fa\",\"pattern\":{\"shape\":\"\"}},\"name\":\"girl\",\"offsetgroup\":\"girl\",\"orientation\":\"h\",\"showlegend\":true,\"textposition\":\"auto\",\"x\":[4643],\"xaxis\":\"x\",\"y\":[\"girl\"],\"yaxis\":\"y\",\"type\":\"bar\"},{\"alignmentgroup\":\"True\",\"hovertemplate\":\"Top of Words=%{y}<br>Count=%{x}<extra></extra>\",\"legendgroup\":\"one\",\"marker\":{\"color\":\"#FFA15A\",\"pattern\":{\"shape\":\"\"}},\"name\":\"one\",\"offsetgroup\":\"one\",\"orientation\":\"h\",\"showlegend\":true,\"textposition\":\"auto\",\"x\":[1051],\"xaxis\":\"x\",\"y\":[\"one\"],\"yaxis\":\"y\",\"type\":\"bar\"},{\"alignmentgroup\":\"True\",\"hovertemplate\":\"Top of Words=%{y}<br>Count=%{x}<extra></extra>\",\"legendgroup\":\"peopl\",\"marker\":{\"color\":\"#19d3f3\",\"pattern\":{\"shape\":\"\"}},\"name\":\"peopl\",\"offsetgroup\":\"peopl\",\"orientation\":\"h\",\"showlegend\":true,\"textposition\":\"auto\",\"x\":[935],\"xaxis\":\"x\",\"y\":[\"peopl\"],\"yaxis\":\"y\",\"type\":\"bar\"},{\"alignmentgroup\":\"True\",\"hovertemplate\":\"Top of Words=%{y}<br>Count=%{x}<extra></extra>\",\"legendgroup\":\"now\",\"marker\":{\"color\":\"#FF6692\",\"pattern\":{\"shape\":\"\"}},\"name\":\"now\",\"offsetgroup\":\"now\",\"orientation\":\"h\",\"showlegend\":true,\"textposition\":\"auto\",\"x\":[913],\"xaxis\":\"x\",\"y\":[\"now\"],\"yaxis\":\"y\",\"type\":\"bar\"},{\"alignmentgroup\":\"True\",\"hovertemplate\":\"Top of Words=%{y}<br>Count=%{x}<extra></extra>\",\"legendgroup\":\"got\",\"marker\":{\"color\":\"#B6E880\",\"pattern\":{\"shape\":\"\"}},\"name\":\"got\",\"offsetgroup\":\"got\",\"orientation\":\"h\",\"showlegend\":true,\"textposition\":\"auto\",\"x\":[818],\"xaxis\":\"x\",\"y\":[\"got\"],\"yaxis\":\"y\",\"type\":\"bar\"},{\"alignmentgroup\":\"True\",\"hovertemplate\":\"Top of Words=%{y}<br>Count=%{x}<extra></extra>\",\"legendgroup\":\"kid\",\"marker\":{\"color\":\"#FF97FF\",\"pattern\":{\"shape\":\"\"}},\"name\":\"kid\",\"offsetgroup\":\"kid\",\"orientation\":\"h\",\"showlegend\":true,\"textposition\":\"auto\",\"x\":[817],\"xaxis\":\"x\",\"y\":[\"kid\"],\"yaxis\":\"y\",\"type\":\"bar\"},{\"alignmentgroup\":\"True\",\"hovertemplate\":\"Top of Words=%{y}<br>Count=%{x}<extra></extra>\",\"legendgroup\":\"middl\",\"marker\":{\"color\":\"#FECB52\",\"pattern\":{\"shape\":\"\"}},\"name\":\"middl\",\"offsetgroup\":\"middl\",\"orientation\":\"h\",\"showlegend\":true,\"textposition\":\"auto\",\"x\":[784],\"xaxis\":\"x\",\"y\":[\"middl\"],\"yaxis\":\"y\",\"type\":\"bar\"},{\"alignmentgroup\":\"True\",\"hovertemplate\":\"Top of Words=%{y}<br>Count=%{x}<extra></extra>\",\"legendgroup\":\"friend\",\"marker\":{\"color\":\"#636efa\",\"pattern\":{\"shape\":\"\"}},\"name\":\"friend\",\"offsetgroup\":\"friend\",\"orientation\":\"h\",\"showlegend\":true,\"textposition\":\"auto\",\"x\":[644],\"xaxis\":\"x\",\"y\":[\"friend\"],\"yaxis\":\"y\",\"type\":\"bar\"},{\"alignmentgroup\":\"True\",\"hovertemplate\":\"Top of Words=%{y}<br>Count=%{x}<extra></extra>\",\"legendgroup\":\"year\",\"marker\":{\"color\":\"#EF553B\",\"pattern\":{\"shape\":\"\"}},\"name\":\"year\",\"offsetgroup\":\"year\",\"orientation\":\"h\",\"showlegend\":true,\"textposition\":\"auto\",\"x\":[608],\"xaxis\":\"x\",\"y\":[\"year\"],\"yaxis\":\"y\",\"type\":\"bar\"},{\"alignmentgroup\":\"True\",\"hovertemplate\":\"Top of Words=%{y}<br>Count=%{x}<extra></extra>\",\"legendgroup\":\"go\",\"marker\":{\"color\":\"#00cc96\",\"pattern\":{\"shape\":\"\"}},\"name\":\"go\",\"offsetgroup\":\"go\",\"orientation\":\"h\",\"showlegend\":true,\"textposition\":\"auto\",\"x\":[559],\"xaxis\":\"x\",\"y\":[\"go\"],\"yaxis\":\"y\",\"type\":\"bar\"},{\"alignmentgroup\":\"True\",\"hovertemplate\":\"Top of Words=%{y}<br>Count=%{x}<extra></extra>\",\"legendgroup\":\"look\",\"marker\":{\"color\":\"#ab63fa\",\"pattern\":{\"shape\":\"\"}},\"name\":\"look\",\"offsetgroup\":\"look\",\"orientation\":\"h\",\"showlegend\":true,\"textposition\":\"auto\",\"x\":[550],\"xaxis\":\"x\",\"y\":[\"look\"],\"yaxis\":\"y\",\"type\":\"bar\"},{\"alignmentgroup\":\"True\",\"hovertemplate\":\"Top of Words=%{y}<br>Count=%{x}<extra></extra>\",\"legendgroup\":\"know\",\"marker\":{\"color\":\"#FFA15A\",\"pattern\":{\"shape\":\"\"}},\"name\":\"know\",\"offsetgroup\":\"know\",\"orientation\":\"h\",\"showlegend\":true,\"textposition\":\"auto\",\"x\":[517],\"xaxis\":\"x\",\"y\":[\"know\"],\"yaxis\":\"y\",\"type\":\"bar\"},{\"alignmentgroup\":\"True\",\"hovertemplate\":\"Top of Words=%{y}<br>Count=%{x}<extra></extra>\",\"legendgroup\":\"time\",\"marker\":{\"color\":\"#19d3f3\",\"pattern\":{\"shape\":\"\"}},\"name\":\"time\",\"offsetgroup\":\"time\",\"orientation\":\"h\",\"showlegend\":true,\"textposition\":\"auto\",\"x\":[470],\"xaxis\":\"x\",\"y\":[\"time\"],\"yaxis\":\"y\",\"type\":\"bar\"},{\"alignmentgroup\":\"True\",\"hovertemplate\":\"Top of Words=%{y}<br>Count=%{x}<extra></extra>\",\"legendgroup\":\"say\",\"marker\":{\"color\":\"#FF6692\",\"pattern\":{\"shape\":\"\"}},\"name\":\"say\",\"offsetgroup\":\"say\",\"orientation\":\"h\",\"showlegend\":true,\"textposition\":\"auto\",\"x\":[467],\"xaxis\":\"x\",\"y\":[\"say\"],\"yaxis\":\"y\",\"type\":\"bar\"},{\"alignmentgroup\":\"True\",\"hovertemplate\":\"Top of Words=%{y}<br>Count=%{x}<extra></extra>\",\"legendgroup\":\"think\",\"marker\":{\"color\":\"#B6E880\",\"pattern\":{\"shape\":\"\"}},\"name\":\"think\",\"offsetgroup\":\"think\",\"orientation\":\"h\",\"showlegend\":true,\"textposition\":\"auto\",\"x\":[467],\"xaxis\":\"x\",\"y\":[\"think\"],\"yaxis\":\"y\",\"type\":\"bar\"},{\"alignmentgroup\":\"True\",\"hovertemplate\":\"Top of Words=%{y}<br>Count=%{x}<extra></extra>\",\"legendgroup\":\"back\",\"marker\":{\"color\":\"#FF97FF\",\"pattern\":{\"shape\":\"\"}},\"name\":\"back\",\"offsetgroup\":\"back\",\"orientation\":\"h\",\"showlegend\":true,\"textposition\":\"auto\",\"x\":[459],\"xaxis\":\"x\",\"y\":[\"back\"],\"yaxis\":\"y\",\"type\":\"bar\"},{\"alignmentgroup\":\"True\",\"hovertemplate\":\"Top of Words=%{y}<br>Count=%{x}<extra></extra>\",\"legendgroup\":\"make\",\"marker\":{\"color\":\"#FECB52\",\"pattern\":{\"shape\":\"\"}},\"name\":\"make\",\"offsetgroup\":\"make\",\"orientation\":\"h\",\"showlegend\":true,\"textposition\":\"auto\",\"x\":[453],\"xaxis\":\"x\",\"y\":[\"make\"],\"yaxis\":\"y\",\"type\":\"bar\"}],                        {\"template\":{\"data\":{\"bar\":[{\"error_x\":{\"color\":\"#2a3f5f\"},\"error_y\":{\"color\":\"#2a3f5f\"},\"marker\":{\"line\":{\"color\":\"#E5ECF6\",\"width\":0.5},\"pattern\":{\"fillmode\":\"overlay\",\"size\":10,\"solidity\":0.2}},\"type\":\"bar\"}],\"barpolar\":[{\"marker\":{\"line\":{\"color\":\"#E5ECF6\",\"width\":0.5},\"pattern\":{\"fillmode\":\"overlay\",\"size\":10,\"solidity\":0.2}},\"type\":\"barpolar\"}],\"carpet\":[{\"aaxis\":{\"endlinecolor\":\"#2a3f5f\",\"gridcolor\":\"white\",\"linecolor\":\"white\",\"minorgridcolor\":\"white\",\"startlinecolor\":\"#2a3f5f\"},\"baxis\":{\"endlinecolor\":\"#2a3f5f\",\"gridcolor\":\"white\",\"linecolor\":\"white\",\"minorgridcolor\":\"white\",\"startlinecolor\":\"#2a3f5f\"},\"type\":\"carpet\"}],\"choropleth\":[{\"colorbar\":{\"outlinewidth\":0,\"ticks\":\"\"},\"type\":\"choropleth\"}],\"contour\":[{\"colorbar\":{\"outlinewidth\":0,\"ticks\":\"\"},\"colorscale\":[[0.0,\"#0d0887\"],[0.1111111111111111,\"#46039f\"],[0.2222222222222222,\"#7201a8\"],[0.3333333333333333,\"#9c179e\"],[0.4444444444444444,\"#bd3786\"],[0.5555555555555556,\"#d8576b\"],[0.6666666666666666,\"#ed7953\"],[0.7777777777777778,\"#fb9f3a\"],[0.8888888888888888,\"#fdca26\"],[1.0,\"#f0f921\"]],\"type\":\"contour\"}],\"contourcarpet\":[{\"colorbar\":{\"outlinewidth\":0,\"ticks\":\"\"},\"type\":\"contourcarpet\"}],\"heatmap\":[{\"colorbar\":{\"outlinewidth\":0,\"ticks\":\"\"},\"colorscale\":[[0.0,\"#0d0887\"],[0.1111111111111111,\"#46039f\"],[0.2222222222222222,\"#7201a8\"],[0.3333333333333333,\"#9c179e\"],[0.4444444444444444,\"#bd3786\"],[0.5555555555555556,\"#d8576b\"],[0.6666666666666666,\"#ed7953\"],[0.7777777777777778,\"#fb9f3a\"],[0.8888888888888888,\"#fdca26\"],[1.0,\"#f0f921\"]],\"type\":\"heatmap\"}],\"heatmapgl\":[{\"colorbar\":{\"outlinewidth\":0,\"ticks\":\"\"},\"colorscale\":[[0.0,\"#0d0887\"],[0.1111111111111111,\"#46039f\"],[0.2222222222222222,\"#7201a8\"],[0.3333333333333333,\"#9c179e\"],[0.4444444444444444,\"#bd3786\"],[0.5555555555555556,\"#d8576b\"],[0.6666666666666666,\"#ed7953\"],[0.7777777777777778,\"#fb9f3a\"],[0.8888888888888888,\"#fdca26\"],[1.0,\"#f0f921\"]],\"type\":\"heatmapgl\"}],\"histogram\":[{\"marker\":{\"pattern\":{\"fillmode\":\"overlay\",\"size\":10,\"solidity\":0.2}},\"type\":\"histogram\"}],\"histogram2d\":[{\"colorbar\":{\"outlinewidth\":0,\"ticks\":\"\"},\"colorscale\":[[0.0,\"#0d0887\"],[0.1111111111111111,\"#46039f\"],[0.2222222222222222,\"#7201a8\"],[0.3333333333333333,\"#9c179e\"],[0.4444444444444444,\"#bd3786\"],[0.5555555555555556,\"#d8576b\"],[0.6666666666666666,\"#ed7953\"],[0.7777777777777778,\"#fb9f3a\"],[0.8888888888888888,\"#fdca26\"],[1.0,\"#f0f921\"]],\"type\":\"histogram2d\"}],\"histogram2dcontour\":[{\"colorbar\":{\"outlinewidth\":0,\"ticks\":\"\"},\"colorscale\":[[0.0,\"#0d0887\"],[0.1111111111111111,\"#46039f\"],[0.2222222222222222,\"#7201a8\"],[0.3333333333333333,\"#9c179e\"],[0.4444444444444444,\"#bd3786\"],[0.5555555555555556,\"#d8576b\"],[0.6666666666666666,\"#ed7953\"],[0.7777777777777778,\"#fb9f3a\"],[0.8888888888888888,\"#fdca26\"],[1.0,\"#f0f921\"]],\"type\":\"histogram2dcontour\"}],\"mesh3d\":[{\"colorbar\":{\"outlinewidth\":0,\"ticks\":\"\"},\"type\":\"mesh3d\"}],\"parcoords\":[{\"line\":{\"colorbar\":{\"outlinewidth\":0,\"ticks\":\"\"}},\"type\":\"parcoords\"}],\"pie\":[{\"automargin\":true,\"type\":\"pie\"}],\"scatter\":[{\"marker\":{\"colorbar\":{\"outlinewidth\":0,\"ticks\":\"\"}},\"type\":\"scatter\"}],\"scatter3d\":[{\"line\":{\"colorbar\":{\"outlinewidth\":0,\"ticks\":\"\"}},\"marker\":{\"colorbar\":{\"outlinewidth\":0,\"ticks\":\"\"}},\"type\":\"scatter3d\"}],\"scattercarpet\":[{\"marker\":{\"colorbar\":{\"outlinewidth\":0,\"ticks\":\"\"}},\"type\":\"scattercarpet\"}],\"scattergeo\":[{\"marker\":{\"colorbar\":{\"outlinewidth\":0,\"ticks\":\"\"}},\"type\":\"scattergeo\"}],\"scattergl\":[{\"marker\":{\"colorbar\":{\"outlinewidth\":0,\"ticks\":\"\"}},\"type\":\"scattergl\"}],\"scattermapbox\":[{\"marker\":{\"colorbar\":{\"outlinewidth\":0,\"ticks\":\"\"}},\"type\":\"scattermapbox\"}],\"scatterpolar\":[{\"marker\":{\"colorbar\":{\"outlinewidth\":0,\"ticks\":\"\"}},\"type\":\"scatterpolar\"}],\"scatterpolargl\":[{\"marker\":{\"colorbar\":{\"outlinewidth\":0,\"ticks\":\"\"}},\"type\":\"scatterpolargl\"}],\"scatterternary\":[{\"marker\":{\"colorbar\":{\"outlinewidth\":0,\"ticks\":\"\"}},\"type\":\"scatterternary\"}],\"surface\":[{\"colorbar\":{\"outlinewidth\":0,\"ticks\":\"\"},\"colorscale\":[[0.0,\"#0d0887\"],[0.1111111111111111,\"#46039f\"],[0.2222222222222222,\"#7201a8\"],[0.3333333333333333,\"#9c179e\"],[0.4444444444444444,\"#bd3786\"],[0.5555555555555556,\"#d8576b\"],[0.6666666666666666,\"#ed7953\"],[0.7777777777777778,\"#fb9f3a\"],[0.8888888888888888,\"#fdca26\"],[1.0,\"#f0f921\"]],\"type\":\"surface\"}],\"table\":[{\"cells\":{\"fill\":{\"color\":\"#EBF0F8\"},\"line\":{\"color\":\"white\"}},\"header\":{\"fill\":{\"color\":\"#C8D4E3\"},\"line\":{\"color\":\"white\"}},\"type\":\"table\"}]},\"layout\":{\"annotationdefaults\":{\"arrowcolor\":\"#2a3f5f\",\"arrowhead\":0,\"arrowwidth\":1},\"autotypenumbers\":\"strict\",\"coloraxis\":{\"colorbar\":{\"outlinewidth\":0,\"ticks\":\"\"}},\"colorscale\":{\"diverging\":[[0,\"#8e0152\"],[0.1,\"#c51b7d\"],[0.2,\"#de77ae\"],[0.3,\"#f1b6da\"],[0.4,\"#fde0ef\"],[0.5,\"#f7f7f7\"],[0.6,\"#e6f5d0\"],[0.7,\"#b8e186\"],[0.8,\"#7fbc41\"],[0.9,\"#4d9221\"],[1,\"#276419\"]],\"sequential\":[[0.0,\"#0d0887\"],[0.1111111111111111,\"#46039f\"],[0.2222222222222222,\"#7201a8\"],[0.3333333333333333,\"#9c179e\"],[0.4444444444444444,\"#bd3786\"],[0.5555555555555556,\"#d8576b\"],[0.6666666666666666,\"#ed7953\"],[0.7777777777777778,\"#fb9f3a\"],[0.8888888888888888,\"#fdca26\"],[1.0,\"#f0f921\"]],\"sequentialminus\":[[0.0,\"#0d0887\"],[0.1111111111111111,\"#46039f\"],[0.2222222222222222,\"#7201a8\"],[0.3333333333333333,\"#9c179e\"],[0.4444444444444444,\"#bd3786\"],[0.5555555555555556,\"#d8576b\"],[0.6666666666666666,\"#ed7953\"],[0.7777777777777778,\"#fb9f3a\"],[0.8888888888888888,\"#fdca26\"],[1.0,\"#f0f921\"]]},\"colorway\":[\"#636efa\",\"#EF553B\",\"#00cc96\",\"#ab63fa\",\"#FFA15A\",\"#19d3f3\",\"#FF6692\",\"#B6E880\",\"#FF97FF\",\"#FECB52\"],\"font\":{\"color\":\"#2a3f5f\"},\"geo\":{\"bgcolor\":\"white\",\"lakecolor\":\"white\",\"landcolor\":\"#E5ECF6\",\"showlakes\":true,\"showland\":true,\"subunitcolor\":\"white\"},\"hoverlabel\":{\"align\":\"left\"},\"hovermode\":\"closest\",\"mapbox\":{\"style\":\"light\"},\"paper_bgcolor\":\"white\",\"plot_bgcolor\":\"#E5ECF6\",\"polar\":{\"angularaxis\":{\"gridcolor\":\"white\",\"linecolor\":\"white\",\"ticks\":\"\"},\"bgcolor\":\"#E5ECF6\",\"radialaxis\":{\"gridcolor\":\"white\",\"linecolor\":\"white\",\"ticks\":\"\"}},\"scene\":{\"xaxis\":{\"backgroundcolor\":\"#E5ECF6\",\"gridcolor\":\"white\",\"gridwidth\":2,\"linecolor\":\"white\",\"showbackground\":true,\"ticks\":\"\",\"zerolinecolor\":\"white\"},\"yaxis\":{\"backgroundcolor\":\"#E5ECF6\",\"gridcolor\":\"white\",\"gridwidth\":2,\"linecolor\":\"white\",\"showbackground\":true,\"ticks\":\"\",\"zerolinecolor\":\"white\"},\"zaxis\":{\"backgroundcolor\":\"#E5ECF6\",\"gridcolor\":\"white\",\"gridwidth\":2,\"linecolor\":\"white\",\"showbackground\":true,\"ticks\":\"\",\"zerolinecolor\":\"white\"}},\"shapedefaults\":{\"line\":{\"color\":\"#2a3f5f\"}},\"ternary\":{\"aaxis\":{\"gridcolor\":\"white\",\"linecolor\":\"white\",\"ticks\":\"\"},\"baxis\":{\"gridcolor\":\"white\",\"linecolor\":\"white\",\"ticks\":\"\"},\"bgcolor\":\"#E5ECF6\",\"caxis\":{\"gridcolor\":\"white\",\"linecolor\":\"white\",\"ticks\":\"\"}},\"title\":{\"x\":0.05},\"xaxis\":{\"automargin\":true,\"gridcolor\":\"white\",\"linecolor\":\"white\",\"ticks\":\"\",\"title\":{\"standoff\":15},\"zerolinecolor\":\"white\",\"zerolinewidth\":2},\"yaxis\":{\"automargin\":true,\"gridcolor\":\"white\",\"linecolor\":\"white\",\"ticks\":\"\",\"title\":{\"standoff\":15},\"zerolinecolor\":\"white\",\"zerolinewidth\":2}}},\"xaxis\":{\"anchor\":\"y\",\"domain\":[0.0,1.0],\"title\":{\"text\":\"Count\"}},\"yaxis\":{\"anchor\":\"x\",\"domain\":[0.0,1.0],\"title\":{\"text\":\"Top of Words\"},\"categoryorder\":\"array\",\"categoryarray\":[\"make\",\"back\",\"think\",\"say\",\"time\",\"know\",\"look\",\"go\",\"year\",\"friend\",\"middl\",\"kid\",\"got\",\"now\",\"peopl\",\"one\",\"girl\",\"high\",\"school\",\"bulli\"]},\"legend\":{\"title\":{\"text\":\"Top of Words\"},\"tracegroupgap\":0},\"title\":{\"text\":\"Top 20 Words in Age cyberbullying Tweet\"},\"barmode\":\"relative\",\"height\":700,\"width\":700},                        {\"responsive\": true}                    ).then(function(){\n",
       "                            \n",
       "var gd = document.getElementById('b6a28ee3-2882-4f1f-ac09-02c290b4bc54');\n",
       "var x = new MutationObserver(function (mutations, observer) {{\n",
       "        var display = window.getComputedStyle(gd).display;\n",
       "        if (!display || display === 'none') {{\n",
       "            console.log([gd, 'removed!']);\n",
       "            Plotly.purge(gd);\n",
       "            observer.disconnect();\n",
       "        }}\n",
       "}});\n",
       "\n",
       "// Listen for the removal of the full notebook cells\n",
       "var notebookContainer = gd.closest('#notebook-container');\n",
       "if (notebookContainer) {{\n",
       "    x.observe(notebookContainer, {childList: true});\n",
       "}}\n",
       "\n",
       "// Listen for the clearing of the current output cell\n",
       "var outputEl = gd.closest('.output');\n",
       "if (outputEl) {{\n",
       "    x.observe(outputEl, {childList: true});\n",
       "}}\n",
       "\n",
       "                        })                };                });            </script>        </div>"
      ]
     },
     "metadata": {},
     "output_type": "display_data"
    }
   ],
   "source": [
    "a_fig = px.bar(type_a, x=\"Count\", y=\"Top of Words\", title='Top 20 Words in Age cyberbullying Tweet', orientation='h', \n",
    "             width=700, height=700,color='Top of Words')\n",
    "a_fig.show()"
   ]
  },
  {
   "cell_type": "code",
   "execution_count": 22,
   "id": "31c84ae1",
   "metadata": {
    "execution": {
     "iopub.execute_input": "2022-01-27T07:17:18.974532Z",
     "iopub.status.busy": "2022-01-27T07:17:18.971070Z",
     "iopub.status.idle": "2022-01-27T07:17:18.985721Z",
     "shell.execute_reply": "2022-01-27T07:17:18.985074Z",
     "shell.execute_reply.started": "2022-01-27T04:56:36.237951Z"
    },
    "papermill": {
     "duration": 0.108378,
     "end_time": "2022-01-27T07:17:18.985860",
     "exception": false,
     "start_time": "2022-01-27T07:17:18.877482",
     "status": "completed"
    },
    "tags": []
   },
   "outputs": [
    {
     "data": {
      "text/html": [
       "<style type=\"text/css\">\n",
       "#T_37bf4_row0_col1 {\n",
       "  background-color: #00441b;\n",
       "  color: #f1f1f1;\n",
       "}\n",
       "#T_37bf4_row1_col1 {\n",
       "  background-color: #005a24;\n",
       "  color: #f1f1f1;\n",
       "}\n",
       "#T_37bf4_row2_col1 {\n",
       "  background-color: #0d7836;\n",
       "  color: #f1f1f1;\n",
       "}\n",
       "#T_37bf4_row3_col1 {\n",
       "  background-color: #b7e2b1;\n",
       "  color: #000000;\n",
       "}\n",
       "#T_37bf4_row4_col1 {\n",
       "  background-color: #bbe4b4;\n",
       "  color: #000000;\n",
       "}\n",
       "#T_37bf4_row5_col1 {\n",
       "  background-color: #d8f0d2;\n",
       "  color: #000000;\n",
       "}\n",
       "#T_37bf4_row6_col1 {\n",
       "  background-color: #e0f3db;\n",
       "  color: #000000;\n",
       "}\n",
       "#T_37bf4_row7_col1 {\n",
       "  background-color: #e8f6e3;\n",
       "  color: #000000;\n",
       "}\n",
       "#T_37bf4_row8_col1, #T_37bf4_row9_col1 {\n",
       "  background-color: #ebf7e7;\n",
       "  color: #000000;\n",
       "}\n",
       "#T_37bf4_row10_col1 {\n",
       "  background-color: #ecf8e8;\n",
       "  color: #000000;\n",
       "}\n",
       "#T_37bf4_row11_col1 {\n",
       "  background-color: #f1faee;\n",
       "  color: #000000;\n",
       "}\n",
       "#T_37bf4_row12_col1 {\n",
       "  background-color: #f2faef;\n",
       "  color: #000000;\n",
       "}\n",
       "#T_37bf4_row13_col1 {\n",
       "  background-color: #f4fbf1;\n",
       "  color: #000000;\n",
       "}\n",
       "#T_37bf4_row14_col1 {\n",
       "  background-color: #f5fbf2;\n",
       "  color: #000000;\n",
       "}\n",
       "#T_37bf4_row15_col1 {\n",
       "  background-color: #f5fbf3;\n",
       "  color: #000000;\n",
       "}\n",
       "#T_37bf4_row16_col1, #T_37bf4_row17_col1, #T_37bf4_row18_col1 {\n",
       "  background-color: #f6fcf4;\n",
       "  color: #000000;\n",
       "}\n",
       "#T_37bf4_row19_col1 {\n",
       "  background-color: #f7fcf5;\n",
       "  color: #000000;\n",
       "}\n",
       "</style>\n",
       "<table id=\"T_37bf4_\">\n",
       "  <thead>\n",
       "    <tr>\n",
       "      <th class=\"blank level0\" >&nbsp;</th>\n",
       "      <th class=\"col_heading level0 col0\" >Top of Words</th>\n",
       "      <th class=\"col_heading level0 col1\" >Count</th>\n",
       "    </tr>\n",
       "  </thead>\n",
       "  <tbody>\n",
       "    <tr>\n",
       "      <th id=\"T_37bf4_level0_row0\" class=\"row_heading level0 row0\" >0</th>\n",
       "      <td id=\"T_37bf4_row0_col0\" class=\"data row0 col0\" >fuck</td>\n",
       "      <td id=\"T_37bf4_row0_col1\" class=\"data row0 col1\" >5989</td>\n",
       "    </tr>\n",
       "    <tr>\n",
       "      <th id=\"T_37bf4_level0_row1\" class=\"row_heading level0 row1\" >1</th>\n",
       "      <td id=\"T_37bf4_row1_col0\" class=\"data row1 col0\" >nigger</td>\n",
       "      <td id=\"T_37bf4_row1_col1\" class=\"data row1 col1\" >5611</td>\n",
       "    </tr>\n",
       "    <tr>\n",
       "      <th id=\"T_37bf4_level0_row2\" class=\"row_heading level0 row2\" >2</th>\n",
       "      <td id=\"T_37bf4_row2_col0\" class=\"data row2 col0\" >dumb</td>\n",
       "      <td id=\"T_37bf4_row2_col1\" class=\"data row2 col1\" >5063</td>\n",
       "    </tr>\n",
       "    <tr>\n",
       "      <th id=\"T_37bf4_level0_row3\" class=\"row_heading level0 row3\" >3</th>\n",
       "      <td id=\"T_37bf4_row3_col0\" class=\"data row3 col0\" >as</td>\n",
       "      <td id=\"T_37bf4_row3_col1\" class=\"data row3 col1\" >2250</td>\n",
       "    </tr>\n",
       "    <tr>\n",
       "      <th id=\"T_37bf4_level0_row4\" class=\"row_heading level0 row4\" >4</th>\n",
       "      <td id=\"T_37bf4_row4_col0\" class=\"data row4 col0\" >black</td>\n",
       "      <td id=\"T_37bf4_row4_col1\" class=\"data row4 col1\" >2183</td>\n",
       "    </tr>\n",
       "    <tr>\n",
       "      <th id=\"T_37bf4_level0_row5\" class=\"row_heading level0 row5\" >5</th>\n",
       "      <td id=\"T_37bf4_row5_col0\" class=\"data row5 col0\" >white</td>\n",
       "      <td id=\"T_37bf4_row5_col1\" class=\"data row5 col1\" >1591</td>\n",
       "    </tr>\n",
       "    <tr>\n",
       "      <th id=\"T_37bf4_level0_row6\" class=\"row_heading level0 row6\" >6</th>\n",
       "      <td id=\"T_37bf4_row6_col0\" class=\"data row6 col0\" >call</td>\n",
       "      <td id=\"T_37bf4_row6_col1\" class=\"data row6 col1\" >1392</td>\n",
       "    </tr>\n",
       "    <tr>\n",
       "      <th id=\"T_37bf4_level0_row7\" class=\"row_heading level0 row7\" >7</th>\n",
       "      <td id=\"T_37bf4_row7_col0\" class=\"data row7 col0\" >peopl</td>\n",
       "      <td id=\"T_37bf4_row7_col1\" class=\"data row7 col1\" >1190</td>\n",
       "    </tr>\n",
       "    <tr>\n",
       "      <th id=\"T_37bf4_level0_row8\" class=\"row_heading level0 row8\" >8</th>\n",
       "      <td id=\"T_37bf4_row8_col0\" class=\"data row8 col0\" >obama</td>\n",
       "      <td id=\"T_37bf4_row8_col1\" class=\"data row8 col1\" >1086</td>\n",
       "    </tr>\n",
       "    <tr>\n",
       "      <th id=\"T_37bf4_level0_row9\" class=\"row_heading level0 row9\" >9</th>\n",
       "      <td id=\"T_37bf4_row9_col0\" class=\"data row9 col0\" >one</td>\n",
       "      <td id=\"T_37bf4_row9_col1\" class=\"data row9 col1\" >1082</td>\n",
       "    </tr>\n",
       "    <tr>\n",
       "      <th id=\"T_37bf4_level0_row10\" class=\"row_heading level0 row10\" >10</th>\n",
       "      <td id=\"T_37bf4_row10_col0\" class=\"data row10 col0\" >bitch</td>\n",
       "      <td id=\"T_37bf4_row10_col1\" class=\"data row10 col1\" >1028</td>\n",
       "    </tr>\n",
       "    <tr>\n",
       "      <th id=\"T_37bf4_level0_row11\" class=\"row_heading level0 row11\" >11</th>\n",
       "      <td id=\"T_37bf4_row11_col0\" class=\"data row11 col0\" >say</td>\n",
       "      <td id=\"T_37bf4_row11_col1\" class=\"data row11 col1\" >833</td>\n",
       "    </tr>\n",
       "    <tr>\n",
       "      <th id=\"T_37bf4_level0_row12\" class=\"row_heading level0 row12\" >12</th>\n",
       "      <td id=\"T_37bf4_row12_col0\" class=\"data row12 col0\" >tayyoung</td>\n",
       "      <td id=\"T_37bf4_row12_col1\" class=\"data row12 col1\" >819</td>\n",
       "    </tr>\n",
       "    <tr>\n",
       "      <th id=\"T_37bf4_level0_row13\" class=\"row_heading level0 row13\" >13</th>\n",
       "      <td id=\"T_37bf4_row13_col0\" class=\"data row13 col0\" >first</td>\n",
       "      <td id=\"T_37bf4_row13_col1\" class=\"data row13 col1\" >748</td>\n",
       "    </tr>\n",
       "    <tr>\n",
       "      <th id=\"T_37bf4_level0_row14\" class=\"row_heading level0 row14\" >14</th>\n",
       "      <td id=\"T_37bf4_row14_col0\" class=\"data row14 col0\" >anyth</td>\n",
       "      <td id=\"T_37bf4_row14_col1\" class=\"data row14 col1\" >711</td>\n",
       "    </tr>\n",
       "    <tr>\n",
       "      <th id=\"T_37bf4_level0_row15\" class=\"row_heading level0 row15\" >15</th>\n",
       "      <td id=\"T_37bf4_row15_col0\" class=\"data row15 col0\" >racism</td>\n",
       "      <td id=\"T_37bf4_row15_col1\" class=\"data row15 col1\" >679</td>\n",
       "    </tr>\n",
       "    <tr>\n",
       "      <th id=\"T_37bf4_level0_row16\" class=\"row_heading level0 row16\" >16</th>\n",
       "      <td id=\"T_37bf4_row16_col0\" class=\"data row16 col0\" >past</td>\n",
       "      <td id=\"T_37bf4_row16_col1\" class=\"data row16 col1\" >675</td>\n",
       "    </tr>\n",
       "    <tr>\n",
       "      <th id=\"T_37bf4_level0_row17\" class=\"row_heading level0 row17\" >17</th>\n",
       "      <td id=\"T_37bf4_row17_col0\" class=\"data row17 col0\" >negro</td>\n",
       "      <td id=\"T_37bf4_row17_col1\" class=\"data row17 col1\" >663</td>\n",
       "    </tr>\n",
       "    <tr>\n",
       "      <th id=\"T_37bf4_level0_row18\" class=\"row_heading level0 row18\" >18</th>\n",
       "      <td id=\"T_37bf4_row18_col0\" class=\"data row18 col0\" >shit</td>\n",
       "      <td id=\"T_37bf4_row18_col1\" class=\"data row18 col1\" >653</td>\n",
       "    </tr>\n",
       "    <tr>\n",
       "      <th id=\"T_37bf4_level0_row19\" class=\"row_heading level0 row19\" >19</th>\n",
       "      <td id=\"T_37bf4_row19_col0\" class=\"data row19 col0\" >color</td>\n",
       "      <td id=\"T_37bf4_row19_col1\" class=\"data row19 col1\" >613</td>\n",
       "    </tr>\n",
       "  </tbody>\n",
       "</table>\n"
      ],
      "text/plain": [
       "<pandas.io.formats.style.Styler at 0x7f64c3c79850>"
      ]
     },
     "execution_count": 22,
     "metadata": {},
     "output_type": "execute_result"
    }
   ],
   "source": [
    "#Top 20 Words in Ethnicity Cyberbullying Tweet\n",
    "top20_e = Counter([item for sublist in ethnicity_type['tweet_list'] for item in sublist])\n",
    "type_e = pd.DataFrame(top20_e.most_common(20))\n",
    "type_e.columns = ['Top of Words','Count']\n",
    "type_e.style.background_gradient(cmap='Greens')"
   ]
  },
  {
   "cell_type": "code",
   "execution_count": 23,
   "id": "9004d094",
   "metadata": {
    "execution": {
     "iopub.execute_input": "2022-01-27T07:17:19.237379Z",
     "iopub.status.busy": "2022-01-27T07:17:19.144467Z",
     "iopub.status.idle": "2022-01-27T07:17:19.307916Z",
     "shell.execute_reply": "2022-01-27T07:17:19.308448Z",
     "shell.execute_reply.started": "2022-01-27T04:56:36.273681Z"
    },
    "papermill": {
     "duration": 0.245649,
     "end_time": "2022-01-27T07:17:19.308605",
     "exception": false,
     "start_time": "2022-01-27T07:17:19.062956",
     "status": "completed"
    },
    "tags": []
   },
   "outputs": [
    {
     "data": {
      "text/html": [
       "<div>                            <div id=\"2f476a60-a30d-4892-ada5-e84c14c12a5a\" class=\"plotly-graph-div\" style=\"height:700px; width:700px;\"></div>            <script type=\"text/javascript\">                require([\"plotly\"], function(Plotly) {                    window.PLOTLYENV=window.PLOTLYENV || {};                                    if (document.getElementById(\"2f476a60-a30d-4892-ada5-e84c14c12a5a\")) {                    Plotly.newPlot(                        \"2f476a60-a30d-4892-ada5-e84c14c12a5a\",                        [{\"alignmentgroup\":\"True\",\"hovertemplate\":\"Top of Words=%{y}<br>Count=%{x}<extra></extra>\",\"legendgroup\":\"fuck\",\"marker\":{\"color\":\"#636efa\",\"pattern\":{\"shape\":\"\"}},\"name\":\"fuck\",\"offsetgroup\":\"fuck\",\"orientation\":\"h\",\"showlegend\":true,\"textposition\":\"auto\",\"x\":[5989],\"xaxis\":\"x\",\"y\":[\"fuck\"],\"yaxis\":\"y\",\"type\":\"bar\"},{\"alignmentgroup\":\"True\",\"hovertemplate\":\"Top of Words=%{y}<br>Count=%{x}<extra></extra>\",\"legendgroup\":\"nigger\",\"marker\":{\"color\":\"#EF553B\",\"pattern\":{\"shape\":\"\"}},\"name\":\"nigger\",\"offsetgroup\":\"nigger\",\"orientation\":\"h\",\"showlegend\":true,\"textposition\":\"auto\",\"x\":[5611],\"xaxis\":\"x\",\"y\":[\"nigger\"],\"yaxis\":\"y\",\"type\":\"bar\"},{\"alignmentgroup\":\"True\",\"hovertemplate\":\"Top of Words=%{y}<br>Count=%{x}<extra></extra>\",\"legendgroup\":\"dumb\",\"marker\":{\"color\":\"#00cc96\",\"pattern\":{\"shape\":\"\"}},\"name\":\"dumb\",\"offsetgroup\":\"dumb\",\"orientation\":\"h\",\"showlegend\":true,\"textposition\":\"auto\",\"x\":[5063],\"xaxis\":\"x\",\"y\":[\"dumb\"],\"yaxis\":\"y\",\"type\":\"bar\"},{\"alignmentgroup\":\"True\",\"hovertemplate\":\"Top of Words=%{y}<br>Count=%{x}<extra></extra>\",\"legendgroup\":\"as\",\"marker\":{\"color\":\"#ab63fa\",\"pattern\":{\"shape\":\"\"}},\"name\":\"as\",\"offsetgroup\":\"as\",\"orientation\":\"h\",\"showlegend\":true,\"textposition\":\"auto\",\"x\":[2250],\"xaxis\":\"x\",\"y\":[\"as\"],\"yaxis\":\"y\",\"type\":\"bar\"},{\"alignmentgroup\":\"True\",\"hovertemplate\":\"Top of Words=%{y}<br>Count=%{x}<extra></extra>\",\"legendgroup\":\"black\",\"marker\":{\"color\":\"#FFA15A\",\"pattern\":{\"shape\":\"\"}},\"name\":\"black\",\"offsetgroup\":\"black\",\"orientation\":\"h\",\"showlegend\":true,\"textposition\":\"auto\",\"x\":[2183],\"xaxis\":\"x\",\"y\":[\"black\"],\"yaxis\":\"y\",\"type\":\"bar\"},{\"alignmentgroup\":\"True\",\"hovertemplate\":\"Top of Words=%{y}<br>Count=%{x}<extra></extra>\",\"legendgroup\":\"white\",\"marker\":{\"color\":\"#19d3f3\",\"pattern\":{\"shape\":\"\"}},\"name\":\"white\",\"offsetgroup\":\"white\",\"orientation\":\"h\",\"showlegend\":true,\"textposition\":\"auto\",\"x\":[1591],\"xaxis\":\"x\",\"y\":[\"white\"],\"yaxis\":\"y\",\"type\":\"bar\"},{\"alignmentgroup\":\"True\",\"hovertemplate\":\"Top of Words=%{y}<br>Count=%{x}<extra></extra>\",\"legendgroup\":\"call\",\"marker\":{\"color\":\"#FF6692\",\"pattern\":{\"shape\":\"\"}},\"name\":\"call\",\"offsetgroup\":\"call\",\"orientation\":\"h\",\"showlegend\":true,\"textposition\":\"auto\",\"x\":[1392],\"xaxis\":\"x\",\"y\":[\"call\"],\"yaxis\":\"y\",\"type\":\"bar\"},{\"alignmentgroup\":\"True\",\"hovertemplate\":\"Top of Words=%{y}<br>Count=%{x}<extra></extra>\",\"legendgroup\":\"peopl\",\"marker\":{\"color\":\"#B6E880\",\"pattern\":{\"shape\":\"\"}},\"name\":\"peopl\",\"offsetgroup\":\"peopl\",\"orientation\":\"h\",\"showlegend\":true,\"textposition\":\"auto\",\"x\":[1190],\"xaxis\":\"x\",\"y\":[\"peopl\"],\"yaxis\":\"y\",\"type\":\"bar\"},{\"alignmentgroup\":\"True\",\"hovertemplate\":\"Top of Words=%{y}<br>Count=%{x}<extra></extra>\",\"legendgroup\":\"obama\",\"marker\":{\"color\":\"#FF97FF\",\"pattern\":{\"shape\":\"\"}},\"name\":\"obama\",\"offsetgroup\":\"obama\",\"orientation\":\"h\",\"showlegend\":true,\"textposition\":\"auto\",\"x\":[1086],\"xaxis\":\"x\",\"y\":[\"obama\"],\"yaxis\":\"y\",\"type\":\"bar\"},{\"alignmentgroup\":\"True\",\"hovertemplate\":\"Top of Words=%{y}<br>Count=%{x}<extra></extra>\",\"legendgroup\":\"one\",\"marker\":{\"color\":\"#FECB52\",\"pattern\":{\"shape\":\"\"}},\"name\":\"one\",\"offsetgroup\":\"one\",\"orientation\":\"h\",\"showlegend\":true,\"textposition\":\"auto\",\"x\":[1082],\"xaxis\":\"x\",\"y\":[\"one\"],\"yaxis\":\"y\",\"type\":\"bar\"},{\"alignmentgroup\":\"True\",\"hovertemplate\":\"Top of Words=%{y}<br>Count=%{x}<extra></extra>\",\"legendgroup\":\"bitch\",\"marker\":{\"color\":\"#636efa\",\"pattern\":{\"shape\":\"\"}},\"name\":\"bitch\",\"offsetgroup\":\"bitch\",\"orientation\":\"h\",\"showlegend\":true,\"textposition\":\"auto\",\"x\":[1028],\"xaxis\":\"x\",\"y\":[\"bitch\"],\"yaxis\":\"y\",\"type\":\"bar\"},{\"alignmentgroup\":\"True\",\"hovertemplate\":\"Top of Words=%{y}<br>Count=%{x}<extra></extra>\",\"legendgroup\":\"say\",\"marker\":{\"color\":\"#EF553B\",\"pattern\":{\"shape\":\"\"}},\"name\":\"say\",\"offsetgroup\":\"say\",\"orientation\":\"h\",\"showlegend\":true,\"textposition\":\"auto\",\"x\":[833],\"xaxis\":\"x\",\"y\":[\"say\"],\"yaxis\":\"y\",\"type\":\"bar\"},{\"alignmentgroup\":\"True\",\"hovertemplate\":\"Top of Words=%{y}<br>Count=%{x}<extra></extra>\",\"legendgroup\":\"tayyoung\",\"marker\":{\"color\":\"#00cc96\",\"pattern\":{\"shape\":\"\"}},\"name\":\"tayyoung\",\"offsetgroup\":\"tayyoung\",\"orientation\":\"h\",\"showlegend\":true,\"textposition\":\"auto\",\"x\":[819],\"xaxis\":\"x\",\"y\":[\"tayyoung\"],\"yaxis\":\"y\",\"type\":\"bar\"},{\"alignmentgroup\":\"True\",\"hovertemplate\":\"Top of Words=%{y}<br>Count=%{x}<extra></extra>\",\"legendgroup\":\"first\",\"marker\":{\"color\":\"#ab63fa\",\"pattern\":{\"shape\":\"\"}},\"name\":\"first\",\"offsetgroup\":\"first\",\"orientation\":\"h\",\"showlegend\":true,\"textposition\":\"auto\",\"x\":[748],\"xaxis\":\"x\",\"y\":[\"first\"],\"yaxis\":\"y\",\"type\":\"bar\"},{\"alignmentgroup\":\"True\",\"hovertemplate\":\"Top of Words=%{y}<br>Count=%{x}<extra></extra>\",\"legendgroup\":\"anyth\",\"marker\":{\"color\":\"#FFA15A\",\"pattern\":{\"shape\":\"\"}},\"name\":\"anyth\",\"offsetgroup\":\"anyth\",\"orientation\":\"h\",\"showlegend\":true,\"textposition\":\"auto\",\"x\":[711],\"xaxis\":\"x\",\"y\":[\"anyth\"],\"yaxis\":\"y\",\"type\":\"bar\"},{\"alignmentgroup\":\"True\",\"hovertemplate\":\"Top of Words=%{y}<br>Count=%{x}<extra></extra>\",\"legendgroup\":\"racism\",\"marker\":{\"color\":\"#19d3f3\",\"pattern\":{\"shape\":\"\"}},\"name\":\"racism\",\"offsetgroup\":\"racism\",\"orientation\":\"h\",\"showlegend\":true,\"textposition\":\"auto\",\"x\":[679],\"xaxis\":\"x\",\"y\":[\"racism\"],\"yaxis\":\"y\",\"type\":\"bar\"},{\"alignmentgroup\":\"True\",\"hovertemplate\":\"Top of Words=%{y}<br>Count=%{x}<extra></extra>\",\"legendgroup\":\"past\",\"marker\":{\"color\":\"#FF6692\",\"pattern\":{\"shape\":\"\"}},\"name\":\"past\",\"offsetgroup\":\"past\",\"orientation\":\"h\",\"showlegend\":true,\"textposition\":\"auto\",\"x\":[675],\"xaxis\":\"x\",\"y\":[\"past\"],\"yaxis\":\"y\",\"type\":\"bar\"},{\"alignmentgroup\":\"True\",\"hovertemplate\":\"Top of Words=%{y}<br>Count=%{x}<extra></extra>\",\"legendgroup\":\"negro\",\"marker\":{\"color\":\"#B6E880\",\"pattern\":{\"shape\":\"\"}},\"name\":\"negro\",\"offsetgroup\":\"negro\",\"orientation\":\"h\",\"showlegend\":true,\"textposition\":\"auto\",\"x\":[663],\"xaxis\":\"x\",\"y\":[\"negro\"],\"yaxis\":\"y\",\"type\":\"bar\"},{\"alignmentgroup\":\"True\",\"hovertemplate\":\"Top of Words=%{y}<br>Count=%{x}<extra></extra>\",\"legendgroup\":\"shit\",\"marker\":{\"color\":\"#FF97FF\",\"pattern\":{\"shape\":\"\"}},\"name\":\"shit\",\"offsetgroup\":\"shit\",\"orientation\":\"h\",\"showlegend\":true,\"textposition\":\"auto\",\"x\":[653],\"xaxis\":\"x\",\"y\":[\"shit\"],\"yaxis\":\"y\",\"type\":\"bar\"},{\"alignmentgroup\":\"True\",\"hovertemplate\":\"Top of Words=%{y}<br>Count=%{x}<extra></extra>\",\"legendgroup\":\"color\",\"marker\":{\"color\":\"#FECB52\",\"pattern\":{\"shape\":\"\"}},\"name\":\"color\",\"offsetgroup\":\"color\",\"orientation\":\"h\",\"showlegend\":true,\"textposition\":\"auto\",\"x\":[613],\"xaxis\":\"x\",\"y\":[\"color\"],\"yaxis\":\"y\",\"type\":\"bar\"}],                        {\"template\":{\"data\":{\"bar\":[{\"error_x\":{\"color\":\"#2a3f5f\"},\"error_y\":{\"color\":\"#2a3f5f\"},\"marker\":{\"line\":{\"color\":\"#E5ECF6\",\"width\":0.5},\"pattern\":{\"fillmode\":\"overlay\",\"size\":10,\"solidity\":0.2}},\"type\":\"bar\"}],\"barpolar\":[{\"marker\":{\"line\":{\"color\":\"#E5ECF6\",\"width\":0.5},\"pattern\":{\"fillmode\":\"overlay\",\"size\":10,\"solidity\":0.2}},\"type\":\"barpolar\"}],\"carpet\":[{\"aaxis\":{\"endlinecolor\":\"#2a3f5f\",\"gridcolor\":\"white\",\"linecolor\":\"white\",\"minorgridcolor\":\"white\",\"startlinecolor\":\"#2a3f5f\"},\"baxis\":{\"endlinecolor\":\"#2a3f5f\",\"gridcolor\":\"white\",\"linecolor\":\"white\",\"minorgridcolor\":\"white\",\"startlinecolor\":\"#2a3f5f\"},\"type\":\"carpet\"}],\"choropleth\":[{\"colorbar\":{\"outlinewidth\":0,\"ticks\":\"\"},\"type\":\"choropleth\"}],\"contour\":[{\"colorbar\":{\"outlinewidth\":0,\"ticks\":\"\"},\"colorscale\":[[0.0,\"#0d0887\"],[0.1111111111111111,\"#46039f\"],[0.2222222222222222,\"#7201a8\"],[0.3333333333333333,\"#9c179e\"],[0.4444444444444444,\"#bd3786\"],[0.5555555555555556,\"#d8576b\"],[0.6666666666666666,\"#ed7953\"],[0.7777777777777778,\"#fb9f3a\"],[0.8888888888888888,\"#fdca26\"],[1.0,\"#f0f921\"]],\"type\":\"contour\"}],\"contourcarpet\":[{\"colorbar\":{\"outlinewidth\":0,\"ticks\":\"\"},\"type\":\"contourcarpet\"}],\"heatmap\":[{\"colorbar\":{\"outlinewidth\":0,\"ticks\":\"\"},\"colorscale\":[[0.0,\"#0d0887\"],[0.1111111111111111,\"#46039f\"],[0.2222222222222222,\"#7201a8\"],[0.3333333333333333,\"#9c179e\"],[0.4444444444444444,\"#bd3786\"],[0.5555555555555556,\"#d8576b\"],[0.6666666666666666,\"#ed7953\"],[0.7777777777777778,\"#fb9f3a\"],[0.8888888888888888,\"#fdca26\"],[1.0,\"#f0f921\"]],\"type\":\"heatmap\"}],\"heatmapgl\":[{\"colorbar\":{\"outlinewidth\":0,\"ticks\":\"\"},\"colorscale\":[[0.0,\"#0d0887\"],[0.1111111111111111,\"#46039f\"],[0.2222222222222222,\"#7201a8\"],[0.3333333333333333,\"#9c179e\"],[0.4444444444444444,\"#bd3786\"],[0.5555555555555556,\"#d8576b\"],[0.6666666666666666,\"#ed7953\"],[0.7777777777777778,\"#fb9f3a\"],[0.8888888888888888,\"#fdca26\"],[1.0,\"#f0f921\"]],\"type\":\"heatmapgl\"}],\"histogram\":[{\"marker\":{\"pattern\":{\"fillmode\":\"overlay\",\"size\":10,\"solidity\":0.2}},\"type\":\"histogram\"}],\"histogram2d\":[{\"colorbar\":{\"outlinewidth\":0,\"ticks\":\"\"},\"colorscale\":[[0.0,\"#0d0887\"],[0.1111111111111111,\"#46039f\"],[0.2222222222222222,\"#7201a8\"],[0.3333333333333333,\"#9c179e\"],[0.4444444444444444,\"#bd3786\"],[0.5555555555555556,\"#d8576b\"],[0.6666666666666666,\"#ed7953\"],[0.7777777777777778,\"#fb9f3a\"],[0.8888888888888888,\"#fdca26\"],[1.0,\"#f0f921\"]],\"type\":\"histogram2d\"}],\"histogram2dcontour\":[{\"colorbar\":{\"outlinewidth\":0,\"ticks\":\"\"},\"colorscale\":[[0.0,\"#0d0887\"],[0.1111111111111111,\"#46039f\"],[0.2222222222222222,\"#7201a8\"],[0.3333333333333333,\"#9c179e\"],[0.4444444444444444,\"#bd3786\"],[0.5555555555555556,\"#d8576b\"],[0.6666666666666666,\"#ed7953\"],[0.7777777777777778,\"#fb9f3a\"],[0.8888888888888888,\"#fdca26\"],[1.0,\"#f0f921\"]],\"type\":\"histogram2dcontour\"}],\"mesh3d\":[{\"colorbar\":{\"outlinewidth\":0,\"ticks\":\"\"},\"type\":\"mesh3d\"}],\"parcoords\":[{\"line\":{\"colorbar\":{\"outlinewidth\":0,\"ticks\":\"\"}},\"type\":\"parcoords\"}],\"pie\":[{\"automargin\":true,\"type\":\"pie\"}],\"scatter\":[{\"marker\":{\"colorbar\":{\"outlinewidth\":0,\"ticks\":\"\"}},\"type\":\"scatter\"}],\"scatter3d\":[{\"line\":{\"colorbar\":{\"outlinewidth\":0,\"ticks\":\"\"}},\"marker\":{\"colorbar\":{\"outlinewidth\":0,\"ticks\":\"\"}},\"type\":\"scatter3d\"}],\"scattercarpet\":[{\"marker\":{\"colorbar\":{\"outlinewidth\":0,\"ticks\":\"\"}},\"type\":\"scattercarpet\"}],\"scattergeo\":[{\"marker\":{\"colorbar\":{\"outlinewidth\":0,\"ticks\":\"\"}},\"type\":\"scattergeo\"}],\"scattergl\":[{\"marker\":{\"colorbar\":{\"outlinewidth\":0,\"ticks\":\"\"}},\"type\":\"scattergl\"}],\"scattermapbox\":[{\"marker\":{\"colorbar\":{\"outlinewidth\":0,\"ticks\":\"\"}},\"type\":\"scattermapbox\"}],\"scatterpolar\":[{\"marker\":{\"colorbar\":{\"outlinewidth\":0,\"ticks\":\"\"}},\"type\":\"scatterpolar\"}],\"scatterpolargl\":[{\"marker\":{\"colorbar\":{\"outlinewidth\":0,\"ticks\":\"\"}},\"type\":\"scatterpolargl\"}],\"scatterternary\":[{\"marker\":{\"colorbar\":{\"outlinewidth\":0,\"ticks\":\"\"}},\"type\":\"scatterternary\"}],\"surface\":[{\"colorbar\":{\"outlinewidth\":0,\"ticks\":\"\"},\"colorscale\":[[0.0,\"#0d0887\"],[0.1111111111111111,\"#46039f\"],[0.2222222222222222,\"#7201a8\"],[0.3333333333333333,\"#9c179e\"],[0.4444444444444444,\"#bd3786\"],[0.5555555555555556,\"#d8576b\"],[0.6666666666666666,\"#ed7953\"],[0.7777777777777778,\"#fb9f3a\"],[0.8888888888888888,\"#fdca26\"],[1.0,\"#f0f921\"]],\"type\":\"surface\"}],\"table\":[{\"cells\":{\"fill\":{\"color\":\"#EBF0F8\"},\"line\":{\"color\":\"white\"}},\"header\":{\"fill\":{\"color\":\"#C8D4E3\"},\"line\":{\"color\":\"white\"}},\"type\":\"table\"}]},\"layout\":{\"annotationdefaults\":{\"arrowcolor\":\"#2a3f5f\",\"arrowhead\":0,\"arrowwidth\":1},\"autotypenumbers\":\"strict\",\"coloraxis\":{\"colorbar\":{\"outlinewidth\":0,\"ticks\":\"\"}},\"colorscale\":{\"diverging\":[[0,\"#8e0152\"],[0.1,\"#c51b7d\"],[0.2,\"#de77ae\"],[0.3,\"#f1b6da\"],[0.4,\"#fde0ef\"],[0.5,\"#f7f7f7\"],[0.6,\"#e6f5d0\"],[0.7,\"#b8e186\"],[0.8,\"#7fbc41\"],[0.9,\"#4d9221\"],[1,\"#276419\"]],\"sequential\":[[0.0,\"#0d0887\"],[0.1111111111111111,\"#46039f\"],[0.2222222222222222,\"#7201a8\"],[0.3333333333333333,\"#9c179e\"],[0.4444444444444444,\"#bd3786\"],[0.5555555555555556,\"#d8576b\"],[0.6666666666666666,\"#ed7953\"],[0.7777777777777778,\"#fb9f3a\"],[0.8888888888888888,\"#fdca26\"],[1.0,\"#f0f921\"]],\"sequentialminus\":[[0.0,\"#0d0887\"],[0.1111111111111111,\"#46039f\"],[0.2222222222222222,\"#7201a8\"],[0.3333333333333333,\"#9c179e\"],[0.4444444444444444,\"#bd3786\"],[0.5555555555555556,\"#d8576b\"],[0.6666666666666666,\"#ed7953\"],[0.7777777777777778,\"#fb9f3a\"],[0.8888888888888888,\"#fdca26\"],[1.0,\"#f0f921\"]]},\"colorway\":[\"#636efa\",\"#EF553B\",\"#00cc96\",\"#ab63fa\",\"#FFA15A\",\"#19d3f3\",\"#FF6692\",\"#B6E880\",\"#FF97FF\",\"#FECB52\"],\"font\":{\"color\":\"#2a3f5f\"},\"geo\":{\"bgcolor\":\"white\",\"lakecolor\":\"white\",\"landcolor\":\"#E5ECF6\",\"showlakes\":true,\"showland\":true,\"subunitcolor\":\"white\"},\"hoverlabel\":{\"align\":\"left\"},\"hovermode\":\"closest\",\"mapbox\":{\"style\":\"light\"},\"paper_bgcolor\":\"white\",\"plot_bgcolor\":\"#E5ECF6\",\"polar\":{\"angularaxis\":{\"gridcolor\":\"white\",\"linecolor\":\"white\",\"ticks\":\"\"},\"bgcolor\":\"#E5ECF6\",\"radialaxis\":{\"gridcolor\":\"white\",\"linecolor\":\"white\",\"ticks\":\"\"}},\"scene\":{\"xaxis\":{\"backgroundcolor\":\"#E5ECF6\",\"gridcolor\":\"white\",\"gridwidth\":2,\"linecolor\":\"white\",\"showbackground\":true,\"ticks\":\"\",\"zerolinecolor\":\"white\"},\"yaxis\":{\"backgroundcolor\":\"#E5ECF6\",\"gridcolor\":\"white\",\"gridwidth\":2,\"linecolor\":\"white\",\"showbackground\":true,\"ticks\":\"\",\"zerolinecolor\":\"white\"},\"zaxis\":{\"backgroundcolor\":\"#E5ECF6\",\"gridcolor\":\"white\",\"gridwidth\":2,\"linecolor\":\"white\",\"showbackground\":true,\"ticks\":\"\",\"zerolinecolor\":\"white\"}},\"shapedefaults\":{\"line\":{\"color\":\"#2a3f5f\"}},\"ternary\":{\"aaxis\":{\"gridcolor\":\"white\",\"linecolor\":\"white\",\"ticks\":\"\"},\"baxis\":{\"gridcolor\":\"white\",\"linecolor\":\"white\",\"ticks\":\"\"},\"bgcolor\":\"#E5ECF6\",\"caxis\":{\"gridcolor\":\"white\",\"linecolor\":\"white\",\"ticks\":\"\"}},\"title\":{\"x\":0.05},\"xaxis\":{\"automargin\":true,\"gridcolor\":\"white\",\"linecolor\":\"white\",\"ticks\":\"\",\"title\":{\"standoff\":15},\"zerolinecolor\":\"white\",\"zerolinewidth\":2},\"yaxis\":{\"automargin\":true,\"gridcolor\":\"white\",\"linecolor\":\"white\",\"ticks\":\"\",\"title\":{\"standoff\":15},\"zerolinecolor\":\"white\",\"zerolinewidth\":2}}},\"xaxis\":{\"anchor\":\"y\",\"domain\":[0.0,1.0],\"title\":{\"text\":\"Count\"}},\"yaxis\":{\"anchor\":\"x\",\"domain\":[0.0,1.0],\"title\":{\"text\":\"Top of Words\"},\"categoryorder\":\"array\",\"categoryarray\":[\"color\",\"shit\",\"negro\",\"past\",\"racism\",\"anyth\",\"first\",\"tayyoung\",\"say\",\"bitch\",\"one\",\"obama\",\"peopl\",\"call\",\"white\",\"black\",\"as\",\"dumb\",\"nigger\",\"fuck\"]},\"legend\":{\"title\":{\"text\":\"Top of Words\"},\"tracegroupgap\":0},\"title\":{\"text\":\"Top 20 Words in Ethnicity Cyberbullying Tweet\"},\"barmode\":\"relative\",\"height\":700,\"width\":700},                        {\"responsive\": true}                    ).then(function(){\n",
       "                            \n",
       "var gd = document.getElementById('2f476a60-a30d-4892-ada5-e84c14c12a5a');\n",
       "var x = new MutationObserver(function (mutations, observer) {{\n",
       "        var display = window.getComputedStyle(gd).display;\n",
       "        if (!display || display === 'none') {{\n",
       "            console.log([gd, 'removed!']);\n",
       "            Plotly.purge(gd);\n",
       "            observer.disconnect();\n",
       "        }}\n",
       "}});\n",
       "\n",
       "// Listen for the removal of the full notebook cells\n",
       "var notebookContainer = gd.closest('#notebook-container');\n",
       "if (notebookContainer) {{\n",
       "    x.observe(notebookContainer, {childList: true});\n",
       "}}\n",
       "\n",
       "// Listen for the clearing of the current output cell\n",
       "var outputEl = gd.closest('.output');\n",
       "if (outputEl) {{\n",
       "    x.observe(outputEl, {childList: true});\n",
       "}}\n",
       "\n",
       "                        })                };                });            </script>        </div>"
      ]
     },
     "metadata": {},
     "output_type": "display_data"
    }
   ],
   "source": [
    "e_fig = px.bar(type_e, x=\"Count\", y=\"Top of Words\", title='Top 20 Words in Ethnicity Cyberbullying Tweet', orientation='h', \n",
    "             width=700, height=700,color='Top of Words')\n",
    "e_fig.show()"
   ]
  },
  {
   "cell_type": "markdown",
   "id": "87bd59fa",
   "metadata": {
    "papermill": {
     "duration": 0.07473,
     "end_time": "2022-01-27T07:17:19.459116",
     "exception": false,
     "start_time": "2022-01-27T07:17:19.384386",
     "status": "completed"
    },
    "tags": []
   },
   "source": [
    " # <a id='5'> 5. Spliting the data</a>"
   ]
  },
  {
   "cell_type": "code",
   "execution_count": 24,
   "id": "06b77ca2",
   "metadata": {
    "execution": {
     "iopub.execute_input": "2022-01-27T07:17:19.614560Z",
     "iopub.status.busy": "2022-01-27T07:17:19.613763Z",
     "iopub.status.idle": "2022-01-27T07:17:19.619844Z",
     "shell.execute_reply": "2022-01-27T07:17:19.620460Z",
     "shell.execute_reply.started": "2022-01-27T04:56:36.406002Z"
    },
    "papermill": {
     "duration": 0.086948,
     "end_time": "2022-01-27T07:17:19.620618",
     "exception": false,
     "start_time": "2022-01-27T07:17:19.533670",
     "status": "completed"
    },
    "tags": []
   },
   "outputs": [
    {
     "data": {
      "text/plain": [
       "array(['not_cyberbullying', 'gender', 'religion', 'other_cyberbullying',\n",
       "       'age', 'ethnicity'], dtype=object)"
      ]
     },
     "execution_count": 24,
     "metadata": {},
     "output_type": "execute_result"
    }
   ],
   "source": [
    "labels = df['cyberbullying_type'].tolist()\n",
    "df.cyberbullying_type.unique()"
   ]
  },
  {
   "cell_type": "code",
   "execution_count": 25,
   "id": "e03b3f2a",
   "metadata": {
    "execution": {
     "iopub.execute_input": "2022-01-27T07:17:19.775841Z",
     "iopub.status.busy": "2022-01-27T07:17:19.774982Z",
     "iopub.status.idle": "2022-01-27T07:17:19.782537Z",
     "shell.execute_reply": "2022-01-27T07:17:19.781899Z",
     "shell.execute_reply.started": "2022-01-27T04:56:36.419681Z"
    },
    "papermill": {
     "duration": 0.085805,
     "end_time": "2022-01-27T07:17:19.782714",
     "exception": false,
     "start_time": "2022-01-27T07:17:19.696909",
     "status": "completed"
    },
    "tags": []
   },
   "outputs": [
    {
     "data": {
      "text/plain": [
       "{'not_cyberbullying': 1,\n",
       " 'gender': 2,\n",
       " 'religion': 3,\n",
       " 'other_cyberbullying': 4,\n",
       " 'age': 5,\n",
       " 'ethnicity': 6}"
      ]
     },
     "execution_count": 25,
     "metadata": {},
     "output_type": "execute_result"
    }
   ],
   "source": [
    "ClassIDMap = {'not_cyberbullying': 1, 'gender':2, \n",
    "              'religion':3, 'other_cyberbullying': 4, \n",
    "              'age': 5, 'ethnicity': 6 }\n",
    "ClassIDMap"
   ]
  },
  {
   "cell_type": "code",
   "execution_count": 26,
   "id": "a0637a44",
   "metadata": {
    "execution": {
     "iopub.execute_input": "2022-01-27T07:17:19.962190Z",
     "iopub.status.busy": "2022-01-27T07:17:19.943873Z",
     "iopub.status.idle": "2022-01-27T07:17:19.966351Z",
     "shell.execute_reply": "2022-01-27T07:17:19.966858Z",
     "shell.execute_reply.started": "2022-01-27T04:56:36.429603Z"
    },
    "papermill": {
     "duration": 0.107359,
     "end_time": "2022-01-27T07:17:19.967020",
     "exception": false,
     "start_time": "2022-01-27T07:17:19.859661",
     "status": "completed"
    },
    "tags": []
   },
   "outputs": [],
   "source": [
    "corpus, target_labels, target_names = (df['tweet_clean'], \n",
    "                                       [ClassIDMap[label] for \n",
    "                                        label in df['cyberbullying_type']], \n",
    "                                       df['cyberbullying_type'])\n",
    "\n",
    "df = pd.DataFrame({'tweet text': corpus, 'cyberbullying Label': \n",
    "                        target_labels, 'cyberbulying Name': target_names})"
   ]
  },
  {
   "cell_type": "code",
   "execution_count": 27,
   "id": "87644360",
   "metadata": {
    "execution": {
     "iopub.execute_input": "2022-01-27T07:17:20.122478Z",
     "iopub.status.busy": "2022-01-27T07:17:20.121790Z",
     "iopub.status.idle": "2022-01-27T07:17:20.135796Z",
     "shell.execute_reply": "2022-01-27T07:17:20.136307Z",
     "shell.execute_reply.started": "2022-01-27T04:56:36.461929Z"
    },
    "papermill": {
     "duration": 0.093521,
     "end_time": "2022-01-27T07:17:20.136482",
     "exception": false,
     "start_time": "2022-01-27T07:17:20.042961",
     "status": "completed"
    },
    "tags": []
   },
   "outputs": [
    {
     "data": {
      "text/html": [
       "<div>\n",
       "<style scoped>\n",
       "    .dataframe tbody tr th:only-of-type {\n",
       "        vertical-align: middle;\n",
       "    }\n",
       "\n",
       "    .dataframe tbody tr th {\n",
       "        vertical-align: top;\n",
       "    }\n",
       "\n",
       "    .dataframe thead th {\n",
       "        text-align: right;\n",
       "    }\n",
       "</style>\n",
       "<table border=\"1\" class=\"dataframe\">\n",
       "  <thead>\n",
       "    <tr style=\"text-align: right;\">\n",
       "      <th></th>\n",
       "      <th>tweet text</th>\n",
       "      <th>cyberbullying Label</th>\n",
       "      <th>cyberbulying Name</th>\n",
       "    </tr>\n",
       "  </thead>\n",
       "  <tbody>\n",
       "    <tr>\n",
       "      <th>0</th>\n",
       "      <td>word food crapilici</td>\n",
       "      <td>1</td>\n",
       "      <td>not_cyberbullying</td>\n",
       "    </tr>\n",
       "    <tr>\n",
       "      <th>1</th>\n",
       "      <td>white</td>\n",
       "      <td>1</td>\n",
       "      <td>not_cyberbullying</td>\n",
       "    </tr>\n",
       "    <tr>\n",
       "      <th>2</th>\n",
       "      <td>classi whore red velvet cupcak</td>\n",
       "      <td>1</td>\n",
       "      <td>not_cyberbullying</td>\n",
       "    </tr>\n",
       "    <tr>\n",
       "      <th>3</th>\n",
       "      <td>meh thank head concern anoth angri dude twitter</td>\n",
       "      <td>1</td>\n",
       "      <td>not_cyberbullying</td>\n",
       "    </tr>\n",
       "    <tr>\n",
       "      <th>4</th>\n",
       "      <td>isi account pretend kurdish account islam lie</td>\n",
       "      <td>1</td>\n",
       "      <td>not_cyberbullying</td>\n",
       "    </tr>\n",
       "    <tr>\n",
       "      <th>...</th>\n",
       "      <td>...</td>\n",
       "      <td>...</td>\n",
       "      <td>...</td>\n",
       "    </tr>\n",
       "    <tr>\n",
       "      <th>47687</th>\n",
       "      <td>black ppl expect anyth depend anyth yet free p...</td>\n",
       "      <td>6</td>\n",
       "      <td>ethnicity</td>\n",
       "    </tr>\n",
       "    <tr>\n",
       "      <th>47688</th>\n",
       "      <td>turner withhold disappoint turner call court a...</td>\n",
       "      <td>6</td>\n",
       "      <td>ethnicity</td>\n",
       "    </tr>\n",
       "    <tr>\n",
       "      <th>47689</th>\n",
       "      <td>swear god dumb nigger bitch got bleach hair re...</td>\n",
       "      <td>6</td>\n",
       "      <td>ethnicity</td>\n",
       "    </tr>\n",
       "    <tr>\n",
       "      <th>47690</th>\n",
       "      <td>yea fuck therealexel your nigger fuck unfollow...</td>\n",
       "      <td>6</td>\n",
       "      <td>ethnicity</td>\n",
       "    </tr>\n",
       "    <tr>\n",
       "      <th>47691</th>\n",
       "      <td>bro gotta chill chillshrammi dog fuck dumb nig...</td>\n",
       "      <td>6</td>\n",
       "      <td>ethnicity</td>\n",
       "    </tr>\n",
       "  </tbody>\n",
       "</table>\n",
       "<p>44674 rows × 3 columns</p>\n",
       "</div>"
      ],
      "text/plain": [
       "                                              tweet text  cyberbullying Label  \\\n",
       "0                                    word food crapilici                    1   \n",
       "1                                                  white                    1   \n",
       "2                         classi whore red velvet cupcak                    1   \n",
       "3        meh thank head concern anoth angri dude twitter                    1   \n",
       "4          isi account pretend kurdish account islam lie                    1   \n",
       "...                                                  ...                  ...   \n",
       "47687  black ppl expect anyth depend anyth yet free p...                    6   \n",
       "47688  turner withhold disappoint turner call court a...                    6   \n",
       "47689  swear god dumb nigger bitch got bleach hair re...                    6   \n",
       "47690  yea fuck therealexel your nigger fuck unfollow...                    6   \n",
       "47691  bro gotta chill chillshrammi dog fuck dumb nig...                    6   \n",
       "\n",
       "       cyberbulying Name  \n",
       "0      not_cyberbullying  \n",
       "1      not_cyberbullying  \n",
       "2      not_cyberbullying  \n",
       "3      not_cyberbullying  \n",
       "4      not_cyberbullying  \n",
       "...                  ...  \n",
       "47687          ethnicity  \n",
       "47688          ethnicity  \n",
       "47689          ethnicity  \n",
       "47690          ethnicity  \n",
       "47691          ethnicity  \n",
       "\n",
       "[44674 rows x 3 columns]"
      ]
     },
     "execution_count": 27,
     "metadata": {},
     "output_type": "execute_result"
    }
   ],
   "source": [
    "df"
   ]
  },
  {
   "cell_type": "code",
   "execution_count": 28,
   "id": "401331d1",
   "metadata": {
    "execution": {
     "iopub.execute_input": "2022-01-27T07:17:20.308705Z",
     "iopub.status.busy": "2022-01-27T07:17:20.308023Z",
     "iopub.status.idle": "2022-01-27T07:17:20.318782Z",
     "shell.execute_reply": "2022-01-27T07:17:20.318117Z",
     "shell.execute_reply.started": "2022-01-27T04:56:36.478066Z"
    },
    "papermill": {
     "duration": 0.106215,
     "end_time": "2022-01-27T07:17:20.318922",
     "exception": false,
     "start_time": "2022-01-27T07:17:20.212707",
     "status": "completed"
    },
    "tags": []
   },
   "outputs": [
    {
     "name": "stdout",
     "output_type": "stream",
     "text": [
      "<class 'pandas.core.frame.DataFrame'>\n",
      "Int64Index: 44674 entries, 0 to 47691\n",
      "Data columns (total 3 columns):\n",
      " #   Column               Non-Null Count  Dtype \n",
      "---  ------               --------------  ----- \n",
      " 0   tweet text           44674 non-null  object\n",
      " 1   cyberbullying Label  44674 non-null  int64 \n",
      " 2   cyberbulying Name    44674 non-null  object\n",
      "dtypes: int64(1), object(2)\n",
      "memory usage: 1.4+ MB\n"
     ]
    }
   ],
   "source": [
    "df.info()"
   ]
  },
  {
   "cell_type": "markdown",
   "id": "c2f1cf10",
   "metadata": {
    "papermill": {
     "duration": 0.075438,
     "end_time": "2022-01-27T07:17:20.471502",
     "exception": false,
     "start_time": "2022-01-27T07:17:20.396064",
     "status": "completed"
    },
    "tags": []
   },
   "source": [
    "**Spliting data**"
   ]
  },
  {
   "cell_type": "code",
   "execution_count": 29,
   "id": "f6820ab6",
   "metadata": {
    "execution": {
     "iopub.execute_input": "2022-01-27T07:17:20.633238Z",
     "iopub.status.busy": "2022-01-27T07:17:20.631634Z",
     "iopub.status.idle": "2022-01-27T07:17:20.642522Z",
     "shell.execute_reply": "2022-01-27T07:17:20.643093Z",
     "shell.execute_reply.started": "2022-01-27T04:57:51.196697Z"
    },
    "papermill": {
     "duration": 0.095557,
     "end_time": "2022-01-27T07:17:20.643282",
     "exception": false,
     "start_time": "2022-01-27T07:17:20.547725",
     "status": "completed"
    },
    "tags": []
   },
   "outputs": [
    {
     "data": {
      "text/plain": [
       "((29931,), (14743,))"
      ]
     },
     "execution_count": 29,
     "metadata": {},
     "output_type": "execute_result"
    }
   ],
   "source": [
    "train_corpus, test_corpus, train_label_nums, test_label_nums, train_label_names, test_label_names =\\\n",
    "                                 train_test_split(np.array(df['tweet text']), np.array(df['cyberbullying Label']),\n",
    "                                                       np.array(df['cyberbulying Name']), test_size=0.33, random_state=42)\n",
    "\n",
    "train_corpus.shape, test_corpus.shape"
   ]
  },
  {
   "cell_type": "markdown",
   "id": "44b4d649",
   "metadata": {
    "papermill": {
     "duration": 0.075319,
     "end_time": "2022-01-27T07:17:20.794292",
     "exception": false,
     "start_time": "2022-01-27T07:17:20.718973",
     "status": "completed"
    },
    "tags": []
   },
   "source": [
    " # <a id='6'> 6. Features Exctractions</a>"
   ]
  },
  {
   "cell_type": "code",
   "execution_count": 30,
   "id": "6364e5db",
   "metadata": {
    "execution": {
     "iopub.execute_input": "2022-01-27T07:17:21.092164Z",
     "iopub.status.busy": "2022-01-27T07:17:20.948950Z",
     "iopub.status.idle": "2022-01-27T07:17:22.305813Z",
     "shell.execute_reply": "2022-01-27T07:17:22.306240Z",
     "shell.execute_reply.started": "2022-01-27T05:01:31.265016Z"
    },
    "papermill": {
     "duration": 1.435597,
     "end_time": "2022-01-27T07:17:22.306391",
     "exception": false,
     "start_time": "2022-01-27T07:17:20.870794",
     "status": "completed"
    },
    "tags": []
   },
   "outputs": [
    {
     "name": "stdout",
     "output_type": "stream",
     "text": [
      "TFIDF model:> Train features shape: (29931, 28475)  Test features shape: (14743, 28475)\n"
     ]
    }
   ],
   "source": [
    "# build BOW features on train articles\n",
    "tv = TfidfVectorizer(use_idf=True, min_df=0.00002, max_df=0.6)\n",
    "tv_train_features = tv.fit_transform(train_corpus.astype('U'))\n",
    "\n",
    "# transform test articles into features\n",
    "tv_test_features = tv.transform(test_corpus.astype('U'))\n",
    "\n",
    "print('TFIDF model:> Train features shape:', tv_train_features.shape, ' Test features shape:', tv_test_features.shape)"
   ]
  },
  {
   "cell_type": "markdown",
   "id": "293284c0",
   "metadata": {
    "papermill": {
     "duration": 0.051292,
     "end_time": "2022-01-27T07:17:22.411512",
     "exception": false,
     "start_time": "2022-01-27T07:17:22.360220",
     "status": "completed"
    },
    "tags": []
   },
   "source": [
    " # <a id='7'> 7. Classification</a>"
   ]
  },
  {
   "cell_type": "markdown",
   "id": "f504e522",
   "metadata": {
    "papermill": {
     "duration": 0.050863,
     "end_time": "2022-01-27T07:17:22.513888",
     "exception": false,
     "start_time": "2022-01-27T07:17:22.463025",
     "status": "completed"
    },
    "tags": []
   },
   "source": [
    "**Support Vector Machine classifier**"
   ]
  },
  {
   "cell_type": "code",
   "execution_count": 31,
   "id": "3a2796fd",
   "metadata": {
    "execution": {
     "iopub.execute_input": "2022-01-27T07:17:22.618235Z",
     "iopub.status.busy": "2022-01-27T07:17:22.617747Z",
     "iopub.status.idle": "2022-01-27T07:18:23.742806Z",
     "shell.execute_reply": "2022-01-27T07:18:23.743236Z",
     "shell.execute_reply.started": "2022-01-27T05:13:27.048797Z"
    },
    "papermill": {
     "duration": 61.179159,
     "end_time": "2022-01-27T07:18:23.743393",
     "exception": false,
     "start_time": "2022-01-27T07:17:22.564234",
     "status": "completed"
    },
    "tags": []
   },
   "outputs": [
    {
     "name": "stdout",
     "output_type": "stream",
     "text": [
      "Fitting 5 folds for each of 10 candidates, totalling 50 fits\n",
      "[CV] svm__C=1e-05, tfidf__ngram_range=(1, 1) .........................\n"
     ]
    },
    {
     "name": "stderr",
     "output_type": "stream",
     "text": [
      "[Parallel(n_jobs=1)]: Using backend SequentialBackend with 1 concurrent workers.\n"
     ]
    },
    {
     "name": "stdout",
     "output_type": "stream",
     "text": [
      "[CV] .......... svm__C=1e-05, tfidf__ngram_range=(1, 1), total=   1.4s\n",
      "[CV] svm__C=1e-05, tfidf__ngram_range=(1, 1) .........................\n"
     ]
    },
    {
     "name": "stderr",
     "output_type": "stream",
     "text": [
      "[Parallel(n_jobs=1)]: Done   1 out of   1 | elapsed:    1.4s remaining:    0.0s\n"
     ]
    },
    {
     "name": "stdout",
     "output_type": "stream",
     "text": [
      "[CV] .......... svm__C=1e-05, tfidf__ngram_range=(1, 1), total=   1.4s\n",
      "[CV] svm__C=1e-05, tfidf__ngram_range=(1, 1) .........................\n",
      "[CV] .......... svm__C=1e-05, tfidf__ngram_range=(1, 1), total=   1.0s\n",
      "[CV] svm__C=1e-05, tfidf__ngram_range=(1, 1) .........................\n",
      "[CV] .......... svm__C=1e-05, tfidf__ngram_range=(1, 1), total=   0.9s\n",
      "[CV] svm__C=1e-05, tfidf__ngram_range=(1, 1) .........................\n",
      "[CV] .......... svm__C=1e-05, tfidf__ngram_range=(1, 1), total=   0.9s\n",
      "[CV] svm__C=1e-05, tfidf__ngram_range=(1, 1) .........................\n",
      "[CV] .......... svm__C=1e-05, tfidf__ngram_range=(1, 1), total=   1.3s\n",
      "[CV] svm__C=1e-05, tfidf__ngram_range=(1, 1) .........................\n",
      "[CV] .......... svm__C=1e-05, tfidf__ngram_range=(1, 1), total=   1.4s\n",
      "[CV] svm__C=1e-05, tfidf__ngram_range=(1, 1) .........................\n",
      "[CV] .......... svm__C=1e-05, tfidf__ngram_range=(1, 1), total=   1.3s\n",
      "[CV] svm__C=1e-05, tfidf__ngram_range=(1, 1) .........................\n",
      "[CV] .......... svm__C=1e-05, tfidf__ngram_range=(1, 1), total=   1.1s\n",
      "[CV] svm__C=1e-05, tfidf__ngram_range=(1, 1) .........................\n",
      "[CV] .......... svm__C=1e-05, tfidf__ngram_range=(1, 1), total=   1.3s\n",
      "[CV] svm__C=0.0001, tfidf__ngram_range=(1, 1) ........................\n",
      "[CV] ......... svm__C=0.0001, tfidf__ngram_range=(1, 1), total=   1.3s\n",
      "[CV] svm__C=0.0001, tfidf__ngram_range=(1, 1) ........................\n",
      "[CV] ......... svm__C=0.0001, tfidf__ngram_range=(1, 1), total=   1.4s\n",
      "[CV] svm__C=0.0001, tfidf__ngram_range=(1, 1) ........................\n",
      "[CV] ......... svm__C=0.0001, tfidf__ngram_range=(1, 1), total=   1.0s\n",
      "[CV] svm__C=0.0001, tfidf__ngram_range=(1, 1) ........................\n",
      "[CV] ......... svm__C=0.0001, tfidf__ngram_range=(1, 1), total=   0.9s\n",
      "[CV] svm__C=0.0001, tfidf__ngram_range=(1, 1) ........................\n",
      "[CV] ......... svm__C=0.0001, tfidf__ngram_range=(1, 1), total=   0.9s\n",
      "[CV] svm__C=0.0001, tfidf__ngram_range=(1, 1) ........................\n",
      "[CV] ......... svm__C=0.0001, tfidf__ngram_range=(1, 1), total=   1.1s\n",
      "[CV] svm__C=0.0001, tfidf__ngram_range=(1, 1) ........................\n",
      "[CV] ......... svm__C=0.0001, tfidf__ngram_range=(1, 1), total=   1.4s\n",
      "[CV] svm__C=0.0001, tfidf__ngram_range=(1, 1) ........................\n",
      "[CV] ......... svm__C=0.0001, tfidf__ngram_range=(1, 1), total=   1.4s\n",
      "[CV] svm__C=0.0001, tfidf__ngram_range=(1, 1) ........................\n",
      "[CV] ......... svm__C=0.0001, tfidf__ngram_range=(1, 1), total=   1.0s\n",
      "[CV] svm__C=0.0001, tfidf__ngram_range=(1, 1) ........................\n",
      "[CV] ......... svm__C=0.0001, tfidf__ngram_range=(1, 1), total=   0.9s\n",
      "[CV] svm__C=0.01, tfidf__ngram_range=(1, 1) ..........................\n",
      "[CV] ........... svm__C=0.01, tfidf__ngram_range=(1, 1), total=   1.0s\n",
      "[CV] svm__C=0.01, tfidf__ngram_range=(1, 1) ..........................\n",
      "[CV] ........... svm__C=0.01, tfidf__ngram_range=(1, 1), total=   1.0s\n",
      "[CV] svm__C=0.01, tfidf__ngram_range=(1, 1) ..........................\n",
      "[CV] ........... svm__C=0.01, tfidf__ngram_range=(1, 1), total=   1.1s\n",
      "[CV] svm__C=0.01, tfidf__ngram_range=(1, 1) ..........................\n",
      "[CV] ........... svm__C=0.01, tfidf__ngram_range=(1, 1), total=   1.0s\n",
      "[CV] svm__C=0.01, tfidf__ngram_range=(1, 1) ..........................\n",
      "[CV] ........... svm__C=0.01, tfidf__ngram_range=(1, 1), total=   1.0s\n",
      "[CV] svm__C=0.01, tfidf__ngram_range=(1, 1) ..........................\n",
      "[CV] ........... svm__C=0.01, tfidf__ngram_range=(1, 1), total=   1.0s\n",
      "[CV] svm__C=0.01, tfidf__ngram_range=(1, 1) ..........................\n",
      "[CV] ........... svm__C=0.01, tfidf__ngram_range=(1, 1), total=   1.0s\n",
      "[CV] svm__C=0.01, tfidf__ngram_range=(1, 1) ..........................\n",
      "[CV] ........... svm__C=0.01, tfidf__ngram_range=(1, 1), total=   1.4s\n",
      "[CV] svm__C=0.01, tfidf__ngram_range=(1, 1) ..........................\n",
      "[CV] ........... svm__C=0.01, tfidf__ngram_range=(1, 1), total=   1.4s\n",
      "[CV] svm__C=0.01, tfidf__ngram_range=(1, 1) ..........................\n",
      "[CV] ........... svm__C=0.01, tfidf__ngram_range=(1, 1), total=   1.4s\n",
      "[CV] svm__C=0.1, tfidf__ngram_range=(1, 1) ...........................\n",
      "[CV] ............ svm__C=0.1, tfidf__ngram_range=(1, 1), total=   1.4s\n",
      "[CV] svm__C=0.1, tfidf__ngram_range=(1, 1) ...........................\n",
      "[CV] ............ svm__C=0.1, tfidf__ngram_range=(1, 1), total=   1.0s\n",
      "[CV] svm__C=0.1, tfidf__ngram_range=(1, 1) ...........................\n",
      "[CV] ............ svm__C=0.1, tfidf__ngram_range=(1, 1), total=   0.9s\n",
      "[CV] svm__C=0.1, tfidf__ngram_range=(1, 1) ...........................\n",
      "[CV] ............ svm__C=0.1, tfidf__ngram_range=(1, 1), total=   1.4s\n",
      "[CV] svm__C=0.1, tfidf__ngram_range=(1, 1) ...........................\n",
      "[CV] ............ svm__C=0.1, tfidf__ngram_range=(1, 1), total=   1.0s\n",
      "[CV] svm__C=0.1, tfidf__ngram_range=(1, 1) ...........................\n",
      "[CV] ............ svm__C=0.1, tfidf__ngram_range=(1, 1), total=   1.1s\n",
      "[CV] svm__C=0.1, tfidf__ngram_range=(1, 1) ...........................\n",
      "[CV] ............ svm__C=0.1, tfidf__ngram_range=(1, 1), total=   0.9s\n",
      "[CV] svm__C=0.1, tfidf__ngram_range=(1, 1) ...........................\n",
      "[CV] ............ svm__C=0.1, tfidf__ngram_range=(1, 1), total=   0.9s\n",
      "[CV] svm__C=0.1, tfidf__ngram_range=(1, 1) ...........................\n",
      "[CV] ............ svm__C=0.1, tfidf__ngram_range=(1, 1), total=   0.9s\n",
      "[CV] svm__C=0.1, tfidf__ngram_range=(1, 1) ...........................\n",
      "[CV] ............ svm__C=0.1, tfidf__ngram_range=(1, 1), total=   1.4s\n",
      "[CV] svm__C=1, tfidf__ngram_range=(1, 1) .............................\n",
      "[CV] .............. svm__C=1, tfidf__ngram_range=(1, 1), total=   1.5s\n",
      "[CV] svm__C=1, tfidf__ngram_range=(1, 1) .............................\n",
      "[CV] .............. svm__C=1, tfidf__ngram_range=(1, 1), total=   1.2s\n",
      "[CV] svm__C=1, tfidf__ngram_range=(1, 1) .............................\n",
      "[CV] .............. svm__C=1, tfidf__ngram_range=(1, 1), total=   1.1s\n",
      "[CV] svm__C=1, tfidf__ngram_range=(1, 1) .............................\n",
      "[CV] .............. svm__C=1, tfidf__ngram_range=(1, 1), total=   1.2s\n",
      "[CV] svm__C=1, tfidf__ngram_range=(1, 1) .............................\n",
      "[CV] .............. svm__C=1, tfidf__ngram_range=(1, 1), total=   1.1s\n",
      "[CV] svm__C=1, tfidf__ngram_range=(1, 1) .............................\n",
      "[CV] .............. svm__C=1, tfidf__ngram_range=(1, 1), total=   1.1s\n",
      "[CV] svm__C=1, tfidf__ngram_range=(1, 1) .............................\n",
      "[CV] .............. svm__C=1, tfidf__ngram_range=(1, 1), total=   1.5s\n",
      "[CV] svm__C=1, tfidf__ngram_range=(1, 1) .............................\n",
      "[CV] .............. svm__C=1, tfidf__ngram_range=(1, 1), total=   1.6s\n",
      "[CV] svm__C=1, tfidf__ngram_range=(1, 1) .............................\n",
      "[CV] .............. svm__C=1, tfidf__ngram_range=(1, 1), total=   1.6s\n",
      "[CV] svm__C=1, tfidf__ngram_range=(1, 1) .............................\n",
      "[CV] .............. svm__C=1, tfidf__ngram_range=(1, 1), total=   1.6s\n"
     ]
    },
    {
     "name": "stderr",
     "output_type": "stream",
     "text": [
      "[Parallel(n_jobs=1)]: Done  50 out of  50 | elapsed:   59.7s finished\n"
     ]
    }
   ],
   "source": [
    "svm_pipeline = Pipeline([('tfidf', TfidfVectorizer()),\n",
    "                        ('svm', LinearSVC(random_state=42))])\n",
    "\n",
    "param_grid = {'tfidf__ngram_range': [(1, 1), (1, 1)],\n",
    "              'svm__C': [1e-5, 1e-4, 1e-2, 1e-1, 1]\n",
    "}\n",
    "\n",
    "gs_svm = GridSearchCV(svm_pipeline, param_grid, cv=5, verbose=2)\n",
    "gs_svm = gs_svm.fit(train_corpus.astype('U'), train_label_names)"
   ]
  },
  {
   "cell_type": "code",
   "execution_count": 32,
   "id": "747a535f",
   "metadata": {
    "execution": {
     "iopub.execute_input": "2022-01-27T07:18:23.881608Z",
     "iopub.status.busy": "2022-01-27T07:18:23.881011Z",
     "iopub.status.idle": "2022-01-27T07:18:23.891356Z",
     "shell.execute_reply": "2022-01-27T07:18:23.890831Z",
     "shell.execute_reply.started": "2022-01-27T05:14:35.095782Z"
    },
    "papermill": {
     "duration": 0.081601,
     "end_time": "2022-01-27T07:18:23.891475",
     "exception": false,
     "start_time": "2022-01-27T07:18:23.809874",
     "status": "completed"
    },
    "tags": []
   },
   "outputs": [
    {
     "data": {
      "text/plain": [
       "{'memory': None,\n",
       " 'steps': [('tfidf', TfidfVectorizer()),\n",
       "  ('svm', LinearSVC(C=1, random_state=42))],\n",
       " 'verbose': False,\n",
       " 'tfidf': TfidfVectorizer(),\n",
       " 'svm': LinearSVC(C=1, random_state=42),\n",
       " 'tfidf__analyzer': 'word',\n",
       " 'tfidf__binary': False,\n",
       " 'tfidf__decode_error': 'strict',\n",
       " 'tfidf__dtype': numpy.float64,\n",
       " 'tfidf__encoding': 'utf-8',\n",
       " 'tfidf__input': 'content',\n",
       " 'tfidf__lowercase': True,\n",
       " 'tfidf__max_df': 1.0,\n",
       " 'tfidf__max_features': None,\n",
       " 'tfidf__min_df': 1,\n",
       " 'tfidf__ngram_range': (1, 1),\n",
       " 'tfidf__norm': 'l2',\n",
       " 'tfidf__preprocessor': None,\n",
       " 'tfidf__smooth_idf': True,\n",
       " 'tfidf__stop_words': None,\n",
       " 'tfidf__strip_accents': None,\n",
       " 'tfidf__sublinear_tf': False,\n",
       " 'tfidf__token_pattern': '(?u)\\\\b\\\\w\\\\w+\\\\b',\n",
       " 'tfidf__tokenizer': None,\n",
       " 'tfidf__use_idf': True,\n",
       " 'tfidf__vocabulary': None,\n",
       " 'svm__C': 1,\n",
       " 'svm__class_weight': None,\n",
       " 'svm__dual': True,\n",
       " 'svm__fit_intercept': True,\n",
       " 'svm__intercept_scaling': 1,\n",
       " 'svm__loss': 'squared_hinge',\n",
       " 'svm__max_iter': 1000,\n",
       " 'svm__multi_class': 'ovr',\n",
       " 'svm__penalty': 'l2',\n",
       " 'svm__random_state': 42,\n",
       " 'svm__tol': 0.0001,\n",
       " 'svm__verbose': 0}"
      ]
     },
     "execution_count": 32,
     "metadata": {},
     "output_type": "execute_result"
    }
   ],
   "source": [
    "gs_svm.best_estimator_.get_params()"
   ]
  },
  {
   "cell_type": "code",
   "execution_count": 33,
   "id": "8ab70c46",
   "metadata": {
    "execution": {
     "iopub.execute_input": "2022-01-27T07:18:24.050655Z",
     "iopub.status.busy": "2022-01-27T07:18:24.050111Z",
     "iopub.status.idle": "2022-01-27T07:18:24.294615Z",
     "shell.execute_reply": "2022-01-27T07:18:24.294031Z",
     "shell.execute_reply.started": "2022-01-27T05:14:37.183522Z"
    },
    "papermill": {
     "duration": 0.337447,
     "end_time": "2022-01-27T07:18:24.294760",
     "exception": false,
     "start_time": "2022-01-27T07:18:23.957313",
     "status": "completed"
    },
    "tags": []
   },
   "outputs": [
    {
     "name": "stdout",
     "output_type": "stream",
     "text": [
      "Test Accuracy : 0.8274435325239097\n"
     ]
    }
   ],
   "source": [
    "best_svm_test_score = gs_svm.score(test_corpus.astype('U'), test_label_names)\n",
    "print('Test Accuracy :', best_svm_test_score)"
   ]
  },
  {
   "cell_type": "markdown",
   "id": "e7eea631",
   "metadata": {
    "papermill": {
     "duration": 0.06444,
     "end_time": "2022-01-27T07:18:24.424320",
     "exception": false,
     "start_time": "2022-01-27T07:18:24.359880",
     "status": "completed"
    },
    "tags": []
   },
   "source": [
    "**Multinomial Naive Bayes Classifier**"
   ]
  },
  {
   "cell_type": "code",
   "execution_count": 34,
   "id": "4714ea0f",
   "metadata": {
    "execution": {
     "iopub.execute_input": "2022-01-27T07:18:24.590714Z",
     "iopub.status.busy": "2022-01-27T07:18:24.590019Z",
     "iopub.status.idle": "2022-01-27T07:19:48.189803Z",
     "shell.execute_reply": "2022-01-27T07:19:48.190373Z",
     "shell.execute_reply.started": "2022-01-27T05:14:54.513283Z"
    },
    "papermill": {
     "duration": 83.700773,
     "end_time": "2022-01-27T07:19:48.190600",
     "exception": false,
     "start_time": "2022-01-27T07:18:24.489827",
     "status": "completed"
    },
    "tags": []
   },
   "outputs": [
    {
     "name": "stdout",
     "output_type": "stream",
     "text": [
      "Fitting 5 folds for each of 10 candidates, totalling 50 fits\n",
      "[CV] mnb__alpha=1e-05, tfidf__ngram_range=(1, 1) .....................\n"
     ]
    },
    {
     "name": "stderr",
     "output_type": "stream",
     "text": [
      "[Parallel(n_jobs=1)]: Using backend SequentialBackend with 1 concurrent workers.\n"
     ]
    },
    {
     "name": "stdout",
     "output_type": "stream",
     "text": [
      "[CV] ...... mnb__alpha=1e-05, tfidf__ngram_range=(1, 1), total=   0.6s\n",
      "[CV] mnb__alpha=1e-05, tfidf__ngram_range=(1, 1) .....................\n"
     ]
    },
    {
     "name": "stderr",
     "output_type": "stream",
     "text": [
      "[Parallel(n_jobs=1)]: Done   1 out of   1 | elapsed:    0.6s remaining:    0.0s\n"
     ]
    },
    {
     "name": "stdout",
     "output_type": "stream",
     "text": [
      "[CV] ...... mnb__alpha=1e-05, tfidf__ngram_range=(1, 1), total=   0.5s\n",
      "[CV] mnb__alpha=1e-05, tfidf__ngram_range=(1, 1) .....................\n",
      "[CV] ...... mnb__alpha=1e-05, tfidf__ngram_range=(1, 1), total=   0.5s\n",
      "[CV] mnb__alpha=1e-05, tfidf__ngram_range=(1, 1) .....................\n",
      "[CV] ...... mnb__alpha=1e-05, tfidf__ngram_range=(1, 1), total=   0.5s\n",
      "[CV] mnb__alpha=1e-05, tfidf__ngram_range=(1, 1) .....................\n",
      "[CV] ...... mnb__alpha=1e-05, tfidf__ngram_range=(1, 1), total=   0.8s\n",
      "[CV] mnb__alpha=1e-05, tfidf__ngram_range=(1, 2) .....................\n",
      "[CV] ...... mnb__alpha=1e-05, tfidf__ngram_range=(1, 2), total=   2.2s\n",
      "[CV] mnb__alpha=1e-05, tfidf__ngram_range=(1, 2) .....................\n",
      "[CV] ...... mnb__alpha=1e-05, tfidf__ngram_range=(1, 2), total=   1.7s\n",
      "[CV] mnb__alpha=1e-05, tfidf__ngram_range=(1, 2) .....................\n",
      "[CV] ...... mnb__alpha=1e-05, tfidf__ngram_range=(1, 2), total=   1.6s\n",
      "[CV] mnb__alpha=1e-05, tfidf__ngram_range=(1, 2) .....................\n",
      "[CV] ...... mnb__alpha=1e-05, tfidf__ngram_range=(1, 2), total=   2.3s\n",
      "[CV] mnb__alpha=1e-05, tfidf__ngram_range=(1, 2) .....................\n",
      "[CV] ...... mnb__alpha=1e-05, tfidf__ngram_range=(1, 2), total=   2.8s\n",
      "[CV] mnb__alpha=0.0001, tfidf__ngram_range=(1, 1) ....................\n",
      "[CV] ..... mnb__alpha=0.0001, tfidf__ngram_range=(1, 1), total=   1.0s\n",
      "[CV] mnb__alpha=0.0001, tfidf__ngram_range=(1, 1) ....................\n",
      "[CV] ..... mnb__alpha=0.0001, tfidf__ngram_range=(1, 1), total=   0.6s\n",
      "[CV] mnb__alpha=0.0001, tfidf__ngram_range=(1, 1) ....................\n",
      "[CV] ..... mnb__alpha=0.0001, tfidf__ngram_range=(1, 1), total=   0.8s\n",
      "[CV] mnb__alpha=0.0001, tfidf__ngram_range=(1, 1) ....................\n",
      "[CV] ..... mnb__alpha=0.0001, tfidf__ngram_range=(1, 1), total=   0.6s\n",
      "[CV] mnb__alpha=0.0001, tfidf__ngram_range=(1, 1) ....................\n",
      "[CV] ..... mnb__alpha=0.0001, tfidf__ngram_range=(1, 1), total=   0.8s\n",
      "[CV] mnb__alpha=0.0001, tfidf__ngram_range=(1, 2) ....................\n",
      "[CV] ..... mnb__alpha=0.0001, tfidf__ngram_range=(1, 2), total=   2.9s\n",
      "[CV] mnb__alpha=0.0001, tfidf__ngram_range=(1, 2) ....................\n",
      "[CV] ..... mnb__alpha=0.0001, tfidf__ngram_range=(1, 2), total=   2.8s\n",
      "[CV] mnb__alpha=0.0001, tfidf__ngram_range=(1, 2) ....................\n",
      "[CV] ..... mnb__alpha=0.0001, tfidf__ngram_range=(1, 2), total=   2.8s\n",
      "[CV] mnb__alpha=0.0001, tfidf__ngram_range=(1, 2) ....................\n",
      "[CV] ..... mnb__alpha=0.0001, tfidf__ngram_range=(1, 2), total=   2.7s\n",
      "[CV] mnb__alpha=0.0001, tfidf__ngram_range=(1, 2) ....................\n",
      "[CV] ..... mnb__alpha=0.0001, tfidf__ngram_range=(1, 2), total=   2.7s\n",
      "[CV] mnb__alpha=0.01, tfidf__ngram_range=(1, 1) ......................\n",
      "[CV] ....... mnb__alpha=0.01, tfidf__ngram_range=(1, 1), total=   1.0s\n",
      "[CV] mnb__alpha=0.01, tfidf__ngram_range=(1, 1) ......................\n",
      "[CV] ....... mnb__alpha=0.01, tfidf__ngram_range=(1, 1), total=   1.0s\n",
      "[CV] mnb__alpha=0.01, tfidf__ngram_range=(1, 1) ......................\n",
      "[CV] ....... mnb__alpha=0.01, tfidf__ngram_range=(1, 1), total=   1.0s\n",
      "[CV] mnb__alpha=0.01, tfidf__ngram_range=(1, 1) ......................\n",
      "[CV] ....... mnb__alpha=0.01, tfidf__ngram_range=(1, 1), total=   0.8s\n",
      "[CV] mnb__alpha=0.01, tfidf__ngram_range=(1, 1) ......................\n",
      "[CV] ....... mnb__alpha=0.01, tfidf__ngram_range=(1, 1), total=   0.8s\n",
      "[CV] mnb__alpha=0.01, tfidf__ngram_range=(1, 2) ......................\n",
      "[CV] ....... mnb__alpha=0.01, tfidf__ngram_range=(1, 2), total=   2.8s\n",
      "[CV] mnb__alpha=0.01, tfidf__ngram_range=(1, 2) ......................\n",
      "[CV] ....... mnb__alpha=0.01, tfidf__ngram_range=(1, 2), total=   1.7s\n",
      "[CV] mnb__alpha=0.01, tfidf__ngram_range=(1, 2) ......................\n",
      "[CV] ....... mnb__alpha=0.01, tfidf__ngram_range=(1, 2), total=   2.8s\n",
      "[CV] mnb__alpha=0.01, tfidf__ngram_range=(1, 2) ......................\n",
      "[CV] ....... mnb__alpha=0.01, tfidf__ngram_range=(1, 2), total=   2.8s\n",
      "[CV] mnb__alpha=0.01, tfidf__ngram_range=(1, 2) ......................\n",
      "[CV] ....... mnb__alpha=0.01, tfidf__ngram_range=(1, 2), total=   2.8s\n",
      "[CV] mnb__alpha=0.1, tfidf__ngram_range=(1, 1) .......................\n",
      "[CV] ........ mnb__alpha=0.1, tfidf__ngram_range=(1, 1), total=   1.0s\n",
      "[CV] mnb__alpha=0.1, tfidf__ngram_range=(1, 1) .......................\n",
      "[CV] ........ mnb__alpha=0.1, tfidf__ngram_range=(1, 1), total=   0.6s\n",
      "[CV] mnb__alpha=0.1, tfidf__ngram_range=(1, 1) .......................\n",
      "[CV] ........ mnb__alpha=0.1, tfidf__ngram_range=(1, 1), total=   0.8s\n",
      "[CV] mnb__alpha=0.1, tfidf__ngram_range=(1, 1) .......................\n",
      "[CV] ........ mnb__alpha=0.1, tfidf__ngram_range=(1, 1), total=   1.0s\n",
      "[CV] mnb__alpha=0.1, tfidf__ngram_range=(1, 1) .......................\n",
      "[CV] ........ mnb__alpha=0.1, tfidf__ngram_range=(1, 1), total=   1.0s\n",
      "[CV] mnb__alpha=0.1, tfidf__ngram_range=(1, 2) .......................\n",
      "[CV] ........ mnb__alpha=0.1, tfidf__ngram_range=(1, 2), total=   2.8s\n",
      "[CV] mnb__alpha=0.1, tfidf__ngram_range=(1, 2) .......................\n",
      "[CV] ........ mnb__alpha=0.1, tfidf__ngram_range=(1, 2), total=   2.6s\n",
      "[CV] mnb__alpha=0.1, tfidf__ngram_range=(1, 2) .......................\n",
      "[CV] ........ mnb__alpha=0.1, tfidf__ngram_range=(1, 2), total=   1.6s\n",
      "[CV] mnb__alpha=0.1, tfidf__ngram_range=(1, 2) .......................\n",
      "[CV] ........ mnb__alpha=0.1, tfidf__ngram_range=(1, 2), total=   1.6s\n",
      "[CV] mnb__alpha=0.1, tfidf__ngram_range=(1, 2) .......................\n",
      "[CV] ........ mnb__alpha=0.1, tfidf__ngram_range=(1, 2), total=   2.6s\n",
      "[CV] mnb__alpha=1, tfidf__ngram_range=(1, 1) .........................\n",
      "[CV] .......... mnb__alpha=1, tfidf__ngram_range=(1, 1), total=   0.6s\n",
      "[CV] mnb__alpha=1, tfidf__ngram_range=(1, 1) .........................\n",
      "[CV] .......... mnb__alpha=1, tfidf__ngram_range=(1, 1), total=   0.8s\n",
      "[CV] mnb__alpha=1, tfidf__ngram_range=(1, 1) .........................\n",
      "[CV] .......... mnb__alpha=1, tfidf__ngram_range=(1, 1), total=   1.0s\n",
      "[CV] mnb__alpha=1, tfidf__ngram_range=(1, 1) .........................\n",
      "[CV] .......... mnb__alpha=1, tfidf__ngram_range=(1, 1), total=   1.0s\n",
      "[CV] mnb__alpha=1, tfidf__ngram_range=(1, 1) .........................\n",
      "[CV] .......... mnb__alpha=1, tfidf__ngram_range=(1, 1), total=   0.8s\n",
      "[CV] mnb__alpha=1, tfidf__ngram_range=(1, 2) .........................\n",
      "[CV] .......... mnb__alpha=1, tfidf__ngram_range=(1, 2), total=   1.6s\n",
      "[CV] mnb__alpha=1, tfidf__ngram_range=(1, 2) .........................\n",
      "[CV] .......... mnb__alpha=1, tfidf__ngram_range=(1, 2), total=   2.1s\n",
      "[CV] mnb__alpha=1, tfidf__ngram_range=(1, 2) .........................\n",
      "[CV] .......... mnb__alpha=1, tfidf__ngram_range=(1, 2), total=   2.7s\n",
      "[CV] mnb__alpha=1, tfidf__ngram_range=(1, 2) .........................\n",
      "[CV] .......... mnb__alpha=1, tfidf__ngram_range=(1, 2), total=   2.3s\n",
      "[CV] mnb__alpha=1, tfidf__ngram_range=(1, 2) .........................\n",
      "[CV] .......... mnb__alpha=1, tfidf__ngram_range=(1, 2), total=   2.8s\n"
     ]
    },
    {
     "name": "stderr",
     "output_type": "stream",
     "text": [
      "[Parallel(n_jobs=1)]: Done  50 out of  50 | elapsed:  1.3min finished\n"
     ]
    }
   ],
   "source": [
    "mnb_pipeline = Pipeline([('tfidf', TfidfVectorizer()),\n",
    "                        ('mnb', MultinomialNB())\n",
    "                       ])\n",
    "\n",
    "param_grid = {'tfidf__ngram_range': [(1, 1), (1, 2)],\n",
    "              'mnb__alpha': [1e-5, 1e-4, 1e-2, 1e-1, 1]\n",
    "}\n",
    "\n",
    "gs_mnb = GridSearchCV(mnb_pipeline, param_grid, cv=5, verbose=2)\n",
    "gs_mnb = gs_mnb.fit(train_corpus, train_label_names)"
   ]
  },
  {
   "cell_type": "code",
   "execution_count": 35,
   "id": "357c715a",
   "metadata": {
    "execution": {
     "iopub.execute_input": "2022-01-27T07:19:48.362957Z",
     "iopub.status.busy": "2022-01-27T07:19:48.362250Z",
     "iopub.status.idle": "2022-01-27T07:19:48.365723Z",
     "shell.execute_reply": "2022-01-27T07:19:48.365225Z",
     "shell.execute_reply.started": "2022-01-27T05:16:57.489379Z"
    },
    "papermill": {
     "duration": 0.0921,
     "end_time": "2022-01-27T07:19:48.365838",
     "exception": false,
     "start_time": "2022-01-27T07:19:48.273738",
     "status": "completed"
    },
    "tags": []
   },
   "outputs": [
    {
     "data": {
      "text/plain": [
       "{'memory': None,\n",
       " 'steps': [('tfidf', TfidfVectorizer(ngram_range=(1, 2))),\n",
       "  ('mnb', MultinomialNB(alpha=0.01))],\n",
       " 'verbose': False,\n",
       " 'tfidf': TfidfVectorizer(ngram_range=(1, 2)),\n",
       " 'mnb': MultinomialNB(alpha=0.01),\n",
       " 'tfidf__analyzer': 'word',\n",
       " 'tfidf__binary': False,\n",
       " 'tfidf__decode_error': 'strict',\n",
       " 'tfidf__dtype': numpy.float64,\n",
       " 'tfidf__encoding': 'utf-8',\n",
       " 'tfidf__input': 'content',\n",
       " 'tfidf__lowercase': True,\n",
       " 'tfidf__max_df': 1.0,\n",
       " 'tfidf__max_features': None,\n",
       " 'tfidf__min_df': 1,\n",
       " 'tfidf__ngram_range': (1, 2),\n",
       " 'tfidf__norm': 'l2',\n",
       " 'tfidf__preprocessor': None,\n",
       " 'tfidf__smooth_idf': True,\n",
       " 'tfidf__stop_words': None,\n",
       " 'tfidf__strip_accents': None,\n",
       " 'tfidf__sublinear_tf': False,\n",
       " 'tfidf__token_pattern': '(?u)\\\\b\\\\w\\\\w+\\\\b',\n",
       " 'tfidf__tokenizer': None,\n",
       " 'tfidf__use_idf': True,\n",
       " 'tfidf__vocabulary': None,\n",
       " 'mnb__alpha': 0.01,\n",
       " 'mnb__class_prior': None,\n",
       " 'mnb__fit_prior': True}"
      ]
     },
     "execution_count": 35,
     "metadata": {},
     "output_type": "execute_result"
    }
   ],
   "source": [
    "gs_mnb.best_estimator_.get_params()"
   ]
  },
  {
   "cell_type": "code",
   "execution_count": 36,
   "id": "70bd2ce3",
   "metadata": {
    "execution": {
     "iopub.execute_input": "2022-01-27T07:19:48.537867Z",
     "iopub.status.busy": "2022-01-27T07:19:48.537041Z",
     "iopub.status.idle": "2022-01-27T07:19:49.276629Z",
     "shell.execute_reply": "2022-01-27T07:19:49.277099Z",
     "shell.execute_reply.started": "2022-01-27T05:17:05.263247Z"
    },
    "papermill": {
     "duration": 0.829172,
     "end_time": "2022-01-27T07:19:49.277329",
     "exception": false,
     "start_time": "2022-01-27T07:19:48.448157",
     "status": "completed"
    },
    "tags": []
   },
   "outputs": [
    {
     "name": "stdout",
     "output_type": "stream",
     "text": [
      "Test Accuracy : 0.754120599606593\n"
     ]
    }
   ],
   "source": [
    "best_mnb_test_score = gs_mnb.score(test_corpus, test_label_names)\n",
    "print('Test Accuracy :', best_mnb_test_score)"
   ]
  },
  {
   "cell_type": "markdown",
   "id": "a576d77e",
   "metadata": {
    "papermill": {
     "duration": 0.131477,
     "end_time": "2022-01-27T07:19:49.488672",
     "exception": false,
     "start_time": "2022-01-27T07:19:49.357195",
     "status": "completed"
    },
    "tags": []
   },
   "source": [
    "**Logistic Regression Classifier**"
   ]
  },
  {
   "cell_type": "code",
   "execution_count": 37,
   "id": "00c7ca9f",
   "metadata": {
    "execution": {
     "iopub.execute_input": "2022-01-27T07:19:49.735404Z",
     "iopub.status.busy": "2022-01-27T07:19:49.734727Z",
     "iopub.status.idle": "2022-01-27T07:25:56.263249Z",
     "shell.execute_reply": "2022-01-27T07:25:56.263730Z",
     "shell.execute_reply.started": "2022-01-27T05:19:02.807757Z"
    },
    "papermill": {
     "duration": 366.653654,
     "end_time": "2022-01-27T07:25:56.263915",
     "exception": false,
     "start_time": "2022-01-27T07:19:49.610261",
     "status": "completed"
    },
    "tags": []
   },
   "outputs": [
    {
     "name": "stdout",
     "output_type": "stream",
     "text": [
      "Fitting 5 folds for each of 10 candidates, totalling 50 fits\n",
      "[CV] lr__C=1e-05, tfidf__ngram_range=(1, 1) ..........................\n"
     ]
    },
    {
     "name": "stderr",
     "output_type": "stream",
     "text": [
      "[Parallel(n_jobs=1)]: Using backend SequentialBackend with 1 concurrent workers.\n"
     ]
    },
    {
     "name": "stdout",
     "output_type": "stream",
     "text": [
      "[CV] ........... lr__C=1e-05, tfidf__ngram_range=(1, 1), total=   1.3s\n",
      "[CV] lr__C=1e-05, tfidf__ngram_range=(1, 1) ..........................\n"
     ]
    },
    {
     "name": "stderr",
     "output_type": "stream",
     "text": [
      "[Parallel(n_jobs=1)]: Done   1 out of   1 | elapsed:    1.3s remaining:    0.0s\n"
     ]
    },
    {
     "name": "stdout",
     "output_type": "stream",
     "text": [
      "[CV] ........... lr__C=1e-05, tfidf__ngram_range=(1, 1), total=   1.3s\n",
      "[CV] lr__C=1e-05, tfidf__ngram_range=(1, 1) ..........................\n",
      "[CV] ........... lr__C=1e-05, tfidf__ngram_range=(1, 1), total=   1.3s\n",
      "[CV] lr__C=1e-05, tfidf__ngram_range=(1, 1) ..........................\n",
      "[CV] ........... lr__C=1e-05, tfidf__ngram_range=(1, 1), total=   1.1s\n",
      "[CV] lr__C=1e-05, tfidf__ngram_range=(1, 1) ..........................\n",
      "[CV] ........... lr__C=1e-05, tfidf__ngram_range=(1, 1), total=   1.3s\n",
      "[CV] lr__C=1e-05, tfidf__ngram_range=(1, 2) ..........................\n",
      "[CV] ........... lr__C=1e-05, tfidf__ngram_range=(1, 2), total=   5.9s\n",
      "[CV] lr__C=1e-05, tfidf__ngram_range=(1, 2) ..........................\n",
      "[CV] ........... lr__C=1e-05, tfidf__ngram_range=(1, 2), total=   5.9s\n",
      "[CV] lr__C=1e-05, tfidf__ngram_range=(1, 2) ..........................\n",
      "[CV] ........... lr__C=1e-05, tfidf__ngram_range=(1, 2), total=   6.2s\n",
      "[CV] lr__C=1e-05, tfidf__ngram_range=(1, 2) ..........................\n",
      "[CV] ........... lr__C=1e-05, tfidf__ngram_range=(1, 2), total=   6.1s\n",
      "[CV] lr__C=1e-05, tfidf__ngram_range=(1, 2) ..........................\n",
      "[CV] ........... lr__C=1e-05, tfidf__ngram_range=(1, 2), total=   5.5s\n",
      "[CV] lr__C=0.0001, tfidf__ngram_range=(1, 1) .........................\n",
      "[CV] .......... lr__C=0.0001, tfidf__ngram_range=(1, 1), total=   1.4s\n",
      "[CV] lr__C=0.0001, tfidf__ngram_range=(1, 1) .........................\n",
      "[CV] .......... lr__C=0.0001, tfidf__ngram_range=(1, 1), total=   1.2s\n",
      "[CV] lr__C=0.0001, tfidf__ngram_range=(1, 1) .........................\n",
      "[CV] .......... lr__C=0.0001, tfidf__ngram_range=(1, 1), total=   0.9s\n",
      "[CV] lr__C=0.0001, tfidf__ngram_range=(1, 1) .........................\n",
      "[CV] .......... lr__C=0.0001, tfidf__ngram_range=(1, 1), total=   1.6s\n",
      "[CV] lr__C=0.0001, tfidf__ngram_range=(1, 1) .........................\n",
      "[CV] .......... lr__C=0.0001, tfidf__ngram_range=(1, 1), total=   1.9s\n",
      "[CV] lr__C=0.0001, tfidf__ngram_range=(1, 2) .........................\n",
      "[CV] .......... lr__C=0.0001, tfidf__ngram_range=(1, 2), total=   5.0s\n",
      "[CV] lr__C=0.0001, tfidf__ngram_range=(1, 2) .........................\n",
      "[CV] .......... lr__C=0.0001, tfidf__ngram_range=(1, 2), total=   5.0s\n",
      "[CV] lr__C=0.0001, tfidf__ngram_range=(1, 2) .........................\n",
      "[CV] .......... lr__C=0.0001, tfidf__ngram_range=(1, 2), total=   5.8s\n",
      "[CV] lr__C=0.0001, tfidf__ngram_range=(1, 2) .........................\n",
      "[CV] .......... lr__C=0.0001, tfidf__ngram_range=(1, 2), total=   7.5s\n",
      "[CV] lr__C=0.0001, tfidf__ngram_range=(1, 2) .........................\n",
      "[CV] .......... lr__C=0.0001, tfidf__ngram_range=(1, 2), total=   5.0s\n",
      "[CV] lr__C=0.01, tfidf__ngram_range=(1, 1) ...........................\n",
      "[CV] ............ lr__C=0.01, tfidf__ngram_range=(1, 1), total=   1.6s\n",
      "[CV] lr__C=0.01, tfidf__ngram_range=(1, 1) ...........................\n",
      "[CV] ............ lr__C=0.01, tfidf__ngram_range=(1, 1), total=   1.4s\n",
      "[CV] lr__C=0.01, tfidf__ngram_range=(1, 1) ...........................\n",
      "[CV] ............ lr__C=0.01, tfidf__ngram_range=(1, 1), total=   1.6s\n",
      "[CV] lr__C=0.01, tfidf__ngram_range=(1, 1) ...........................\n",
      "[CV] ............ lr__C=0.01, tfidf__ngram_range=(1, 1), total=   1.4s\n",
      "[CV] lr__C=0.01, tfidf__ngram_range=(1, 1) ...........................\n",
      "[CV] ............ lr__C=0.01, tfidf__ngram_range=(1, 1), total=   2.1s\n",
      "[CV] lr__C=0.01, tfidf__ngram_range=(1, 2) ...........................\n",
      "[CV] ............ lr__C=0.01, tfidf__ngram_range=(1, 2), total=   7.9s\n",
      "[CV] lr__C=0.01, tfidf__ngram_range=(1, 2) ...........................\n",
      "[CV] ............ lr__C=0.01, tfidf__ngram_range=(1, 2), total=   7.2s\n",
      "[CV] lr__C=0.01, tfidf__ngram_range=(1, 2) ...........................\n",
      "[CV] ............ lr__C=0.01, tfidf__ngram_range=(1, 2), total=   7.8s\n",
      "[CV] lr__C=0.01, tfidf__ngram_range=(1, 2) ...........................\n",
      "[CV] ............ lr__C=0.01, tfidf__ngram_range=(1, 2), total=   7.7s\n",
      "[CV] lr__C=0.01, tfidf__ngram_range=(1, 2) ...........................\n",
      "[CV] ............ lr__C=0.01, tfidf__ngram_range=(1, 2), total=   8.3s\n",
      "[CV] lr__C=0.1, tfidf__ngram_range=(1, 1) ............................\n",
      "[CV] ............. lr__C=0.1, tfidf__ngram_range=(1, 1), total=   3.7s\n",
      "[CV] lr__C=0.1, tfidf__ngram_range=(1, 1) ............................\n",
      "[CV] ............. lr__C=0.1, tfidf__ngram_range=(1, 1), total=   3.1s\n",
      "[CV] lr__C=0.1, tfidf__ngram_range=(1, 1) ............................\n",
      "[CV] ............. lr__C=0.1, tfidf__ngram_range=(1, 1), total=   3.4s\n",
      "[CV] lr__C=0.1, tfidf__ngram_range=(1, 1) ............................\n",
      "[CV] ............. lr__C=0.1, tfidf__ngram_range=(1, 1), total=   2.6s\n",
      "[CV] lr__C=0.1, tfidf__ngram_range=(1, 1) ............................\n",
      "[CV] ............. lr__C=0.1, tfidf__ngram_range=(1, 1), total=   3.1s\n",
      "[CV] lr__C=0.1, tfidf__ngram_range=(1, 2) ............................\n",
      "[CV] ............. lr__C=0.1, tfidf__ngram_range=(1, 2), total=  15.5s\n",
      "[CV] lr__C=0.1, tfidf__ngram_range=(1, 2) ............................\n",
      "[CV] ............. lr__C=0.1, tfidf__ngram_range=(1, 2), total=  18.3s\n",
      "[CV] lr__C=0.1, tfidf__ngram_range=(1, 2) ............................\n",
      "[CV] ............. lr__C=0.1, tfidf__ngram_range=(1, 2), total=  15.4s\n",
      "[CV] lr__C=0.1, tfidf__ngram_range=(1, 2) ............................\n",
      "[CV] ............. lr__C=0.1, tfidf__ngram_range=(1, 2), total=  15.8s\n",
      "[CV] lr__C=0.1, tfidf__ngram_range=(1, 2) ............................\n",
      "[CV] ............. lr__C=0.1, tfidf__ngram_range=(1, 2), total=  18.8s\n",
      "[CV] lr__C=1, tfidf__ngram_range=(1, 1) ..............................\n"
     ]
    },
    {
     "name": "stderr",
     "output_type": "stream",
     "text": [
      "/opt/conda/lib/python3.7/site-packages/sklearn/model_selection/_validation.py:552: FitFailedWarning:\n",
      "\n",
      "Estimator fit failed. The score on this train-test partition for these parameters will be set to nan. Details: \n",
      "Traceback (most recent call last):\n",
      "  File \"/opt/conda/lib/python3.7/site-packages/sklearn/model_selection/_validation.py\", line 531, in _fit_and_score\n",
      "    estimator.fit(X_train, y_train, **fit_params)\n",
      "  File \"/opt/conda/lib/python3.7/site-packages/sklearn/pipeline.py\", line 335, in fit\n",
      "    self._final_estimator.fit(Xt, y, **fit_params_last_step)\n",
      "  File \"/opt/conda/lib/python3.7/site-packages/sklearn/linear_model/_logistic.py\", line 1417, in fit\n",
      "    for class_, warm_start_coef_ in zip(classes_, warm_start_coef))\n",
      "  File \"/opt/conda/lib/python3.7/site-packages/joblib/parallel.py\", line 1043, in __call__\n",
      "    if self.dispatch_one_batch(iterator):\n",
      "  File \"/opt/conda/lib/python3.7/site-packages/joblib/parallel.py\", line 861, in dispatch_one_batch\n",
      "    self._dispatch(tasks)\n",
      "  File \"/opt/conda/lib/python3.7/site-packages/joblib/parallel.py\", line 779, in _dispatch\n",
      "    job = self._backend.apply_async(batch, callback=cb)\n",
      "  File \"/opt/conda/lib/python3.7/site-packages/joblib/_parallel_backends.py\", line 208, in apply_async\n",
      "    result = ImmediateResult(func)\n",
      "  File \"/opt/conda/lib/python3.7/site-packages/joblib/_parallel_backends.py\", line 572, in __init__\n",
      "    self.results = batch()\n",
      "  File \"/opt/conda/lib/python3.7/site-packages/joblib/parallel.py\", line 263, in __call__\n",
      "    for func, args, kwargs in self.items]\n",
      "  File \"/opt/conda/lib/python3.7/site-packages/joblib/parallel.py\", line 263, in <listcomp>\n",
      "    for func, args, kwargs in self.items]\n",
      "  File \"/opt/conda/lib/python3.7/site-packages/sklearn/linear_model/_logistic.py\", line 764, in _logistic_regression_path\n",
      "    extra_warning_msg=_LOGISTIC_SOLVER_CONVERGENCE_MSG)\n",
      "  File \"/opt/conda/lib/python3.7/site-packages/sklearn/utils/optimize.py\", line 243, in _check_optimize_result\n",
      "    ).format(solver, result.status, result.message.decode(\"latin1\"))\n",
      "AttributeError: 'str' object has no attribute 'decode'\n",
      "\n",
      "\n"
     ]
    },
    {
     "name": "stdout",
     "output_type": "stream",
     "text": [
      "[CV] ............... lr__C=1, tfidf__ngram_range=(1, 1), total=   4.2s\n",
      "[CV] lr__C=1, tfidf__ngram_range=(1, 1) ..............................\n"
     ]
    },
    {
     "name": "stderr",
     "output_type": "stream",
     "text": [
      "/opt/conda/lib/python3.7/site-packages/sklearn/model_selection/_validation.py:552: FitFailedWarning:\n",
      "\n",
      "Estimator fit failed. The score on this train-test partition for these parameters will be set to nan. Details: \n",
      "Traceback (most recent call last):\n",
      "  File \"/opt/conda/lib/python3.7/site-packages/sklearn/model_selection/_validation.py\", line 531, in _fit_and_score\n",
      "    estimator.fit(X_train, y_train, **fit_params)\n",
      "  File \"/opt/conda/lib/python3.7/site-packages/sklearn/pipeline.py\", line 335, in fit\n",
      "    self._final_estimator.fit(Xt, y, **fit_params_last_step)\n",
      "  File \"/opt/conda/lib/python3.7/site-packages/sklearn/linear_model/_logistic.py\", line 1417, in fit\n",
      "    for class_, warm_start_coef_ in zip(classes_, warm_start_coef))\n",
      "  File \"/opt/conda/lib/python3.7/site-packages/joblib/parallel.py\", line 1043, in __call__\n",
      "    if self.dispatch_one_batch(iterator):\n",
      "  File \"/opt/conda/lib/python3.7/site-packages/joblib/parallel.py\", line 861, in dispatch_one_batch\n",
      "    self._dispatch(tasks)\n",
      "  File \"/opt/conda/lib/python3.7/site-packages/joblib/parallel.py\", line 779, in _dispatch\n",
      "    job = self._backend.apply_async(batch, callback=cb)\n",
      "  File \"/opt/conda/lib/python3.7/site-packages/joblib/_parallel_backends.py\", line 208, in apply_async\n",
      "    result = ImmediateResult(func)\n",
      "  File \"/opt/conda/lib/python3.7/site-packages/joblib/_parallel_backends.py\", line 572, in __init__\n",
      "    self.results = batch()\n",
      "  File \"/opt/conda/lib/python3.7/site-packages/joblib/parallel.py\", line 263, in __call__\n",
      "    for func, args, kwargs in self.items]\n",
      "  File \"/opt/conda/lib/python3.7/site-packages/joblib/parallel.py\", line 263, in <listcomp>\n",
      "    for func, args, kwargs in self.items]\n",
      "  File \"/opt/conda/lib/python3.7/site-packages/sklearn/linear_model/_logistic.py\", line 764, in _logistic_regression_path\n",
      "    extra_warning_msg=_LOGISTIC_SOLVER_CONVERGENCE_MSG)\n",
      "  File \"/opt/conda/lib/python3.7/site-packages/sklearn/utils/optimize.py\", line 243, in _check_optimize_result\n",
      "    ).format(solver, result.status, result.message.decode(\"latin1\"))\n",
      "AttributeError: 'str' object has no attribute 'decode'\n",
      "\n",
      "\n"
     ]
    },
    {
     "name": "stdout",
     "output_type": "stream",
     "text": [
      "[CV] ............... lr__C=1, tfidf__ngram_range=(1, 1), total=   5.0s\n",
      "[CV] lr__C=1, tfidf__ngram_range=(1, 1) ..............................\n"
     ]
    },
    {
     "name": "stderr",
     "output_type": "stream",
     "text": [
      "/opt/conda/lib/python3.7/site-packages/sklearn/model_selection/_validation.py:552: FitFailedWarning:\n",
      "\n",
      "Estimator fit failed. The score on this train-test partition for these parameters will be set to nan. Details: \n",
      "Traceback (most recent call last):\n",
      "  File \"/opt/conda/lib/python3.7/site-packages/sklearn/model_selection/_validation.py\", line 531, in _fit_and_score\n",
      "    estimator.fit(X_train, y_train, **fit_params)\n",
      "  File \"/opt/conda/lib/python3.7/site-packages/sklearn/pipeline.py\", line 335, in fit\n",
      "    self._final_estimator.fit(Xt, y, **fit_params_last_step)\n",
      "  File \"/opt/conda/lib/python3.7/site-packages/sklearn/linear_model/_logistic.py\", line 1417, in fit\n",
      "    for class_, warm_start_coef_ in zip(classes_, warm_start_coef))\n",
      "  File \"/opt/conda/lib/python3.7/site-packages/joblib/parallel.py\", line 1043, in __call__\n",
      "    if self.dispatch_one_batch(iterator):\n",
      "  File \"/opt/conda/lib/python3.7/site-packages/joblib/parallel.py\", line 861, in dispatch_one_batch\n",
      "    self._dispatch(tasks)\n",
      "  File \"/opt/conda/lib/python3.7/site-packages/joblib/parallel.py\", line 779, in _dispatch\n",
      "    job = self._backend.apply_async(batch, callback=cb)\n",
      "  File \"/opt/conda/lib/python3.7/site-packages/joblib/_parallel_backends.py\", line 208, in apply_async\n",
      "    result = ImmediateResult(func)\n",
      "  File \"/opt/conda/lib/python3.7/site-packages/joblib/_parallel_backends.py\", line 572, in __init__\n",
      "    self.results = batch()\n",
      "  File \"/opt/conda/lib/python3.7/site-packages/joblib/parallel.py\", line 263, in __call__\n",
      "    for func, args, kwargs in self.items]\n",
      "  File \"/opt/conda/lib/python3.7/site-packages/joblib/parallel.py\", line 263, in <listcomp>\n",
      "    for func, args, kwargs in self.items]\n",
      "  File \"/opt/conda/lib/python3.7/site-packages/sklearn/linear_model/_logistic.py\", line 764, in _logistic_regression_path\n",
      "    extra_warning_msg=_LOGISTIC_SOLVER_CONVERGENCE_MSG)\n",
      "  File \"/opt/conda/lib/python3.7/site-packages/sklearn/utils/optimize.py\", line 243, in _check_optimize_result\n",
      "    ).format(solver, result.status, result.message.decode(\"latin1\"))\n",
      "AttributeError: 'str' object has no attribute 'decode'\n",
      "\n",
      "\n"
     ]
    },
    {
     "name": "stdout",
     "output_type": "stream",
     "text": [
      "[CV] ............... lr__C=1, tfidf__ngram_range=(1, 1), total=   4.7s\n",
      "[CV] lr__C=1, tfidf__ngram_range=(1, 1) ..............................\n"
     ]
    },
    {
     "name": "stderr",
     "output_type": "stream",
     "text": [
      "/opt/conda/lib/python3.7/site-packages/sklearn/model_selection/_validation.py:552: FitFailedWarning:\n",
      "\n",
      "Estimator fit failed. The score on this train-test partition for these parameters will be set to nan. Details: \n",
      "Traceback (most recent call last):\n",
      "  File \"/opt/conda/lib/python3.7/site-packages/sklearn/model_selection/_validation.py\", line 531, in _fit_and_score\n",
      "    estimator.fit(X_train, y_train, **fit_params)\n",
      "  File \"/opt/conda/lib/python3.7/site-packages/sklearn/pipeline.py\", line 335, in fit\n",
      "    self._final_estimator.fit(Xt, y, **fit_params_last_step)\n",
      "  File \"/opt/conda/lib/python3.7/site-packages/sklearn/linear_model/_logistic.py\", line 1417, in fit\n",
      "    for class_, warm_start_coef_ in zip(classes_, warm_start_coef))\n",
      "  File \"/opt/conda/lib/python3.7/site-packages/joblib/parallel.py\", line 1043, in __call__\n",
      "    if self.dispatch_one_batch(iterator):\n",
      "  File \"/opt/conda/lib/python3.7/site-packages/joblib/parallel.py\", line 861, in dispatch_one_batch\n",
      "    self._dispatch(tasks)\n",
      "  File \"/opt/conda/lib/python3.7/site-packages/joblib/parallel.py\", line 779, in _dispatch\n",
      "    job = self._backend.apply_async(batch, callback=cb)\n",
      "  File \"/opt/conda/lib/python3.7/site-packages/joblib/_parallel_backends.py\", line 208, in apply_async\n",
      "    result = ImmediateResult(func)\n",
      "  File \"/opt/conda/lib/python3.7/site-packages/joblib/_parallel_backends.py\", line 572, in __init__\n",
      "    self.results = batch()\n",
      "  File \"/opt/conda/lib/python3.7/site-packages/joblib/parallel.py\", line 263, in __call__\n",
      "    for func, args, kwargs in self.items]\n",
      "  File \"/opt/conda/lib/python3.7/site-packages/joblib/parallel.py\", line 263, in <listcomp>\n",
      "    for func, args, kwargs in self.items]\n",
      "  File \"/opt/conda/lib/python3.7/site-packages/sklearn/linear_model/_logistic.py\", line 764, in _logistic_regression_path\n",
      "    extra_warning_msg=_LOGISTIC_SOLVER_CONVERGENCE_MSG)\n",
      "  File \"/opt/conda/lib/python3.7/site-packages/sklearn/utils/optimize.py\", line 243, in _check_optimize_result\n",
      "    ).format(solver, result.status, result.message.decode(\"latin1\"))\n",
      "AttributeError: 'str' object has no attribute 'decode'\n",
      "\n",
      "\n"
     ]
    },
    {
     "name": "stdout",
     "output_type": "stream",
     "text": [
      "[CV] ............... lr__C=1, tfidf__ngram_range=(1, 1), total=   5.5s\n",
      "[CV] lr__C=1, tfidf__ngram_range=(1, 1) ..............................\n"
     ]
    },
    {
     "name": "stderr",
     "output_type": "stream",
     "text": [
      "/opt/conda/lib/python3.7/site-packages/sklearn/model_selection/_validation.py:552: FitFailedWarning:\n",
      "\n",
      "Estimator fit failed. The score on this train-test partition for these parameters will be set to nan. Details: \n",
      "Traceback (most recent call last):\n",
      "  File \"/opt/conda/lib/python3.7/site-packages/sklearn/model_selection/_validation.py\", line 531, in _fit_and_score\n",
      "    estimator.fit(X_train, y_train, **fit_params)\n",
      "  File \"/opt/conda/lib/python3.7/site-packages/sklearn/pipeline.py\", line 335, in fit\n",
      "    self._final_estimator.fit(Xt, y, **fit_params_last_step)\n",
      "  File \"/opt/conda/lib/python3.7/site-packages/sklearn/linear_model/_logistic.py\", line 1417, in fit\n",
      "    for class_, warm_start_coef_ in zip(classes_, warm_start_coef))\n",
      "  File \"/opt/conda/lib/python3.7/site-packages/joblib/parallel.py\", line 1043, in __call__\n",
      "    if self.dispatch_one_batch(iterator):\n",
      "  File \"/opt/conda/lib/python3.7/site-packages/joblib/parallel.py\", line 861, in dispatch_one_batch\n",
      "    self._dispatch(tasks)\n",
      "  File \"/opt/conda/lib/python3.7/site-packages/joblib/parallel.py\", line 779, in _dispatch\n",
      "    job = self._backend.apply_async(batch, callback=cb)\n",
      "  File \"/opt/conda/lib/python3.7/site-packages/joblib/_parallel_backends.py\", line 208, in apply_async\n",
      "    result = ImmediateResult(func)\n",
      "  File \"/opt/conda/lib/python3.7/site-packages/joblib/_parallel_backends.py\", line 572, in __init__\n",
      "    self.results = batch()\n",
      "  File \"/opt/conda/lib/python3.7/site-packages/joblib/parallel.py\", line 263, in __call__\n",
      "    for func, args, kwargs in self.items]\n",
      "  File \"/opt/conda/lib/python3.7/site-packages/joblib/parallel.py\", line 263, in <listcomp>\n",
      "    for func, args, kwargs in self.items]\n",
      "  File \"/opt/conda/lib/python3.7/site-packages/sklearn/linear_model/_logistic.py\", line 764, in _logistic_regression_path\n",
      "    extra_warning_msg=_LOGISTIC_SOLVER_CONVERGENCE_MSG)\n",
      "  File \"/opt/conda/lib/python3.7/site-packages/sklearn/utils/optimize.py\", line 243, in _check_optimize_result\n",
      "    ).format(solver, result.status, result.message.decode(\"latin1\"))\n",
      "AttributeError: 'str' object has no attribute 'decode'\n",
      "\n",
      "\n"
     ]
    },
    {
     "name": "stdout",
     "output_type": "stream",
     "text": [
      "[CV] ............... lr__C=1, tfidf__ngram_range=(1, 1), total=   5.5s\n",
      "[CV] lr__C=1, tfidf__ngram_range=(1, 2) ..............................\n"
     ]
    },
    {
     "name": "stderr",
     "output_type": "stream",
     "text": [
      "/opt/conda/lib/python3.7/site-packages/sklearn/model_selection/_validation.py:552: FitFailedWarning:\n",
      "\n",
      "Estimator fit failed. The score on this train-test partition for these parameters will be set to nan. Details: \n",
      "Traceback (most recent call last):\n",
      "  File \"/opt/conda/lib/python3.7/site-packages/sklearn/model_selection/_validation.py\", line 531, in _fit_and_score\n",
      "    estimator.fit(X_train, y_train, **fit_params)\n",
      "  File \"/opt/conda/lib/python3.7/site-packages/sklearn/pipeline.py\", line 335, in fit\n",
      "    self._final_estimator.fit(Xt, y, **fit_params_last_step)\n",
      "  File \"/opt/conda/lib/python3.7/site-packages/sklearn/linear_model/_logistic.py\", line 1417, in fit\n",
      "    for class_, warm_start_coef_ in zip(classes_, warm_start_coef))\n",
      "  File \"/opt/conda/lib/python3.7/site-packages/joblib/parallel.py\", line 1043, in __call__\n",
      "    if self.dispatch_one_batch(iterator):\n",
      "  File \"/opt/conda/lib/python3.7/site-packages/joblib/parallel.py\", line 861, in dispatch_one_batch\n",
      "    self._dispatch(tasks)\n",
      "  File \"/opt/conda/lib/python3.7/site-packages/joblib/parallel.py\", line 779, in _dispatch\n",
      "    job = self._backend.apply_async(batch, callback=cb)\n",
      "  File \"/opt/conda/lib/python3.7/site-packages/joblib/_parallel_backends.py\", line 208, in apply_async\n",
      "    result = ImmediateResult(func)\n",
      "  File \"/opt/conda/lib/python3.7/site-packages/joblib/_parallel_backends.py\", line 572, in __init__\n",
      "    self.results = batch()\n",
      "  File \"/opt/conda/lib/python3.7/site-packages/joblib/parallel.py\", line 263, in __call__\n",
      "    for func, args, kwargs in self.items]\n",
      "  File \"/opt/conda/lib/python3.7/site-packages/joblib/parallel.py\", line 263, in <listcomp>\n",
      "    for func, args, kwargs in self.items]\n",
      "  File \"/opt/conda/lib/python3.7/site-packages/sklearn/linear_model/_logistic.py\", line 764, in _logistic_regression_path\n",
      "    extra_warning_msg=_LOGISTIC_SOLVER_CONVERGENCE_MSG)\n",
      "  File \"/opt/conda/lib/python3.7/site-packages/sklearn/utils/optimize.py\", line 243, in _check_optimize_result\n",
      "    ).format(solver, result.status, result.message.decode(\"latin1\"))\n",
      "AttributeError: 'str' object has no attribute 'decode'\n",
      "\n",
      "\n"
     ]
    },
    {
     "name": "stdout",
     "output_type": "stream",
     "text": [
      "[CV] ............... lr__C=1, tfidf__ngram_range=(1, 2), total=  22.9s\n",
      "[CV] lr__C=1, tfidf__ngram_range=(1, 2) ..............................\n"
     ]
    },
    {
     "name": "stderr",
     "output_type": "stream",
     "text": [
      "/opt/conda/lib/python3.7/site-packages/sklearn/model_selection/_validation.py:552: FitFailedWarning:\n",
      "\n",
      "Estimator fit failed. The score on this train-test partition for these parameters will be set to nan. Details: \n",
      "Traceback (most recent call last):\n",
      "  File \"/opt/conda/lib/python3.7/site-packages/sklearn/model_selection/_validation.py\", line 531, in _fit_and_score\n",
      "    estimator.fit(X_train, y_train, **fit_params)\n",
      "  File \"/opt/conda/lib/python3.7/site-packages/sklearn/pipeline.py\", line 335, in fit\n",
      "    self._final_estimator.fit(Xt, y, **fit_params_last_step)\n",
      "  File \"/opt/conda/lib/python3.7/site-packages/sklearn/linear_model/_logistic.py\", line 1417, in fit\n",
      "    for class_, warm_start_coef_ in zip(classes_, warm_start_coef))\n",
      "  File \"/opt/conda/lib/python3.7/site-packages/joblib/parallel.py\", line 1043, in __call__\n",
      "    if self.dispatch_one_batch(iterator):\n",
      "  File \"/opt/conda/lib/python3.7/site-packages/joblib/parallel.py\", line 861, in dispatch_one_batch\n",
      "    self._dispatch(tasks)\n",
      "  File \"/opt/conda/lib/python3.7/site-packages/joblib/parallel.py\", line 779, in _dispatch\n",
      "    job = self._backend.apply_async(batch, callback=cb)\n",
      "  File \"/opt/conda/lib/python3.7/site-packages/joblib/_parallel_backends.py\", line 208, in apply_async\n",
      "    result = ImmediateResult(func)\n",
      "  File \"/opt/conda/lib/python3.7/site-packages/joblib/_parallel_backends.py\", line 572, in __init__\n",
      "    self.results = batch()\n",
      "  File \"/opt/conda/lib/python3.7/site-packages/joblib/parallel.py\", line 263, in __call__\n",
      "    for func, args, kwargs in self.items]\n",
      "  File \"/opt/conda/lib/python3.7/site-packages/joblib/parallel.py\", line 263, in <listcomp>\n",
      "    for func, args, kwargs in self.items]\n",
      "  File \"/opt/conda/lib/python3.7/site-packages/sklearn/linear_model/_logistic.py\", line 764, in _logistic_regression_path\n",
      "    extra_warning_msg=_LOGISTIC_SOLVER_CONVERGENCE_MSG)\n",
      "  File \"/opt/conda/lib/python3.7/site-packages/sklearn/utils/optimize.py\", line 243, in _check_optimize_result\n",
      "    ).format(solver, result.status, result.message.decode(\"latin1\"))\n",
      "AttributeError: 'str' object has no attribute 'decode'\n",
      "\n",
      "\n"
     ]
    },
    {
     "name": "stdout",
     "output_type": "stream",
     "text": [
      "[CV] ............... lr__C=1, tfidf__ngram_range=(1, 2), total=  25.6s\n",
      "[CV] lr__C=1, tfidf__ngram_range=(1, 2) ..............................\n"
     ]
    },
    {
     "name": "stderr",
     "output_type": "stream",
     "text": [
      "/opt/conda/lib/python3.7/site-packages/sklearn/model_selection/_validation.py:552: FitFailedWarning:\n",
      "\n",
      "Estimator fit failed. The score on this train-test partition for these parameters will be set to nan. Details: \n",
      "Traceback (most recent call last):\n",
      "  File \"/opt/conda/lib/python3.7/site-packages/sklearn/model_selection/_validation.py\", line 531, in _fit_and_score\n",
      "    estimator.fit(X_train, y_train, **fit_params)\n",
      "  File \"/opt/conda/lib/python3.7/site-packages/sklearn/pipeline.py\", line 335, in fit\n",
      "    self._final_estimator.fit(Xt, y, **fit_params_last_step)\n",
      "  File \"/opt/conda/lib/python3.7/site-packages/sklearn/linear_model/_logistic.py\", line 1417, in fit\n",
      "    for class_, warm_start_coef_ in zip(classes_, warm_start_coef))\n",
      "  File \"/opt/conda/lib/python3.7/site-packages/joblib/parallel.py\", line 1043, in __call__\n",
      "    if self.dispatch_one_batch(iterator):\n",
      "  File \"/opt/conda/lib/python3.7/site-packages/joblib/parallel.py\", line 861, in dispatch_one_batch\n",
      "    self._dispatch(tasks)\n",
      "  File \"/opt/conda/lib/python3.7/site-packages/joblib/parallel.py\", line 779, in _dispatch\n",
      "    job = self._backend.apply_async(batch, callback=cb)\n",
      "  File \"/opt/conda/lib/python3.7/site-packages/joblib/_parallel_backends.py\", line 208, in apply_async\n",
      "    result = ImmediateResult(func)\n",
      "  File \"/opt/conda/lib/python3.7/site-packages/joblib/_parallel_backends.py\", line 572, in __init__\n",
      "    self.results = batch()\n",
      "  File \"/opt/conda/lib/python3.7/site-packages/joblib/parallel.py\", line 263, in __call__\n",
      "    for func, args, kwargs in self.items]\n",
      "  File \"/opt/conda/lib/python3.7/site-packages/joblib/parallel.py\", line 263, in <listcomp>\n",
      "    for func, args, kwargs in self.items]\n",
      "  File \"/opt/conda/lib/python3.7/site-packages/sklearn/linear_model/_logistic.py\", line 764, in _logistic_regression_path\n",
      "    extra_warning_msg=_LOGISTIC_SOLVER_CONVERGENCE_MSG)\n",
      "  File \"/opt/conda/lib/python3.7/site-packages/sklearn/utils/optimize.py\", line 243, in _check_optimize_result\n",
      "    ).format(solver, result.status, result.message.decode(\"latin1\"))\n",
      "AttributeError: 'str' object has no attribute 'decode'\n",
      "\n",
      "\n"
     ]
    },
    {
     "name": "stdout",
     "output_type": "stream",
     "text": [
      "[CV] ............... lr__C=1, tfidf__ngram_range=(1, 2), total=  23.4s\n",
      "[CV] lr__C=1, tfidf__ngram_range=(1, 2) ..............................\n"
     ]
    },
    {
     "name": "stderr",
     "output_type": "stream",
     "text": [
      "/opt/conda/lib/python3.7/site-packages/sklearn/model_selection/_validation.py:552: FitFailedWarning:\n",
      "\n",
      "Estimator fit failed. The score on this train-test partition for these parameters will be set to nan. Details: \n",
      "Traceback (most recent call last):\n",
      "  File \"/opt/conda/lib/python3.7/site-packages/sklearn/model_selection/_validation.py\", line 531, in _fit_and_score\n",
      "    estimator.fit(X_train, y_train, **fit_params)\n",
      "  File \"/opt/conda/lib/python3.7/site-packages/sklearn/pipeline.py\", line 335, in fit\n",
      "    self._final_estimator.fit(Xt, y, **fit_params_last_step)\n",
      "  File \"/opt/conda/lib/python3.7/site-packages/sklearn/linear_model/_logistic.py\", line 1417, in fit\n",
      "    for class_, warm_start_coef_ in zip(classes_, warm_start_coef))\n",
      "  File \"/opt/conda/lib/python3.7/site-packages/joblib/parallel.py\", line 1043, in __call__\n",
      "    if self.dispatch_one_batch(iterator):\n",
      "  File \"/opt/conda/lib/python3.7/site-packages/joblib/parallel.py\", line 861, in dispatch_one_batch\n",
      "    self._dispatch(tasks)\n",
      "  File \"/opt/conda/lib/python3.7/site-packages/joblib/parallel.py\", line 779, in _dispatch\n",
      "    job = self._backend.apply_async(batch, callback=cb)\n",
      "  File \"/opt/conda/lib/python3.7/site-packages/joblib/_parallel_backends.py\", line 208, in apply_async\n",
      "    result = ImmediateResult(func)\n",
      "  File \"/opt/conda/lib/python3.7/site-packages/joblib/_parallel_backends.py\", line 572, in __init__\n",
      "    self.results = batch()\n",
      "  File \"/opt/conda/lib/python3.7/site-packages/joblib/parallel.py\", line 263, in __call__\n",
      "    for func, args, kwargs in self.items]\n",
      "  File \"/opt/conda/lib/python3.7/site-packages/joblib/parallel.py\", line 263, in <listcomp>\n",
      "    for func, args, kwargs in self.items]\n",
      "  File \"/opt/conda/lib/python3.7/site-packages/sklearn/linear_model/_logistic.py\", line 764, in _logistic_regression_path\n",
      "    extra_warning_msg=_LOGISTIC_SOLVER_CONVERGENCE_MSG)\n",
      "  File \"/opt/conda/lib/python3.7/site-packages/sklearn/utils/optimize.py\", line 243, in _check_optimize_result\n",
      "    ).format(solver, result.status, result.message.decode(\"latin1\"))\n",
      "AttributeError: 'str' object has no attribute 'decode'\n",
      "\n",
      "\n"
     ]
    },
    {
     "name": "stdout",
     "output_type": "stream",
     "text": [
      "[CV] ............... lr__C=1, tfidf__ngram_range=(1, 2), total=  24.5s\n",
      "[CV] lr__C=1, tfidf__ngram_range=(1, 2) ..............................\n"
     ]
    },
    {
     "name": "stderr",
     "output_type": "stream",
     "text": [
      "/opt/conda/lib/python3.7/site-packages/sklearn/model_selection/_validation.py:552: FitFailedWarning:\n",
      "\n",
      "Estimator fit failed. The score on this train-test partition for these parameters will be set to nan. Details: \n",
      "Traceback (most recent call last):\n",
      "  File \"/opt/conda/lib/python3.7/site-packages/sklearn/model_selection/_validation.py\", line 531, in _fit_and_score\n",
      "    estimator.fit(X_train, y_train, **fit_params)\n",
      "  File \"/opt/conda/lib/python3.7/site-packages/sklearn/pipeline.py\", line 335, in fit\n",
      "    self._final_estimator.fit(Xt, y, **fit_params_last_step)\n",
      "  File \"/opt/conda/lib/python3.7/site-packages/sklearn/linear_model/_logistic.py\", line 1417, in fit\n",
      "    for class_, warm_start_coef_ in zip(classes_, warm_start_coef))\n",
      "  File \"/opt/conda/lib/python3.7/site-packages/joblib/parallel.py\", line 1043, in __call__\n",
      "    if self.dispatch_one_batch(iterator):\n",
      "  File \"/opt/conda/lib/python3.7/site-packages/joblib/parallel.py\", line 861, in dispatch_one_batch\n",
      "    self._dispatch(tasks)\n",
      "  File \"/opt/conda/lib/python3.7/site-packages/joblib/parallel.py\", line 779, in _dispatch\n",
      "    job = self._backend.apply_async(batch, callback=cb)\n",
      "  File \"/opt/conda/lib/python3.7/site-packages/joblib/_parallel_backends.py\", line 208, in apply_async\n",
      "    result = ImmediateResult(func)\n",
      "  File \"/opt/conda/lib/python3.7/site-packages/joblib/_parallel_backends.py\", line 572, in __init__\n",
      "    self.results = batch()\n",
      "  File \"/opt/conda/lib/python3.7/site-packages/joblib/parallel.py\", line 263, in __call__\n",
      "    for func, args, kwargs in self.items]\n",
      "  File \"/opt/conda/lib/python3.7/site-packages/joblib/parallel.py\", line 263, in <listcomp>\n",
      "    for func, args, kwargs in self.items]\n",
      "  File \"/opt/conda/lib/python3.7/site-packages/sklearn/linear_model/_logistic.py\", line 764, in _logistic_regression_path\n",
      "    extra_warning_msg=_LOGISTIC_SOLVER_CONVERGENCE_MSG)\n",
      "  File \"/opt/conda/lib/python3.7/site-packages/sklearn/utils/optimize.py\", line 243, in _check_optimize_result\n",
      "    ).format(solver, result.status, result.message.decode(\"latin1\"))\n",
      "AttributeError: 'str' object has no attribute 'decode'\n",
      "\n",
      "\n",
      "[Parallel(n_jobs=1)]: Done  50 out of  50 | elapsed:  6.0min finished\n"
     ]
    },
    {
     "name": "stdout",
     "output_type": "stream",
     "text": [
      "[CV] ............... lr__C=1, tfidf__ngram_range=(1, 2), total=  22.9s\n"
     ]
    }
   ],
   "source": [
    "lr_pipeline = Pipeline([('tfidf', TfidfVectorizer()),\n",
    "                        ('lr', LogisticRegression(penalty='l2', max_iter=100, random_state=42))\n",
    "                       ])\n",
    "\n",
    "param_grid = {'tfidf__ngram_range': [(1, 1), (1, 2)],\n",
    "              'lr__C': [1e-5, 1e-4, 1e-2, 1e-1, 1]\n",
    "}\n",
    "\n",
    "gs_lr = GridSearchCV(lr_pipeline, param_grid, cv=5, verbose=2)\n",
    "gs_lr = gs_lr.fit(train_corpus, train_label_names)"
   ]
  },
  {
   "cell_type": "code",
   "execution_count": 38,
   "id": "d0f10ced",
   "metadata": {
    "execution": {
     "iopub.execute_input": "2022-01-27T07:25:56.482869Z",
     "iopub.status.busy": "2022-01-27T07:25:56.482349Z",
     "iopub.status.idle": "2022-01-27T07:25:56.484650Z",
     "shell.execute_reply": "2022-01-27T07:25:56.485123Z",
     "shell.execute_reply.started": "2022-01-27T05:27:32.662747Z"
    },
    "papermill": {
     "duration": 0.102347,
     "end_time": "2022-01-27T07:25:56.485276",
     "exception": false,
     "start_time": "2022-01-27T07:25:56.382929",
     "status": "completed"
    },
    "tags": []
   },
   "outputs": [
    {
     "data": {
      "text/plain": [
       "Pipeline(steps=[('tfidf', TfidfVectorizer()),\n",
       "                ('lr', LogisticRegression(C=0.1, random_state=42))])"
      ]
     },
     "execution_count": 38,
     "metadata": {},
     "output_type": "execute_result"
    }
   ],
   "source": [
    "gs_lr.best_estimator_"
   ]
  },
  {
   "cell_type": "code",
   "execution_count": 39,
   "id": "2a685c9d",
   "metadata": {
    "execution": {
     "iopub.execute_input": "2022-01-27T07:25:56.679149Z",
     "iopub.status.busy": "2022-01-27T07:25:56.678420Z",
     "iopub.status.idle": "2022-01-27T07:25:57.077483Z",
     "shell.execute_reply": "2022-01-27T07:25:57.076809Z",
     "shell.execute_reply.started": "2022-01-27T05:27:35.734102Z"
    },
    "papermill": {
     "duration": 0.497528,
     "end_time": "2022-01-27T07:25:57.077629",
     "exception": false,
     "start_time": "2022-01-27T07:25:56.580101",
     "status": "completed"
    },
    "tags": []
   },
   "outputs": [
    {
     "name": "stdout",
     "output_type": "stream",
     "text": [
      "Test Accuracy : 0.8024147052838635\n"
     ]
    }
   ],
   "source": [
    "best_lr_test_score = gs_lr.score(test_corpus, test_label_names)\n",
    "print('Test Accuracy :', best_lr_test_score)"
   ]
  },
  {
   "cell_type": "markdown",
   "id": "de0af90d",
   "metadata": {
    "papermill": {
     "duration": 0.145005,
     "end_time": "2022-01-27T07:25:57.368100",
     "exception": false,
     "start_time": "2022-01-27T07:25:57.223095",
     "status": "completed"
    },
    "tags": []
   },
   "source": [
    " # <a id='8'> 8. Evaluation</a>"
   ]
  },
  {
   "cell_type": "markdown",
   "id": "a3388b92",
   "metadata": {
    "papermill": {
     "duration": 0.14309,
     "end_time": "2022-01-27T07:25:57.656956",
     "exception": false,
     "start_time": "2022-01-27T07:25:57.513866",
     "status": "completed"
    },
    "tags": []
   },
   "source": [
    "**Support Vector Machine classifier**"
   ]
  },
  {
   "cell_type": "code",
   "execution_count": 40,
   "id": "112a325e",
   "metadata": {
    "execution": {
     "iopub.execute_input": "2022-01-27T07:25:57.948209Z",
     "iopub.status.busy": "2022-01-27T07:25:57.947389Z",
     "iopub.status.idle": "2022-01-27T07:25:57.966689Z",
     "shell.execute_reply": "2022-01-27T07:25:57.967191Z",
     "shell.execute_reply.started": "2022-01-27T05:35:18.497546Z"
    },
    "papermill": {
     "duration": 0.165666,
     "end_time": "2022-01-27T07:25:57.967351",
     "exception": false,
     "start_time": "2022-01-27T07:25:57.801685",
     "status": "completed"
    },
    "tags": []
   },
   "outputs": [
    {
     "data": {
      "text/html": [
       "<div>\n",
       "<style scoped>\n",
       "    .dataframe tbody tr th:only-of-type {\n",
       "        vertical-align: middle;\n",
       "    }\n",
       "\n",
       "    .dataframe tbody tr th {\n",
       "        vertical-align: top;\n",
       "    }\n",
       "\n",
       "    .dataframe thead th {\n",
       "        text-align: right;\n",
       "    }\n",
       "</style>\n",
       "<table border=\"1\" class=\"dataframe\">\n",
       "  <thead>\n",
       "    <tr style=\"text-align: right;\">\n",
       "      <th></th>\n",
       "      <th>rank</th>\n",
       "      <th>params</th>\n",
       "      <th>cv score (mean)</th>\n",
       "      <th>cv score (std)</th>\n",
       "    </tr>\n",
       "  </thead>\n",
       "  <tbody>\n",
       "    <tr>\n",
       "      <th>8</th>\n",
       "      <td>1</td>\n",
       "      <td>{'svm__C': 1, 'tfidf__ngram_range': (1, 1)}</td>\n",
       "      <td>0.830076</td>\n",
       "      <td>0.006461</td>\n",
       "    </tr>\n",
       "    <tr>\n",
       "      <th>9</th>\n",
       "      <td>1</td>\n",
       "      <td>{'svm__C': 1, 'tfidf__ngram_range': (1, 1)}</td>\n",
       "      <td>0.830076</td>\n",
       "      <td>0.006461</td>\n",
       "    </tr>\n",
       "    <tr>\n",
       "      <th>6</th>\n",
       "      <td>3</td>\n",
       "      <td>{'svm__C': 0.1, 'tfidf__ngram_range': (1, 1)}</td>\n",
       "      <td>0.829541</td>\n",
       "      <td>0.006086</td>\n",
       "    </tr>\n",
       "    <tr>\n",
       "      <th>7</th>\n",
       "      <td>3</td>\n",
       "      <td>{'svm__C': 0.1, 'tfidf__ngram_range': (1, 1)}</td>\n",
       "      <td>0.829541</td>\n",
       "      <td>0.006086</td>\n",
       "    </tr>\n",
       "    <tr>\n",
       "      <th>4</th>\n",
       "      <td>5</td>\n",
       "      <td>{'svm__C': 0.01, 'tfidf__ngram_range': (1, 1)}</td>\n",
       "      <td>0.789382</td>\n",
       "      <td>0.006630</td>\n",
       "    </tr>\n",
       "    <tr>\n",
       "      <th>5</th>\n",
       "      <td>5</td>\n",
       "      <td>{'svm__C': 0.01, 'tfidf__ngram_range': (1, 1)}</td>\n",
       "      <td>0.789382</td>\n",
       "      <td>0.006630</td>\n",
       "    </tr>\n",
       "    <tr>\n",
       "      <th>2</th>\n",
       "      <td>7</td>\n",
       "      <td>{'svm__C': 0.0001, 'tfidf__ngram_range': (1, 1)}</td>\n",
       "      <td>0.603588</td>\n",
       "      <td>0.004264</td>\n",
       "    </tr>\n",
       "    <tr>\n",
       "      <th>3</th>\n",
       "      <td>7</td>\n",
       "      <td>{'svm__C': 0.0001, 'tfidf__ngram_range': (1, 1)}</td>\n",
       "      <td>0.603588</td>\n",
       "      <td>0.004264</td>\n",
       "    </tr>\n",
       "    <tr>\n",
       "      <th>0</th>\n",
       "      <td>9</td>\n",
       "      <td>{'svm__C': 1e-05, 'tfidf__ngram_range': (1, 1)}</td>\n",
       "      <td>0.546724</td>\n",
       "      <td>0.003896</td>\n",
       "    </tr>\n",
       "    <tr>\n",
       "      <th>1</th>\n",
       "      <td>9</td>\n",
       "      <td>{'svm__C': 1e-05, 'tfidf__ngram_range': (1, 1)}</td>\n",
       "      <td>0.546724</td>\n",
       "      <td>0.003896</td>\n",
       "    </tr>\n",
       "  </tbody>\n",
       "</table>\n",
       "</div>"
      ],
      "text/plain": [
       "   rank                                            params  cv score (mean)  \\\n",
       "8     1       {'svm__C': 1, 'tfidf__ngram_range': (1, 1)}         0.830076   \n",
       "9     1       {'svm__C': 1, 'tfidf__ngram_range': (1, 1)}         0.830076   \n",
       "6     3     {'svm__C': 0.1, 'tfidf__ngram_range': (1, 1)}         0.829541   \n",
       "7     3     {'svm__C': 0.1, 'tfidf__ngram_range': (1, 1)}         0.829541   \n",
       "4     5    {'svm__C': 0.01, 'tfidf__ngram_range': (1, 1)}         0.789382   \n",
       "5     5    {'svm__C': 0.01, 'tfidf__ngram_range': (1, 1)}         0.789382   \n",
       "2     7  {'svm__C': 0.0001, 'tfidf__ngram_range': (1, 1)}         0.603588   \n",
       "3     7  {'svm__C': 0.0001, 'tfidf__ngram_range': (1, 1)}         0.603588   \n",
       "0     9   {'svm__C': 1e-05, 'tfidf__ngram_range': (1, 1)}         0.546724   \n",
       "1     9   {'svm__C': 1e-05, 'tfidf__ngram_range': (1, 1)}         0.546724   \n",
       "\n",
       "   cv score (std)  \n",
       "8        0.006461  \n",
       "9        0.006461  \n",
       "6        0.006086  \n",
       "7        0.006086  \n",
       "4        0.006630  \n",
       "5        0.006630  \n",
       "2        0.004264  \n",
       "3        0.004264  \n",
       "0        0.003896  \n",
       "1        0.003896  "
      ]
     },
     "execution_count": 40,
     "metadata": {},
     "output_type": "execute_result"
    }
   ],
   "source": [
    "svm_results = gs_svm.cv_results_\n",
    "results_df = pd.DataFrame({'rank': svm_results['rank_test_score'],\n",
    "                           'params': svm_results['params'], \n",
    "                           'cv score (mean)': svm_results['mean_test_score'], \n",
    "                           'cv score (std)': svm_results['std_test_score']} \n",
    "              )\n",
    "results_df = results_df.sort_values(by=['rank'], ascending=True)\n",
    "pd.set_option('display.max_colwidth', 100)\n",
    "results_df"
   ]
  },
  {
   "cell_type": "code",
   "execution_count": 41,
   "id": "b08a68fc",
   "metadata": {
    "execution": {
     "iopub.execute_input": "2022-01-27T07:25:58.262102Z",
     "iopub.status.busy": "2022-01-27T07:25:58.261261Z",
     "iopub.status.idle": "2022-01-27T07:25:59.093959Z",
     "shell.execute_reply": "2022-01-27T07:25:59.094391Z",
     "shell.execute_reply.started": "2022-01-27T05:34:30.469275Z"
    },
    "papermill": {
     "duration": 0.982944,
     "end_time": "2022-01-27T07:25:59.094539",
     "exception": false,
     "start_time": "2022-01-27T07:25:58.111595",
     "status": "completed"
    },
    "tags": []
   },
   "outputs": [
    {
     "data": {
      "text/plain": [
       "<sklearn.metrics._plot.confusion_matrix.ConfusionMatrixDisplay at 0x7f64c1724e90>"
      ]
     },
     "execution_count": 41,
     "metadata": {},
     "output_type": "execute_result"
    },
    {
     "data": {
      "image/png": "[encoded data removed]",
      "text/plain": [
       "<Figure size 432x288 with 2 Axes>"
      ]
     },
     "metadata": {},
     "output_type": "display_data"
    }
   ],
   "source": [
    "svm_predictions = gs_svm.predict(test_corpus.astype('U'))\n",
    "\n",
    "plot_confusion_matrix(estimator=gs_svm, X=test_corpus, y_true=test_label_names, \n",
    "                      xticks_rotation='vertical', cmap='Greys', ax=None, include_values=True)"
   ]
  },
  {
   "cell_type": "code",
   "execution_count": 42,
   "id": "ac6eaf6c",
   "metadata": {
    "execution": {
     "iopub.execute_input": "2022-01-27T07:25:59.289733Z",
     "iopub.status.busy": "2022-01-27T07:25:59.289292Z",
     "iopub.status.idle": "2022-01-27T07:25:59.588563Z",
     "shell.execute_reply": "2022-01-27T07:25:59.588109Z",
     "shell.execute_reply.started": "2022-01-27T05:35:38.394861Z"
    },
    "papermill": {
     "duration": 0.397671,
     "end_time": "2022-01-27T07:25:59.588674",
     "exception": false,
     "start_time": "2022-01-27T07:25:59.191003",
     "status": "completed"
    },
    "tags": []
   },
   "outputs": [
    {
     "name": "stdout",
     "output_type": "stream",
     "text": [
      "                     precision    recall  f1-score   support\n",
      "\n",
      "           religion       0.93      0.97      0.95      2556\n",
      "          ethnicity       0.97      0.98      0.97      2539\n",
      "other_cyberbullying       0.87      0.85      0.86      2496\n",
      "  not_cyberbullying       0.62      0.59      0.60      2617\n",
      "                age       0.56      0.56      0.56      1948\n",
      "             gender       0.94      0.96      0.95      2587\n",
      "\n",
      "           accuracy                           0.83     14743\n",
      "          macro avg       0.81      0.82      0.82     14743\n",
      "       weighted avg       0.82      0.83      0.83     14743\n",
      "\n"
     ]
    }
   ],
   "source": [
    "print(classification_report(test_label_names, svm_predictions, target_names=list(set(test_label_names))))"
   ]
  },
  {
   "cell_type": "markdown",
   "id": "52280e00",
   "metadata": {
    "papermill": {
     "duration": 0.100494,
     "end_time": "2022-01-27T07:25:59.790481",
     "exception": false,
     "start_time": "2022-01-27T07:25:59.689987",
     "status": "completed"
    },
    "tags": []
   },
   "source": [
    "**Multinomial Naive Bayes**"
   ]
  },
  {
   "cell_type": "code",
   "execution_count": 43,
   "id": "66c8bc40",
   "metadata": {
    "execution": {
     "iopub.execute_input": "2022-01-27T07:25:59.988237Z",
     "iopub.status.busy": "2022-01-27T07:25:59.987687Z",
     "iopub.status.idle": "2022-01-27T07:26:00.002549Z",
     "shell.execute_reply": "2022-01-27T07:26:00.002967Z",
     "shell.execute_reply.started": "2022-01-27T05:37:07.564867Z"
    },
    "papermill": {
     "duration": 0.115171,
     "end_time": "2022-01-27T07:26:00.003124",
     "exception": false,
     "start_time": "2022-01-27T07:25:59.887953",
     "status": "completed"
    },
    "tags": []
   },
   "outputs": [
    {
     "data": {
      "text/html": [
       "<div>\n",
       "<style scoped>\n",
       "    .dataframe tbody tr th:only-of-type {\n",
       "        vertical-align: middle;\n",
       "    }\n",
       "\n",
       "    .dataframe tbody tr th {\n",
       "        vertical-align: top;\n",
       "    }\n",
       "\n",
       "    .dataframe thead th {\n",
       "        text-align: right;\n",
       "    }\n",
       "</style>\n",
       "<table border=\"1\" class=\"dataframe\">\n",
       "  <thead>\n",
       "    <tr style=\"text-align: right;\">\n",
       "      <th></th>\n",
       "      <th>rank</th>\n",
       "      <th>params</th>\n",
       "      <th>mnb score (mean)</th>\n",
       "      <th>mnb score (std)</th>\n",
       "    </tr>\n",
       "  </thead>\n",
       "  <tbody>\n",
       "    <tr>\n",
       "      <th>5</th>\n",
       "      <td>1</td>\n",
       "      <td>{'mnb__alpha': 0.01, 'tfidf__ngram_range': (1, 2)}</td>\n",
       "      <td>0.759380</td>\n",
       "      <td>0.007268</td>\n",
       "    </tr>\n",
       "    <tr>\n",
       "      <th>7</th>\n",
       "      <td>2</td>\n",
       "      <td>{'mnb__alpha': 0.1, 'tfidf__ngram_range': (1, 2)}</td>\n",
       "      <td>0.755237</td>\n",
       "      <td>0.007539</td>\n",
       "    </tr>\n",
       "    <tr>\n",
       "      <th>3</th>\n",
       "      <td>3</td>\n",
       "      <td>{'mnb__alpha': 0.0001, 'tfidf__ngram_range': (1, 2)}</td>\n",
       "      <td>0.742040</td>\n",
       "      <td>0.006556</td>\n",
       "    </tr>\n",
       "    <tr>\n",
       "      <th>6</th>\n",
       "      <td>4</td>\n",
       "      <td>{'mnb__alpha': 0.1, 'tfidf__ngram_range': (1, 1)}</td>\n",
       "      <td>0.740436</td>\n",
       "      <td>0.005140</td>\n",
       "    </tr>\n",
       "    <tr>\n",
       "      <th>1</th>\n",
       "      <td>5</td>\n",
       "      <td>{'mnb__alpha': 1e-05, 'tfidf__ngram_range': (1, 2)}</td>\n",
       "      <td>0.738365</td>\n",
       "      <td>0.006686</td>\n",
       "    </tr>\n",
       "    <tr>\n",
       "      <th>8</th>\n",
       "      <td>6</td>\n",
       "      <td>{'mnb__alpha': 1, 'tfidf__ngram_range': (1, 1)}</td>\n",
       "      <td>0.722729</td>\n",
       "      <td>0.006270</td>\n",
       "    </tr>\n",
       "    <tr>\n",
       "      <th>9</th>\n",
       "      <td>7</td>\n",
       "      <td>{'mnb__alpha': 1, 'tfidf__ngram_range': (1, 2)}</td>\n",
       "      <td>0.720156</td>\n",
       "      <td>0.005813</td>\n",
       "    </tr>\n",
       "    <tr>\n",
       "      <th>4</th>\n",
       "      <td>8</td>\n",
       "      <td>{'mnb__alpha': 0.01, 'tfidf__ngram_range': (1, 1)}</td>\n",
       "      <td>0.717918</td>\n",
       "      <td>0.005502</td>\n",
       "    </tr>\n",
       "    <tr>\n",
       "      <th>2</th>\n",
       "      <td>9</td>\n",
       "      <td>{'mnb__alpha': 0.0001, 'tfidf__ngram_range': (1, 1)}</td>\n",
       "      <td>0.672513</td>\n",
       "      <td>0.004339</td>\n",
       "    </tr>\n",
       "    <tr>\n",
       "      <th>0</th>\n",
       "      <td>10</td>\n",
       "      <td>{'mnb__alpha': 1e-05, 'tfidf__ngram_range': (1, 1)}</td>\n",
       "      <td>0.659016</td>\n",
       "      <td>0.004061</td>\n",
       "    </tr>\n",
       "  </tbody>\n",
       "</table>\n",
       "</div>"
      ],
      "text/plain": [
       "   rank                                                params  \\\n",
       "5     1    {'mnb__alpha': 0.01, 'tfidf__ngram_range': (1, 2)}   \n",
       "7     2     {'mnb__alpha': 0.1, 'tfidf__ngram_range': (1, 2)}   \n",
       "3     3  {'mnb__alpha': 0.0001, 'tfidf__ngram_range': (1, 2)}   \n",
       "6     4     {'mnb__alpha': 0.1, 'tfidf__ngram_range': (1, 1)}   \n",
       "1     5   {'mnb__alpha': 1e-05, 'tfidf__ngram_range': (1, 2)}   \n",
       "8     6       {'mnb__alpha': 1, 'tfidf__ngram_range': (1, 1)}   \n",
       "9     7       {'mnb__alpha': 1, 'tfidf__ngram_range': (1, 2)}   \n",
       "4     8    {'mnb__alpha': 0.01, 'tfidf__ngram_range': (1, 1)}   \n",
       "2     9  {'mnb__alpha': 0.0001, 'tfidf__ngram_range': (1, 1)}   \n",
       "0    10   {'mnb__alpha': 1e-05, 'tfidf__ngram_range': (1, 1)}   \n",
       "\n",
       "   mnb score (mean)  mnb score (std)  \n",
       "5          0.759380         0.007268  \n",
       "7          0.755237         0.007539  \n",
       "3          0.742040         0.006556  \n",
       "6          0.740436         0.005140  \n",
       "1          0.738365         0.006686  \n",
       "8          0.722729         0.006270  \n",
       "9          0.720156         0.005813  \n",
       "4          0.717918         0.005502  \n",
       "2          0.672513         0.004339  \n",
       "0          0.659016         0.004061  "
      ]
     },
     "execution_count": 43,
     "metadata": {},
     "output_type": "execute_result"
    }
   ],
   "source": [
    "mnb_results = gs_mnb.cv_results_\n",
    "results_df = pd.DataFrame({'rank': mnb_results['rank_test_score'],\n",
    "                           'params': mnb_results['params'], \n",
    "                           'mnb score (mean)': mnb_results['mean_test_score'], \n",
    "                           'mnb score (std)': mnb_results['std_test_score']} \n",
    "              )\n",
    "results_df = results_df.sort_values(by=['rank'], ascending=True)\n",
    "pd.set_option('display.max_colwidth', 100)\n",
    "results_df"
   ]
  },
  {
   "cell_type": "code",
   "execution_count": 44,
   "id": "b4add836",
   "metadata": {
    "execution": {
     "iopub.execute_input": "2022-01-27T07:26:00.201912Z",
     "iopub.status.busy": "2022-01-27T07:26:00.201420Z",
     "iopub.status.idle": "2022-01-27T07:26:01.419380Z",
     "shell.execute_reply": "2022-01-27T07:26:01.418784Z",
     "shell.execute_reply.started": "2022-01-27T05:37:54.317191Z"
    },
    "papermill": {
     "duration": 1.319227,
     "end_time": "2022-01-27T07:26:01.419519",
     "exception": false,
     "start_time": "2022-01-27T07:26:00.100292",
     "status": "completed"
    },
    "tags": []
   },
   "outputs": [
    {
     "data": {
      "text/plain": [
       "<sklearn.metrics._plot.confusion_matrix.ConfusionMatrixDisplay at 0x7f64c33dd750>"
      ]
     },
     "execution_count": 44,
     "metadata": {},
     "output_type": "execute_result"
    },
    {
     "data": {
      "image/png": "[encoded data removed]",
      "text/plain": [
       "<Figure size 432x288 with 2 Axes>"
      ]
     },
     "metadata": {},
     "output_type": "display_data"
    }
   ],
   "source": [
    "mnb_predictions = gs_mnb.predict(test_corpus.astype('U'))\n",
    "\n",
    "plot_confusion_matrix(estimator=gs_mnb, X=test_corpus, y_true=test_label_names, \n",
    "                      xticks_rotation='vertical', cmap='Greys', ax=None, include_values=True)"
   ]
  },
  {
   "cell_type": "code",
   "execution_count": 45,
   "id": "b1871ad6",
   "metadata": {
    "execution": {
     "iopub.execute_input": "2022-01-27T07:26:01.729109Z",
     "iopub.status.busy": "2022-01-27T07:26:01.720116Z",
     "iopub.status.idle": "2022-01-27T07:26:01.977381Z",
     "shell.execute_reply": "2022-01-27T07:26:01.976865Z",
     "shell.execute_reply.started": "2022-01-27T05:38:18.777831Z"
    },
    "papermill": {
     "duration": 0.411167,
     "end_time": "2022-01-27T07:26:01.977498",
     "exception": false,
     "start_time": "2022-01-27T07:26:01.566331",
     "status": "completed"
    },
    "tags": []
   },
   "outputs": [
    {
     "name": "stdout",
     "output_type": "stream",
     "text": [
      "                     precision    recall  f1-score   support\n",
      "\n",
      "           religion       0.72      0.97      0.83      2556\n",
      "          ethnicity       0.83      0.92      0.87      2539\n",
      "other_cyberbullying       0.80      0.82      0.81      2496\n",
      "  not_cyberbullying       0.66      0.41      0.51      2617\n",
      "                age       0.55      0.36      0.43      1948\n",
      "             gender       0.81      0.96      0.88      2587\n",
      "\n",
      "           accuracy                           0.75     14743\n",
      "          macro avg       0.73      0.74      0.72     14743\n",
      "       weighted avg       0.74      0.75      0.73     14743\n",
      "\n"
     ]
    }
   ],
   "source": [
    "print(classification_report(test_label_names, mnb_predictions, target_names=list(set(test_label_names))))"
   ]
  },
  {
   "cell_type": "markdown",
   "id": "67baa8e6",
   "metadata": {
    "papermill": {
     "duration": 0.099449,
     "end_time": "2022-01-27T07:26:02.176999",
     "exception": false,
     "start_time": "2022-01-27T07:26:02.077550",
     "status": "completed"
    },
    "tags": []
   },
   "source": [
    "****Logistic Regression Classifier****"
   ]
  },
  {
   "cell_type": "code",
   "execution_count": 46,
   "id": "21a8647e",
   "metadata": {
    "execution": {
     "iopub.execute_input": "2022-01-27T07:26:02.387331Z",
     "iopub.status.busy": "2022-01-27T07:26:02.386820Z",
     "iopub.status.idle": "2022-01-27T07:26:02.398844Z",
     "shell.execute_reply": "2022-01-27T07:26:02.399333Z",
     "shell.execute_reply.started": "2022-01-27T05:39:42.304705Z"
    },
    "papermill": {
     "duration": 0.12336,
     "end_time": "2022-01-27T07:26:02.399493",
     "exception": false,
     "start_time": "2022-01-27T07:26:02.276133",
     "status": "completed"
    },
    "tags": []
   },
   "outputs": [
    {
     "data": {
      "text/html": [
       "<div>\n",
       "<style scoped>\n",
       "    .dataframe tbody tr th:only-of-type {\n",
       "        vertical-align: middle;\n",
       "    }\n",
       "\n",
       "    .dataframe tbody tr th {\n",
       "        vertical-align: top;\n",
       "    }\n",
       "\n",
       "    .dataframe thead th {\n",
       "        text-align: right;\n",
       "    }\n",
       "</style>\n",
       "<table border=\"1\" class=\"dataframe\">\n",
       "  <thead>\n",
       "    <tr style=\"text-align: right;\">\n",
       "      <th></th>\n",
       "      <th>rank</th>\n",
       "      <th>params</th>\n",
       "      <th>lr score (mean)</th>\n",
       "      <th>lr score (std)</th>\n",
       "    </tr>\n",
       "  </thead>\n",
       "  <tbody>\n",
       "    <tr>\n",
       "      <th>6</th>\n",
       "      <td>1</td>\n",
       "      <td>{'lr__C': 0.1, 'tfidf__ngram_range': (1, 1)}</td>\n",
       "      <td>0.797000</td>\n",
       "      <td>0.007541</td>\n",
       "    </tr>\n",
       "    <tr>\n",
       "      <th>7</th>\n",
       "      <td>2</td>\n",
       "      <td>{'lr__C': 0.1, 'tfidf__ngram_range': (1, 2)}</td>\n",
       "      <td>0.784604</td>\n",
       "      <td>0.006408</td>\n",
       "    </tr>\n",
       "    <tr>\n",
       "      <th>4</th>\n",
       "      <td>3</td>\n",
       "      <td>{'lr__C': 0.01, 'tfidf__ngram_range': (1, 1)}</td>\n",
       "      <td>0.752230</td>\n",
       "      <td>0.005464</td>\n",
       "    </tr>\n",
       "    <tr>\n",
       "      <th>5</th>\n",
       "      <td>4</td>\n",
       "      <td>{'lr__C': 0.01, 'tfidf__ngram_range': (1, 2)}</td>\n",
       "      <td>0.705790</td>\n",
       "      <td>0.007016</td>\n",
       "    </tr>\n",
       "    <tr>\n",
       "      <th>2</th>\n",
       "      <td>5</td>\n",
       "      <td>{'lr__C': 0.0001, 'tfidf__ngram_range': (1, 1)}</td>\n",
       "      <td>0.419665</td>\n",
       "      <td>0.003172</td>\n",
       "    </tr>\n",
       "    <tr>\n",
       "      <th>3</th>\n",
       "      <td>6</td>\n",
       "      <td>{'lr__C': 0.0001, 'tfidf__ngram_range': (1, 2)}</td>\n",
       "      <td>0.305603</td>\n",
       "      <td>0.001208</td>\n",
       "    </tr>\n",
       "    <tr>\n",
       "      <th>0</th>\n",
       "      <td>7</td>\n",
       "      <td>{'lr__C': 1e-05, 'tfidf__ngram_range': (1, 1)}</td>\n",
       "      <td>0.179012</td>\n",
       "      <td>0.000078</td>\n",
       "    </tr>\n",
       "    <tr>\n",
       "      <th>1</th>\n",
       "      <td>8</td>\n",
       "      <td>{'lr__C': 1e-05, 'tfidf__ngram_range': (1, 2)}</td>\n",
       "      <td>0.178878</td>\n",
       "      <td>0.000065</td>\n",
       "    </tr>\n",
       "    <tr>\n",
       "      <th>8</th>\n",
       "      <td>9</td>\n",
       "      <td>{'lr__C': 1, 'tfidf__ngram_range': (1, 1)}</td>\n",
       "      <td>NaN</td>\n",
       "      <td>NaN</td>\n",
       "    </tr>\n",
       "    <tr>\n",
       "      <th>9</th>\n",
       "      <td>10</td>\n",
       "      <td>{'lr__C': 1, 'tfidf__ngram_range': (1, 2)}</td>\n",
       "      <td>NaN</td>\n",
       "      <td>NaN</td>\n",
       "    </tr>\n",
       "  </tbody>\n",
       "</table>\n",
       "</div>"
      ],
      "text/plain": [
       "   rank                                           params  lr score (mean)  \\\n",
       "6     1     {'lr__C': 0.1, 'tfidf__ngram_range': (1, 1)}         0.797000   \n",
       "7     2     {'lr__C': 0.1, 'tfidf__ngram_range': (1, 2)}         0.784604   \n",
       "4     3    {'lr__C': 0.01, 'tfidf__ngram_range': (1, 1)}         0.752230   \n",
       "5     4    {'lr__C': 0.01, 'tfidf__ngram_range': (1, 2)}         0.705790   \n",
       "2     5  {'lr__C': 0.0001, 'tfidf__ngram_range': (1, 1)}         0.419665   \n",
       "3     6  {'lr__C': 0.0001, 'tfidf__ngram_range': (1, 2)}         0.305603   \n",
       "0     7   {'lr__C': 1e-05, 'tfidf__ngram_range': (1, 1)}         0.179012   \n",
       "1     8   {'lr__C': 1e-05, 'tfidf__ngram_range': (1, 2)}         0.178878   \n",
       "8     9       {'lr__C': 1, 'tfidf__ngram_range': (1, 1)}              NaN   \n",
       "9    10       {'lr__C': 1, 'tfidf__ngram_range': (1, 2)}              NaN   \n",
       "\n",
       "   lr score (std)  \n",
       "6        0.007541  \n",
       "7        0.006408  \n",
       "4        0.005464  \n",
       "5        0.007016  \n",
       "2        0.003172  \n",
       "3        0.001208  \n",
       "0        0.000078  \n",
       "1        0.000065  \n",
       "8             NaN  \n",
       "9             NaN  "
      ]
     },
     "execution_count": 46,
     "metadata": {},
     "output_type": "execute_result"
    }
   ],
   "source": [
    "lr_results = gs_lr.cv_results_\n",
    "results_df = pd.DataFrame({'rank': lr_results['rank_test_score'],\n",
    "                           'params': lr_results['params'], \n",
    "                           'lr score (mean)': lr_results['mean_test_score'], \n",
    "                           'lr score (std)': lr_results['std_test_score']} \n",
    "              )\n",
    "results_df = results_df.sort_values(by=['rank'], ascending=True)\n",
    "pd.set_option('display.max_colwidth', 100)\n",
    "results_df"
   ]
  },
  {
   "cell_type": "code",
   "execution_count": 47,
   "id": "8b8566a7",
   "metadata": {
    "execution": {
     "iopub.execute_input": "2022-01-27T07:26:02.606621Z",
     "iopub.status.busy": "2022-01-27T07:26:02.606135Z",
     "iopub.status.idle": "2022-01-27T07:26:03.823929Z",
     "shell.execute_reply": "2022-01-27T07:26:03.824463Z",
     "shell.execute_reply.started": "2022-01-27T05:40:37.451906Z"
    },
    "papermill": {
     "duration": 1.321037,
     "end_time": "2022-01-27T07:26:03.824625",
     "exception": false,
     "start_time": "2022-01-27T07:26:02.503588",
     "status": "completed"
    },
    "tags": []
   },
   "outputs": [
    {
     "data": {
      "text/plain": [
       "<sklearn.metrics._plot.confusion_matrix.ConfusionMatrixDisplay at 0x7f64c1379d10>"
      ]
     },
     "execution_count": 47,
     "metadata": {},
     "output_type": "execute_result"
    },
    {
     "data": {
      "image/png": "[encoded data removed]",
      "text/plain": [
       "<Figure size 432x288 with 2 Axes>"
      ]
     },
     "metadata": {},
     "output_type": "display_data"
    }
   ],
   "source": [
    "lr_predictions = gs_lr.predict(test_corpus.astype('U'))\n",
    "\n",
    "plot_confusion_matrix(estimator=gs_lr, X=test_corpus, y_true=test_label_names, \n",
    "                      xticks_rotation='vertical', cmap='Greys', ax=None, include_values=True)"
   ]
  },
  {
   "cell_type": "code",
   "execution_count": 48,
   "id": "c52748d6",
   "metadata": {
    "execution": {
     "iopub.execute_input": "2022-01-27T07:26:04.137959Z",
     "iopub.status.busy": "2022-01-27T07:26:04.137282Z",
     "iopub.status.idle": "2022-01-27T07:26:04.920689Z",
     "shell.execute_reply": "2022-01-27T07:26:04.921369Z",
     "shell.execute_reply.started": "2022-01-27T05:40:54.022870Z"
    },
    "papermill": {
     "duration": 0.942602,
     "end_time": "2022-01-27T07:26:04.921583",
     "exception": false,
     "start_time": "2022-01-27T07:26:03.978981",
     "status": "completed"
    },
    "tags": []
   },
   "outputs": [
    {
     "name": "stdout",
     "output_type": "stream",
     "text": [
      "                     precision    recall  f1-score   support\n",
      "\n",
      "           religion       0.90      0.97      0.93      2556\n",
      "          ethnicity       0.96      0.96      0.96      2539\n",
      "other_cyberbullying       0.92      0.79      0.85      2496\n",
      "  not_cyberbullying       0.54      0.78      0.64      2617\n",
      "                age       0.59      0.24      0.34      1948\n",
      "             gender       0.91      0.94      0.93      2587\n",
      "\n",
      "           accuracy                           0.80     14743\n",
      "          macro avg       0.80      0.78      0.77     14743\n",
      "       weighted avg       0.81      0.80      0.79     14743\n",
      "\n"
     ]
    }
   ],
   "source": [
    "print(classification_report(test_label_names, lr_predictions, target_names=list(set(test_label_names))))"
   ]
  },
  {
   "cell_type": "markdown",
   "id": "cf8730a5",
   "metadata": {
    "papermill": {
     "duration": 0.155734,
     "end_time": "2022-01-27T07:26:05.234563",
     "exception": false,
     "start_time": "2022-01-27T07:26:05.078829",
     "status": "completed"
    },
    "tags": []
   },
   "source": [
    " # <a id='9'> 9. Conclusion</a>"
   ]
  },
  {
   "cell_type": "markdown",
   "id": "1932bc32",
   "metadata": {
    "papermill": {
     "duration": 0.155554,
     "end_time": "2022-01-27T07:26:05.544466",
     "exception": false,
     "start_time": "2022-01-27T07:26:05.388912",
     "status": "completed"
    },
    "tags": []
   },
   "source": [
    "The support vector machine is the best machine learning model for predicting cyberbullying tweets. The accuracy obtained using the SVM model is about 83%, with a weighted average precision percentage of 82%. Even so, the sensitivity obtained is 83%. It means that about 17% of positive cases missed the model's predictions."
   ]
  }
 ],
 "metadata": {
  "kernelspec": {
   "display_name": "Python 3",
   "language": "python",
   "name": "python3"
  },
  "language_info": {
   "codemirror_mode": {
    "name": "ipython",
    "version": 3
   },
   "file_extension": ".py",
   "mimetype": "text/x-python",
   "name": "python",
   "nbconvert_exporter": "python",
   "pygments_lexer": "ipython3",
   "version": "3.7.12"
  },
  "papermill": {
   "default_parameters": {},
   "duration": 562.799178,
   "end_time": "2022-01-27T07:26:07.312661",
   "environment_variables": {},
   "exception": null,
   "input_path": "__notebook__.ipynb",
   "output_path": "__notebook__.ipynb",
   "parameters": {},
   "start_time": "2022-01-27T07:16:44.513483",
   "version": "2.3.3"
  }
 },
 "nbformat": 4,
 "nbformat_minor": 5
}
